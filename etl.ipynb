{
 "cells": [
  {
   "cell_type": "code",
   "execution_count": 1,
   "metadata": {},
   "outputs": [],
   "source": [
    "import lectura_paco_colusiones\n",
    "import lectura_paco_multas\n",
    "import lectura_paco_secop\n",
    "import pyspark_etl_functions"
   ]
  },
  {
   "cell_type": "code",
   "execution_count": 10,
   "metadata": {},
   "outputs": [
    {
     "name": "stdout",
     "output_type": "stream",
     "text": [
      "Archivo 'colusiones_en_contratacion_SIC.csv' guardado en la carpeta 'data'.\n"
     ]
    }
   ],
   "source": [
    "url = 'https://paco7public7info7prod.blob.core.windows.net/paco-pulic-info/colusiones_en_contratacion_SIC.csv'\n",
    "filename = 'colusiones_en_contratacion_SIC.csv'\n",
    "lectura_paco_colusiones.download_and_save_csv(url, filename)"
   ]
  },
  {
   "cell_type": "code",
   "execution_count": 12,
   "metadata": {},
   "outputs": [
    {
     "name": "stdout",
     "output_type": "stream",
     "text": [
      "Archivo 'multas_SECOP.csv' guardado en la carpeta 'data'.\n"
     ]
    }
   ],
   "source": [
    "url = 'https://paco7public7info7prod.blob.core.windows.net/paco-pulic-info/multas_SECOP.csv'\n",
    "filename = 'multas_SECOP.csv'\n",
    "lectura_paco_multas.download_and_save_csv(url, filename)"
   ]
  },
  {
   "cell_type": "code",
   "execution_count": 13,
   "metadata": {},
   "outputs": [
    {
     "name": "stdout",
     "output_type": "stream",
     "text": [
      "Archivo 'SECOP_II_Cleaned.csv' guardado en la carpeta 'data'.\n"
     ]
    }
   ],
   "source": [
    "url = 'https://paco7public7info7prod.blob.core.windows.net/paco-pulic-info/SECOP_II_Cleaned.csv'\n",
    "filename = 'SECOP_II_Cleaned.csv'\n",
    "lectura_paco_secop.download_and_save_csv(url, filename)"
   ]
  },
  {
   "attachments": {},
   "cell_type": "markdown",
   "metadata": {},
   "source": [
    "# Quality PACO_secop"
   ]
  },
  {
   "cell_type": "code",
   "execution_count": 2,
   "metadata": {},
   "outputs": [
    {
     "name": "stdout",
     "output_type": "stream",
     "text": [
      "23/04/12 05:46:31 WARN Utils: Your hostname, penguin resolves to a loopback address: 127.0.1.1; using 100.115.92.200 instead (on interface eth0)\n",
      "23/04/12 05:46:31 WARN Utils: Set SPARK_LOCAL_IP if you need to bind to another address\n"
     ]
    },
    {
     "name": "stderr",
     "output_type": "stream",
     "text": [
      "Setting default log level to \"WARN\".\n",
      "To adjust logging level use sc.setLogLevel(newLevel). For SparkR, use setLogLevel(newLevel).\n"
     ]
    },
    {
     "name": "stdout",
     "output_type": "stream",
     "text": [
      "23/04/12 05:46:32 WARN NativeCodeLoader: Unable to load native-hadoop library for your platform... using builtin-java classes where applicable\n"
     ]
    },
    {
     "name": "stderr",
     "output_type": "stream",
     "text": [
      "                                                                                \r"
     ]
    },
    {
     "name": "stdout",
     "output_type": "stream",
     "text": [
      "23/04/12 05:46:47 WARN package: Truncated the string representation of a plan since it was too large. This behavior can be adjusted by setting 'spark.sql.debug.maxToStringFields'.\n",
      "+-------------------+-------------+-----------+------------+------------------+-------------------+--------------------+---------------------+-------------------+--------------------+--------------------+----------------+--------------------+--------------------+-----------+--------------+--------------------+--------------+------------------------+---------------------+----------------+--------------------+--------------+--------------------+--------------------+------------------------------+--------------------+--------------------------+------------+--------------------+--------------------+-----+----+\n",
      "|REFERENCIA_CONTRATO|BASE_DE_DATOS|  MUNICIPIO|DEPARTAMENTO|ESTADO_DEL_PROCESO| FECHA_CARGUE_SECOP|FECHA_FIRMA_CONTRATO|FECHA_INICIO_CONTRATO| FECHA_FIN_CONTRATO|       CLASE_PROCESO|        TIPO_PROCESO|      ID_PROCESO|       TIPO_CONTRATO|      NOMBRE_ENTIDAD|NIT_ENTIDAD|CODIGO_ENTIDAD| TIPO_ID_CONTRATISTA|ID_CONTRATISTA|RAZON_SOCIAL_CONTRATISTA|TIPO_ID_REPRESENTANTE|ID_REPRESENTANTE|NOMBRE_REPRESENTANTE|VALOR_CONTRATO|VALOR_TOTAL_CONTRATO|  OBJETO_A_CONTRATAR|DETALLE_DEL_OBJETO_A_CONTRATAR|         URL_PROCESO|JUSTIFICACION_CONTRATACION|NOMBRE_GRUPO|      NOMBRE_FAMILIA|        NOMBRE_CLASE|month|year|\n",
      "+-------------------+-------------+-----------+------------+------------------+-------------------+--------------------+---------------------+-------------------+--------------------+--------------------+----------------+--------------------+--------------------+-----------+--------------+--------------------+--------------+------------------------+---------------------+----------------+--------------------+--------------+--------------------+--------------------+------------------------------+--------------------+--------------------------+------------+--------------------+--------------------+-----+----+\n",
      "|               1062|     SECOP II|      BELLO|   ANTIOQUIA|      EN EJECUCION|2021-07-30 00:00:00| 2021-07-30 00:00:00|  2021-08-02 00:00:00|2021-12-29 00:00:00|CONTRATACION DIRECTA|PRESTACION DE SER...|CO1PCCNTR2707483|CONTRATACION DIRECTA|ANTIOQUIA - BELLO...|  890980112|     890980112|CEDULA DE CIUDADANIA|      43065479|    PIEDAD GIRALDO CO...| CEDULA DE CIUDADANIA|        43065479|PIEDAD GIRALDO CO...|      17383333|            17383333|PRESTACION DE SER...|          PRESTACION DE SER...|https://community...|      SERVICIOSPROFESIO...|   EJECUTIVO|NO APLICANO PERTE...|NO APLICANO PERTE...|    7|2021|\n",
      "|        726 DE 2020|     SECOP II|     BOGOTA|      BOGOTA|        MODIFICADO|2020-11-23 00:00:00| 2020-11-23 00:00:00|  2020-12-16 00:00:00|2021-04-15 00:00:00|SELECCION ABREVIA...|PRESTACION DE SER...|CO1PCCNTR2002022|SELECCION ABREVIA...|INSTITUTO NACIONA...|  830000167|     830000167|                 NIT|      46421988|                   AINIA|                  NIT|        46421988|               AINIA|     204294545|           204294545|PRESTAR LOS SERVI...|          PRESTAR LOS SERVI...|https://community...|      PRESUPUESTO MENOR...|   EJECUTIVO|SALUD Y PROTECCIO...|SALUD Y PROTECCIO...|   11|2020|\n",
      "|    CO1PCCNTR935617|     SECOP II|     BOGOTA|      BOGOTA|            ACTIVO|2019-04-30 00:00:00| 2019-04-30 00:00:00|  2019-04-23 00:00:00|2019-05-10 00:00:00|CONTRATACION MINI...|         COMPRAVENTA| CO1PCCNTR935617|      MINIMA CUANTIA|   EJERCITO NACIONAL| 8001306324|    8001306324|                 NIT|     900889064|    COMERCIALIZADORA ...|                  NIT|       900889064|COMERCIALIZADORA ...|      81999934|            81999934|ADQUISICION DE PA...|          ADQUISICION DE PA...|https://community...|      PRESUPUESTO INFER...|   EJECUTIVO|             DEFENSA|             DEFENSA|    4|2019|\n",
      "|   CO1PCCNTR2040520|     SECOP II|     BOGOTA|      BOGOTA|      EN EJECUCION|2020-12-09 00:00:00| 2020-12-09 00:00:00|  2020-12-29 00:00:00|2021-04-28 00:00:00|CONTRATACION DIRECTA|PRESTACION DE SER...|CO1PCCNTR2040520|CONTRATACION DIRECTA|FONDO FINANCIERO ...| 8002469532|    8002469532|CEDULA DE CIUDADANIA|    1049611041|    JEISSON OSWADO ES...| CEDULA DE CIUDADANIA|      1049611041|JEISSON OSWADO ES...|      18120000|            18120000|PRESTAR SERVICIOS...|          PRESTAR SERVICIOS...|https://community...|      SERVICIOSPROFESIO...|   EJECUTIVO|SALUD Y PROTECCIO...|SALUD Y PROTECCIO...|   12|2020|\n",
      "|        41001452021|     SECOP II|NO DEFINIDO|       HUILA|      EN EJECUCION|2021-02-24 00:00:00| 2021-02-24 00:00:00|  2021-02-24 00:00:00|2021-12-28 00:00:00|CONTRATACION DIRECTA|PRESTACION DE SER...|CO1PCCNTR2294579|CONTRATACION DIRECTA|INSTITUTO COLOMBI...|  899999239|     899999239|CEDULA DE CIUDADANIA|    1075232017|    CARLOS ALBERTO NA...| CEDULA DE CIUDADANIA|      1075232017|CARLOS ALBERTO NA...|      18931667|            18931667|PRESTAR SERVICIOS...|          PRESTAR SERVICIOS...|https://community...|      SERVICIOSPROFESIO...|   EJECUTIVO|SALUD Y PROTECCIO...|SALUD Y PROTECCIO...|    2|2021|\n",
      "+-------------------+-------------+-----------+------------+------------------+-------------------+--------------------+---------------------+-------------------+--------------------+--------------------+----------------+--------------------+--------------------+-----------+--------------+--------------------+--------------+------------------------+---------------------+----------------+--------------------+--------------+--------------------+--------------------+------------------------------+--------------------+--------------------------+------------+--------------------+--------------------+-----+----+\n",
      "only showing top 5 rows\n",
      "\n"
     ]
    }
   ],
   "source": [
    "filename = 'SECOP_II_Cleaned.csv'\n",
    "paco_secop_df = pyspark_etl_functions.read_csv_with_pyspark(filename, folder='data', separator='|')\n",
    "paco_secop_df.show(5)"
   ]
  },
  {
   "cell_type": "code",
   "execution_count": 3,
   "metadata": {},
   "outputs": [
    {
     "name": "stdout",
     "output_type": "stream",
     "text": [
      "23/04/12 05:46:51 WARN SparkSession: Using an existing Spark session; only runtime SQL configurations will take effect.\n"
     ]
    },
    {
     "name": "stderr",
     "output_type": "stream",
     "text": [
      "                                                                                \r"
     ]
    },
    {
     "name": "stdout",
     "output_type": "stream",
     "text": [
      "Total de registros: 1206087\n"
     ]
    },
    {
     "name": "stderr",
     "output_type": "stream",
     "text": [
      "                                                                                \r"
     ]
    },
    {
     "name": "stdout",
     "output_type": "stream",
     "text": [
      "\n",
      "Conteo de registros nulos por columna:\n",
      "REFERENCIA_CONTRATO: 103\n",
      "BASE_DE_DATOS: 0\n",
      "MUNICIPIO: 0\n",
      "DEPARTAMENTO: 0\n",
      "ESTADO_DEL_PROCESO: 0\n",
      "FECHA_CARGUE_SECOP: 0\n",
      "FECHA_FIRMA_CONTRATO: 0\n",
      "FECHA_INICIO_CONTRATO: 0\n",
      "FECHA_FIN_CONTRATO: 0\n",
      "CLASE_PROCESO: 42938\n",
      "TIPO_PROCESO: 0\n",
      "ID_PROCESO: 0\n",
      "TIPO_CONTRATO: 0\n",
      "NOMBRE_ENTIDAD: 0\n",
      "NIT_ENTIDAD: 0\n",
      "CODIGO_ENTIDAD: 0\n",
      "TIPO_ID_CONTRATISTA: 0\n",
      "ID_CONTRATISTA: 27112\n",
      "RAZON_SOCIAL_CONTRATISTA: 15\n",
      "TIPO_ID_REPRESENTANTE: 0\n",
      "ID_REPRESENTANTE: 27112\n",
      "NOMBRE_REPRESENTANTE: 15\n",
      "VALOR_CONTRATO: 0\n",
      "VALOR_TOTAL_CONTRATO: 0\n",
      "OBJETO_A_CONTRATAR: 2\n",
      "DETALLE_DEL_OBJETO_A_CONTRATAR: 2\n",
      "URL_PROCESO: 0\n",
      "JUSTIFICACION_CONTRATACION: 0\n",
      "NOMBRE_GRUPO: 0\n",
      "NOMBRE_FAMILIA: 0\n",
      "NOMBRE_CLASE: 0\n",
      "month: 0\n",
      "year: 0\n",
      "\n",
      "Conteo de registros duplicados: 2\n"
     ]
    },
    {
     "name": "stderr",
     "output_type": "stream",
     "text": [
      "                                                                                \r"
     ]
    },
    {
     "name": "stdout",
     "output_type": "stream",
     "text": [
      "\n",
      "Estadísticas descriptivas para columnas numéricas:\n",
      "min:\n",
      "  NIT_ENTIDAD: 7180873\n",
      "  CODIGO_ENTIDAD: 7180873\n",
      "  VALOR_CONTRATO: 0\n",
      "  VALOR_TOTAL_CONTRATO: 0\n",
      "  month: 1\n",
      "  year: 1900\n",
      "max:\n",
      "  NIT_ENTIDAD: 9013620904\n",
      "  CODIGO_ENTIDAD: 9013620904\n",
      "  VALOR_CONTRATO: 7277004800000000\n",
      "  VALOR_TOTAL_CONTRATO: 7277004800000000\n",
      "  month: 12\n",
      "  year: 2021\n",
      "mean:\n",
      "  NIT_ENTIDAD: 1.5554327998993614E9\n",
      "  CODIGO_ENTIDAD: 1.5554327998993614E9\n",
      "  VALOR_CONTRATO: 5.082991450575178E10\n",
      "  VALOR_TOTAL_CONTRATO: 5.082991450575178E10\n",
      "  month: 4.888488143890117\n",
      "  year: 2013.8793909560422\n",
      "stddev:\n",
      "  NIT_ENTIDAD: 2.2108121267742243E9\n",
      "  CODIGO_ENTIDAD: 2.2108121267742243E9\n",
      "  VALOR_CONTRATO: 1.282255936349012E13\n",
      "  VALOR_TOTAL_CONTRATO: 1.282255936349012E13\n",
      "  month: 3.520285173422338\n",
      "  year: 26.22792558153513\n"
     ]
    },
    {
     "name": "stderr",
     "output_type": "stream",
     "text": [
      "                                                                                \r"
     ]
    },
    {
     "name": "stdout",
     "output_type": "stream",
     "text": [
      "\n",
      "Valores atípicos en la columna NIT_ENTIDAD: 384768\n"
     ]
    },
    {
     "name": "stderr",
     "output_type": "stream",
     "text": [
      "                                                                                \r"
     ]
    },
    {
     "name": "stdout",
     "output_type": "stream",
     "text": [
      "\n",
      "Valores atípicos en la columna CODIGO_ENTIDAD: 384768\n"
     ]
    },
    {
     "name": "stderr",
     "output_type": "stream",
     "text": [
      "                                                                                \r"
     ]
    },
    {
     "name": "stdout",
     "output_type": "stream",
     "text": [
      "\n",
      "Valores atípicos en la columna VALOR_CONTRATO: 121530\n"
     ]
    },
    {
     "name": "stderr",
     "output_type": "stream",
     "text": [
      "                                                                                \r"
     ]
    },
    {
     "name": "stdout",
     "output_type": "stream",
     "text": [
      "\n",
      "Valores atípicos en la columna VALOR_TOTAL_CONTRATO: 121530\n"
     ]
    },
    {
     "name": "stderr",
     "output_type": "stream",
     "text": [
      "                                                                                \r"
     ]
    },
    {
     "name": "stdout",
     "output_type": "stream",
     "text": [
      "\n",
      "Valores atípicos en la columna month: 0\n"
     ]
    },
    {
     "name": "stderr",
     "output_type": "stream",
     "text": [
      "[Stage 48:===================================================>     (9 + 1) / 10]\r"
     ]
    },
    {
     "name": "stdout",
     "output_type": "stream",
     "text": [
      "\n",
      "Valores atípicos en la columna year: 60712\n"
     ]
    },
    {
     "name": "stderr",
     "output_type": "stream",
     "text": [
      "                                                                                \r"
     ]
    }
   ],
   "source": [
    "pyspark_etl_functions.analyze_data_quality(paco_secop_df)"
   ]
  },
  {
   "cell_type": "code",
   "execution_count": 5,
   "metadata": {},
   "outputs": [
    {
     "name": "stderr",
     "output_type": "stream",
     "text": [
      "[Stage 54:===================================================>     (9 + 1) / 10]\r"
     ]
    },
    {
     "name": "stdout",
     "output_type": "stream",
     "text": [
      "                                       NOMBRE_FAMILIA\n",
      "0                               RELACIONES EXTERIORES\n",
      "1                        VIVIENDA CIUDAD Y TERRITORIO\n",
      "2   TECNOLOGIAS DE LA INFORMACION Y LAS COMUNICACI...\n",
      "3                                    SERVICIO PUBLICO\n",
      "4                                  EDUCACION NACIONAL\n",
      "5                                         AGRICULTURA\n",
      "6                               NO APLICANO PERTENECE\n",
      "7                                            DEPORTES\n",
      "8                                             DEFENSA\n",
      "9                          HACIENDA Y CREDITO PUBLICO\n",
      "10                          SALUD Y PROTECCION SOCIAL\n",
      "11                                          INDUSTRIA\n",
      "12                                 CIENCIA TECNOLOGIA\n",
      "13                                    MINAS Y ENERGIA\n",
      "14                        PRESIDENCIA DE LA REPUBLICA\n",
      "15                                           INTERIOR\n",
      "16                  INCLUSION SOCIAL Y RECONCILIACION\n",
      "17      INTELIGENCIA ESTRATEGICA Y CONTRAINTELIGENCIA\n",
      "18                                         TRANSPORTE\n",
      "19                            INFORMACION ESTADISTICA\n",
      "20                   AMBIENTE Y DESARROLLO SOSTENIBLE\n",
      "21                                            TRABAJO\n",
      "22                                            CULTURA\n",
      "23                                    LEY DE JUSTICIA\n",
      "24                                         PLANEACION\n",
      "25                                        NO DEFINIDO\n"
     ]
    },
    {
     "name": "stderr",
     "output_type": "stream",
     "text": [
      "                                                                                \r"
     ]
    }
   ],
   "source": [
    "import pandas as pd\n",
    "\n",
    "nombre_familia_df = paco_secop_df.select('NOMBRE_FAMILIA').distinct().toPandas()\n",
    "pd.set_option('display.max_rows', None) \n",
    "print(nombre_familia_df)"
   ]
  },
  {
   "attachments": {},
   "cell_type": "markdown",
   "metadata": {},
   "source": [
    "- VIVIENDA CIUDAD Y TERRITORIO: Se relaciona con la construcción y desarrollo de viviendas, urbanismo y ordenamiento territorial.\n",
    "- TRANSPORTE: Incluye la infraestructura vial, ferroviaria, aeroportuaria y marítima, así como la construcción y mantenimiento de medios de transporte.\n",
    "- MINAS Y ENERGÍA: Abarca la infraestructura relacionada con la extracción de recursos minerales y la producción y distribución de energía.\n",
    "- AMBIENTE Y DESARROLLO SOSTENIBLE: Puede incluir infraestructuras sostenibles y proyectos relacionados con el medio ambiente, como plantas de tratamiento de agua y sistemas de gestión de residuos.\n"
   ]
  },
  {
   "cell_type": "code",
   "execution_count": 6,
   "metadata": {},
   "outputs": [
    {
     "name": "stdout",
     "output_type": "stream",
     "text": [
      "+--------------------+-------------+-----------+------------+------------------+-------------------+--------------------+---------------------+-------------------+--------------------+--------------------+----------------+--------------------+--------------------+-----------+--------------+--------------------+--------------+------------------------+---------------------+----------------+--------------------+--------------+--------------------+--------------------+------------------------------+--------------------+--------------------------+--------------------+--------------------+--------------------+-----+----+\n",
      "| REFERENCIA_CONTRATO|BASE_DE_DATOS|  MUNICIPIO|DEPARTAMENTO|ESTADO_DEL_PROCESO| FECHA_CARGUE_SECOP|FECHA_FIRMA_CONTRATO|FECHA_INICIO_CONTRATO| FECHA_FIN_CONTRATO|       CLASE_PROCESO|        TIPO_PROCESO|      ID_PROCESO|       TIPO_CONTRATO|      NOMBRE_ENTIDAD|NIT_ENTIDAD|CODIGO_ENTIDAD| TIPO_ID_CONTRATISTA|ID_CONTRATISTA|RAZON_SOCIAL_CONTRATISTA|TIPO_ID_REPRESENTANTE|ID_REPRESENTANTE|NOMBRE_REPRESENTANTE|VALOR_CONTRATO|VALOR_TOTAL_CONTRATO|  OBJETO_A_CONTRATAR|DETALLE_DEL_OBJETO_A_CONTRATAR|         URL_PROCESO|JUSTIFICACION_CONTRATACION|        NOMBRE_GRUPO|      NOMBRE_FAMILIA|        NOMBRE_CLASE|month|year|\n",
      "+--------------------+-------------+-----------+------------+------------------+-------------------+--------------------+---------------------+-------------------+--------------------+--------------------+----------------+--------------------+--------------------+-----------+--------------+--------------------+--------------+------------------------+---------------------+----------------+--------------------+--------------+--------------------+--------------------+------------------------------+--------------------+--------------------------+--------------------+--------------------+--------------------+-----+----+\n",
      "|            CTO48118|     SECOP II|     BOGOTA|      BOGOTA|          BORRADOR|1900-01-01 00:00:00| 1900-01-01 00:00:00|  2018-08-01 00:00:00|2019-03-31 00:00:00|CONTRATACION DIRECTA|PRESTACION DE SER...| CO1PCCNTR501714|CONTRATACION DIRECTA|BOGOTA - TRANSMIL...|  830063506|     830063506|CEDULA DE CIUDADANIA|      89001246|    ESTEVAN MILLAN CA...| CEDULA DE CIUDADANIA|        89001246|ESTEVAN MILLAN CA...|      19040000|            19040000|CONTRATAR LA PRES...|          CONTRATAR LA PRES...|https://community...|      SERVICIOSPROFESIO...|           EJECUTIVO|          TRANSPORTE|          TRANSPORTE|    1|2018|\n",
      "|         MVCT7292020|     SECOP II|NO DEFINIDO| NO DEFINIDO|      EN EJECUCION|2020-06-19 00:00:00| 2020-06-19 00:00:00|  2020-06-19 00:00:00|2020-12-31 00:00:00|CONTRATACION DIRECTA|PRESTACION DE SER...|CO1PCCNTR1641304|CONTRATACION DIRECTA|MINISTERIO DE VIV...|  900463725|     900463725|CEDULA DE CIUDADANIA|      79384862|    NELSON HERNAN COR...| CEDULA DE CIUDADANIA|        79384862|NELSON HERNAN COR...|      56000000|            56000000|PRESTACION DE SER...|          PRESTACION DE SER...|https://community...|      SERVICIOSPROFESIO...|           EJECUTIVO|VIVIENDA CIUDAD Y...|VIVIENDA CIUDAD Y...|    6|2020|\n",
      "|             2020176|     SECOP II|     BOGOTA|      BOGOTA|        MODIFICADO|2020-02-14 00:00:00| 2020-02-14 00:00:00|  2020-02-14 00:00:00|2020-12-29 00:00:00|CONTRATACION DIRECTA|PRESTACION DE SER...|CO1PCCNTR1377033|CONTRATACION DIRECTA|SECRETARIA DISTRI...| 8999990619|    8999990619|CEDULA DE CIUDADANIA|    1030579350|    ERIKA LIZETH LATO...| CEDULA DE CIUDADANIA|      1030579350|ERIKA LIZETH LATO...|      36739500|            36739500|PRESTAR SERVICIOS...|          PRESTAR SERVICIOS...|https://community...|      SERVICIOSPROFESIO...|           EJECUTIVO|          TRANSPORTE|          TRANSPORTE|    2|2020|\n",
      "|            SGR22318|     SECOP II|     BOGOTA|      BOGOTA|            ACTIVO|2018-06-18 00:00:00| 2018-06-18 00:00:00|  2018-06-14 00:00:00|2018-07-29 00:00:00|             SUBASTA|         COMPRAVENTA| CO1PCCNTR434165|SELECCION ABREVIA...|AGENCIA NACIONAL ...|  900500018|     900500018|                 NIT|    8000806329|           POLMINERA SAS|                  NIT|      8000806329|       POLMINERA SAS|    1016260000|          1016260000|COMPRA DE MULTIDE...|          COMPRA DE MULTIDE...|https://community...|      SUMINISTRO DE BIE...|           EJECUTIVO|     MINAS Y ENERGIA|     MINAS Y ENERGIA|    6|2018|\n",
      "|CONTRATO 233 DE 2019|     SECOP II|     BOGOTA|      BOGOTA|            ACTIVO|2019-03-08 00:00:00| 2019-03-08 00:00:00|  2019-03-09 00:00:00|2019-06-08 00:00:00|CONTRATACION DIRECTA|PRESTACION DE SER...| CO1PCCNTR882613|CONTRATACION DIRECTA|MINISTERIO DE AMB...|  830115395|     830115395|CEDULA DE CIUDADANIA|      80513779|    ALVARO FERNANDO R...| CEDULA DE CIUDADANIA|        80513779|ALVARO FERNANDO R...|      10710000|            10710000|PRESTAR LOS SERVI...|          PRESTAR LOS SERVI...|https://community...|      SERVICIOSPROFESIO...|           EJECUTIVO|AMBIENTE Y DESARR...|AMBIENTE Y DESARR...|    3|2019|\n",
      "|     CPS 100 DE 2018|     SECOP II|     BOGOTA|      BOGOTA|        MODIFICADO|2018-01-15 00:00:00| 2018-01-15 00:00:00|  2018-01-15 00:00:00|2018-10-14 00:00:00|CONTRATACION DIRECTA|PRESTACION DE SER...| CO1PCCNTR283165|CONTRATACION DIRECTA|FONDO NACIONAL AM...|  830025267|     830025267|CEDULA DE CIUDADANIA|      80200652|    CARLOS ANDRES GAR...| CEDULA DE CIUDADANIA|        80200652|CARLOS ANDRES GAR...|      69347719|            69347719|PRESTACION DE SER...|          PRESTACION DE SER...|https://community...|      SERVICIOSPROFESIO...|           EJECUTIVO|AMBIENTE Y DESARR...|AMBIENTE Y DESARR...|    1|2018|\n",
      "|            20201347|     SECOP II|     BOGOTA|      BOGOTA|        MODIFICADO|2020-08-14 00:00:00| 2020-08-14 00:00:00|  2020-08-19 00:00:00|2021-06-02 00:00:00|CONTRATACION DIRECTA|PRESTACION DE SER...|CO1PCCNTR1769807|CONTRATACION DIRECTA|SECRETARIA DISTRI...| 8999990619|    8999990619|CEDULA DE CIUDADANIA|      79971894|    OSCAR DAVID RUBIA...| CEDULA DE CIUDADANIA|        79971894|OSCAR DAVID RUBIA...|      19433061|            19433061|PRESTAR SERVICIOS...|          PRESTAR SERVICIOS...|https://community...|      SERVICIOSPROFESIO...|           EJECUTIVO|          TRANSPORTE|          TRANSPORTE|    8|2020|\n",
      "|            CTO39520|     SECOP II|     BOGOTA|      BOGOTA|            ACTIVO|2020-04-17 00:00:00| 2020-04-17 00:00:00|  2020-04-17 00:00:00|2021-03-16 00:00:00|CONTRATACION DIRECTA|PRESTACION DE SER...|CO1PCCNTR1507217|CONTRATACION DIRECTA|BOGOTA - TRANSMIL...|  830063506|     830063506|CEDULA DE CIUDADANIA|    1030569617|    LUIS ANTONIO DIAZ...| CEDULA DE CIUDADANIA|      1030569617|LUIS ANTONIO DIAZ...|      26100635|            26100635|CONTRATAR LOS SER...|          CONTRATAR LOS SER...|https://community...|      SERVICIOSPROFESIO...|           EJECUTIVO|          TRANSPORTE|          TRANSPORTE|    4|2020|\n",
      "|         CPSF7082021|     SECOP II|     BOGOTA|      BOGOTA|      EN EJECUCION|2021-01-18 00:00:00| 2021-01-18 00:00:00|  2021-01-18 00:00:00|2021-12-17 00:00:00|CONTRATACION DIRECTA|PRESTACION DE SER...|CO1PCCNTR2137223|CONTRATACION DIRECTA|FONDO NACIONAL AM...|  830025267|     830025267|CEDULA DE CIUDADANIA|      93478208|    FERNEY CABRERA GU...| CEDULA DE CIUDADANIA|        93478208|FERNEY CABRERA GU...|     100533378|           100533378|432012 PRESTAR SE...|          432012 PRESTAR SE...|https://community...|      SERVICIOSPROFESIO...|           EJECUTIVO|AMBIENTE Y DESARR...|AMBIENTE Y DESARR...|    1|2021|\n",
      "|     CO1PCCNTR213501|     SECOP II|    PEREIRA|   RISARALDA|           CERRADO|2017-10-07 00:00:00| 2017-10-07 00:00:00|  2017-10-12 00:00:00|2017-12-22 00:00:00|CONTRATACION DIRECTA|PRESTACION DE SER...| CO1PCCNTR213501|CONTRATACION DIRECTA|CARDER - CORPORAC...|  891410354|     891410354|CEDULA DE CIUDADANIA|       4519550|    ANDRES FELIPE QUI...| CEDULA DE CIUDADANIA|         4519550|ANDRES FELIPE QUI...|       6533333|             6533333|APOYAR PROFESIONA...|          APOYAR PROFESIONA...|https://community...|      SERVICIOSPROFESIO...|CORPORACION AUTONOMA|AMBIENTE Y DESARR...|AMBIENTE Y DESARR...|   10|2017|\n",
      "|       CD  158  2020|     SECOP II|     BOGOTA|      BOGOTA|            ACTIVO|2020-01-30 00:00:00| 2020-01-30 00:00:00|  2020-01-31 00:00:00|2020-12-31 00:00:00|CONTRATACION DIRECTA|PRESTACION DE SER...|CO1PCCNTR1324345|CONTRATACION DIRECTA|MINISTERIO DE AMB...|  830115395|     830115395|CEDULA DE CIUDADANIA|      52961394|    KATHERINE GOMEZ P...| CEDULA DE CIUDADANIA|        52961394|KATHERINE GOMEZ P...|      23182500|            23182500|PRESTACION DE SER...|          PRESTACION DE SER...|https://community...|      SERVICIOSPROFESIO...|           EJECUTIVO|AMBIENTE Y DESARR...|AMBIENTE Y DESARR...|    1|2020|\n",
      "|            CTO27519|     SECOP II|     BOGOTA|      BOGOTA|        MODIFICADO|2019-03-05 00:00:00| 2019-03-05 00:00:00|  2019-03-01 00:00:00|2020-02-05 00:00:00|CONTRATACION DIRECTA|PRESTACION DE SER...| CO1PCCNTR867558|CONTRATACION DIRECTA|BOGOTA - TRANSMIL...|  830063506|     830063506|CEDULA DE CIUDADANIA|    1019047488|    GERMAN DANIEL RAM...| CEDULA DE CIUDADANIA|      1019047488|GERMAN DANIEL RAM...|      68368320|            68368320|CONTRATAR LA PRES...|          CONTRATAR LA PRES...|https://community...|      SERVICIOSPROFESIO...|           EJECUTIVO|          TRANSPORTE|          TRANSPORTE|    3|2019|\n",
      "|     CO1PCCNTR282677|     SECOP II|    PEREIRA|   RISARALDA|           CERRADO|2018-01-12 00:00:00| 2018-01-12 00:00:00|  2018-01-15 00:00:00|2018-12-14 00:00:00|CONTRATACION DIRECTA|PRESTACION DE SER...| CO1PCCNTR282677|CONTRATACION DIRECTA|CARDER - CORPORAC...|  891410354|     891410354|CEDULA DE CIUDADANIA|    1088244102|    WALTER EDUARDO AR...| CEDULA DE CIUDADANIA|      1088244102|WALTER EDUARDO AR...|      36587000|            36587000|APOYAR ADMINISTRA...|          APOYAR ADMINISTRA...|https://community...|      SERVICIOSPROFESIO...|CORPORACION AUTONOMA|AMBIENTE Y DESARR...|AMBIENTE Y DESARR...|    1|2018|\n",
      "|          GGC2932021|     SECOP II|     BOGOTA|      BOGOTA|        MODIFICADO|2021-02-12 00:00:00| 2021-02-12 00:00:00|  2021-02-15 00:00:00|2021-12-16 00:00:00|CONTRATACION DIRECTA|PRESTACION DE SER...|CO1PCCNTR2257466|CONTRATACION DIRECTA|MINISTERIO DE MIN...|  899999022|     899999022|CEDULA DE CIUDADANIA|     193320907|      OMAR OLARTE TRIANA| CEDULA DE CIUDADANIA|       193320907|  OMAR OLARTE TRIANA|      75000000|            75000000|CONTRATAR LA PRES...|          CONTRATAR LA PRES...|https://community...|      SERVICIOSPROFESIO...|           EJECUTIVO|     MINAS Y ENERGIA|     MINAS Y ENERGIA|    2|2021|\n",
      "|            10732021|     SECOP II|     BOGOTA|      BOGOTA|      EN EJECUCION|2021-05-24 00:00:00| 2021-05-24 00:00:00|  2021-05-26 00:00:00|2021-12-31 00:00:00|CONTRATACION DIRECTA|PRESTACION DE SER...|CO1PCCNTR2532911|CONTRATACION DIRECTA|INSTITUTO NACIONA...|  800215807|     800215807|CEDULA DE CIUDADANIA|    1152198540|    JUAN DIEGO GALLEG...| CEDULA DE CIUDADANIA|      1152198540|JUAN DIEGO GALLEG...|      51333333|            51333333|PRESTACION DE SER...|          PRESTACION DE SER...|https://community...|      SERVICIOSPROFESIO...|           EJECUTIVO|          TRANSPORTE|          TRANSPORTE|    5|2021|\n",
      "|             3602020|     SECOP II|     BOGOTA|      BOGOTA|      EN EJECUCION|2020-07-02 00:00:00| 2020-07-02 00:00:00|  2020-07-02 00:00:00|2020-12-30 00:00:00|CONTRATACION DIRECTA|PRESTACION DE SER...|CO1PCCNTR1669011|CONTRATACION DIRECTA|SERVICIO GEOLOGIC...|  899999294|     899999294|CEDULA DE CIUDADANIA|      52704871|    CAMILA SAVINE LUE...| CEDULA DE CIUDADANIA|        52704871|CAMILA SAVINE LUE...|      34792722|            34792722|PRESTAR SERVICIOS...|          PRESTAR SERVICIOS...|https://community...|      SERVICIOSPROFESIO...|           EJECUTIVO|     MINAS Y ENERGIA|     MINAS Y ENERGIA|    7|2020|\n",
      "|         MVCT8902020|     SECOP II|NO DEFINIDO| NO DEFINIDO|            ACTIVO|2020-09-08 00:00:00| 2020-09-08 00:00:00|  1900-01-01 00:00:00|2020-08-31 00:00:00|CONTRATACION DIRECTA|                OTRO|CO1PCCNTR1809538|CONTRATACION DIRECTA|MINISTERIO DE VIV...|  900463725|     900463725|                 NIT|     892301761|    ALCALDIA DE MANAU...|                  NIT|       892301761|ALCALDIA DE MANAU...|             0|                   0|AUNAR ESFUERZOS E...|          AUNAR ESFUERZOS E...|https://community...|      CONTRATOSCONVENIO...|           EJECUTIVO|VIVIENDA CIUDAD Y...|VIVIENDA CIUDAD Y...|    9|2020|\n",
      "|     CO1PCCNTR646012|     SECOP II|NO DEFINIDO| NO DEFINIDO|          BORRADOR|1900-01-01 00:00:00| 1900-01-01 00:00:00|  1900-01-01 00:00:00|1900-01-01 00:00:00|CONTRATACION MINI...|PRESTACION DE SER...| CO1PCCNTR646012|      MINIMA CUANTIA|MINISTERIO DE VIV...|  900463725|     900463725|                 NIT|    9006270609|    ALL TECHNOLOGICAL...|                  NIT|      9006270609|ALL TECHNOLOGICAL...|       1500000|             1500000|REALIZAR EL MANTE...|          REALIZAR EL MANTE...|https://community...|      PRESUPUESTO INFER...|           EJECUTIVO|VIVIENDA CIUDAD Y...|VIVIENDA CIUDAD Y...|    1|1900|\n",
      "|     CO1PCCNTR998615|     SECOP II|     BOGOTA|      BOGOTA| ENVIADO PROVEEDOR|1900-01-01 00:00:00| 1900-01-01 00:00:00|  2019-06-18 00:00:00|2019-12-18 00:00:00| CONCURSO DE MERITOS|         CONSULTORIA| CO1PCCNTR998615|CONCURSO DE MERIT...|INSTITUTO NACIONA...|  800215807|     800215807|         NO DEFINIDO|          null|       CONSORCIO VIAL 19|          NO DEFINIDO|            null|   CONSORCIO VIAL 19|     213479098|           213479098|ADMINISTRACION VI...|          ADMINISTRACION VI...|https://community...|          LEY 1150 DE 2007|           EJECUTIVO|          TRANSPORTE|          TRANSPORTE|    1|2019|\n",
      "|        2018 DE 2019|     SECOP II|     BOGOTA|      BOGOTA|        MODIFICADO|2020-01-15 00:00:00| 2020-01-15 00:00:00|  2019-11-08 00:00:00|2020-12-22 00:00:00| CONCURSO DE MERITOS|       INTERVENTORIA|CO1PCCNTR1161637|CONCURSO DE MERIT...|INSTITUTO NACIONA...|  800215807|     800215807|         NO DEFINIDO|          null|       CONSORCIO DUITAMA|          NO DEFINIDO|            null|   CONSORCIO DUITAMA|     337250405|           337250405|INTERVENTORIA PAR...|          INTERVENTORIA PAR...|https://community...|          LEY 1150 DE 2007|           EJECUTIVO|          TRANSPORTE|          TRANSPORTE|    1|2020|\n",
      "+--------------------+-------------+-----------+------------+------------------+-------------------+--------------------+---------------------+-------------------+--------------------+--------------------+----------------+--------------------+--------------------+-----------+--------------+--------------------+--------------+------------------------+---------------------+----------------+--------------------+--------------+--------------------+--------------------+------------------------------+--------------------+--------------------------+--------------------+--------------------+--------------------+-----+----+\n",
      "only showing top 20 rows\n",
      "\n"
     ]
    }
   ],
   "source": [
    "infraestructura_categorias = [\n",
    "    \"VIVIENDA CIUDAD Y TERRITORIO\",\n",
    "    \"TRANSPORTE\",\n",
    "    \"MINAS Y ENERGIA\",\n",
    "    \"AMBIENTE Y DESARROLLO SOSTENIBLE\"\n",
    "]\n",
    "\n",
    "infraestructura_df = paco_secop_df.filter(paco_secop_df.NOMBRE_FAMILIA.isin(infraestructura_categorias))\n",
    "\n",
    "infraestructura_df.show()"
   ]
  },
  {
   "attachments": {},
   "cell_type": "markdown",
   "metadata": {},
   "source": [
    "# Quality Colusiones"
   ]
  },
  {
   "cell_type": "code",
   "execution_count": 5,
   "metadata": {},
   "outputs": [
    {
     "name": "stdout",
     "output_type": "stream",
     "text": [
      "+---+-------------------+--------+-----------+----------------------------+----------------------+---------------------+--------------------------+--------------------+--------------+-------------+--------------+\n",
      "|No.|Fecha de Radicacion|Radicado|       Caso|Falta que origina la sancion|Resolucion de Apertura|Resolucion de Sancion|Tipo de Persona Sancionada|Personas Sancionadas|Identificacion|Multa Inicial|Año Radicacion|\n",
      "+---+-------------------+--------+-----------+----------------------------+----------------------+---------------------+--------------------------+--------------------+--------------+-------------+--------------+\n",
      "|  1|2011-06-07 00:00:00|11-71590|VIGILANCIA |        Infringir el artí...|  Resolución de Ape...| Resolución de San...|        Personas Jurídicas|GUARDIANES COMPAÑ...|     860520097| 8.59440305E9|          2011|\n",
      "|  1|2011-06-07 00:00:00|11-71590|VIGILANCIA |        Infringir el artí...|  Resolución de Ape...| Resolución de San...|        Personas Jurídicas|EXPERTOS SEGURIDA...|     800010866| 3.85088274E9|          2011|\n",
      "|  1|2011-06-07 00:00:00|11-71590|VIGILANCIA |        Infringir el artí...|  Resolución de Ape...| Resolución de San...|        Personas Jurídicas|    COBASEC LIMITADA|     891801317|4.651305685E9|          2011|\n",
      "|  1|2011-06-07 00:00:00|11-71590|VIGILANCIA |        Infringir el artí...|  Resolución de Ape...| Resolución de San...|        Personas Jurídicas|COOPERATIVA DE VI...|     830101476|7.026754425E9|          2011|\n",
      "|  1|2011-06-07 00:00:00|11-71590|VIGILANCIA |        Infringir el artí...|  Resolución de Ape...| Resolución de San...|        Personas Jurídicas|CENTINEL DE SEGUR...|     820001482| 3.13529725E8|          2011|\n",
      "+---+-------------------+--------+-----------+----------------------------+----------------------+---------------------+--------------------------+--------------------+--------------+-------------+--------------+\n",
      "only showing top 5 rows\n",
      "\n"
     ]
    }
   ],
   "source": [
    "filename = 'colusiones_en_contratacion_SIC.csv'\n",
    "colusiones_df = pyspark_etl_functions.read_csv_with_pyspark(filename, folder='data', separator=',')\n",
    "colusiones_df.show(5)"
   ]
  },
  {
   "cell_type": "code",
   "execution_count": 19,
   "metadata": {},
   "outputs": [
    {
     "name": "stdout",
     "output_type": "stream",
     "text": [
      "Total de registros: 1444\n",
      "\n",
      "Conteo de registros nulos por columna:\n",
      "nombre_entidad: 0\n",
      "nit_entidad: 0\n",
      "nivel: 0\n",
      "orden: 0\n",
      "numero_de_resolucion: 0\n",
      "documento_contratista: 0\n",
      "nombre_contratista: 0\n",
      "numero_de_contrato: 0\n",
      "valor_sancion: 0\n",
      "fecha_de_publicacion: 0\n",
      "ruta_de_proceso: 0\n",
      "cod_depto: 11\n",
      "cod_mpio: 11\n",
      "dpto: 0\n",
      "nom_mpio: 0\n",
      "\n",
      "Conteo de registros duplicados: 0\n",
      "\n",
      "Estadísticas descriptivas para columnas numéricas:\n",
      "min:\n",
      "  documento_contratista: 230802\n",
      "  valor_sancion: 0.0\n",
      "  cod_depto: 5\n",
      "  cod_mpio: 5001\n",
      "max:\n",
      "  documento_contratista: 90075612726\n",
      "  valor_sancion: 9.7969201936E10\n",
      "  cod_depto: 99\n",
      "  cod_mpio: 99001\n",
      "mean:\n",
      "  documento_contratista: 4.0192013053026314E9\n",
      "  valor_sancion: 6.246716858476892E8\n",
      "  cod_depto: 29.314026517794836\n",
      "  cod_mpio: 29432.270062805303\n",
      "stddev:\n",
      "  documento_contratista: 6.43643826806861E9\n",
      "  valor_sancion: 6.293069421343648E9\n",
      "  cod_depto: 26.57250921265884\n",
      "  cod_mpio: 26605.777653086523\n",
      "\n",
      "Valores atípicos en la columna documento_contratista: 5\n",
      "\n",
      "Valores atípicos en la columna valor_sancion: 249\n",
      "\n",
      "Valores atípicos en la columna cod_depto: 0\n",
      "\n",
      "Valores atípicos en la columna cod_mpio: 0\n"
     ]
    }
   ],
   "source": [
    "pyspark_etl_functions.analyze_data_quality('multas_SECOP.csv', folder='data')"
   ]
  },
  {
   "attachments": {},
   "cell_type": "markdown",
   "metadata": {},
   "source": [
    "# Quality multas"
   ]
  },
  {
   "cell_type": "code",
   "execution_count": 6,
   "metadata": {},
   "outputs": [
    {
     "name": "stdout",
     "output_type": "stream",
     "text": [
      "+--------------------+-----------+--------+--------------------+--------------------+---------------------+--------------------+--------------------+-------------+--------------------+--------------------+---------+--------+------+--------+\n",
      "|      nombre_entidad|nit_entidad|   nivel|               orden|numero_de_resolucion|documento_contratista|  nombre_contratista|  numero_de_contrato|valor_sancion|fecha_de_publicacion|     ruta_de_proceso|cod_depto|cod_mpio|  dpto|nom_mpio|\n",
      "+--------------------+-----------+--------+--------------------+--------------------+---------------------+--------------------+--------------------+-------------+--------------------+--------------------+---------+--------+------+--------+\n",
      "|CORTOLIMA - CORPO...|  890704536|NACIONAL|NACIONAL DESCENTR...|Resolución No.266...|             93405374|EDWIN SANTAMARIA ...|CTO 587 DEL 30 DE...|  1.0721123E7| 2014-11-05 00:00:00|https://www.contr...|       73|   73001|TOLIMA|  IBAGUE|\n",
      "|   EJÉRCITO NACIONAL|NO DEFINIDO|NACIONAL|NACIONAL CENTRALI...|RESOLUCION 086-11...|            900427561|CABAR CONSTRUCCIO...|            662-2014|    4393325.0| 2015-08-10 00:00:00|https://www.contr...|       73|   73001|TOLIMA|  IBAGUE|\n",
      "|CORTOLIMA - CORPO...|  890704536|NACIONAL|NACIONAL DESCENTR...|Resolución No.146...|             93380691|     YIMI ARCINIEGAS|     CTO 319 DE 2010|    6034875.0| 2013-07-08 00:00:00|https://www.contr...|       73|   73001|TOLIMA|  IBAGUE|\n",
      "|   EJÉRCITO NACIONAL|NO DEFINIDO|NACIONAL|NACIONAL CENTRALI...|        Res. No. 374|            900427561|CABAR CONSTRUCCIO...|      662-JEING-2014|4.271849266E7| 2016-10-11 00:00:00|https://www.contr...|       73|   73001|TOLIMA|  IBAGUE|\n",
      "|CORTOLIMA - CORPO...|  890704536|NACIONAL|NACIONAL DESCENTR...|Resolución No.178...|           1110456896|CHRISTIAN CAMILO ...|CTO 661 DEL 31 DE...|     945000.0| 2015-07-17 00:00:00|https://www.contr...|       73|   73001|TOLIMA|  IBAGUE|\n",
      "+--------------------+-----------+--------+--------------------+--------------------+---------------------+--------------------+--------------------+-------------+--------------------+--------------------+---------+--------+------+--------+\n",
      "only showing top 5 rows\n",
      "\n"
     ]
    }
   ],
   "source": [
    "filename = 'multas_SECOP.csv'\n",
    "multas_df = pyspark_etl_functions.read_csv_with_pyspark(filename, folder='data', separator=',')\n",
    "multas_df.show(5)"
   ]
  }
 ],
 "metadata": {
  "kernelspec": {
   "display_name": "Python 3",
   "language": "python",
   "name": "python3"
  },
  "language_info": {
   "codemirror_mode": {
    "name": "ipython",
    "version": 3
   },
   "file_extension": ".py",
   "mimetype": "text/x-python",
   "name": "python",
   "nbconvert_exporter": "python",
   "pygments_lexer": "ipython3",
   "version": "3.9.2"
  },
  "orig_nbformat": 4
 },
 "nbformat": 4,
 "nbformat_minor": 2
}
