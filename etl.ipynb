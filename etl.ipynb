{
 "cells": [
  {
   "cell_type": "code",
   "execution_count": 3,
   "metadata": {},
   "outputs": [],
   "source": [
    "import pandas as pd\n",
    "from pyspark.sql.functions import countDistinct\n",
    "from pyspark.sql import functions as F\n",
    "\n",
    "\n",
    "import lectura_paco_colusiones\n",
    "import lectura_paco_multas\n",
    "import lectura_paco_secop\n",
    "import pyspark_etl_functions\n"
   ]
  },
  {
   "cell_type": "code",
   "execution_count": 4,
   "metadata": {},
   "outputs": [
    {
     "name": "stdout",
     "output_type": "stream",
     "text": [
      "Archivo 'colusiones_en_contratacion_SIC.csv' guardado en la carpeta 'data'.\n"
     ]
    }
   ],
   "source": [
    "url = 'https://paco7public7info7prod.blob.core.windows.net/paco-pulic-info/colusiones_en_contratacion_SIC.csv'\n",
    "filename = 'colusiones_en_contratacion_SIC.csv'\n",
    "lectura_paco_colusiones.download_and_save_csv(url, filename)"
   ]
  },
  {
   "cell_type": "code",
   "execution_count": 5,
   "metadata": {},
   "outputs": [
    {
     "name": "stdout",
     "output_type": "stream",
     "text": [
      "Archivo 'multas_SECOP.csv' guardado en la carpeta 'data'.\n"
     ]
    }
   ],
   "source": [
    "url = 'https://paco7public7info7prod.blob.core.windows.net/paco-pulic-info/multas_SECOP.csv'\n",
    "filename = 'multas_SECOP.csv'\n",
    "lectura_paco_multas.download_and_save_csv(url, filename)"
   ]
  },
  {
   "cell_type": "code",
   "execution_count": 6,
   "metadata": {},
   "outputs": [
    {
     "name": "stdout",
     "output_type": "stream",
     "text": [
      "Archivo 'SECOP_II_Cleaned.csv' guardado en la carpeta 'data'.\n"
     ]
    }
   ],
   "source": [
    "url = 'https://paco7public7info7prod.blob.core.windows.net/paco-pulic-info/SECOP_II_Cleaned.csv'\n",
    "filename = 'SECOP_II_Cleaned.csv'\n",
    "lectura_paco_secop.download_and_save_csv(url, filename)"
   ]
  },
  {
   "attachments": {},
   "cell_type": "markdown",
   "metadata": {},
   "source": [
    "# Quality PACO_secop"
   ]
  },
  {
   "cell_type": "code",
   "execution_count": 7,
   "metadata": {},
   "outputs": [
    {
     "name": "stderr",
     "output_type": "stream",
     "text": [
      "                                                                                \r"
     ]
    },
    {
     "name": "stdout",
     "output_type": "stream",
     "text": [
      "+-------------------+-------------+-----------+------------+------------------+-------------------+--------------------+---------------------+-------------------+--------------------+--------------------+----------------+--------------------+--------------------+-----------+--------------+--------------------+--------------+------------------------+---------------------+----------------+--------------------+--------------+--------------------+--------------------+------------------------------+--------------------+--------------------------+------------+--------------------+--------------------+-----+----+\n",
      "|REFERENCIA_CONTRATO|BASE_DE_DATOS|  MUNICIPIO|DEPARTAMENTO|ESTADO_DEL_PROCESO| FECHA_CARGUE_SECOP|FECHA_FIRMA_CONTRATO|FECHA_INICIO_CONTRATO| FECHA_FIN_CONTRATO|       CLASE_PROCESO|        TIPO_PROCESO|      ID_PROCESO|       TIPO_CONTRATO|      NOMBRE_ENTIDAD|NIT_ENTIDAD|CODIGO_ENTIDAD| TIPO_ID_CONTRATISTA|ID_CONTRATISTA|RAZON_SOCIAL_CONTRATISTA|TIPO_ID_REPRESENTANTE|ID_REPRESENTANTE|NOMBRE_REPRESENTANTE|VALOR_CONTRATO|VALOR_TOTAL_CONTRATO|  OBJETO_A_CONTRATAR|DETALLE_DEL_OBJETO_A_CONTRATAR|         URL_PROCESO|JUSTIFICACION_CONTRATACION|NOMBRE_GRUPO|      NOMBRE_FAMILIA|        NOMBRE_CLASE|month|year|\n",
      "+-------------------+-------------+-----------+------------+------------------+-------------------+--------------------+---------------------+-------------------+--------------------+--------------------+----------------+--------------------+--------------------+-----------+--------------+--------------------+--------------+------------------------+---------------------+----------------+--------------------+--------------+--------------------+--------------------+------------------------------+--------------------+--------------------------+------------+--------------------+--------------------+-----+----+\n",
      "|               1062|     SECOP II|      BELLO|   ANTIOQUIA|      EN EJECUCION|2021-07-30 00:00:00| 2021-07-30 00:00:00|  2021-08-02 00:00:00|2021-12-29 00:00:00|CONTRATACION DIRECTA|PRESTACION DE SER...|CO1PCCNTR2707483|CONTRATACION DIRECTA|ANTIOQUIA - BELLO...|  890980112|     890980112|CEDULA DE CIUDADANIA|      43065479|    PIEDAD GIRALDO CO...| CEDULA DE CIUDADANIA|        43065479|PIEDAD GIRALDO CO...|      17383333|            17383333|PRESTACION DE SER...|          PRESTACION DE SER...|https://community...|      SERVICIOSPROFESIO...|   EJECUTIVO|NO APLICANO PERTE...|NO APLICANO PERTE...|    7|2021|\n",
      "|        726 DE 2020|     SECOP II|     BOGOTA|      BOGOTA|        MODIFICADO|2020-11-23 00:00:00| 2020-11-23 00:00:00|  2020-12-16 00:00:00|2021-04-15 00:00:00|SELECCION ABREVIA...|PRESTACION DE SER...|CO1PCCNTR2002022|SELECCION ABREVIA...|INSTITUTO NACIONA...|  830000167|     830000167|                 NIT|      46421988|                   AINIA|                  NIT|        46421988|               AINIA|     204294545|           204294545|PRESTAR LOS SERVI...|          PRESTAR LOS SERVI...|https://community...|      PRESUPUESTO MENOR...|   EJECUTIVO|SALUD Y PROTECCIO...|SALUD Y PROTECCIO...|   11|2020|\n",
      "|    CO1PCCNTR935617|     SECOP II|     BOGOTA|      BOGOTA|            ACTIVO|2019-04-30 00:00:00| 2019-04-30 00:00:00|  2019-04-23 00:00:00|2019-05-10 00:00:00|CONTRATACION MINI...|         COMPRAVENTA| CO1PCCNTR935617|      MINIMA CUANTIA|   EJERCITO NACIONAL| 8001306324|    8001306324|                 NIT|     900889064|    COMERCIALIZADORA ...|                  NIT|       900889064|COMERCIALIZADORA ...|      81999934|            81999934|ADQUISICION DE PA...|          ADQUISICION DE PA...|https://community...|      PRESUPUESTO INFER...|   EJECUTIVO|             DEFENSA|             DEFENSA|    4|2019|\n",
      "|   CO1PCCNTR2040520|     SECOP II|     BOGOTA|      BOGOTA|      EN EJECUCION|2020-12-09 00:00:00| 2020-12-09 00:00:00|  2020-12-29 00:00:00|2021-04-28 00:00:00|CONTRATACION DIRECTA|PRESTACION DE SER...|CO1PCCNTR2040520|CONTRATACION DIRECTA|FONDO FINANCIERO ...| 8002469532|    8002469532|CEDULA DE CIUDADANIA|    1049611041|    JEISSON OSWADO ES...| CEDULA DE CIUDADANIA|      1049611041|JEISSON OSWADO ES...|      18120000|            18120000|PRESTAR SERVICIOS...|          PRESTAR SERVICIOS...|https://community...|      SERVICIOSPROFESIO...|   EJECUTIVO|SALUD Y PROTECCIO...|SALUD Y PROTECCIO...|   12|2020|\n",
      "|        41001452021|     SECOP II|NO DEFINIDO|       HUILA|      EN EJECUCION|2021-02-24 00:00:00| 2021-02-24 00:00:00|  2021-02-24 00:00:00|2021-12-28 00:00:00|CONTRATACION DIRECTA|PRESTACION DE SER...|CO1PCCNTR2294579|CONTRATACION DIRECTA|INSTITUTO COLOMBI...|  899999239|     899999239|CEDULA DE CIUDADANIA|    1075232017|    CARLOS ALBERTO NA...| CEDULA DE CIUDADANIA|      1075232017|CARLOS ALBERTO NA...|      18931667|            18931667|PRESTAR SERVICIOS...|          PRESTAR SERVICIOS...|https://community...|      SERVICIOSPROFESIO...|   EJECUTIVO|SALUD Y PROTECCIO...|SALUD Y PROTECCIO...|    2|2021|\n",
      "+-------------------+-------------+-----------+------------+------------------+-------------------+--------------------+---------------------+-------------------+--------------------+--------------------+----------------+--------------------+--------------------+-----------+--------------+--------------------+--------------+------------------------+---------------------+----------------+--------------------+--------------+--------------------+--------------------+------------------------------+--------------------+--------------------------+------------+--------------------+--------------------+-----+----+\n",
      "only showing top 5 rows\n",
      "\n"
     ]
    }
   ],
   "source": [
    "filename = 'SECOP_II_Cleaned.csv'\n",
    "paco_secop_df = pyspark_etl_functions.read_csv_with_pyspark(filename, folder='data', separator='|')\n",
    "paco_secop_df.show(5)"
   ]
  },
  {
   "cell_type": "code",
   "execution_count": 8,
   "metadata": {},
   "outputs": [],
   "source": [
    "# pyspark_etl_functions.analyze_data_quality(paco_secop_df)"
   ]
  },
  {
   "cell_type": "code",
   "execution_count": 9,
   "metadata": {},
   "outputs": [
    {
     "name": "stderr",
     "output_type": "stream",
     "text": [
      "[Stage 6:====================================================>     (9 + 1) / 10]\r"
     ]
    },
    {
     "name": "stdout",
     "output_type": "stream",
     "text": [
      "                                       NOMBRE_FAMILIA\n",
      "0                               RELACIONES EXTERIORES\n",
      "1                        VIVIENDA CIUDAD Y TERRITORIO\n",
      "2   TECNOLOGIAS DE LA INFORMACION Y LAS COMUNICACI...\n",
      "3                                    SERVICIO PUBLICO\n",
      "4                                  EDUCACION NACIONAL\n",
      "5                                         AGRICULTURA\n",
      "6                               NO APLICANO PERTENECE\n",
      "7                                            DEPORTES\n",
      "8                                             DEFENSA\n",
      "9                          HACIENDA Y CREDITO PUBLICO\n",
      "10                          SALUD Y PROTECCION SOCIAL\n",
      "11                                          INDUSTRIA\n",
      "12                                 CIENCIA TECNOLOGIA\n",
      "13                                    MINAS Y ENERGIA\n",
      "14                        PRESIDENCIA DE LA REPUBLICA\n",
      "15                                           INTERIOR\n",
      "16                  INCLUSION SOCIAL Y RECONCILIACION\n",
      "17      INTELIGENCIA ESTRATEGICA Y CONTRAINTELIGENCIA\n",
      "18                                         TRANSPORTE\n",
      "19                            INFORMACION ESTADISTICA\n",
      "20                   AMBIENTE Y DESARROLLO SOSTENIBLE\n",
      "21                                            TRABAJO\n",
      "22                                            CULTURA\n",
      "23                                    LEY DE JUSTICIA\n",
      "24                                         PLANEACION\n",
      "25                                        NO DEFINIDO\n"
     ]
    },
    {
     "name": "stderr",
     "output_type": "stream",
     "text": [
      "                                                                                \r"
     ]
    }
   ],
   "source": [
    "nombre_familia_df = paco_secop_df.select('NOMBRE_FAMILIA').distinct().toPandas()\n",
    "pd.set_option('display.max_rows', None) \n",
    "print(nombre_familia_df)"
   ]
  },
  {
   "attachments": {},
   "cell_type": "markdown",
   "metadata": {},
   "source": [
    "- VIVIENDA CIUDAD Y TERRITORIO: Se relaciona con la construcción y desarrollo de viviendas, urbanismo y ordenamiento territorial.\n",
    "- TRANSPORTE: Incluye la infraestructura vial, ferroviaria, aeroportuaria y marítima, así como la construcción y mantenimiento de medios de transporte.\n",
    "- MINAS Y ENERGÍA: Abarca la infraestructura relacionada con la extracción de recursos minerales y la producción y distribución de energía.\n",
    "- AMBIENTE Y DESARROLLO SOSTENIBLE: Puede incluir infraestructuras sostenibles y proyectos relacionados con el medio ambiente, como plantas de tratamiento de agua y sistemas de gestión de residuos.\n"
   ]
  },
  {
   "cell_type": "code",
   "execution_count": 10,
   "metadata": {},
   "outputs": [
    {
     "name": "stdout",
     "output_type": "stream",
     "text": [
      "+--------------------+-------------+-----------+------------+------------------+-------------------+--------------------+---------------------+-------------------+--------------------+--------------------+----------------+--------------------+--------------------+-----------+--------------+--------------------+--------------+------------------------+---------------------+----------------+--------------------+--------------+--------------------+--------------------+------------------------------+--------------------+--------------------------+--------------------+--------------------+--------------------+-----+----+\n",
      "| REFERENCIA_CONTRATO|BASE_DE_DATOS|  MUNICIPIO|DEPARTAMENTO|ESTADO_DEL_PROCESO| FECHA_CARGUE_SECOP|FECHA_FIRMA_CONTRATO|FECHA_INICIO_CONTRATO| FECHA_FIN_CONTRATO|       CLASE_PROCESO|        TIPO_PROCESO|      ID_PROCESO|       TIPO_CONTRATO|      NOMBRE_ENTIDAD|NIT_ENTIDAD|CODIGO_ENTIDAD| TIPO_ID_CONTRATISTA|ID_CONTRATISTA|RAZON_SOCIAL_CONTRATISTA|TIPO_ID_REPRESENTANTE|ID_REPRESENTANTE|NOMBRE_REPRESENTANTE|VALOR_CONTRATO|VALOR_TOTAL_CONTRATO|  OBJETO_A_CONTRATAR|DETALLE_DEL_OBJETO_A_CONTRATAR|         URL_PROCESO|JUSTIFICACION_CONTRATACION|        NOMBRE_GRUPO|      NOMBRE_FAMILIA|        NOMBRE_CLASE|month|year|\n",
      "+--------------------+-------------+-----------+------------+------------------+-------------------+--------------------+---------------------+-------------------+--------------------+--------------------+----------------+--------------------+--------------------+-----------+--------------+--------------------+--------------+------------------------+---------------------+----------------+--------------------+--------------+--------------------+--------------------+------------------------------+--------------------+--------------------------+--------------------+--------------------+--------------------+-----+----+\n",
      "|            CTO48118|     SECOP II|     BOGOTA|      BOGOTA|          BORRADOR|1900-01-01 00:00:00| 1900-01-01 00:00:00|  2018-08-01 00:00:00|2019-03-31 00:00:00|CONTRATACION DIRECTA|PRESTACION DE SER...| CO1PCCNTR501714|CONTRATACION DIRECTA|BOGOTA - TRANSMIL...|  830063506|     830063506|CEDULA DE CIUDADANIA|      89001246|    ESTEVAN MILLAN CA...| CEDULA DE CIUDADANIA|        89001246|ESTEVAN MILLAN CA...|      19040000|            19040000|CONTRATAR LA PRES...|          CONTRATAR LA PRES...|https://community...|      SERVICIOSPROFESIO...|           EJECUTIVO|          TRANSPORTE|          TRANSPORTE|    1|2018|\n",
      "|         MVCT7292020|     SECOP II|NO DEFINIDO| NO DEFINIDO|      EN EJECUCION|2020-06-19 00:00:00| 2020-06-19 00:00:00|  2020-06-19 00:00:00|2020-12-31 00:00:00|CONTRATACION DIRECTA|PRESTACION DE SER...|CO1PCCNTR1641304|CONTRATACION DIRECTA|MINISTERIO DE VIV...|  900463725|     900463725|CEDULA DE CIUDADANIA|      79384862|    NELSON HERNAN COR...| CEDULA DE CIUDADANIA|        79384862|NELSON HERNAN COR...|      56000000|            56000000|PRESTACION DE SER...|          PRESTACION DE SER...|https://community...|      SERVICIOSPROFESIO...|           EJECUTIVO|VIVIENDA CIUDAD Y...|VIVIENDA CIUDAD Y...|    6|2020|\n",
      "|             2020176|     SECOP II|     BOGOTA|      BOGOTA|        MODIFICADO|2020-02-14 00:00:00| 2020-02-14 00:00:00|  2020-02-14 00:00:00|2020-12-29 00:00:00|CONTRATACION DIRECTA|PRESTACION DE SER...|CO1PCCNTR1377033|CONTRATACION DIRECTA|SECRETARIA DISTRI...| 8999990619|    8999990619|CEDULA DE CIUDADANIA|    1030579350|    ERIKA LIZETH LATO...| CEDULA DE CIUDADANIA|      1030579350|ERIKA LIZETH LATO...|      36739500|            36739500|PRESTAR SERVICIOS...|          PRESTAR SERVICIOS...|https://community...|      SERVICIOSPROFESIO...|           EJECUTIVO|          TRANSPORTE|          TRANSPORTE|    2|2020|\n",
      "|            SGR22318|     SECOP II|     BOGOTA|      BOGOTA|            ACTIVO|2018-06-18 00:00:00| 2018-06-18 00:00:00|  2018-06-14 00:00:00|2018-07-29 00:00:00|             SUBASTA|         COMPRAVENTA| CO1PCCNTR434165|SELECCION ABREVIA...|AGENCIA NACIONAL ...|  900500018|     900500018|                 NIT|    8000806329|           POLMINERA SAS|                  NIT|      8000806329|       POLMINERA SAS|    1016260000|          1016260000|COMPRA DE MULTIDE...|          COMPRA DE MULTIDE...|https://community...|      SUMINISTRO DE BIE...|           EJECUTIVO|     MINAS Y ENERGIA|     MINAS Y ENERGIA|    6|2018|\n",
      "|CONTRATO 233 DE 2019|     SECOP II|     BOGOTA|      BOGOTA|            ACTIVO|2019-03-08 00:00:00| 2019-03-08 00:00:00|  2019-03-09 00:00:00|2019-06-08 00:00:00|CONTRATACION DIRECTA|PRESTACION DE SER...| CO1PCCNTR882613|CONTRATACION DIRECTA|MINISTERIO DE AMB...|  830115395|     830115395|CEDULA DE CIUDADANIA|      80513779|    ALVARO FERNANDO R...| CEDULA DE CIUDADANIA|        80513779|ALVARO FERNANDO R...|      10710000|            10710000|PRESTAR LOS SERVI...|          PRESTAR LOS SERVI...|https://community...|      SERVICIOSPROFESIO...|           EJECUTIVO|AMBIENTE Y DESARR...|AMBIENTE Y DESARR...|    3|2019|\n",
      "|     CPS 100 DE 2018|     SECOP II|     BOGOTA|      BOGOTA|        MODIFICADO|2018-01-15 00:00:00| 2018-01-15 00:00:00|  2018-01-15 00:00:00|2018-10-14 00:00:00|CONTRATACION DIRECTA|PRESTACION DE SER...| CO1PCCNTR283165|CONTRATACION DIRECTA|FONDO NACIONAL AM...|  830025267|     830025267|CEDULA DE CIUDADANIA|      80200652|    CARLOS ANDRES GAR...| CEDULA DE CIUDADANIA|        80200652|CARLOS ANDRES GAR...|      69347719|            69347719|PRESTACION DE SER...|          PRESTACION DE SER...|https://community...|      SERVICIOSPROFESIO...|           EJECUTIVO|AMBIENTE Y DESARR...|AMBIENTE Y DESARR...|    1|2018|\n",
      "|            20201347|     SECOP II|     BOGOTA|      BOGOTA|        MODIFICADO|2020-08-14 00:00:00| 2020-08-14 00:00:00|  2020-08-19 00:00:00|2021-06-02 00:00:00|CONTRATACION DIRECTA|PRESTACION DE SER...|CO1PCCNTR1769807|CONTRATACION DIRECTA|SECRETARIA DISTRI...| 8999990619|    8999990619|CEDULA DE CIUDADANIA|      79971894|    OSCAR DAVID RUBIA...| CEDULA DE CIUDADANIA|        79971894|OSCAR DAVID RUBIA...|      19433061|            19433061|PRESTAR SERVICIOS...|          PRESTAR SERVICIOS...|https://community...|      SERVICIOSPROFESIO...|           EJECUTIVO|          TRANSPORTE|          TRANSPORTE|    8|2020|\n",
      "|            CTO39520|     SECOP II|     BOGOTA|      BOGOTA|            ACTIVO|2020-04-17 00:00:00| 2020-04-17 00:00:00|  2020-04-17 00:00:00|2021-03-16 00:00:00|CONTRATACION DIRECTA|PRESTACION DE SER...|CO1PCCNTR1507217|CONTRATACION DIRECTA|BOGOTA - TRANSMIL...|  830063506|     830063506|CEDULA DE CIUDADANIA|    1030569617|    LUIS ANTONIO DIAZ...| CEDULA DE CIUDADANIA|      1030569617|LUIS ANTONIO DIAZ...|      26100635|            26100635|CONTRATAR LOS SER...|          CONTRATAR LOS SER...|https://community...|      SERVICIOSPROFESIO...|           EJECUTIVO|          TRANSPORTE|          TRANSPORTE|    4|2020|\n",
      "|         CPSF7082021|     SECOP II|     BOGOTA|      BOGOTA|      EN EJECUCION|2021-01-18 00:00:00| 2021-01-18 00:00:00|  2021-01-18 00:00:00|2021-12-17 00:00:00|CONTRATACION DIRECTA|PRESTACION DE SER...|CO1PCCNTR2137223|CONTRATACION DIRECTA|FONDO NACIONAL AM...|  830025267|     830025267|CEDULA DE CIUDADANIA|      93478208|    FERNEY CABRERA GU...| CEDULA DE CIUDADANIA|        93478208|FERNEY CABRERA GU...|     100533378|           100533378|432012 PRESTAR SE...|          432012 PRESTAR SE...|https://community...|      SERVICIOSPROFESIO...|           EJECUTIVO|AMBIENTE Y DESARR...|AMBIENTE Y DESARR...|    1|2021|\n",
      "|     CO1PCCNTR213501|     SECOP II|    PEREIRA|   RISARALDA|           CERRADO|2017-10-07 00:00:00| 2017-10-07 00:00:00|  2017-10-12 00:00:00|2017-12-22 00:00:00|CONTRATACION DIRECTA|PRESTACION DE SER...| CO1PCCNTR213501|CONTRATACION DIRECTA|CARDER - CORPORAC...|  891410354|     891410354|CEDULA DE CIUDADANIA|       4519550|    ANDRES FELIPE QUI...| CEDULA DE CIUDADANIA|         4519550|ANDRES FELIPE QUI...|       6533333|             6533333|APOYAR PROFESIONA...|          APOYAR PROFESIONA...|https://community...|      SERVICIOSPROFESIO...|CORPORACION AUTONOMA|AMBIENTE Y DESARR...|AMBIENTE Y DESARR...|   10|2017|\n",
      "|       CD  158  2020|     SECOP II|     BOGOTA|      BOGOTA|            ACTIVO|2020-01-30 00:00:00| 2020-01-30 00:00:00|  2020-01-31 00:00:00|2020-12-31 00:00:00|CONTRATACION DIRECTA|PRESTACION DE SER...|CO1PCCNTR1324345|CONTRATACION DIRECTA|MINISTERIO DE AMB...|  830115395|     830115395|CEDULA DE CIUDADANIA|      52961394|    KATHERINE GOMEZ P...| CEDULA DE CIUDADANIA|        52961394|KATHERINE GOMEZ P...|      23182500|            23182500|PRESTACION DE SER...|          PRESTACION DE SER...|https://community...|      SERVICIOSPROFESIO...|           EJECUTIVO|AMBIENTE Y DESARR...|AMBIENTE Y DESARR...|    1|2020|\n",
      "|            CTO27519|     SECOP II|     BOGOTA|      BOGOTA|        MODIFICADO|2019-03-05 00:00:00| 2019-03-05 00:00:00|  2019-03-01 00:00:00|2020-02-05 00:00:00|CONTRATACION DIRECTA|PRESTACION DE SER...| CO1PCCNTR867558|CONTRATACION DIRECTA|BOGOTA - TRANSMIL...|  830063506|     830063506|CEDULA DE CIUDADANIA|    1019047488|    GERMAN DANIEL RAM...| CEDULA DE CIUDADANIA|      1019047488|GERMAN DANIEL RAM...|      68368320|            68368320|CONTRATAR LA PRES...|          CONTRATAR LA PRES...|https://community...|      SERVICIOSPROFESIO...|           EJECUTIVO|          TRANSPORTE|          TRANSPORTE|    3|2019|\n",
      "|     CO1PCCNTR282677|     SECOP II|    PEREIRA|   RISARALDA|           CERRADO|2018-01-12 00:00:00| 2018-01-12 00:00:00|  2018-01-15 00:00:00|2018-12-14 00:00:00|CONTRATACION DIRECTA|PRESTACION DE SER...| CO1PCCNTR282677|CONTRATACION DIRECTA|CARDER - CORPORAC...|  891410354|     891410354|CEDULA DE CIUDADANIA|    1088244102|    WALTER EDUARDO AR...| CEDULA DE CIUDADANIA|      1088244102|WALTER EDUARDO AR...|      36587000|            36587000|APOYAR ADMINISTRA...|          APOYAR ADMINISTRA...|https://community...|      SERVICIOSPROFESIO...|CORPORACION AUTONOMA|AMBIENTE Y DESARR...|AMBIENTE Y DESARR...|    1|2018|\n",
      "|          GGC2932021|     SECOP II|     BOGOTA|      BOGOTA|        MODIFICADO|2021-02-12 00:00:00| 2021-02-12 00:00:00|  2021-02-15 00:00:00|2021-12-16 00:00:00|CONTRATACION DIRECTA|PRESTACION DE SER...|CO1PCCNTR2257466|CONTRATACION DIRECTA|MINISTERIO DE MIN...|  899999022|     899999022|CEDULA DE CIUDADANIA|     193320907|      OMAR OLARTE TRIANA| CEDULA DE CIUDADANIA|       193320907|  OMAR OLARTE TRIANA|      75000000|            75000000|CONTRATAR LA PRES...|          CONTRATAR LA PRES...|https://community...|      SERVICIOSPROFESIO...|           EJECUTIVO|     MINAS Y ENERGIA|     MINAS Y ENERGIA|    2|2021|\n",
      "|            10732021|     SECOP II|     BOGOTA|      BOGOTA|      EN EJECUCION|2021-05-24 00:00:00| 2021-05-24 00:00:00|  2021-05-26 00:00:00|2021-12-31 00:00:00|CONTRATACION DIRECTA|PRESTACION DE SER...|CO1PCCNTR2532911|CONTRATACION DIRECTA|INSTITUTO NACIONA...|  800215807|     800215807|CEDULA DE CIUDADANIA|    1152198540|    JUAN DIEGO GALLEG...| CEDULA DE CIUDADANIA|      1152198540|JUAN DIEGO GALLEG...|      51333333|            51333333|PRESTACION DE SER...|          PRESTACION DE SER...|https://community...|      SERVICIOSPROFESIO...|           EJECUTIVO|          TRANSPORTE|          TRANSPORTE|    5|2021|\n",
      "|             3602020|     SECOP II|     BOGOTA|      BOGOTA|      EN EJECUCION|2020-07-02 00:00:00| 2020-07-02 00:00:00|  2020-07-02 00:00:00|2020-12-30 00:00:00|CONTRATACION DIRECTA|PRESTACION DE SER...|CO1PCCNTR1669011|CONTRATACION DIRECTA|SERVICIO GEOLOGIC...|  899999294|     899999294|CEDULA DE CIUDADANIA|      52704871|    CAMILA SAVINE LUE...| CEDULA DE CIUDADANIA|        52704871|CAMILA SAVINE LUE...|      34792722|            34792722|PRESTAR SERVICIOS...|          PRESTAR SERVICIOS...|https://community...|      SERVICIOSPROFESIO...|           EJECUTIVO|     MINAS Y ENERGIA|     MINAS Y ENERGIA|    7|2020|\n",
      "|         MVCT8902020|     SECOP II|NO DEFINIDO| NO DEFINIDO|            ACTIVO|2020-09-08 00:00:00| 2020-09-08 00:00:00|  1900-01-01 00:00:00|2020-08-31 00:00:00|CONTRATACION DIRECTA|                OTRO|CO1PCCNTR1809538|CONTRATACION DIRECTA|MINISTERIO DE VIV...|  900463725|     900463725|                 NIT|     892301761|    ALCALDIA DE MANAU...|                  NIT|       892301761|ALCALDIA DE MANAU...|             0|                   0|AUNAR ESFUERZOS E...|          AUNAR ESFUERZOS E...|https://community...|      CONTRATOSCONVENIO...|           EJECUTIVO|VIVIENDA CIUDAD Y...|VIVIENDA CIUDAD Y...|    9|2020|\n",
      "|     CO1PCCNTR646012|     SECOP II|NO DEFINIDO| NO DEFINIDO|          BORRADOR|1900-01-01 00:00:00| 1900-01-01 00:00:00|  1900-01-01 00:00:00|1900-01-01 00:00:00|CONTRATACION MINI...|PRESTACION DE SER...| CO1PCCNTR646012|      MINIMA CUANTIA|MINISTERIO DE VIV...|  900463725|     900463725|                 NIT|    9006270609|    ALL TECHNOLOGICAL...|                  NIT|      9006270609|ALL TECHNOLOGICAL...|       1500000|             1500000|REALIZAR EL MANTE...|          REALIZAR EL MANTE...|https://community...|      PRESUPUESTO INFER...|           EJECUTIVO|VIVIENDA CIUDAD Y...|VIVIENDA CIUDAD Y...|    1|1900|\n",
      "|     CO1PCCNTR998615|     SECOP II|     BOGOTA|      BOGOTA| ENVIADO PROVEEDOR|1900-01-01 00:00:00| 1900-01-01 00:00:00|  2019-06-18 00:00:00|2019-12-18 00:00:00| CONCURSO DE MERITOS|         CONSULTORIA| CO1PCCNTR998615|CONCURSO DE MERIT...|INSTITUTO NACIONA...|  800215807|     800215807|         NO DEFINIDO|          null|       CONSORCIO VIAL 19|          NO DEFINIDO|            null|   CONSORCIO VIAL 19|     213479098|           213479098|ADMINISTRACION VI...|          ADMINISTRACION VI...|https://community...|          LEY 1150 DE 2007|           EJECUTIVO|          TRANSPORTE|          TRANSPORTE|    1|2019|\n",
      "|        2018 DE 2019|     SECOP II|     BOGOTA|      BOGOTA|        MODIFICADO|2020-01-15 00:00:00| 2020-01-15 00:00:00|  2019-11-08 00:00:00|2020-12-22 00:00:00| CONCURSO DE MERITOS|       INTERVENTORIA|CO1PCCNTR1161637|CONCURSO DE MERIT...|INSTITUTO NACIONA...|  800215807|     800215807|         NO DEFINIDO|          null|       CONSORCIO DUITAMA|          NO DEFINIDO|            null|   CONSORCIO DUITAMA|     337250405|           337250405|INTERVENTORIA PAR...|          INTERVENTORIA PAR...|https://community...|          LEY 1150 DE 2007|           EJECUTIVO|          TRANSPORTE|          TRANSPORTE|    1|2020|\n",
      "+--------------------+-------------+-----------+------------+------------------+-------------------+--------------------+---------------------+-------------------+--------------------+--------------------+----------------+--------------------+--------------------+-----------+--------------+--------------------+--------------+------------------------+---------------------+----------------+--------------------+--------------+--------------------+--------------------+------------------------------+--------------------+--------------------------+--------------------+--------------------+--------------------+-----+----+\n",
      "only showing top 20 rows\n",
      "\n"
     ]
    }
   ],
   "source": [
    "infraestructura_categorias = [\n",
    "    \"VIVIENDA CIUDAD Y TERRITORIO\",\n",
    "    \"TRANSPORTE\",\n",
    "    \"MINAS Y ENERGIA\",\n",
    "    \"AMBIENTE Y DESARROLLO SOSTENIBLE\"\n",
    "]\n",
    "\n",
    "infraestructura_df = paco_secop_df.filter(paco_secop_df.NOMBRE_FAMILIA.isin(infraestructura_categorias))\n",
    "\n",
    "infraestructura_df.show()"
   ]
  },
  {
   "cell_type": "code",
   "execution_count": 11,
   "metadata": {},
   "outputs": [
    {
     "name": "stdout",
     "output_type": "stream",
     "text": [
      "23/04/21 09:51:05 WARN SparkSession: Using an existing Spark session; only runtime SQL configurations will take effect.\n"
     ]
    },
    {
     "name": "stderr",
     "output_type": "stream",
     "text": [
      "                                                                                \r"
     ]
    },
    {
     "name": "stdout",
     "output_type": "stream",
     "text": [
      "Total de registros: 116325\n"
     ]
    },
    {
     "name": "stderr",
     "output_type": "stream",
     "text": [
      "                                                                                \r"
     ]
    },
    {
     "name": "stdout",
     "output_type": "stream",
     "text": [
      "\n",
      "Conteo de registros nulos por columna:\n",
      "REFERENCIA_CONTRATO: 16\n",
      "BASE_DE_DATOS: 0\n",
      "MUNICIPIO: 0\n",
      "DEPARTAMENTO: 0\n",
      "ESTADO_DEL_PROCESO: 0\n",
      "FECHA_CARGUE_SECOP: 0\n",
      "FECHA_FIRMA_CONTRATO: 0\n",
      "FECHA_INICIO_CONTRATO: 0\n",
      "FECHA_FIN_CONTRATO: 0\n",
      "CLASE_PROCESO: 2620\n",
      "TIPO_PROCESO: 0\n",
      "ID_PROCESO: 0\n",
      "TIPO_CONTRATO: 0\n",
      "NOMBRE_ENTIDAD: 0\n",
      "NIT_ENTIDAD: 0\n",
      "CODIGO_ENTIDAD: 0\n",
      "TIPO_ID_CONTRATISTA: 0\n",
      "ID_CONTRATISTA: 3745\n",
      "RAZON_SOCIAL_CONTRATISTA: 1\n",
      "TIPO_ID_REPRESENTANTE: 0\n",
      "ID_REPRESENTANTE: 3745\n",
      "NOMBRE_REPRESENTANTE: 1\n",
      "VALOR_CONTRATO: 0\n",
      "VALOR_TOTAL_CONTRATO: 0\n",
      "OBJETO_A_CONTRATAR: 0\n",
      "DETALLE_DEL_OBJETO_A_CONTRATAR: 0\n",
      "URL_PROCESO: 0\n",
      "JUSTIFICACION_CONTRATACION: 0\n",
      "NOMBRE_GRUPO: 0\n",
      "NOMBRE_FAMILIA: 0\n",
      "NOMBRE_CLASE: 0\n",
      "month: 0\n",
      "year: 0\n",
      "\n",
      "Conteo de registros duplicados: 1\n"
     ]
    },
    {
     "name": "stderr",
     "output_type": "stream",
     "text": [
      "                                                                                \r"
     ]
    },
    {
     "name": "stdout",
     "output_type": "stream",
     "text": [
      "\n",
      "Estadísticas descriptivas para columnas numéricas:\n",
      "min:\n",
      "  NIT_ENTIDAD: 800002916\n",
      "  CODIGO_ENTIDAD: 800002916\n",
      "  VALOR_CONTRATO: 0\n",
      "  VALOR_TOTAL_CONTRATO: 0\n",
      "  month: 1\n",
      "  year: 1900\n",
      "max:\n",
      "  NIT_ENTIDAD: 9008529985\n",
      "  CODIGO_ENTIDAD: 9008529985\n",
      "  VALOR_CONTRATO: 417912160410000\n",
      "  VALOR_TOTAL_CONTRATO: 417912160410000\n",
      "  month: 12\n",
      "  year: 2021\n",
      "mean:\n",
      "  NIT_ENTIDAD: 1.5113992141226306E9\n",
      "  CODIGO_ENTIDAD: 1.5113992141226306E9\n",
      "  VALOR_CONTRATO: 1.0078002193842802E10\n",
      "  VALOR_TOTAL_CONTRATO: 1.0078002193842802E10\n",
      "  month: 4.868549323017408\n",
      "  year: 2014.5071136900924\n",
      "stddev:\n",
      "  NIT_ENTIDAD: 2.1815737385576897E9\n",
      "  CODIGO_ENTIDAD: 2.1815737385576897E9\n",
      "  VALOR_CONTRATO: 1.8765098777052305E12\n",
      "  VALOR_TOTAL_CONTRATO: 1.8765098777052305E12\n",
      "  month: 3.537922040830522\n",
      "  year: 24.67164465312655\n"
     ]
    },
    {
     "name": "stderr",
     "output_type": "stream",
     "text": [
      "                                                                                \r"
     ]
    },
    {
     "name": "stdout",
     "output_type": "stream",
     "text": [
      "\n",
      "Valores atípicos en la columna NIT_ENTIDAD: 9425\n"
     ]
    },
    {
     "name": "stderr",
     "output_type": "stream",
     "text": [
      "                                                                                \r"
     ]
    },
    {
     "name": "stdout",
     "output_type": "stream",
     "text": [
      "\n",
      "Valores atípicos en la columna CODIGO_ENTIDAD: 9425\n"
     ]
    },
    {
     "name": "stderr",
     "output_type": "stream",
     "text": [
      "                                                                                \r"
     ]
    },
    {
     "name": "stdout",
     "output_type": "stream",
     "text": [
      "\n",
      "Valores atípicos en la columna VALOR_CONTRATO: 10843\n"
     ]
    },
    {
     "name": "stderr",
     "output_type": "stream",
     "text": [
      "                                                                                \r"
     ]
    },
    {
     "name": "stdout",
     "output_type": "stream",
     "text": [
      "\n",
      "Valores atípicos en la columna VALOR_TOTAL_CONTRATO: 10843\n"
     ]
    },
    {
     "name": "stderr",
     "output_type": "stream",
     "text": [
      "                                                                                \r"
     ]
    },
    {
     "name": "stdout",
     "output_type": "stream",
     "text": [
      "\n",
      "Valores atípicos en la columna month: 0\n"
     ]
    },
    {
     "name": "stderr",
     "output_type": "stream",
     "text": [
      "[Stage 55:===================================================>     (9 + 1) / 10]\r"
     ]
    },
    {
     "name": "stdout",
     "output_type": "stream",
     "text": [
      "\n",
      "Valores atípicos en la columna year: 5154\n"
     ]
    },
    {
     "name": "stderr",
     "output_type": "stream",
     "text": [
      "                                                                                \r"
     ]
    }
   ],
   "source": [
    "pyspark_etl_functions.analyze_data_quality(infraestructura_df)"
   ]
  },
  {
   "cell_type": "code",
   "execution_count": 12,
   "metadata": {},
   "outputs": [
    {
     "name": "stderr",
     "output_type": "stream",
     "text": [
      "[Stage 58:===================================================>     (9 + 1) / 10]\r"
     ]
    },
    {
     "name": "stdout",
     "output_type": "stream",
     "text": [
      "+--------------+-------------------------------+\n",
      "|ID_CONTRATISTA|cantidad_razon_social_distintos|\n",
      "+--------------+-------------------------------+\n",
      "|          null|                           1543|\n",
      "|     899999061|                             10|\n",
      "|             0|                              9|\n",
      "|      17594869|                              7|\n",
      "|      80833443|                              4|\n",
      "|     899999114|                              3|\n",
      "|     890399011|                              3|\n",
      "|     891480031|                              3|\n",
      "|     890984312|                              2|\n",
      "|    1014207354|                              2|\n",
      "|    1104695065|                              2|\n",
      "|     890984030|                              2|\n",
      "|    1004733899|                              2|\n",
      "|       8711445|                              2|\n",
      "|      52737034|                              2|\n",
      "|     891180205|                              2|\n",
      "|     900674490|                              2|\n",
      "|    1005838782|                              2|\n",
      "|     890983813|                              2|\n",
      "|     900160387|                              2|\n",
      "+--------------+-------------------------------+\n",
      "only showing top 20 rows\n",
      "\n"
     ]
    },
    {
     "name": "stderr",
     "output_type": "stream",
     "text": [
      "                                                                                \r"
     ]
    }
   ],
   "source": [
    "distinct_entity_names = infraestructura_df.groupBy(\"ID_CONTRATISTA\").agg(\n",
    "    countDistinct(\"RAZON_SOCIAL_CONTRATISTA\").alias(\"cantidad_razon_social_distintos\")\n",
    ")\n",
    " \n",
    "distinct_entity_names.orderBy(\"cantidad_razon_social_distintos\", ascending=False).show()"
   ]
  },
  {
   "cell_type": "code",
   "execution_count": 13,
   "metadata": {},
   "outputs": [
    {
     "name": "stderr",
     "output_type": "stream",
     "text": [
      "[Stage 64:===================================================>     (9 + 1) / 10]\r"
     ]
    },
    {
     "name": "stdout",
     "output_type": "stream",
     "text": [
      "['ALCALDIA LOCAL DE PUENTE ARANDAFONDO DE DESARROLLO LOCAL', 'ALCALDIA LOCAL RAFAEL URIBE URIBE', 'ALCALDIA LOCAL DE ENGATIVA', 'ALCALDIA LOCAL DE FONTIBON', 'FONDO DE DESARROLLO LOCAL DE LA CANDELARIA', 'SECRETARIA DISTRITAL DE HACIENDA', 'SECRETARIA DISTRITAL DE MOVILIDAD', 'SECRETARIA GENERAL DE LA ALCALDIA MAYOR DE BOGOTA', 'SECRETARIA DISTRITAL DEL HABITAT', 'DEPARTAMENTO ADMINISTRATIVO DE LA DEFENSORIA DEL ESPACIO PUBLICO']\n"
     ]
    },
    {
     "name": "stderr",
     "output_type": "stream",
     "text": [
      "                                                                                \r"
     ]
    }
   ],
   "source": [
    "nit_filtered_df = infraestructura_df.filter(infraestructura_df.ID_CONTRATISTA == 899999061)\n",
    "\n",
    "distinct_nombre_entidad = nit_filtered_df.select(\"RAZON_SOCIAL_CONTRATISTA\").distinct()\n",
    "\n",
    "nombre_entidad_rows = distinct_nombre_entidad.collect()\n",
    "\n",
    "nombre_entidad_list = [row.RAZON_SOCIAL_CONTRATISTA for row in nombre_entidad_rows]\n",
    "\n",
    "print(nombre_entidad_list)\n"
   ]
  },
  {
   "attachments": {},
   "cell_type": "markdown",
   "metadata": {},
   "source": [
    "## ETL"
   ]
  },
  {
   "cell_type": "code",
   "execution_count": 14,
   "metadata": {},
   "outputs": [
    {
     "name": "stderr",
     "output_type": "stream",
     "text": [
      "[Stage 69:>                                                         (0 + 1) / 1]\r"
     ]
    },
    {
     "name": "stdout",
     "output_type": "stream",
     "text": [
      "+--------------------+-------------+-----------+--------------------+------------------+-------------------+--------------------+---------------------+-------------------+--------------------+--------------------+----------------+--------------------+--------------------+-----------+--------------+--------------------+--------------+------------------------+---------------------+----------------+--------------------+--------------+--------------------+--------------------+------------------------------+--------------------+--------------------------+--------------------+--------------------+--------------------+-----+----+\n",
      "| REFERENCIA_CONTRATO|BASE_DE_DATOS|  MUNICIPIO|        DEPARTAMENTO|ESTADO_DEL_PROCESO| FECHA_CARGUE_SECOP|FECHA_FIRMA_CONTRATO|FECHA_INICIO_CONTRATO| FECHA_FIN_CONTRATO|       CLASE_PROCESO|        TIPO_PROCESO|      ID_PROCESO|       TIPO_CONTRATO|      NOMBRE_ENTIDAD|NIT_ENTIDAD|CODIGO_ENTIDAD| TIPO_ID_CONTRATISTA|ID_CONTRATISTA|RAZON_SOCIAL_CONTRATISTA|TIPO_ID_REPRESENTANTE|ID_REPRESENTANTE|NOMBRE_REPRESENTANTE|VALOR_CONTRATO|VALOR_TOTAL_CONTRATO|  OBJETO_A_CONTRATAR|DETALLE_DEL_OBJETO_A_CONTRATAR|         URL_PROCESO|JUSTIFICACION_CONTRATACION|        NOMBRE_GRUPO|      NOMBRE_FAMILIA|        NOMBRE_CLASE|month|year|\n",
      "+--------------------+-------------+-----------+--------------------+------------------+-------------------+--------------------+---------------------+-------------------+--------------------+--------------------+----------------+--------------------+--------------------+-----------+--------------+--------------------+--------------+------------------------+---------------------+----------------+--------------------+--------------+--------------------+--------------------+------------------------------+--------------------+--------------------------+--------------------+--------------------+--------------------+-----+----+\n",
      "|         GGC672 2021|     SECOP II|     BOGOTA|              BOGOTA|            ACTIVO|2021-09-29 00:00:00| 2021-09-29 00:00:00|  1900-01-01 00:00:00|2041-10-10 00:00:00|                null|                OTRO|CO1PCCNTR2875503|CONTRATACION DIRE...|MINISTERIO DE MIN...|  899999022|     899999022|                 NIT|     901380930|            AIRE SAS ESP|                  NIT|       901380930|        AIRE SAS ESP|    1577290422|          1577290422| MEJORAR LA CALID...|           MEJORAR LA CALID...|https://community...|      NO EXISTE PLURALI...|           EJECUTIVO|     MINAS Y ENERGIA|     MINAS Y ENERGIA|    9|2021|\n",
      "|      IDRDCTO0352018|     SECOP II|     BOGOTA|              BOGOTA|        MODIFICADO|2018-01-18 00:00:00| 2018-01-18 00:00:00|  2018-01-17 00:00:00|2019-01-16 00:00:00|CONTRATACION DIRECTA|PRESTACION DE SER...| CO1PCCNTR294732|CONTRATACION DIRECTA|BOGOTA - INSTITUT...|  860061099|     860061099|CEDULA DE CIUDADANIA|      52847619|    RUBY YOLIMA MATEU...| CEDULA DE CIUDADANIA|        52847619|RUBY YOLIMA MATEU...|      54000000|            54000000|10 PRESTAR SERVIC...|          10 PRESTAR SERVIC...|https://community...|      SERVICIOSPROFESIO...|           EJECUTIVO|             CULTURA|             CULTURA|    1|2018|\n",
      "|    CO1PCCNTR1102339|     SECOP II|   RIONEGRO|           ANTIOQUIA|            ACTIVO|2019-09-13 00:00:00| 2019-09-13 00:00:00|  2019-09-17 00:00:00|2019-12-17 00:00:00|CONTRATACION MINI...|PRESTACION DE SER...|CO1PCCNTR1102339|      MINIMA CUANTIA|SENA REGIONAL ANT...|  899999034|     899999034|                 NIT|     900439346|    PRODUCTOS MEDICOS...|                  NIT|       900439346|PRODUCTOS MEDICOS...|      13000000|            13000000|59503380 PRESTAR ...|          59503380 PRESTAR ...|https://community...|      PRESUPUESTO INFER...|           EJECUTIVO|             TRABAJO|             TRABAJO|    9|2019|\n",
      "|    CO1PCCNTR2214514|     SECOP II|   RIONEGRO|           ANTIOQUIA|      EN EJECUCION|2021-02-03 00:00:00| 2021-02-03 00:00:00|  2021-02-03 00:00:00|2021-12-30 00:00:00|CONTRATACION DIRECTA|PRESTACION DE SER...|CO1PCCNTR2214514|CONTRATACION DIRECTA|SENA REGIONAL ANT...|  899999034|     899999034|CEDULA DE CIUDADANIA|    1036938236|    JUAN SEBASTIAN LO...| CEDULA DE CIUDADANIA|      1036938236|JUAN SEBASTIAN LO...|      30220200|            30220200|59503394 PRESTAR ...|          59503394 PRESTAR ...|https://community...|      SERVICIOSPROFESIO...|           EJECUTIVO|             TRABAJO|             TRABAJO|    2|2021|\n",
      "|       JBBCTO1722021|     SECOP II|     BOGOTA|              BOGOTA|        MODIFICADO|2021-03-03 00:00:00| 2021-03-03 00:00:00|  2021-03-04 00:00:00|2021-12-03 00:00:00|CONTRATACION DIRECTA|PRESTACION DE SER...|CO1PCCNTR2318816|CONTRATACION DIRECTA|BOGOTA - JARDIN B...|  860030197|     860030197|CEDULA DE CIUDADANIA|      39555016|           NOMBRE FELISA| CEDULA DE CIUDADANIA|        39555016|       NOMBRE FELISA|      21240000|            21240000|808947683PRESTAR ...|          808947683PRESTAR ...|https://community...|      SERVICIOSPROFESIO...|CORPORACION AUTONOMA|AMBIENTE Y DESARR...|AMBIENTE Y DESARR...|    3|2021|\n",
      "|    CO1PCCNTR2207421|     SECOP II|     BOGOTA|              BOGOTA|      EN EJECUCION|2021-02-02 00:00:00| 2021-02-02 00:00:00|  2021-02-03 00:00:00|2021-07-31 00:00:00|CONTRATACION DIRECTA|PRESTACION DE SER...|CO1PCCNTR2207421|CONTRATACION DIRECTA|DEPARTAMENTO ADMI...|  899999027|     899999027|CEDULA DE CIUDADANIA|    1013581766|    LEIDY JOHANNA MOI...| CEDULA DE CIUDADANIA|      1013581766|LEIDY JOHANNA MOI...|      18936000|            18936000|99049633CENSOECON...|          99049633CENSOECON...|https://community...|      SERVICIOSPROFESIO...|           EJECUTIVO|INFORMACION ESTAD...|INFORMACION ESTAD...|    2|2021|\n",
      "|            12962021|     SECOP II|     BOGOTA|              BOGOTA|         TERMINADO|2021-03-26 00:00:00| 2021-03-26 00:00:00|  2021-03-26 00:00:00|2021-12-30 00:00:00|CONTRATACION DIRECTA|PRESTACION DE SER...|CO1PCCNTR2387047|CONTRATACION DIRECTA|MINISTERIO DE CUL...|  830034348|     830034348|CEDULA DE CIUDADANIA|      35505168|    MARIA FERNANDA SA...| CEDULA DE CIUDADANIA|        35505168|MARIA FERNANDA SA...|     101539167|           101539167|ACOMPAÑAR AL VICE...|          ACOMPAÑAR AL VICE...|https://community...|      SERVICIOSPROFESIO...|           EJECUTIVO|             CULTURA|             CULTURA|    3|2021|\n",
      "|    CO1PCCNTR1327113|     SECOP II|     BOGOTA|              BOGOTA|            ACTIVO|2020-02-26 00:00:00| 2020-02-26 00:00:00|  2020-02-28 00:00:00|2021-02-27 00:00:00|                null|         COMPRAVENTA|CO1PCCNTR1327113|CONTRATACION DIRE...|BOGOTA - CONTRALORIA|  800245133|     800245133|                 NIT|    8600010227|    CASA EDITORIAL EL...|                  NIT|      8600010227|CASA EDITORIAL EL...|       1053800|             1053800|ADQUISICION DE A ...|          ADQUISICION DE A ...|https://community...|      NO EXISTE PLURALI...|CORPORACION AUTONOMA|NO APLICANO PERTE...|NO APLICANO PERTE...|    2|2020|\n",
      "|         147 DE 2019|     SECOP II|     BOGOTA|              BOGOTA|        MODIFICADO|2019-08-28 00:00:00| 2019-08-28 00:00:00|  2019-08-21 00:00:00|2019-10-18 00:00:00|CONTRATACION MINI...|         COMPRAVENTA|CO1PCCNTR1075102|      MINIMA CUANTIA|INSTITUTO NACIONA...|  800215546|     800215546|                 NIT|     830146283|          MOVITRONIC SAS|                  NIT|       830146283|      MOVITRONIC SAS|       4800000|             4800000|ADQUISICION DE BI...|          ADQUISICION DE BI...|https://community...|      PRESUPUESTO INFER...|CORPORACION AUTONOMA|NO APLICANO PERTE...|NO APLICANO PERTE...|    8|2019|\n",
      "|     0084ARCCBN12020|     SECOP II|  CARTAGENA|             BOLIVAR|      EN EJECUCION|2020-09-01 00:00:00| 2020-09-01 00:00:00|  2020-09-01 00:00:00|2020-09-30 00:00:00|CONTRATACION MINI...|         COMPRAVENTA|CO1PCCNTR1799271|      MINIMA CUANTIA|ARMADA NACIONAL B...|  800141645|     800141645|                 NIT|     901188686|    DISTRIBUIDORA MAE...|                  NIT|       901188686|DISTRIBUIDORA MAE...|       2394000|             2394000|ADQUISICION DE CA...|          ADQUISICION DE CA...|https://community...|      PRESUPUESTO INFER...|           EJECUTIVO|             DEFENSA|             DEFENSA|    9|2020|\n",
      "|038  CENAC REGION...|     SECOP II|  FLORENCIA|             CAQUETA|            ACTIVO|2020-04-24 00:00:00| 2020-04-24 00:00:00|  2020-04-22 00:00:00|2020-05-01 00:00:00|CONTRATACION DIRECTA|         COMPRAVENTA|CO1PCCNTR1514776|CONTRATACION DIRECTA|CENTRAL ADMINISTR...|  808001433|     808001433|                 NIT|     900304743|    COMPAÑIA LIDER DE...|                  NIT|       900304743|COMPAÑIA LIDER DE...|       2628000|             2628000|ADQUISICION DE EL...|          ADQUISICION DE EL...|https://community...|       URGENCIA MANIFIESTA|           EJECUTIVO|             DEFENSA|             DEFENSA|    4|2020|\n",
      "|044CENACONVENIOS2021|     SECOP II|     BOGOTA|              BOGOTA|      EN EJECUCION|2021-07-08 00:00:00| 2021-07-08 00:00:00|  2021-07-12 00:00:00|2021-09-11 00:00:00|             SUBASTA|         COMPRAVENTA|CO1PCCNTR2635215|SELECCION ABREVIA...|CENTRAL ADMINISTR...|  900973540|     900973540|                 NIT|     830146283|          MOVITRONIC SAS|                  NIT|       830146283|      MOVITRONIC SAS|      91171610|            91171610|ADQUISICION DE EQ...|          ADQUISICION DE EQ...|https://community...|      SUMINISTRO DE BIE...|           EJECUTIVO|             DEFENSA|             DEFENSA|    7|2021|\n",
      "|      031ARCCBN42020|     SECOP II|NO DEFINIDO|SAN ANDRES PROVID...|      EN EJECUCION|2020-06-23 00:00:00| 2020-06-23 00:00:00|  2020-07-07 00:00:00|2020-11-20 00:00:00|CONTRATACION MINI...|         SUMINISTROS|CO1PCCNTR1642886|      MINIMA CUANTIA|ARMADA NACIONAL B...|  800141656|     800141656|                 NIT|    9004093813|    AGUA Y TIERRA LOG...|                  NIT|      9004093813|AGUA Y TIERRA LOG...|      26974437|            26974437|ADQUISICION DE HE...|          ADQUISICION DE HE...|https://community...|      PRESUPUESTO INFER...|           EJECUTIVO|             DEFENSA|             DEFENSA|    6|2020|\n",
      "|         CTO06712018|     SECOP II|     BOGOTA|              BOGOTA|         TERMINADO|2018-05-23 00:00:00| 2018-05-23 00:00:00|  2018-05-22 00:00:00|2018-08-30 00:00:00|SELECCION ABREVIA...|         COMPRAVENTA| CO1PCCNTR418553|SELECCION ABREVIA...|FONDO ROTATORIO D...|  860020227|     860020227|                 NIT|     800145548|     AB SEÑALIZACION SAS|                  NIT|       800145548| AB SEÑALIZACION SAS|      92263080|            92263080|ADQUISICION DE IN...|          ADQUISICION DE IN...|https://community...|      PRESUPUESTO MENOR...|           EJECUTIVO|             DEFENSA|             DEFENSA|    5|2018|\n",
      "|COMUNICACION DE A...|     SECOP II|       NILO|        CUNDINAMARCA|           CERRADO|2018-12-19 00:00:00| 2018-12-19 00:00:00|  2018-12-17 00:00:00|2018-12-27 00:00:00|CONTRATACION MINI...|         COMPRAVENTA| CO1PCCNTR692092|      MINIMA CUANTIA|CENTRAL ADMINISTR...|  800131049|     800131049|                 NIT|     860030360|    FERRETERIA FORERO SA|                  NIT|       860030360|FERRETERIA FORERO SA|      68386449|            68386449|ADQUISICION DE MA...|          ADQUISICION DE MA...|https://community...|      PRESUPUESTO INFER...|           EJECUTIVO|             DEFENSA|             DEFENSA|   12|2018|\n",
      "|02300HCACOM5GRUSE...|     SECOP II|NO DEFINIDO|           ANTIOQUIA|      EN EJECUCION|2021-06-15 00:00:00| 2021-06-15 00:00:00|  2021-06-23 00:00:00|2021-07-20 00:00:00|CONTRATACION MINI...|         COMPRAVENTA|CO1PCCNTR2588216|      MINIMA CUANTIA|COMANDO AEREO DE ...|  800141633|     800141633|                 NIT|     860513624|    INGENIERIA DE PRO...|                  NIT|       860513624|INGENIERIA DE PRO...|       8506239|             8506239|ADQUISICION DE MA...|          ADQUISICION DE MA...|https://community...|      PRESUPUESTO INFER...|           EJECUTIVO|             DEFENSA|             DEFENSA|    6|2021|\n",
      "|         398 DE 2018|     SECOP II|     BOGOTA|              BOGOTA|            ACTIVO|2018-05-28 00:00:00| 2018-05-28 00:00:00|  2018-05-25 00:00:00|2018-06-24 00:00:00|CONTRATACION MINI...|         COMPRAVENTA| CO1PCCNTR421905|      MINIMA CUANTIA|MINISTERIO DEL TR...|  830115226|     830115226|                 NIT|     900020751|    PANDAID SOLUCIONE...|                  NIT|       900020751|PANDAID SOLUCIONE...|       6291173|             6291173|ADQUISICION DE UN...|          ADQUISICION DE UN...|https://community...|      PRESUPUESTO INFER...|           EJECUTIVO|             TRABAJO|             TRABAJO|    5|2018|\n",
      "|           001992019|     SECOP II|     BOGOTA|              BOGOTA|            ACTIVO|2019-10-29 00:00:00| 2019-10-29 00:00:00|  2019-11-01 00:00:00|2019-11-30 00:00:00|             SUBASTA|         COMPRAVENTA|CO1PCCNTR1156816|SELECCION ABREVIA...|DIRECCION DE IMPU...|  800197268|     800197268|                 NIT|     900443044|      SAFETY IN DEEP SAS|                  NIT|       900443044|  SAFETY IN DEEP SAS|    1448953170|          1448953170|ADQUISICION DEL D...|          ADQUISICION DEL D...|https://community...|      SUMINISTRO DE BIE...|           EJECUTIVO|HACIENDA Y CREDIT...|HACIENDA Y CREDIT...|   10|2019|\n",
      "|        110CNT171198|     SECOP II|   MEDELLIN|           ANTIOQUIA|            ACTIVO|2018-08-08 00:00:00| 2018-08-08 00:00:00|  2017-11-24 00:00:00|2018-01-24 00:00:00|SELECCION ABREVIA...|         SUMINISTROS| CO1PCCNTR501912|SELECCION ABREVIA...|CORANTIOQUIA - CO...|  811000231|     811000231|                 NIT|     830034462|    INNOVACION TECNOL...|                  NIT|       830034462|INNOVACION TECNOL...|     176120000|           176120000|ADQUISICION E INS...|          ADQUISICION E INS...|https://community...|      PRESUPUESTO MENOR...|CORPORACION AUTONOMA|AMBIENTE Y DESARR...|AMBIENTE Y DESARR...|    8|2018|\n",
      "|          0110432020|     SECOP II|     BOGOTA|              BOGOTA|         TERMINADO|2020-07-03 00:00:00| 2020-07-03 00:00:00|  2020-07-03 00:00:00|2020-10-24 00:00:00|             SUBASTA|                OTRO|CO1PCCNTR1652769|SELECCION ABREVIA...|AGENCIA LOGISTICA...|  899999162|     899999162|                 NIT|     900126632|          LIMACOR MY SAS|                  NIT|       900126632|      LIMACOR MY SAS|      76819956|            76819956|ADQUISICION E INS...|          ADQUISICION E INS...|https://community...|      SUMINISTRO DE BIE...|           EJECUTIVO|             DEFENSA|             DEFENSA|    7|2020|\n",
      "+--------------------+-------------+-----------+--------------------+------------------+-------------------+--------------------+---------------------+-------------------+--------------------+--------------------+----------------+--------------------+--------------------+-----------+--------------+--------------------+--------------+------------------------+---------------------+----------------+--------------------+--------------+--------------------+--------------------+------------------------------+--------------------+--------------------------+--------------------+--------------------+--------------------+-----+----+\n",
      "only showing top 20 rows\n",
      "\n"
     ]
    },
    {
     "name": "stderr",
     "output_type": "stream",
     "text": [
      "                                                                                \r"
     ]
    }
   ],
   "source": [
    "columnas_referencia = ['REFERENCIA_CONTRATO','ID_CONTRATISTA']\n",
    "infraestructura_df_limpio = pyspark_etl_functions.limpiar_nulos_y_duplicados(paco_secop_df, columnas_referencia)\n",
    "infraestructura_df_limpio.show()"
   ]
  },
  {
   "cell_type": "code",
   "execution_count": 15,
   "metadata": {},
   "outputs": [
    {
     "name": "stderr",
     "output_type": "stream",
     "text": [
      "[Stage 70:===================================================>     (9 + 1) / 10]\r"
     ]
    },
    {
     "name": "stdout",
     "output_type": "stream",
     "text": [
      "+--------------------+-------------+-------------+--------------------+------------------+-------------------+--------------------+---------------------+-------------------+--------------------+--------------------+----------------+--------------------+--------------------+-----------+--------------+--------------------+--------------+------------------------+---------------------+----------------+--------------------+--------------+--------------------+--------------------+------------------------------+--------------------+--------------------------+--------------------+--------------------+--------------------+-----+----+\n",
      "| REFERENCIA_CONTRATO|BASE_DE_DATOS|    MUNICIPIO|        DEPARTAMENTO|ESTADO_DEL_PROCESO| FECHA_CARGUE_SECOP|FECHA_FIRMA_CONTRATO|FECHA_INICIO_CONTRATO| FECHA_FIN_CONTRATO|       CLASE_PROCESO|        TIPO_PROCESO|      ID_PROCESO|       TIPO_CONTRATO|      NOMBRE_ENTIDAD|NIT_ENTIDAD|CODIGO_ENTIDAD| TIPO_ID_CONTRATISTA|ID_CONTRATISTA|RAZON_SOCIAL_CONTRATISTA|TIPO_ID_REPRESENTANTE|ID_REPRESENTANTE|NOMBRE_REPRESENTANTE|VALOR_CONTRATO|VALOR_TOTAL_CONTRATO|  OBJETO_A_CONTRATAR|DETALLE_DEL_OBJETO_A_CONTRATAR|         URL_PROCESO|JUSTIFICACION_CONTRATACION|        NOMBRE_GRUPO|      NOMBRE_FAMILIA|        NOMBRE_CLASE|month|year|\n",
      "+--------------------+-------------+-------------+--------------------+------------------+-------------------+--------------------+---------------------+-------------------+--------------------+--------------------+----------------+--------------------+--------------------+-----------+--------------+--------------------+--------------+------------------------+---------------------+----------------+--------------------+--------------+--------------------+--------------------+------------------------------+--------------------+--------------------------+--------------------+--------------------+--------------------+-----+----+\n",
      "|    CDSECGRAL1692021|     SECOP II|    CARTAGENA|             BOLIVAR|        MODIFICADO|2021-01-19 00:00:00| 2021-01-19 00:00:00|  2021-01-20 00:00:00|2021-07-19 00:00:00|CONTRATACION DIRECTA|PRESTACION DE SER...|CO1PCCNTR2137589|CONTRATACION DIRECTA|BOLIVAR - CARTAGE...|  890480184|     890480184|CEDULA DE CIUDADANIA|    1047403306|    SANDRA MARCELA ME...| CEDULA DE CIUDADANIA|      1047403306|SANDRA MARCELA ME...|      27000000|            27000000|PRESTACION DE SER...|          PRESTACION DE SER...|https://community...|      SERVICIOSPROFESIO...|           EJECUTIVO|NO APLICANO PERTE...|NO APLICANO PERTE...|    1|2021|\n",
      "|            70092021|     SECOP II|       BOGOTA|              BOGOTA|      EN EJECUCION|2021-09-01 00:00:00| 2021-09-01 00:00:00|  2021-09-01 00:00:00|2021-11-30 00:00:00|    REGIMEN ESPECIAL|PRESTACION DE SER...|CO1PCCNTR2807716|CONTRATACION REGI...|BOGOTA - SUBRED I...|  900958564|     900958564|CEDULA DE CIUDADANIA|      52229239|    SANDRA YOLANDA BU...| CEDULA DE CIUDADANIA|        52229239|SANDRA YOLANDA BU...|       6697326|             6697326|PRESTAR SERVICIOS...|          PRESTAR SERVICIOS...|https://community...|           REGLA APLICABLE|           EJECUTIVO|SALUD Y PROTECCIO...|SALUD Y PROTECCIO...|    9|2021|\n",
      "|    CO1PCCNTR2239141|     SECOP II|  NO DEFINIDO|             CAQUETA|      EN EJECUCION|2021-02-09 00:00:00| 2021-02-09 00:00:00|  2021-02-15 00:00:00|2021-12-18 00:00:00|CONTRATACION DIRECTA|PRESTACION DE SER...|CO1PCCNTR2239141|CONTRATACION DIRECTA|SENA REGIONAL CAQ...|  899999034|     899999034|CEDULA DE CIUDADANIA|      40078772|    ANGELA MARIA ROJA...| CEDULA DE CIUDADANIA|        40078772|ANGELA MARIA ROJA...|      42280000|            42280000|PRESTAR LOS  SERV...|          PRESTAR LOS  SERV...|https://community...|      SERVICIOSPROFESIO...|           EJECUTIVO|             TRABAJO|             TRABAJO|    2|2021|\n",
      "|    CO1PCCNTR2628519|     SECOP II|      DUITAMA|              BOYACA|      EN EJECUCION|2021-06-30 00:00:00| 2021-06-30 00:00:00|  2021-06-30 00:00:00|2021-06-30 00:00:00|CONTRATACION DIRECTA|PRESTACION DE SER...|CO1PCCNTR2628519|CONTRATACION DIRECTA|BOYACA - DUITAMA ...|  891855138|     891855138|CEDULA DE CIUDADANIA|      46664169|    LUZ STELLA PACHEC...| CEDULA DE CIUDADANIA|        46664169|LUZ STELLA PACHEC...|      11034000|            11034000|PRESTACION DE SER...|          PRESTACION DE SER...|https://community...|      SERVICIOSPROFESIO...|           EJECUTIVO|    SERVICIO PUBLICO|    SERVICIO PUBLICO|    6|2021|\n",
      "|         CCS10202021|     SECOP II|       BOGOTA|              BOGOTA|            ACTIVO|2021-09-06 00:00:00| 2021-09-06 00:00:00|  1900-01-01 00:00:00|2021-12-31 00:00:00| CONCURSO DE MERITOS|         CONSULTORIA|CO1PCCNTR2749131|CONCURSO DE MERIT...|MINISTERIO DEL DE...|  899999306|     899999306|                 NIT|     830028126|    RMCONSTRUCCIONES ...|                  NIT|       830028126|RMCONSTRUCCIONES ...|     110825697|           110825697|INTERVENTORIA TEC...|          INTERVENTORIA TEC...|https://community...|          LEY 1150 DE 2007|           EJECUTIVO|            DEPORTES|            DEPORTES|    9|2021|\n",
      "|        202100000063|     SECOP II|  NO DEFINIDO|             CAQUETA|      EN EJECUCION|2021-02-19 00:00:00| 2021-02-19 00:00:00|  2021-02-23 00:00:00|2021-10-31 00:00:00|CONTRATACION DIRECTA|PRESTACION DE SER...|CO1PCCNTR2278556|CONTRATACION DIRECTA|CAQUETA - GOBERNA...|  800091594|     800091594|CEDULA DE CIUDADANIA|      17635270|    ARMANDO PARRA MEDINA| CEDULA DE CIUDADANIA|        17635270|ARMANDO PARRA MEDINA|      28016000|            28016000|PRESTAR LOS SERVI...|          PRESTAR LOS SERVI...|https://community...|      SERVICIOSPROFESIO...|           EJECUTIVO|NO APLICANO PERTE...|NO APLICANO PERTE...|    2|2021|\n",
      "|        0602 DE 2021|     SECOP II|VILLAVICENCIO|                META|         TERMINADO|2021-03-10 00:00:00| 2021-03-10 00:00:00|  2021-03-10 00:00:00|2021-08-09 00:00:00|CONTRATACION DIRECTA|PRESTACION DE SER...|CO1PCCNTR2331611|CONTRATACION DIRECTA|DEPARTAMENTO DEL ...| 8920001488|    8920001488|CEDULA DE CIUDADANIA|    1121855673|    EMILIANO BAQUERO ...| CEDULA DE CIUDADANIA|      1121855673|EMILIANO BAQUERO ...|      16430000|            16430000|FORTALECIMIENTO D...|          FORTALECIMIENTO D...|https://community...|      SERVICIOSPROFESIO...|           EJECUTIVO|    SERVICIO PUBLICO|    SERVICIO PUBLICO|    3|2021|\n",
      "|          BOG3372021|     SECOP II|       BOGOTA|              BOGOTA|      EN EJECUCION|2021-03-01 00:00:00| 2021-03-01 00:00:00|  2021-03-02 00:00:00|2021-11-02 00:00:00|CONTRATACION DIRECTA|PRESTACION DE SER...|CO1PCCNTR2306565|CONTRATACION DIRECTA|ESAP SEDE CENTRAL...|  899999054|     899999054|CEDULA DE CIUDADANIA|    1069727208|     ELIANA PRIETO PARRA| CEDULA DE CIUDADANIA|      1069727208| ELIANA PRIETO PARRA|      32000000|            32000000|PRESTAR SERVICIOS...|          PRESTAR SERVICIOS...|https://community...|      SERVICIOSPROFESIO...|           EJECUTIVO|    SERVICIO PUBLICO|    SERVICIO PUBLICO|    3|2021|\n",
      "|            41542021|     SECOP II|       BOGOTA|              BOGOTA|        MODIFICADO|2021-03-06 00:00:00| 2021-03-06 00:00:00|  2021-03-06 00:00:00|2021-10-31 00:00:00|    REGIMEN ESPECIAL|PRESTACION DE SER...|CO1PCCNTR2328171|CONTRATACION REGI...|BOGOTA - SUBRED I...|  900958564|     900958564|CEDULA DE CIUDADANIA|    1030588338|    DIANA MILENA SAND...| CEDULA DE CIUDADANIA|      1030588338|DIANA MILENA SAND...|      15298677|            15298677|PRESTAR SERVICIOS...|          PRESTAR SERVICIOS...|https://community...|           REGLA APLICABLE|           EJECUTIVO|SALUD Y PROTECCIO...|SALUD Y PROTECCIO...|    3|2021|\n",
      "|            22382021|     SECOP II|      POPAYAN|               CAUCA|      EN EJECUCION|2021-09-24 00:00:00| 2021-09-24 00:00:00|  2021-09-28 00:00:00|2021-12-31 00:00:00|CONTRATACION DIRECTA|PRESTACION DE SER...|CO1PCCNTR2851124|CONTRATACION DIRECTA| CAUCA - GOBERNACION|  891580016|     891580016|CEDULA DE CIUDADANIA|    1062283434|    SANTIAGO SIERRA S...| CEDULA DE CIUDADANIA|      1062283434|SANTIAGO SIERRA S...|      14660000|            14660000|     SIN DESCRIPCION|               SIN DESCRIPCION|https://community...|      SERVICIOSPROFESIO...|           EJECUTIVO|    SERVICIO PUBLICO|    SERVICIO PUBLICO|    9|2021|\n",
      "|CMACD259890834362021|     SECOP II|     MEDELLIN|           ANTIOQUIA|      EN EJECUCION|2021-08-06 00:00:00| 2021-08-06 00:00:00|  2021-08-06 00:00:00|2021-12-31 00:00:00|CONTRATACION DIRECTA|PRESTACION DE SER...|CO1PCCNTR2733858|CONTRATACION DIRECTA|ANTIOQUIA - INSTI...|  890980134|     890980134|CEDULA DE CIUDADANIA|      71366672|    ANDRES ESTEBAN RI...| CEDULA DE CIUDADANIA|        71366672|ANDRES ESTEBAN RI...|      23771493|            23771493|EL CONTRATISTA DE...|          EL CONTRATISTA DE...|https://community...|      SERVICIOSPROFESIO...|           EJECUTIVO|  EDUCACION NACIONAL|  EDUCACION NACIONAL|    8|2021|\n",
      "|          CPS3642021|     SECOP II|         CHIA|        CUNDINAMARCA|      EN EJECUCION|2021-04-21 00:00:00| 2021-04-21 00:00:00|  2021-04-22 00:00:00|2021-11-21 00:00:00|CONTRATACION DIRECTA|PRESTACION DE SER...|CO1PCCNTR2448434|CONTRATACION DIRECTA|CUNDINAMARCA - CH...|  899999172|     899999172|CEDULA DE CIUDADANIA|      35477302|    LUZ MERY PAEZ MOR...| CEDULA DE CIUDADANIA|        35477302|LUZ MERY PAEZ MOR...|      14000000|            14000000|PRESTACION DE SER...|          PRESTACION DE SER...|https://community...|      SERVICIOSPROFESIO...|           EJECUTIVO|    SERVICIO PUBLICO|    SERVICIO PUBLICO|    4|2021|\n",
      "|    CO1PCCNTR2670534|     SECOP II|      CALARCA|             QUINDIO|      EN EJECUCION|2021-07-14 00:00:00| 2021-07-14 00:00:00|  2021-07-15 00:00:00|2021-10-14 00:00:00|CONTRATACION DIRECTA|                OTRO|CO1PCCNTR2670534|CONTRATACION DIRECTA|QUINDIO - CALARCA...|  890000441|     890000441|CEDULA DE CIUDADANIA|      41948091|    FRANCILENY CABALL...| CEDULA DE CIUDADANIA|        41948091|FRANCILENY CABALL...|             0|                   0|APOYO A LA SECRET...|          APOYO A LA SECRET...|https://community...|      CONTRATOSCONVENIO...|           EJECUTIVO|NO APLICANO PERTE...|NO APLICANO PERTE...|    7|2021|\n",
      "|       4112060261024|     SECOP II|         CALI|     VALLE DEL CAUCA|      EN EJECUCION|2021-01-24 00:00:00| 2021-01-24 00:00:00|  2021-01-26 00:00:00|2021-04-30 00:00:00|CONTRATACION DIRECTA|PRESTACION DE SER...|CO1PCCNTR2166026|CONTRATACION DIRECTA|SANTIAGO DE CALI ...|  890399011|     890399011|CEDULA DE CIUDADANIA|    1143850087|    LINA MARCELA ARTU...| CEDULA DE CIUDADANIA|      1143850087|LINA MARCELA ARTU...|      14092000|            14092000|PRESTAR LOS SERVI...|          PRESTAR LOS SERVI...|https://community...|      SERVICIOSPROFESIO...|CORPORACION AUTONOMA|NO APLICANO PERTE...|NO APLICANO PERTE...|    1|2021|\n",
      "|            20112021|     SECOP II|      POPAYAN|               CAUCA|      EN EJECUCION|2021-08-09 00:00:00| 2021-08-09 00:00:00|  2021-08-10 00:00:00|2021-12-24 00:00:00|CONTRATACION DIRECTA|PRESTACION DE SER...|CO1PCCNTR2738108|CONTRATACION DIRECTA| CAUCA - GOBERNACION|  891580016|     891580016|CEDULA DE CIUDADANIA|       6393647|    JULIAN CAMILO PAZ...| CEDULA DE CIUDADANIA|         6393647|JULIAN CAMILO PAZ...|      15660000|            15660000|PRESTAR SERVICIOS...|          PRESTAR SERVICIOS...|https://community...|      SERVICIOSPROFESIO...|           EJECUTIVO|    SERVICIO PUBLICO|    SERVICIO PUBLICO|    8|2021|\n",
      "|      PLA1314PSP2021|     SECOP II|      ARMENIA|             QUINDIO|      EN EJECUCION|2021-06-24 00:00:00| 2021-06-24 00:00:00|  2021-06-24 00:00:00|2021-09-21 00:00:00|CONTRATACION DIRECTA|PRESTACION DE SER...|CO1PCCNTR2614508|CONTRATACION DIRECTA|QUINDIO - GOBERNA...|  890001639|     890001639|CEDULA DE CIUDADANIA|       7559535|    HENRY JARAMILLO G...| CEDULA DE CIUDADANIA|         7559535|HENRY JARAMILLO G...|       8655000|             8655000|PRESTACION DE SER...|          PRESTACION DE SER...|https://community...|      SERVICIOSPROFESIO...|           EJECUTIVO|NO APLICANO PERTE...|NO APLICANO PERTE...|    6|2021|\n",
      "|           IND210053|     SECOP II|         CALI|     VALLE DEL CAUCA|      EN EJECUCION|2021-04-27 00:00:00| 2021-04-27 00:00:00|  2021-04-29 00:00:00|2021-08-31 00:00:00|CONTRATACION DIRECTA|PRESTACION DE SER...|CO1PCCNTR2466616|CONTRATACION DIRECTA|INSTITUTO DEL DEP...|  805012896|     805012896|CEDULA DE CIUDADANIA|      16684061|       JUAN CARLOS PRADO| CEDULA DE CIUDADANIA|        16684061|   JUAN CARLOS PRADO|       7916000|             7916000|PRESTACION DE SER...|          PRESTACION DE SER...|https://community...|      SERVICIOSPROFESIO...|           EJECUTIVO|            DEPORTES|            DEPORTES|    4|2021|\n",
      "|    CO1PCCNTR2207421|     SECOP II|       BOGOTA|              BOGOTA|      EN EJECUCION|2021-02-02 00:00:00| 2021-02-02 00:00:00|  2021-02-03 00:00:00|2021-07-31 00:00:00|CONTRATACION DIRECTA|PRESTACION DE SER...|CO1PCCNTR2207421|CONTRATACION DIRECTA|DEPARTAMENTO ADMI...|  899999027|     899999027|CEDULA DE CIUDADANIA|    1013581766|    LEIDY JOHANNA MOI...| CEDULA DE CIUDADANIA|      1013581766|LEIDY JOHANNA MOI...|      18936000|            18936000|99049633CENSOECON...|          99049633CENSOECON...|https://community...|      SERVICIOSPROFESIO...|           EJECUTIVO|INFORMACION ESTAD...|INFORMACION ESTAD...|    2|2021|\n",
      "|    CO1PCCNTR2608311|     SECOP II|   SAN ANDRES|SAN ANDRES PROVID...|      EN EJECUCION|2021-06-25 00:00:00| 2021-06-25 00:00:00|  2021-06-28 00:00:00|2021-10-27 00:00:00|CONTRATACION DIRECTA|PRESTACION DE SER...|CO1PCCNTR2608311|CONTRATACION DIRECTA|GOBERNACION DEL D...|  892400038|     892400038|CEDULA DE CIUDADANIA|    1123635974|    ANDERSON SMITH CH...| CEDULA DE CIUDADANIA|      1123635974|ANDERSON SMITH CH...|       9204384|             9204384|PRESTAR SUS SERVI...|          PRESTAR SUS SERVI...|https://community...|      SERVICIOSPROFESIO...|           EJECUTIVO|NO APLICANO PERTE...|NO APLICANO PERTE...|    6|2021|\n",
      "|            62192021|     SECOP II|       BOGOTA|              BOGOTA|        MODIFICADO|2021-06-21 00:00:00| 2021-06-21 00:00:00|  2021-06-21 00:00:00|2021-07-31 00:00:00|    REGIMEN ESPECIAL|PRESTACION DE SER...|CO1PCCNTR2599107|CONTRATACION REGI...|BOGOTA - SUBRED I...|  900959048|     900959048|CEDULA DE CIUDADANIA|      28542833|    MARHA ROCIO GOMEZ...| CEDULA DE CIUDADANIA|        28542833|MARHA ROCIO GOMEZ...|       4092810|             4092810|PRESTAR SERVICIOS...|          PRESTAR SERVICIOS...|https://community...|           REGLA APLICABLE|           EJECUTIVO|SALUD Y PROTECCIO...|SALUD Y PROTECCIO...|    6|2021|\n",
      "+--------------------+-------------+-------------+--------------------+------------------+-------------------+--------------------+---------------------+-------------------+--------------------+--------------------+----------------+--------------------+--------------------+-----------+--------------+--------------------+--------------+------------------------+---------------------+----------------+--------------------+--------------+--------------------+--------------------+------------------------------+--------------------+--------------------------+--------------------+--------------------+--------------------+-----+----+\n",
      "only showing top 20 rows\n",
      "\n"
     ]
    },
    {
     "name": "stderr",
     "output_type": "stream",
     "text": [
      "                                                                                \r"
     ]
    }
   ],
   "source": [
    "infraestructura_df_limpio_2_anos = pyspark_etl_functions.filtrar_ultimos_anos(infraestructura_df_limpio, 2)\n",
    "infraestructura_df_limpio_2_anos.show()"
   ]
  },
  {
   "cell_type": "code",
   "execution_count": 16,
   "metadata": {},
   "outputs": [
    {
     "name": "stderr",
     "output_type": "stream",
     "text": [
      "[Stage 75:>                                                         (0 + 1) / 1]\r"
     ]
    },
    {
     "name": "stdout",
     "output_type": "stream",
     "text": [
      "+--------------------+-------------+--------------------+------------------+---------------------+-------------------+--------------------+--------------------+--------------------+--------------------+-----------+--------------+------------------------+--------------------+--------------------+--------------------+--------------------+-----+----+\n",
      "| REFERENCIA_CONTRATO|    MUNICIPIO|        DEPARTAMENTO|ESTADO_DEL_PROCESO|FECHA_INICIO_CONTRATO| FECHA_FIN_CONTRATO|       CLASE_PROCESO|        TIPO_PROCESO|       TIPO_CONTRATO|      NOMBRE_ENTIDAD|NIT_ENTIDAD|ID_CONTRATISTA|RAZON_SOCIAL_CONTRATISTA|VALOR_TOTAL_CONTRATO|        NOMBRE_GRUPO|      NOMBRE_FAMILIA|        NOMBRE_CLASE|month|year|\n",
      "+--------------------+-------------+--------------------+------------------+---------------------+-------------------+--------------------+--------------------+--------------------+--------------------+-----------+--------------+------------------------+--------------------+--------------------+--------------------+--------------------+-----+----+\n",
      "|    CDSECGRAL1692021|    CARTAGENA|             BOLIVAR|        MODIFICADO|  2021-01-20 00:00:00|2021-07-19 00:00:00|CONTRATACION DIRECTA|PRESTACION DE SER...|CONTRATACION DIRECTA|BOLIVAR - CARTAGE...|  890480184|    1047403306|    SANDRA MARCELA ME...|            27000000|           EJECUTIVO|NO APLICANO PERTE...|NO APLICANO PERTE...|    1|2021|\n",
      "|            70092021|       BOGOTA|              BOGOTA|      EN EJECUCION|  2021-09-01 00:00:00|2021-11-30 00:00:00|    REGIMEN ESPECIAL|PRESTACION DE SER...|CONTRATACION REGI...|BOGOTA - SUBRED I...|  900958564|      52229239|    SANDRA YOLANDA BU...|             6697326|           EJECUTIVO|SALUD Y PROTECCIO...|SALUD Y PROTECCIO...|    9|2021|\n",
      "|    CO1PCCNTR2239141|  NO DEFINIDO|             CAQUETA|      EN EJECUCION|  2021-02-15 00:00:00|2021-12-18 00:00:00|CONTRATACION DIRECTA|PRESTACION DE SER...|CONTRATACION DIRECTA|SENA REGIONAL CAQ...|  899999034|      40078772|    ANGELA MARIA ROJA...|            42280000|           EJECUTIVO|             TRABAJO|             TRABAJO|    2|2021|\n",
      "|    CO1PCCNTR2628519|      DUITAMA|              BOYACA|      EN EJECUCION|  2021-06-30 00:00:00|2021-06-30 00:00:00|CONTRATACION DIRECTA|PRESTACION DE SER...|CONTRATACION DIRECTA|BOYACA - DUITAMA ...|  891855138|      46664169|    LUZ STELLA PACHEC...|            11034000|           EJECUTIVO|    SERVICIO PUBLICO|    SERVICIO PUBLICO|    6|2021|\n",
      "|         CCS10202021|       BOGOTA|              BOGOTA|            ACTIVO|  1900-01-01 00:00:00|2021-12-31 00:00:00| CONCURSO DE MERITOS|         CONSULTORIA|CONCURSO DE MERIT...|MINISTERIO DEL DE...|  899999306|     830028126|    RMCONSTRUCCIONES ...|           110825697|           EJECUTIVO|            DEPORTES|            DEPORTES|    9|2021|\n",
      "|        202100000063|  NO DEFINIDO|             CAQUETA|      EN EJECUCION|  2021-02-23 00:00:00|2021-10-31 00:00:00|CONTRATACION DIRECTA|PRESTACION DE SER...|CONTRATACION DIRECTA|CAQUETA - GOBERNA...|  800091594|      17635270|    ARMANDO PARRA MEDINA|            28016000|           EJECUTIVO|NO APLICANO PERTE...|NO APLICANO PERTE...|    2|2021|\n",
      "|        0602 DE 2021|VILLAVICENCIO|                META|         TERMINADO|  2021-03-10 00:00:00|2021-08-09 00:00:00|CONTRATACION DIRECTA|PRESTACION DE SER...|CONTRATACION DIRECTA|DEPARTAMENTO DEL ...| 8920001488|    1121855673|    EMILIANO BAQUERO ...|            16430000|           EJECUTIVO|    SERVICIO PUBLICO|    SERVICIO PUBLICO|    3|2021|\n",
      "|          BOG3372021|       BOGOTA|              BOGOTA|      EN EJECUCION|  2021-03-02 00:00:00|2021-11-02 00:00:00|CONTRATACION DIRECTA|PRESTACION DE SER...|CONTRATACION DIRECTA|ESAP SEDE CENTRAL...|  899999054|    1069727208|     ELIANA PRIETO PARRA|            32000000|           EJECUTIVO|    SERVICIO PUBLICO|    SERVICIO PUBLICO|    3|2021|\n",
      "|            41542021|       BOGOTA|              BOGOTA|        MODIFICADO|  2021-03-06 00:00:00|2021-10-31 00:00:00|    REGIMEN ESPECIAL|PRESTACION DE SER...|CONTRATACION REGI...|BOGOTA - SUBRED I...|  900958564|    1030588338|    DIANA MILENA SAND...|            15298677|           EJECUTIVO|SALUD Y PROTECCIO...|SALUD Y PROTECCIO...|    3|2021|\n",
      "|            22382021|      POPAYAN|               CAUCA|      EN EJECUCION|  2021-09-28 00:00:00|2021-12-31 00:00:00|CONTRATACION DIRECTA|PRESTACION DE SER...|CONTRATACION DIRECTA| CAUCA - GOBERNACION|  891580016|    1062283434|    SANTIAGO SIERRA S...|            14660000|           EJECUTIVO|    SERVICIO PUBLICO|    SERVICIO PUBLICO|    9|2021|\n",
      "|CMACD259890834362021|     MEDELLIN|           ANTIOQUIA|      EN EJECUCION|  2021-08-06 00:00:00|2021-12-31 00:00:00|CONTRATACION DIRECTA|PRESTACION DE SER...|CONTRATACION DIRECTA|ANTIOQUIA - INSTI...|  890980134|      71366672|    ANDRES ESTEBAN RI...|            23771493|           EJECUTIVO|  EDUCACION NACIONAL|  EDUCACION NACIONAL|    8|2021|\n",
      "|          CPS3642021|         CHIA|        CUNDINAMARCA|      EN EJECUCION|  2021-04-22 00:00:00|2021-11-21 00:00:00|CONTRATACION DIRECTA|PRESTACION DE SER...|CONTRATACION DIRECTA|CUNDINAMARCA - CH...|  899999172|      35477302|    LUZ MERY PAEZ MOR...|            14000000|           EJECUTIVO|    SERVICIO PUBLICO|    SERVICIO PUBLICO|    4|2021|\n",
      "|    CO1PCCNTR2670534|      CALARCA|             QUINDIO|      EN EJECUCION|  2021-07-15 00:00:00|2021-10-14 00:00:00|CONTRATACION DIRECTA|                OTRO|CONTRATACION DIRECTA|QUINDIO - CALARCA...|  890000441|      41948091|    FRANCILENY CABALL...|                   0|           EJECUTIVO|NO APLICANO PERTE...|NO APLICANO PERTE...|    7|2021|\n",
      "|       4112060261024|         CALI|     VALLE DEL CAUCA|      EN EJECUCION|  2021-01-26 00:00:00|2021-04-30 00:00:00|CONTRATACION DIRECTA|PRESTACION DE SER...|CONTRATACION DIRECTA|SANTIAGO DE CALI ...|  890399011|    1143850087|    LINA MARCELA ARTU...|            14092000|CORPORACION AUTONOMA|NO APLICANO PERTE...|NO APLICANO PERTE...|    1|2021|\n",
      "|            20112021|      POPAYAN|               CAUCA|      EN EJECUCION|  2021-08-10 00:00:00|2021-12-24 00:00:00|CONTRATACION DIRECTA|PRESTACION DE SER...|CONTRATACION DIRECTA| CAUCA - GOBERNACION|  891580016|       6393647|    JULIAN CAMILO PAZ...|            15660000|           EJECUTIVO|    SERVICIO PUBLICO|    SERVICIO PUBLICO|    8|2021|\n",
      "|      PLA1314PSP2021|      ARMENIA|             QUINDIO|      EN EJECUCION|  2021-06-24 00:00:00|2021-09-21 00:00:00|CONTRATACION DIRECTA|PRESTACION DE SER...|CONTRATACION DIRECTA|QUINDIO - GOBERNA...|  890001639|       7559535|    HENRY JARAMILLO G...|             8655000|           EJECUTIVO|NO APLICANO PERTE...|NO APLICANO PERTE...|    6|2021|\n",
      "|           IND210053|         CALI|     VALLE DEL CAUCA|      EN EJECUCION|  2021-04-29 00:00:00|2021-08-31 00:00:00|CONTRATACION DIRECTA|PRESTACION DE SER...|CONTRATACION DIRECTA|INSTITUTO DEL DEP...|  805012896|      16684061|       JUAN CARLOS PRADO|             7916000|           EJECUTIVO|            DEPORTES|            DEPORTES|    4|2021|\n",
      "|    CO1PCCNTR2207421|       BOGOTA|              BOGOTA|      EN EJECUCION|  2021-02-03 00:00:00|2021-07-31 00:00:00|CONTRATACION DIRECTA|PRESTACION DE SER...|CONTRATACION DIRECTA|DEPARTAMENTO ADMI...|  899999027|    1013581766|    LEIDY JOHANNA MOI...|            18936000|           EJECUTIVO|INFORMACION ESTAD...|INFORMACION ESTAD...|    2|2021|\n",
      "|    CO1PCCNTR2608311|   SAN ANDRES|SAN ANDRES PROVID...|      EN EJECUCION|  2021-06-28 00:00:00|2021-10-27 00:00:00|CONTRATACION DIRECTA|PRESTACION DE SER...|CONTRATACION DIRECTA|GOBERNACION DEL D...|  892400038|    1123635974|    ANDERSON SMITH CH...|             9204384|           EJECUTIVO|NO APLICANO PERTE...|NO APLICANO PERTE...|    6|2021|\n",
      "|            62192021|       BOGOTA|              BOGOTA|        MODIFICADO|  2021-06-21 00:00:00|2021-07-31 00:00:00|    REGIMEN ESPECIAL|PRESTACION DE SER...|CONTRATACION REGI...|BOGOTA - SUBRED I...|  900959048|      28542833|    MARHA ROCIO GOMEZ...|             4092810|           EJECUTIVO|SALUD Y PROTECCIO...|SALUD Y PROTECCIO...|    6|2021|\n",
      "+--------------------+-------------+--------------------+------------------+---------------------+-------------------+--------------------+--------------------+--------------------+--------------------+-----------+--------------+------------------------+--------------------+--------------------+--------------------+--------------------+-----+----+\n",
      "only showing top 20 rows\n",
      "\n"
     ]
    },
    {
     "name": "stderr",
     "output_type": "stream",
     "text": [
      "                                                                                \r"
     ]
    }
   ],
   "source": [
    "columnas_a_conservar = [\n",
    "    \"REFERENCIA_CONTRATO\", \"MUNICIPIO\", \"DEPARTAMENTO\", \"ESTADO_DEL_PROCESO\",\n",
    "    \"FECHA_INICIO_CONTRATO\", \"FECHA_FIN_CONTRATO\", \"CLASE_PROCESO\", \"TIPO_PROCESO\",\n",
    "    \"TIPO_CONTRATO\", \"NOMBRE_ENTIDAD\", \"NIT_ENTIDAD\", \"ID_CONTRATISTA\", \"RAZON_SOCIAL_CONTRATISTA\",\n",
    "    \"VALOR_TOTAL_CONTRATO\", \"NOMBRE_GRUPO\", \"NOMBRE_FAMILIA\", \"NOMBRE_CLASE\", \"month\", \"year\"\n",
    "]\n",
    "\n",
    "infraestructura_df_seleccionado = pyspark_etl_functions.seleccionar_columnas(infraestructura_df_limpio_2_anos, columnas_a_conservar)\n",
    "infraestructura_df_seleccionado.show()"
   ]
  },
  {
   "cell_type": "code",
   "execution_count": 17,
   "metadata": {},
   "outputs": [
    {
     "name": "stderr",
     "output_type": "stream",
     "text": [
      "                                                                                \r"
     ]
    }
   ],
   "source": [
    "infraestructura_df_seleccionado.write.csv(\"etl_data/contratos_infraesructura_df.csv\", mode=\"overwrite\", header=True)"
   ]
  },
  {
   "cell_type": "code",
   "execution_count": 18,
   "metadata": {},
   "outputs": [
    {
     "name": "stderr",
     "output_type": "stream",
     "text": [
      "[Stage 88:>                                                         (0 + 4) / 4]\r"
     ]
    },
    {
     "name": "stdout",
     "output_type": "stream",
     "text": [
      "+--------------+------------------------+-------------+-------------------------+-----------------------------+-----------------+-------------------+------------------+-----------------+------------+----------+---------------------------+\n",
      "|ID_CONTRATISTA|RAZON_SOCIAL_CONTRATISTA|num_contratos|suma_valor_total_contrato|promedio_valor_total_contrato|num_departamentos|num_estados_proceso|num_clases_proceso|num_tipos_proceso|num_familias|num_clases|meses_desde_ultimo_contrato|\n",
      "+--------------+------------------------+-------------+-------------------------+-----------------------------+-----------------+-------------------+------------------+-----------------+------------+----------+---------------------------+\n",
      "|     900062917|    SERVICIOS POSTALE...|          224|              68312474900|          3.049664058035714E8|               30|                  4|                 3|                4|          21|        21|                         18|\n",
      "|     900846370|    CONTROL SERVICES ...|          183|               2648525142|         1.4472814983606558E7|               29|                  6|                 1|                5|          16|        16|                         18|\n",
      "|     899999063|    UNIVERSIDAD NACIO...|          174|             116361133027|          6.687421438333334E8|               14|                  3|                 3|                5|          22|        22|                         18|\n",
      "|     860002400|    LA PREVISORA SA C...|          173|              45941356523|         2.6555697412138727E8|               28|                  5|                 6|                7|          21|        21|                         18|\n",
      "|     860012336|    INSTITUTO COLOMBI...|          165|               9109554507|          5.520942125454546E7|               21|                  5|                 5|                5|          23|        23|                         18|\n",
      "|     890980040|    UNIVERSIDAD DE AN...|          156|             273561230461|         1.7535976311602564E9|                7|                  4|                 4|                6|          16|        16|                         18|\n",
      "|     860524654|    ASEGURADORA SOLID...|          143|              40605348116|         2.8395348332867134E8|               22|                  5|                 4|                6|          19|        19|                         18|\n",
      "|     901406206|    CRR SOLUCIONES IN...|          122|                897117152|            7353419.278688525|               27|                  4|                 1|                5|          16|        16|                         18|\n",
      "|     830001113|    IMPRENTA NACIONAL...|          112|              32762148041|             2.925191789375E8|                7|                  4|                 2|                5|          23|        23|                         19|\n",
      "|     860066942|    CAJA DE COMPENSAC...|          104|             138495146906|         1.3316841048653846E9|                3|                  3|                 4|                5|          20|        20|                         18|\n",
      "|     899999115|    EMPRESA DE TELECO...|           91|             174153075151|         1.9137700566043956E9|               11|                  3|                 2|                2|          13|        13|                         19|\n",
      "|      80747896|    ZAMORA JIMENEZ LE...|           86|                494884031|            5754465.476744186|               18|                  3|                 1|                2|           5|         5|                         18|\n",
      "|     900204272|    GESTION DE SEGURI...|           71|               1416858885|         1.9955758943661973E7|                9|                  4|                 4|                4|          22|        22|                         18|\n",
      "|     860005068|    CONGREGACION DE R...|           67|              27111957051|          4.046560753880597E8|                6|                  3|                 3|                5|           6|         6|                         19|\n",
      "|     860063869|     FOX TELECOLOMBIA SA|           66|                        0|                          0.0|                1|                  3|                 1|                1|           1|         1|                         19|\n",
      "|     804003744|    CENTRAL DE SUMINI...|           66|                372244992|            5640075.636363637|               18|                  5|                 1|                3|           7|         7|                         18|\n",
      "|     860007538|    FEDERACION NACION...|           64|              54214990732|             8.471092301875E8|               11|                  3|                 2|                6|          10|        10|                         18|\n",
      "|      59706955|       DEICY BRAVO JOJOA|           62|               8928174217|          1.440028099516129E8|               15|                  3|                 4|                4|           9|         9|                         18|\n",
      "|      17068260|    RAFAEL ANTONIO SA...|           57|              15388836737|           2.69979591877193E8|                2|                  3|                 3|                3|           2|         2|                         19|\n",
      "|     890309152|          IMPRETICS EICE|           53|              65233533906|           1.23082139445283E9|                6|                  3|                 1|                4|          11|        11|                         19|\n",
      "+--------------+------------------------+-------------+-------------------------+-----------------------------+-----------------+-------------------+------------------+-----------------+------------+----------+---------------------------+\n",
      "only showing top 20 rows\n",
      "\n"
     ]
    },
    {
     "name": "stderr",
     "output_type": "stream",
     "text": [
      "                                                                                \r"
     ]
    }
   ],
   "source": [
    "infraestructura_df_agregado = pyspark_etl_functions.agregar_por_id_contratista(infraestructura_df_seleccionado)\n",
    "infraestructura_df_agregado.show()\n"
   ]
  },
  {
   "cell_type": "code",
   "execution_count": 19,
   "metadata": {},
   "outputs": [
    {
     "name": "stderr",
     "output_type": "stream",
     "text": [
      "[Stage 94:>                                                         (0 + 4) / 5]\r"
     ]
    },
    {
     "name": "stdout",
     "output_type": "stream",
     "text": [
      "23/04/21 09:53:37 WARN RowBasedKeyValueBatch: Calling spill() on RowBasedKeyValueBatch. Will not spill but return 0.\n",
      "23/04/21 09:53:37 WARN RowBasedKeyValueBatch: Calling spill() on RowBasedKeyValueBatch. Will not spill but return 0.\n",
      "23/04/21 09:53:37 WARN RowBasedKeyValueBatch: Calling spill() on RowBasedKeyValueBatch. Will not spill but return 0.\n",
      "23/04/21 09:53:37 WARN RowBasedKeyValueBatch: Calling spill() on RowBasedKeyValueBatch. Will not spill but return 0.\n",
      "23/04/21 09:53:38 WARN RowBasedKeyValueBatch: Calling spill() on RowBasedKeyValueBatch. Will not spill but return 0.\n",
      "23/04/21 09:53:38 WARN RowBasedKeyValueBatch: Calling spill() on RowBasedKeyValueBatch. Will not spill but return 0.\n",
      "23/04/21 09:53:38 WARN RowBasedKeyValueBatch: Calling spill() on RowBasedKeyValueBatch. Will not spill but return 0.\n",
      "23/04/21 09:53:38 WARN RowBasedKeyValueBatch: Calling spill() on RowBasedKeyValueBatch. Will not spill but return 0.\n"
     ]
    },
    {
     "name": "stderr",
     "output_type": "stream",
     "text": [
      "[Stage 97:>                                                         (0 + 4) / 4]\r"
     ]
    },
    {
     "name": "stdout",
     "output_type": "stream",
     "text": [
      "+--------------+------------------------+---------+------+------+-------+-----------+--------+----+--------+--------+-----+-------+---------+-------+-----+---------------------------------------+------+------+---------------+------------+----------+------+------+------------------+------+-----+-----+---------+-------+---------+--------+---------+-------+-------+-----+\n",
      "|ID_CONTRATISTA|RAZON_SOCIAL_CONTRATISTA|SANTANDER|VAUPES|NARIÑO|CAQUETA|NO DEFINIDO|CASANARE|META|AMAZONAS|GUAVIARE|CAUCA|VICHADA|ANTIOQUIA|QUINDIO|CHOCO|SAN ANDRES PROVIDENCIA Y SANTA CATALINA|CALDAS|BOYACA|VALLE DEL CAUCA|CUNDINAMARCA|LA GUAJIRA|TOLIMA|ARAUCA|NORTE DE SANTANDER|BOGOTA|HUILA|SUCRE|ATLANTICO|BOLIVAR|RISARALDA|PUTUMAYO|MAGDALENA|GUAINIA|CORDOBA|CESAR|\n",
      "+--------------+------------------------+---------+------+------+-------+-----------+--------+----+--------+--------+-----+-------+---------+-------+-----+---------------------------------------+------+------+---------------+------------+----------+------+------+------------------+------+-----+-----+---------+-------+---------+--------+---------+-------+-------+-----+\n",
      "|     901091518|           DOTACTUAL SAS|        0|     0|     0|      0|          0|       0|   0|       0|       0|    0|      0|        0|      0|    0|                                      0|     0|     0|              0|           0|         0|     0|     0|                 0|     2|    0|    0|        0|      0|        0|       0|        1|      0|      0|    0|\n",
      "|      52862169|    CAROLINA RAMIREZ ...|        0|     0|     0|      0|          0|       0|   0|       0|       0|    0|      0|        0|      0|    0|                                      0|     0|     0|              0|           0|         0|     0|     0|                 0|     1|    0|    0|        0|      0|        0|       0|        0|      0|      0|    0|\n",
      "|      66843652|    FRANCY YANETH AGU...|        0|     0|     0|      0|          0|       0|   0|       0|       0|    0|      0|        0|      0|    0|                                      0|     0|     0|              2|           0|         0|     0|     0|                 0|     0|    0|    0|        0|      0|        0|       0|        0|      0|      0|    0|\n",
      "|      53106325|    DIANA MARCELA CAB...|        0|     0|     0|      0|          0|       0|   0|       0|       0|    0|      0|        0|      0|    0|                                      0|     0|     0|              0|           0|         0|     0|     0|                 0|     1|    0|    0|        0|      0|        0|       0|        0|      0|      0|    0|\n",
      "|    1007668912|    JEIMY ALEXANDRA A...|        0|     0|     0|      0|          0|       0|   0|       0|       0|    0|      0|        0|      0|    0|                                      0|     0|     0|              0|           0|         0|     0|     0|                 0|     1|    0|    0|        0|      0|        0|       0|        0|      0|      0|    0|\n",
      "|    1077424721|    LADYS CHAVERRA SALAS|        0|     0|     0|      0|          0|       0|   0|       0|       0|    0|      0|        2|      0|    0|                                      0|     0|     0|              0|           0|         0|     0|     0|                 0|     0|    0|    0|        0|      0|        0|       0|        0|      0|      0|    0|\n",
      "|    1014237267|    DAVID FELIPE RIAÑ...|        0|     0|     0|      0|          0|       0|   0|       0|       0|    0|      0|        1|      0|    0|                                      0|     0|     0|              0|           0|         0|     0|     0|                 0|     0|    0|    0|        0|      0|        0|       0|        0|      0|      0|    0|\n",
      "|    1032493998|    SHARIK ALEJANDRA ...|        0|     0|     0|      0|          0|       0|   0|       0|       0|    0|      0|        0|      0|    0|                                      0|     0|     0|              0|           0|         0|     0|     0|                 0|     1|    0|    0|        0|      0|        0|       0|        0|      0|      0|    0|\n",
      "|      41930387|    LUZ STELLA ECHEVE...|        0|     0|     0|      0|          0|       0|   0|       0|       0|    0|      0|        0|      0|    0|                                      0|     2|     0|              0|           0|         0|     0|     0|                 0|     0|    0|    0|        0|      0|        0|       0|        0|      0|      0|    0|\n",
      "|     900696969|    FUNDACION PARA EL...|        0|     0|     0|      0|          0|       0|   0|       0|       0|    0|      4|        0|      0|    0|                                      0|     0|     0|              0|           0|         0|     0|     0|                 0|     1|    0|    0|        1|      0|        0|       0|        0|      0|      0|    0|\n",
      "|      71383858|    JUAN GUILLERMO JA...|        0|     0|     0|      0|          0|       0|   0|       0|       0|    0|      0|        1|      0|    0|                                      0|     0|     0|              0|           0|         0|     0|     0|                 0|     0|    0|    0|        0|      0|        0|       0|        0|      0|      0|    0|\n",
      "|     900711197|    BANDERAS DE LUJO SAS|        0|     0|     0|      0|          0|       0|   0|       0|       0|    0|      0|        0|      0|    0|                                      0|     0|     0|              1|           0|         0|     0|     0|                 0|     5|    0|    1|        1|      2|        0|       1|        0|      0|      0|    0|\n",
      "|     805000867|           CORRREAGRO SA|        1|     0|     0|      0|          1|       0|   0|       0|       0|    0|      0|        0|      2|    0|                                      0|     0|     0|              2|           0|         0|     0|     0|                 0|    16|    3|    2|        0|      0|        0|       0|        0|      0|      0|    0|\n",
      "|    1049617547|    WILMER YESID LEGU...|        0|     0|     0|      0|          0|       0|   0|       0|       0|    0|      0|        0|      0|    0|                                      0|     0|     1|              0|           0|         0|     0|     0|                 0|     0|    0|    0|        0|      0|        0|       0|        0|      0|      0|    0|\n",
      "|      80820912|    HECTOR STIVEN HER...|        0|     0|     0|      0|          0|       0|   0|       0|       0|    0|      0|        0|      0|    0|                                      0|     0|     0|              0|           0|         0|     0|     0|                 0|     1|    0|    0|        0|      0|        0|       0|        0|      0|      0|    0|\n",
      "|      67032374|    NAYIBE GUTIERREZ ...|        0|     0|     0|      0|          0|       0|   0|       0|       0|    0|      0|        0|      0|    0|                                      0|     0|     0|              1|           0|         0|     0|     0|                 0|     0|    0|    0|        0|      0|        0|       0|        0|      0|      0|    0|\n",
      "|    1120559374|      ANDREA ROZO VARGAS|        0|     0|     0|      0|          0|       0|   0|       0|       0|    0|      0|        0|      0|    0|                                      0|     0|     0|              0|           0|         0|     0|     0|                 0|     1|    0|    0|        0|      0|        0|       0|        0|      0|      0|    0|\n",
      "|      43866901|    SANDRA MARCELA CA...|        0|     0|     0|      0|          0|       0|   0|       0|       0|    0|      0|        1|      0|    0|                                      0|     0|     0|              0|           0|         0|     0|     0|                 0|     0|    0|    0|        0|      0|        0|       0|        0|      0|      0|    0|\n",
      "|      72098331|    ELIAS JAVIER RODR...|        0|     0|     0|      0|          0|       0|   0|       0|       0|    0|      0|        0|      0|    0|                                      0|     0|     0|              0|           0|         0|     0|     0|                 0|     0|    0|    0|        2|      0|        0|       0|        0|      0|      0|    0|\n",
      "|      16355206|    CARLOS ENRIQUE PE...|        0|     0|     0|      0|          0|       0|   0|       0|       0|    0|      0|        0|      0|    0|                                      0|     0|     0|              3|           0|         0|     0|     0|                 0|     0|    0|    0|        0|      0|        0|       0|        0|      0|      0|    0|\n",
      "+--------------+------------------------+---------+------+------+-------+-----------+--------+----+--------+--------+-----+-------+---------+-------+-----+---------------------------------------+------+------+---------------+------------+----------+------+------+------------------+------+-----+-----+---------+-------+---------+--------+---------+-------+-------+-----+\n",
      "only showing top 20 rows\n",
      "\n"
     ]
    },
    {
     "name": "stderr",
     "output_type": "stream",
     "text": [
      "                                                                                \r"
     ]
    }
   ],
   "source": [
    "infraestructura_df_pivotado = pyspark_etl_functions.pivotar_por_columna(infraestructura_df_seleccionado, \"DEPARTAMENTO\")\n",
    "infraestructura_df_pivotado.show()\n"
   ]
  },
  {
   "cell_type": "code",
   "execution_count": 20,
   "metadata": {},
   "outputs": [
    {
     "name": "stderr",
     "output_type": "stream",
     "text": [
      "[Stage 105:=============>   (4 + 1) / 5][Stage 107:>                (0 + 3) / 5]\r"
     ]
    },
    {
     "name": "stdout",
     "output_type": "stream",
     "text": [
      "23/04/21 09:54:04 WARN RowBasedKeyValueBatch: Calling spill() on RowBasedKeyValueBatch. Will not spill but return 0.\n",
      "23/04/21 09:54:04 WARN RowBasedKeyValueBatch: Calling spill() on RowBasedKeyValueBatch. Will not spill but return 0.\n",
      "23/04/21 09:54:05 WARN RowBasedKeyValueBatch: Calling spill() on RowBasedKeyValueBatch. Will not spill but return 0.\n",
      "23/04/21 09:54:05 WARN RowBasedKeyValueBatch: Calling spill() on RowBasedKeyValueBatch. Will not spill but return 0.\n",
      "23/04/21 09:54:05 WARN RowBasedKeyValueBatch: Calling spill() on RowBasedKeyValueBatch. Will not spill but return 0.\n",
      "23/04/21 09:54:05 WARN RowBasedKeyValueBatch: Calling spill() on RowBasedKeyValueBatch. Will not spill but return 0.\n"
     ]
    },
    {
     "name": "stderr",
     "output_type": "stream",
     "text": [
      "[Stage 107:>                (0 + 4) / 5][Stage 110:>                (0 + 0) / 5]\r"
     ]
    },
    {
     "name": "stdout",
     "output_type": "stream",
     "text": [
      "23/04/21 09:54:05 WARN RowBasedKeyValueBatch: Calling spill() on RowBasedKeyValueBatch. Will not spill but return 0.\n",
      "23/04/21 09:54:05 WARN RowBasedKeyValueBatch: Calling spill() on RowBasedKeyValueBatch. Will not spill but return 0.\n"
     ]
    },
    {
     "name": "stderr",
     "output_type": "stream",
     "text": [
      "[Stage 117:==============>                                          (1 + 3) / 4]\r"
     ]
    },
    {
     "name": "stdout",
     "output_type": "stream",
     "text": [
      "+--------------+------------------------+-------------+-------------------------+-----------------------------+-----------------+-------------------+------------------+-----------------+------------+----------+---------------------------+---------+------+------+-------+-----------+--------+----+--------+--------+-----+-------+---------+-------+-----+---------------------------------------+------+------+---------------+------------+----------+------+------+------------------+------+-----+-----+---------+-------+---------+--------+---------+-------+-------+-----+\n",
      "|ID_CONTRATISTA|RAZON_SOCIAL_CONTRATISTA|num_contratos|suma_valor_total_contrato|promedio_valor_total_contrato|num_departamentos|num_estados_proceso|num_clases_proceso|num_tipos_proceso|num_familias|num_clases|meses_desde_ultimo_contrato|SANTANDER|VAUPES|NARIÑO|CAQUETA|NO DEFINIDO|CASANARE|META|AMAZONAS|GUAVIARE|CAUCA|VICHADA|ANTIOQUIA|QUINDIO|CHOCO|SAN ANDRES PROVIDENCIA Y SANTA CATALINA|CALDAS|BOYACA|VALLE DEL CAUCA|CUNDINAMARCA|LA GUAJIRA|TOLIMA|ARAUCA|NORTE DE SANTANDER|BOGOTA|HUILA|SUCRE|ATLANTICO|BOLIVAR|RISARALDA|PUTUMAYO|MAGDALENA|GUAINIA|CORDOBA|CESAR|\n",
      "+--------------+------------------------+-------------+-------------------------+-----------------------------+-----------------+-------------------+------------------+-----------------+------------+----------+---------------------------+---------+------+------+-------+-----------+--------+----+--------+--------+-----+-------+---------+-------+-----+---------------------------------------+------+------+---------------+------------+----------+------+------+------------------+------+-----+-----+---------+-------+---------+--------+---------+-------+-------+-----+\n",
      "|             0|    CONSORCIO ESPINAL...|            1|                331764967|                 3.31764967E8|                1|                  1|                 1|                1|           1|         1|                         22|        0|     0|     0|      0|          0|       0|   0|       0|       0|    0|      0|        0|      0|    0|                                      0|     0|     0|              0|           0|         0|     0|     0|                 0|     1|    0|    0|        0|      0|        0|       0|        0|      0|      0|    0|\n",
      "|             0|    CONSORCIO INTERVE...|            1|                475311103|                 4.75311103E8|                1|                  1|                 1|                1|           1|         1|                         19|        0|     0|     0|      0|          0|       0|   0|       0|       0|    0|      0|        0|      0|    0|                                      0|     0|     0|              0|           0|         0|     0|     0|                 0|     1|    0|    0|        0|      0|        0|       0|        0|      0|      0|    0|\n",
      "|             0|    UNION TEMPORAL EQ...|            2|                677510589|                3.387552945E8|                2|                  1|                 2|                1|           2|         2|                         22|        0|     0|     0|      0|          0|       0|   0|       0|       0|    0|      0|        0|      0|    0|                                      0|     0|     0|              0|           1|         0|     0|     0|                 0|     1|    0|    0|        0|      0|        0|       0|        0|      0|      0|    0|\n",
      "|             0|    UNION TEMPORAL IBICI|            1|                876230395|                 8.76230395E8|                1|                  1|                 1|                1|           1|         1|                         22|        0|     0|     0|      0|          0|       0|   0|       0|       0|    0|      0|        0|      0|    0|                                      0|     0|     0|              0|           0|         0|     1|     0|                 0|     0|    0|    0|        0|      0|        0|       0|        0|      0|      0|    0|\n",
      "|             0|    UNION TEMPORAL MI...|            1|               4581987318|                4.581987318E9|                1|                  1|                 1|                1|           1|         1|                         22|        0|     0|     0|      0|          0|       0|   0|       0|       0|    0|      0|        0|      0|    0|                                      0|     0|     0|              0|           0|         0|     0|     0|                 0|     1|    0|    0|        0|      0|        0|       0|        0|      0|      0|    0|\n",
      "|           123|    UNION TEMPORAL EL...|            1|                 30000000|                        3.0E7|                1|                  1|                 1|                1|           1|         1|                         23|        0|     0|     0|      0|          0|       0|   0|       0|       0|    0|      0|        0|      0|    0|                                      0|     0|     0|              0|           0|         0|     0|     1|                 0|     0|    0|    0|        0|      0|        0|       0|        0|      0|      0|    0|\n",
      "|          6771|    CONSORCIO RINCONL...|            1|                480476173|                 4.80476173E8|                1|                  1|                 1|                1|           1|         1|                         20|        0|     0|     0|      0|          0|       0|   0|       0|       0|    0|      0|        0|      0|    0|                                      0|     0|     0|              0|           0|         0|     0|     0|                 0|     1|    0|    0|        0|      0|        0|       0|        0|      0|      0|    0|\n",
      "|         20211|      CONSORCIO TEMPORAL|            1|               2848163781|                2.848163781E9|                1|                  1|                 1|                1|           1|         1|                         20|        0|     0|     0|      0|          0|       0|   0|       0|       0|    0|      0|        0|      0|    0|                                      0|     0|     0|              0|           0|         0|     0|     0|                 0|     1|    0|    0|        0|      0|        0|       0|        0|      0|      0|    0|\n",
      "|         22222|    UT ACCESORIOS DE ...|            1|                468468040|                  4.6846804E8|                1|                  1|                 1|                1|           1|         1|                         20|        0|     0|     0|      0|          0|       0|   0|       0|       0|    0|      0|        0|      0|    0|                                      0|     0|     0|              0|           0|         0|     0|     0|                 0|     1|    0|    0|        0|      0|        0|       0|        0|      0|      0|    0|\n",
      "|         52733|           CLAUDIA GOMEZ|            1|                 75000000|                        7.5E7|                1|                  1|                 1|                1|           1|         1|                         26|        0|     0|     0|      0|          0|       0|   0|       0|       0|    0|      0|        0|      0|    0|                                      0|     0|     0|              0|           0|         0|     0|     0|                 0|     1|    0|    0|        0|      0|        0|       0|        0|      0|      0|    0|\n",
      "|         59078|                   A S R|            1|                 80948652|                  8.0948652E7|                1|                  1|                 1|                1|           1|         1|                         27|        0|     0|     0|      0|          0|       0|   0|       0|       0|    0|      0|        0|      0|    0|                                      0|     0|     0|              0|           0|         0|     0|     0|                 0|     1|    0|    0|        0|      0|        0|       0|        0|      0|      0|    0|\n",
      "|        112954|    LUIS ENRIQUE TUNT...|            1|                 11952000|                     1.1952E7|                1|                  1|                 1|                1|           1|         1|                         24|        0|     0|     0|      0|          0|       0|   0|       0|       0|    0|      0|        0|      0|    0|                                      0|     0|     0|              0|           0|         0|     0|     0|                 0|     1|    0|    0|        0|      0|        0|       0|        0|      0|      0|    0|\n",
      "|        120785|    JOSE MARIA CEPEDA...|            1|                 32844536|                  3.2844536E7|                1|                  1|                 1|                1|           1|         1|                         21|        0|     0|     0|      0|          0|       0|   0|       0|       0|    0|      0|        0|      0|    0|                                      0|     0|     0|              0|           0|         0|     0|     0|                 0|     1|    0|    0|        0|      0|        0|       0|        0|      0|      0|    0|\n",
      "|        122560|    WALBERTO SEGUNDO ...|            1|                 96000000|                        9.6E7|                1|                  1|                 1|                1|           1|         1|                         25|        0|     0|     0|      0|          0|       0|   0|       0|       0|    0|      0|        0|      0|    0|                                      0|     0|     0|              1|           0|         0|     0|     0|                 0|     0|    0|    0|        0|      0|        0|       0|        0|      0|      0|    0|\n",
      "|        164100|    JOSE FRANCISCO MA...|            2|                 15275000|                    7637500.0|                1|                  1|                 1|                1|           1|         1|                         21|        0|     0|     0|      0|          0|       0|   0|       0|       0|    0|      0|        0|      0|    0|                                      0|     0|     0|              2|           0|         0|     0|     0|                 0|     0|    0|    0|        0|      0|        0|       0|        0|      0|      0|    0|\n",
      "|        172968|    MANUEL VICENTE HE...|            1|                 32300000|                       3.23E7|                1|                  1|                 1|                1|           1|         1|                         24|        0|     0|     0|      0|          0|       0|   0|       0|       0|    0|      0|        0|      0|    0|                                      0|     0|     0|              0|           0|         0|     0|     0|                 0|     1|    0|    0|        0|      0|        0|       0|        0|      0|      0|    0|\n",
      "|        192074|    RICARDO RAMIREZ R...|            1|                 24633000|                     2.4633E7|                1|                  1|                 1|                1|           1|         1|                         25|        0|     0|     0|      0|          0|       0|   0|       0|       0|    0|      0|        0|      0|    0|                                      0|     0|     0|              0|           1|         0|     0|     0|                 0|     0|    0|    0|        0|      0|        0|       0|        0|      0|      0|    0|\n",
      "|        193454|    JAIME HUMBERTO GO...|            2|                 79957800|                    3.99789E7|                1|                  1|                 1|                1|           1|         1|                         24|        0|     0|     0|      0|          0|       0|   0|       0|       0|    0|      0|        0|      0|    0|                                      0|     0|     0|              0|           0|         0|     0|     0|                 0|     2|    0|    0|        0|      0|        0|       0|        0|      0|      0|    0|\n",
      "|        195176|    OSCAR IVAN ORTEGO...|            1|                  5012000|                    5012000.0|                1|                  1|                 1|                1|           1|         1|                         23|        0|     0|     0|      0|          0|       0|   0|       0|       0|    0|      0|        0|      0|    0|                                      0|     0|     0|              0|           0|         0|     0|     0|                 0|     1|    0|    0|        0|      0|        0|       0|        0|      0|      0|    0|\n",
      "|        206762|    RODRIGO MOREIRA S...|            1|                100430000|                     1.0043E8|                1|                  1|                 1|                1|           1|         1|                         27|        0|     0|     0|      0|          0|       0|   0|       0|       0|    0|      0|        0|      0|    0|                                      0|     0|     0|              0|           0|         0|     0|     0|                 0|     1|    0|    0|        0|      0|        0|       0|        0|      0|      0|    0|\n",
      "+--------------+------------------------+-------------+-------------------------+-----------------------------+-----------------+-------------------+------------------+-----------------+------------+----------+---------------------------+---------+------+------+-------+-----------+--------+----+--------+--------+-----+-------+---------+-------+-----+---------------------------------------+------+------+---------------+------------+----------+------+------+------------------+------+-----+-----+---------+-------+---------+--------+---------+-------+-------+-----+\n",
      "only showing top 20 rows\n",
      "\n"
     ]
    },
    {
     "name": "stderr",
     "output_type": "stream",
     "text": [
      "                                                                                \r"
     ]
    }
   ],
   "source": [
    "infraestructura_df_agregado_y_pivotado = pyspark_etl_functions.unir_dataframes(infraestructura_df_agregado, infraestructura_df_pivotado)\n",
    "infraestructura_df_agregado_y_pivotado.show()\n"
   ]
  },
  {
   "cell_type": "code",
   "execution_count": 21,
   "metadata": {},
   "outputs": [
    {
     "name": "stderr",
     "output_type": "stream",
     "text": [
      "[Stage 131:>                                                        (0 + 4) / 5]\r"
     ]
    },
    {
     "name": "stdout",
     "output_type": "stream",
     "text": [
      "23/04/21 09:54:26 WARN RowBasedKeyValueBatch: Calling spill() on RowBasedKeyValueBatch. Will not spill but return 0.\n",
      "23/04/21 09:54:26 WARN RowBasedKeyValueBatch: Calling spill() on RowBasedKeyValueBatch. Will not spill but return 0.\n",
      "23/04/21 09:54:26 WARN RowBasedKeyValueBatch: Calling spill() on RowBasedKeyValueBatch. Will not spill but return 0.\n",
      "23/04/21 09:54:26 WARN RowBasedKeyValueBatch: Calling spill() on RowBasedKeyValueBatch. Will not spill but return 0.\n",
      "23/04/21 09:54:26 WARN RowBasedKeyValueBatch: Calling spill() on RowBasedKeyValueBatch. Will not spill but return 0.\n",
      "23/04/21 09:54:26 WARN RowBasedKeyValueBatch: Calling spill() on RowBasedKeyValueBatch. Will not spill but return 0.\n",
      "23/04/21 09:54:26 WARN RowBasedKeyValueBatch: Calling spill() on RowBasedKeyValueBatch. Will not spill but return 0.\n",
      "23/04/21 09:54:26 WARN RowBasedKeyValueBatch: Calling spill() on RowBasedKeyValueBatch. Will not spill but return 0.\n"
     ]
    },
    {
     "name": "stderr",
     "output_type": "stream",
     "text": [
      "[Stage 134:>                                                        (0 + 4) / 4]\r"
     ]
    },
    {
     "name": "stdout",
     "output_type": "stream",
     "text": [
      "+--------------+------------------------+---------+------+--------+------+----------+------------+-----------------+----------+-------+\n",
      "|ID_CONTRATISTA|RAZON_SOCIAL_CONTRATISTA|TERMINADO|ACTIVO|BORRADOR|CEDIDO|MODIFICADO|EN EJECUCION|ENVIADO PROVEEDOR|SUSPENDIDO|CERRADO|\n",
      "+--------------+------------------------+---------+------+--------+------+----------+------------+-----------------+----------+-------+\n",
      "|    1053604822|    EDISON IVAN ZAMBR...|        0|     0|       0|     0|         1|           0|                0|         0|      0|\n",
      "|     900636976|    FUNDACION ACCION ...|        0|     0|       0|     0|         0|           3|                0|         0|      0|\n",
      "|      80845274|    JULIAN EDUARDO RA...|        0|     0|       0|     0|         2|           0|                0|         0|      0|\n",
      "|    1024557785|     JAIME GARZON BERMEO|        0|     0|       0|     0|         0|           1|                0|         0|      0|\n",
      "|      73169695|    HECTOR MANUEL SIE...|        0|     0|       0|     0|         0|           2|                0|         0|      0|\n",
      "|      19479462|    LUIS ALBERTO GARA...|        0|     0|       0|     0|         1|           0|                0|         0|      0|\n",
      "|      79732447|    BORIS LEONARDO AL...|        0|     0|       0|     0|         0|           1|                0|         0|      0|\n",
      "|    1020415366|    JOHANA CORTES RES...|        0|     0|       0|     0|         0|           2|                0|         0|      0|\n",
      "|    1023950970|    LEIDY ESTEFANIA R...|        0|     0|       0|     0|         1|           0|                0|         0|      0|\n",
      "|      13175097|    OSNEIDER PEREZ TO...|        0|     0|       0|     0|         0|           1|                0|         0|      0|\n",
      "|    1102351790|    MARIA FERNANDA BA...|        0|     0|       0|     0|         0|           1|                0|         0|      0|\n",
      "|    1234092568|    ANDREA CAROLINA P...|        0|     2|       0|     0|         0|           1|                0|         0|      0|\n",
      "|      43974850|    SONIA DIANEIBY YE...|        0|     0|       0|     0|         0|           1|                0|         0|      0|\n",
      "|      52330647|    NEIDA YAMILE FARF...|        0|     0|       0|     0|         1|           1|                0|         0|      0|\n",
      "|    1094900057|    ANDRES FELIPE JAI...|        0|     0|       0|     1|         0|           0|                0|         0|      0|\n",
      "|    1030596475|    HERNAN CAMILO ROJ...|        0|     0|       0|     0|         0|           1|                0|         0|      0|\n",
      "|      80220812|    DARIO ANDRES ORTI...|        0|     0|       0|     0|         0|           1|                0|         0|      0|\n",
      "|     805000867|           CORRREAGRO SA|        2|     1|       0|     0|         6|          18|                0|         0|      0|\n",
      "|    1091653160|    LAURA KARINA CUAD...|        0|     0|       0|     0|         0|           1|                0|         0|      0|\n",
      "|      79388812|    FABIO RUBIANO MOLINA|        0|     0|       0|     0|         1|           0|                0|         0|      0|\n",
      "+--------------+------------------------+---------+------+--------+------+----------+------------+-----------------+----------+-------+\n",
      "only showing top 20 rows\n",
      "\n"
     ]
    },
    {
     "name": "stderr",
     "output_type": "stream",
     "text": [
      "                                                                                \r"
     ]
    }
   ],
   "source": [
    "infraestructura_df_pivotado = pyspark_etl_functions.pivotar_por_columna(infraestructura_df_seleccionado, \"ESTADO_DEL_PROCESO\")\n",
    "infraestructura_df_pivotado.show()"
   ]
  },
  {
   "cell_type": "code",
   "execution_count": 22,
   "metadata": {},
   "outputs": [
    {
     "name": "stderr",
     "output_type": "stream",
     "text": [
      "[Stage 142:=> (3 + 2) / 5][Stage 144:>  (0 + 2) / 5][Stage 145:>  (0 + 0) / 5]5]\r"
     ]
    },
    {
     "name": "stdout",
     "output_type": "stream",
     "text": [
      "23/04/21 09:54:49 WARN RowBasedKeyValueBatch: Calling spill() on RowBasedKeyValueBatch. Will not spill but return 0.\n",
      "23/04/21 09:54:49 WARN RowBasedKeyValueBatch: Calling spill() on RowBasedKeyValueBatch. Will not spill but return 0.\n",
      "23/04/21 09:54:49 WARN RowBasedKeyValueBatch: Calling spill() on RowBasedKeyValueBatch. Will not spill but return 0.\n",
      "23/04/21 09:54:49 WARN RowBasedKeyValueBatch: Calling spill() on RowBasedKeyValueBatch. Will not spill but return 0.\n"
     ]
    },
    {
     "name": "stderr",
     "output_type": "stream",
     "text": [
      "[Stage 144:>                (0 + 4) / 5][Stage 145:>                (0 + 0) / 5]\r"
     ]
    },
    {
     "name": "stdout",
     "output_type": "stream",
     "text": [
      "23/04/21 09:54:50 WARN RowBasedKeyValueBatch: Calling spill() on RowBasedKeyValueBatch. Will not spill but return 0.\n",
      "23/04/21 09:54:50 WARN RowBasedKeyValueBatch: Calling spill() on RowBasedKeyValueBatch. Will not spill but return 0.\n"
     ]
    },
    {
     "name": "stderr",
     "output_type": "stream",
     "text": [
      "[Stage 144:>  (0 + 4) / 5][Stage 145:>  (0 + 0) / 5][Stage 148:>  (0 + 0) / 5]\r"
     ]
    },
    {
     "name": "stdout",
     "output_type": "stream",
     "text": [
      "23/04/21 09:54:51 WARN RowBasedKeyValueBatch: Calling spill() on RowBasedKeyValueBatch. Will not spill but return 0.\n",
      "23/04/21 09:54:51 WARN RowBasedKeyValueBatch: Calling spill() on RowBasedKeyValueBatch. Will not spill but return 0.\n"
     ]
    },
    {
     "name": "stderr",
     "output_type": "stream",
     "text": [
      "[Stage 144:==>(4 + 1) / 5][Stage 145:>  (0 + 3) / 5][Stage 148:>  (0 + 0) / 5]\r"
     ]
    },
    {
     "name": "stdout",
     "output_type": "stream",
     "text": [
      "23/04/21 09:54:52 WARN RowBasedKeyValueBatch: Calling spill() on RowBasedKeyValueBatch. Will not spill but return 0.\n",
      "23/04/21 09:54:52 WARN RowBasedKeyValueBatch: Calling spill() on RowBasedKeyValueBatch. Will not spill but return 0.\n",
      "23/04/21 09:54:52 WARN RowBasedKeyValueBatch: Calling spill() on RowBasedKeyValueBatch. Will not spill but return 0.\n",
      "23/04/21 09:54:52 WARN RowBasedKeyValueBatch: Calling spill() on RowBasedKeyValueBatch. Will not spill but return 0.\n",
      "23/04/21 09:54:53 WARN RowBasedKeyValueBatch: Calling spill() on RowBasedKeyValueBatch. Will not spill but return 0.\n"
     ]
    },
    {
     "name": "stderr",
     "output_type": "stream",
     "text": [
      "[Stage 145:>                (0 + 4) / 5][Stage 148:>                (0 + 0) / 5]\r"
     ]
    },
    {
     "name": "stdout",
     "output_type": "stream",
     "text": [
      "23/04/21 09:54:53 WARN RowBasedKeyValueBatch: Calling spill() on RowBasedKeyValueBatch. Will not spill but return 0.\n",
      "23/04/21 09:54:53 WARN RowBasedKeyValueBatch: Calling spill() on RowBasedKeyValueBatch. Will not spill but return 0.\n"
     ]
    },
    {
     "name": "stderr",
     "output_type": "stream",
     "text": [
      "[Stage 158:==========================================>              (3 + 1) / 4]\r"
     ]
    },
    {
     "name": "stdout",
     "output_type": "stream",
     "text": [
      "+--------------+------------------------+-------------+-------------------------+-----------------------------+-----------------+-------------------+------------------+-----------------+------------+----------+---------------------------+---------+------+------+-------+-----------+--------+----+--------+--------+-----+-------+---------+-------+-----+---------------------------------------+------+------+---------------+------------+----------+------+------+------------------+------+-----+-----+---------+-------+---------+--------+---------+-------+-------+-----+---------+------+--------+------+----------+------------+-----------------+----------+-------+\n",
      "|ID_CONTRATISTA|RAZON_SOCIAL_CONTRATISTA|num_contratos|suma_valor_total_contrato|promedio_valor_total_contrato|num_departamentos|num_estados_proceso|num_clases_proceso|num_tipos_proceso|num_familias|num_clases|meses_desde_ultimo_contrato|SANTANDER|VAUPES|NARIÑO|CAQUETA|NO DEFINIDO|CASANARE|META|AMAZONAS|GUAVIARE|CAUCA|VICHADA|ANTIOQUIA|QUINDIO|CHOCO|SAN ANDRES PROVIDENCIA Y SANTA CATALINA|CALDAS|BOYACA|VALLE DEL CAUCA|CUNDINAMARCA|LA GUAJIRA|TOLIMA|ARAUCA|NORTE DE SANTANDER|BOGOTA|HUILA|SUCRE|ATLANTICO|BOLIVAR|RISARALDA|PUTUMAYO|MAGDALENA|GUAINIA|CORDOBA|CESAR|TERMINADO|ACTIVO|BORRADOR|CEDIDO|MODIFICADO|EN EJECUCION|ENVIADO PROVEEDOR|SUSPENDIDO|CERRADO|\n",
      "+--------------+------------------------+-------------+-------------------------+-----------------------------+-----------------+-------------------+------------------+-----------------+------------+----------+---------------------------+---------+------+------+-------+-----------+--------+----+--------+--------+-----+-------+---------+-------+-----+---------------------------------------+------+------+---------------+------------+----------+------+------+------------------+------+-----+-----+---------+-------+---------+--------+---------+-------+-------+-----+---------+------+--------+------+----------+------------+-----------------+----------+-------+\n",
      "|             0|    CONSORCIO ESPINAL...|            1|                331764967|                 3.31764967E8|                1|                  1|                 1|                1|           1|         1|                         22|        0|     0|     0|      0|          0|       0|   0|       0|       0|    0|      0|        0|      0|    0|                                      0|     0|     0|              0|           0|         0|     0|     0|                 0|     1|    0|    0|        0|      0|        0|       0|        0|      0|      0|    0|        0|     0|       0|     0|         0|           1|                0|         0|      0|\n",
      "|             0|    CONSORCIO INTERVE...|            1|                475311103|                 4.75311103E8|                1|                  1|                 1|                1|           1|         1|                         19|        0|     0|     0|      0|          0|       0|   0|       0|       0|    0|      0|        0|      0|    0|                                      0|     0|     0|              0|           0|         0|     0|     0|                 0|     1|    0|    0|        0|      0|        0|       0|        0|      0|      0|    0|        0|     1|       0|     0|         0|           0|                0|         0|      0|\n",
      "|             0|    UNION TEMPORAL EQ...|            2|                677510589|                3.387552945E8|                2|                  1|                 2|                1|           2|         2|                         22|        0|     0|     0|      0|          0|       0|   0|       0|       0|    0|      0|        0|      0|    0|                                      0|     0|     0|              0|           1|         0|     0|     0|                 0|     1|    0|    0|        0|      0|        0|       0|        0|      0|      0|    0|        0|     0|       0|     0|         2|           0|                0|         0|      0|\n",
      "|             0|    UNION TEMPORAL IBICI|            1|                876230395|                 8.76230395E8|                1|                  1|                 1|                1|           1|         1|                         22|        0|     0|     0|      0|          0|       0|   0|       0|       0|    0|      0|        0|      0|    0|                                      0|     0|     0|              0|           0|         0|     1|     0|                 0|     0|    0|    0|        0|      0|        0|       0|        0|      0|      0|    0|        0|     0|       0|     0|         0|           1|                0|         0|      0|\n",
      "|             0|    UNION TEMPORAL MI...|            1|               4581987318|                4.581987318E9|                1|                  1|                 1|                1|           1|         1|                         22|        0|     0|     0|      0|          0|       0|   0|       0|       0|    0|      0|        0|      0|    0|                                      0|     0|     0|              0|           0|         0|     0|     0|                 0|     1|    0|    0|        0|      0|        0|       0|        0|      0|      0|    0|        0|     0|       0|     0|         0|           0|                0|         1|      0|\n",
      "|           123|    UNION TEMPORAL EL...|            1|                 30000000|                        3.0E7|                1|                  1|                 1|                1|           1|         1|                         23|        0|     0|     0|      0|          0|       0|   0|       0|       0|    0|      0|        0|      0|    0|                                      0|     0|     0|              0|           0|         0|     0|     1|                 0|     0|    0|    0|        0|      0|        0|       0|        0|      0|      0|    0|        0|     0|       0|     0|         0|           0|                0|         0|      1|\n",
      "|          6771|    CONSORCIO RINCONL...|            1|                480476173|                 4.80476173E8|                1|                  1|                 1|                1|           1|         1|                         20|        0|     0|     0|      0|          0|       0|   0|       0|       0|    0|      0|        0|      0|    0|                                      0|     0|     0|              0|           0|         0|     0|     0|                 0|     1|    0|    0|        0|      0|        0|       0|        0|      0|      0|    0|        0|     0|       0|     0|         0|           1|                0|         0|      0|\n",
      "|         20211|      CONSORCIO TEMPORAL|            1|               2848163781|                2.848163781E9|                1|                  1|                 1|                1|           1|         1|                         20|        0|     0|     0|      0|          0|       0|   0|       0|       0|    0|      0|        0|      0|    0|                                      0|     0|     0|              0|           0|         0|     0|     0|                 0|     1|    0|    0|        0|      0|        0|       0|        0|      0|      0|    0|        0|     0|       0|     0|         0|           1|                0|         0|      0|\n",
      "|         22222|    UT ACCESORIOS DE ...|            1|                468468040|                  4.6846804E8|                1|                  1|                 1|                1|           1|         1|                         20|        0|     0|     0|      0|          0|       0|   0|       0|       0|    0|      0|        0|      0|    0|                                      0|     0|     0|              0|           0|         0|     0|     0|                 0|     1|    0|    0|        0|      0|        0|       0|        0|      0|      0|    0|        0|     1|       0|     0|         0|           0|                0|         0|      0|\n",
      "|         52733|           CLAUDIA GOMEZ|            1|                 75000000|                        7.5E7|                1|                  1|                 1|                1|           1|         1|                         26|        0|     0|     0|      0|          0|       0|   0|       0|       0|    0|      0|        0|      0|    0|                                      0|     0|     0|              0|           0|         0|     0|     0|                 0|     1|    0|    0|        0|      0|        0|       0|        0|      0|      0|    0|        1|     0|       0|     0|         0|           0|                0|         0|      0|\n",
      "|         59078|                   A S R|            1|                 80948652|                  8.0948652E7|                1|                  1|                 1|                1|           1|         1|                         27|        0|     0|     0|      0|          0|       0|   0|       0|       0|    0|      0|        0|      0|    0|                                      0|     0|     0|              0|           0|         0|     0|     0|                 0|     1|    0|    0|        0|      0|        0|       0|        0|      0|      0|    0|        0|     0|       0|     0|         0|           1|                0|         0|      0|\n",
      "|        112954|    LUIS ENRIQUE TUNT...|            1|                 11952000|                     1.1952E7|                1|                  1|                 1|                1|           1|         1|                         24|        0|     0|     0|      0|          0|       0|   0|       0|       0|    0|      0|        0|      0|    0|                                      0|     0|     0|              0|           0|         0|     0|     0|                 0|     1|    0|    0|        0|      0|        0|       0|        0|      0|      0|    0|        0|     0|       0|     0|         0|           1|                0|         0|      0|\n",
      "|        120785|    JOSE MARIA CEPEDA...|            1|                 32844536|                  3.2844536E7|                1|                  1|                 1|                1|           1|         1|                         21|        0|     0|     0|      0|          0|       0|   0|       0|       0|    0|      0|        0|      0|    0|                                      0|     0|     0|              0|           0|         0|     0|     0|                 0|     1|    0|    0|        0|      0|        0|       0|        0|      0|      0|    0|        0|     0|       0|     0|         0|           1|                0|         0|      0|\n",
      "|        122560|    WALBERTO SEGUNDO ...|            1|                 96000000|                        9.6E7|                1|                  1|                 1|                1|           1|         1|                         25|        0|     0|     0|      0|          0|       0|   0|       0|       0|    0|      0|        0|      0|    0|                                      0|     0|     0|              1|           0|         0|     0|     0|                 0|     0|    0|    0|        0|      0|        0|       0|        0|      0|      0|    0|        0|     0|       0|     0|         1|           0|                0|         0|      0|\n",
      "|        164100|    JOSE FRANCISCO MA...|            2|                 15275000|                    7637500.0|                1|                  1|                 1|                1|           1|         1|                         21|        0|     0|     0|      0|          0|       0|   0|       0|       0|    0|      0|        0|      0|    0|                                      0|     0|     0|              2|           0|         0|     0|     0|                 0|     0|    0|    0|        0|      0|        0|       0|        0|      0|      0|    0|        0|     0|       0|     0|         0|           2|                0|         0|      0|\n",
      "|        172968|    MANUEL VICENTE HE...|            1|                 32300000|                       3.23E7|                1|                  1|                 1|                1|           1|         1|                         24|        0|     0|     0|      0|          0|       0|   0|       0|       0|    0|      0|        0|      0|    0|                                      0|     0|     0|              0|           0|         0|     0|     0|                 0|     1|    0|    0|        0|      0|        0|       0|        0|      0|      0|    0|        0|     0|       0|     0|         0|           1|                0|         0|      0|\n",
      "|        192074|    RICARDO RAMIREZ R...|            1|                 24633000|                     2.4633E7|                1|                  1|                 1|                1|           1|         1|                         25|        0|     0|     0|      0|          0|       0|   0|       0|       0|    0|      0|        0|      0|    0|                                      0|     0|     0|              0|           1|         0|     0|     0|                 0|     0|    0|    0|        0|      0|        0|       0|        0|      0|      0|    0|        0|     0|       0|     0|         0|           1|                0|         0|      0|\n",
      "|        193454|    JAIME HUMBERTO GO...|            2|                 79957800|                    3.99789E7|                1|                  1|                 1|                1|           1|         1|                         24|        0|     0|     0|      0|          0|       0|   0|       0|       0|    0|      0|        0|      0|    0|                                      0|     0|     0|              0|           0|         0|     0|     0|                 0|     2|    0|    0|        0|      0|        0|       0|        0|      0|      0|    0|        0|     0|       0|     0|         0|           2|                0|         0|      0|\n",
      "|        195176|    OSCAR IVAN ORTEGO...|            1|                  5012000|                    5012000.0|                1|                  1|                 1|                1|           1|         1|                         23|        0|     0|     0|      0|          0|       0|   0|       0|       0|    0|      0|        0|      0|    0|                                      0|     0|     0|              0|           0|         0|     0|     0|                 0|     1|    0|    0|        0|      0|        0|       0|        0|      0|      0|    0|        0|     0|       0|     0|         0|           1|                0|         0|      0|\n",
      "|        206762|    RODRIGO MOREIRA S...|            1|                100430000|                     1.0043E8|                1|                  1|                 1|                1|           1|         1|                         27|        0|     0|     0|      0|          0|       0|   0|       0|       0|    0|      0|        0|      0|    0|                                      0|     0|     0|              0|           0|         0|     0|     0|                 0|     1|    0|    0|        0|      0|        0|       0|        0|      0|      0|    0|        0|     0|       0|     0|         0|           1|                0|         0|      0|\n",
      "+--------------+------------------------+-------------+-------------------------+-----------------------------+-----------------+-------------------+------------------+-----------------+------------+----------+---------------------------+---------+------+------+-------+-----------+--------+----+--------+--------+-----+-------+---------+-------+-----+---------------------------------------+------+------+---------------+------------+----------+------+------+------------------+------+-----+-----+---------+-------+---------+--------+---------+-------+-------+-----+---------+------+--------+------+----------+------------+-----------------+----------+-------+\n",
      "only showing top 20 rows\n",
      "\n"
     ]
    },
    {
     "name": "stderr",
     "output_type": "stream",
     "text": [
      "                                                                                \r"
     ]
    }
   ],
   "source": [
    "infraestructura_df_agregado_y_pivotado = pyspark_etl_functions.unir_dataframes(infraestructura_df_agregado_y_pivotado, infraestructura_df_pivotado)\n",
    "infraestructura_df_agregado_y_pivotado.show()"
   ]
  },
  {
   "cell_type": "code",
   "execution_count": 23,
   "metadata": {},
   "outputs": [
    {
     "name": "stderr",
     "output_type": "stream",
     "text": [
      "[Stage 175:>                                                        (0 + 4) / 5]\r"
     ]
    },
    {
     "name": "stdout",
     "output_type": "stream",
     "text": [
      "23/04/21 09:55:14 WARN RowBasedKeyValueBatch: Calling spill() on RowBasedKeyValueBatch. Will not spill but return 0.\n",
      "23/04/21 09:55:14 WARN RowBasedKeyValueBatch: Calling spill() on RowBasedKeyValueBatch. Will not spill but return 0.\n",
      "23/04/21 09:55:14 WARN RowBasedKeyValueBatch: Calling spill() on RowBasedKeyValueBatch. Will not spill but return 0.\n",
      "23/04/21 09:55:14 WARN RowBasedKeyValueBatch: Calling spill() on RowBasedKeyValueBatch. Will not spill but return 0.\n",
      "23/04/21 09:55:14 WARN RowBasedKeyValueBatch: Calling spill() on RowBasedKeyValueBatch. Will not spill but return 0.\n",
      "23/04/21 09:55:14 WARN RowBasedKeyValueBatch: Calling spill() on RowBasedKeyValueBatch. Will not spill but return 0.\n",
      "23/04/21 09:55:14 WARN RowBasedKeyValueBatch: Calling spill() on RowBasedKeyValueBatch. Will not spill but return 0.\n",
      "23/04/21 09:55:14 WARN RowBasedKeyValueBatch: Calling spill() on RowBasedKeyValueBatch. Will not spill but return 0.\n"
     ]
    },
    {
     "name": "stderr",
     "output_type": "stream",
     "text": [
      "[Stage 175:======================>                                  (2 + 3) / 5]\r"
     ]
    },
    {
     "name": "stdout",
     "output_type": "stream",
     "text": [
      "+--------------+------------------------+--------------------+----+-------------------+---------------------------+-----------------------+-------+------------------+----------------+------------------------------------+\n",
      "|ID_CONTRATISTA|RAZON_SOCIAL_CONTRATISTA|CONTRATACION DIRECTA|null|CONCURSO DE MERITOS|CONTRATACION MINIMA CUANTIA|LICITACION OBRA PUBLICA|SUBASTA|LICITACION PUBLICA|REGIMEN ESPECIAL|SELECCION ABREVIADA DE MENOR CUANTIA|\n",
      "+--------------+------------------------+--------------------+----+-------------------+---------------------------+-----------------------+-------+------------------+----------------+------------------------------------+\n",
      "|      79635223|    RICARDO EDUARDO R...|                   1|   0|                  0|                          0|                      0|      0|                 0|               0|                                   0|\n",
      "|     900489875|          PROMOMARKA SAS|                   0|   4|                  0|                          0|                      0|      0|                 0|               0|                                   0|\n",
      "|    8160033791|    EMPRESAS PUBLICAS...|                   0|   1|                  0|                          0|                      0|      0|                 0|               0|                                   0|\n",
      "|     830505154|    ASOCIACION DE INT...|                   0|   2|                  0|                          0|                      0|      0|                 0|               0|                                   0|\n",
      "|     805027890|           SMART TMT SAS|                   5|   2|                  0|                          0|                      0|      0|                 0|               0|                                   0|\n",
      "|     860028093|    CORPORACION DE AB...|                   0|   2|                  0|                          0|                      0|      0|                 0|               0|                                   0|\n",
      "|    8600251956|    CIRCULO DE SUB OF...|                   0|   1|                  0|                          0|                      0|      0|                 0|               0|                                   0|\n",
      "|     860534810|    AMERICAN FARMAGRU...|                   0|   1|                  0|                          0|                      0|      0|                 0|               0|                                   0|\n",
      "|    1101691955|    JENNY PAOLA SANCH...|                   1|   0|                  0|                          0|                      0|      0|                 0|               0|                                   0|\n",
      "|    1030598973|    ERIKA ALEXANDRA A...|                   0|   0|                  0|                          0|                      0|      0|                 0|               1|                                   0|\n",
      "|     900194910|     DRAEGER COLOMBIA SA|                   1|   6|                  0|                          4|                      1|      1|                 0|               2|                                   2|\n",
      "|     900493018|        DIPROMEDICOS SAS|                   0|   3|                  0|                          0|                      0|      0|                 0|               1|                                   0|\n",
      "|     900711197|    BANDERAS DE LUJO SAS|                   0|   0|                  0|                         10|                      0|      1|                 0|               0|                                   0|\n",
      "|      52068517|    MARITZA ELENA ROD...|                   1|   0|                  0|                          0|                      0|      0|                 0|               0|                                   0|\n",
      "|     805000867|           CORRREAGRO SA|                   3|   0|                  0|                          0|                      0|      0|                 0|              24|                                   0|\n",
      "|    1075269777|    CRISTIAN CAMILO C...|                   2|   0|                  0|                          0|                      0|      0|                 0|               0|                                   0|\n",
      "|    1116232507|    ADRIAN ROJAS BOLAÑOS|                   1|   0|                  0|                          0|                      0|      0|                 0|               0|                                   0|\n",
      "|    1004911280|    JOSMAN JAVIER DEL...|                   2|   0|                  0|                          0|                      0|      0|                 0|               0|                                   0|\n",
      "|      34538453|    MARIA JANNETHE GA...|                   2|   0|                  0|                          0|                      0|      0|                 0|               0|                                   0|\n",
      "|    1110513415|    BERTHA ROSMERY LO...|                   1|   0|                  0|                          0|                      0|      0|                 0|               0|                                   0|\n",
      "+--------------+------------------------+--------------------+----+-------------------+---------------------------+-----------------------+-------+------------------+----------------+------------------------------------+\n",
      "only showing top 20 rows\n",
      "\n"
     ]
    },
    {
     "name": "stderr",
     "output_type": "stream",
     "text": [
      "                                                                                \r"
     ]
    }
   ],
   "source": [
    "infraestructura_df_pivotado = pyspark_etl_functions.pivotar_por_columna(infraestructura_df_seleccionado, \"CLASE_PROCESO\")\n",
    "infraestructura_df_pivotado.show()"
   ]
  },
  {
   "cell_type": "code",
   "execution_count": 24,
   "metadata": {},
   "outputs": [
    {
     "name": "stderr",
     "output_type": "stream",
     "text": [
      "[Stage 186:==>(4 + 1) / 5][Stage 188:>  (0 + 3) / 5][Stage 189:>  (0 + 0) / 5]5]\r"
     ]
    },
    {
     "name": "stdout",
     "output_type": "stream",
     "text": [
      "23/04/21 09:55:37 WARN RowBasedKeyValueBatch: Calling spill() on RowBasedKeyValueBatch. Will not spill but return 0.\n",
      "23/04/21 09:55:37 WARN RowBasedKeyValueBatch: Calling spill() on RowBasedKeyValueBatch. Will not spill but return 0.\n",
      "23/04/21 09:55:37 WARN RowBasedKeyValueBatch: Calling spill() on RowBasedKeyValueBatch. Will not spill but return 0.\n",
      "23/04/21 09:55:38 WARN RowBasedKeyValueBatch: Calling spill() on RowBasedKeyValueBatch. Will not spill but return 0.\n",
      "23/04/21 09:55:38 WARN RowBasedKeyValueBatch: Calling spill() on RowBasedKeyValueBatch. Will not spill but return 0.\n"
     ]
    },
    {
     "name": "stderr",
     "output_type": "stream",
     "text": [
      "[Stage 188:>  (0 + 4) / 5][Stage 189:>  (0 + 0) / 5][Stage 190:>  (0 + 0) / 5]\r"
     ]
    },
    {
     "name": "stdout",
     "output_type": "stream",
     "text": [
      "23/04/21 09:55:38 WARN RowBasedKeyValueBatch: Calling spill() on RowBasedKeyValueBatch. Will not spill but return 0.\n",
      "23/04/21 09:55:38 WARN RowBasedKeyValueBatch: Calling spill() on RowBasedKeyValueBatch. Will not spill but return 0.\n",
      "23/04/21 09:55:38 WARN RowBasedKeyValueBatch: Calling spill() on RowBasedKeyValueBatch. Will not spill but return 0.\n",
      "23/04/21 09:55:38 WARN RowBasedKeyValueBatch: Calling spill() on RowBasedKeyValueBatch. Will not spill but return 0.\n"
     ]
    },
    {
     "name": "stderr",
     "output_type": "stream",
     "text": [
      "[Stage 188:==>(4 + 1) / 5][Stage 189:>  (0 + 3) / 5][Stage 190:>  (0 + 0) / 5]\r"
     ]
    },
    {
     "name": "stdout",
     "output_type": "stream",
     "text": [
      "23/04/21 09:55:40 WARN RowBasedKeyValueBatch: Calling spill() on RowBasedKeyValueBatch. Will not spill but return 0.\n",
      "23/04/21 09:55:40 WARN RowBasedKeyValueBatch: Calling spill() on RowBasedKeyValueBatch. Will not spill but return 0.\n",
      "23/04/21 09:55:40 WARN RowBasedKeyValueBatch: Calling spill() on RowBasedKeyValueBatch. Will not spill but return 0.\n",
      "23/04/21 09:55:40 WARN RowBasedKeyValueBatch: Calling spill() on RowBasedKeyValueBatch. Will not spill but return 0.\n"
     ]
    },
    {
     "name": "stderr",
     "output_type": "stream",
     "text": [
      "[Stage 189:>  (0 + 4) / 5][Stage 190:>  (0 + 0) / 5][Stage 193:>  (0 + 0) / 5]\r"
     ]
    },
    {
     "name": "stdout",
     "output_type": "stream",
     "text": [
      "23/04/21 09:55:41 WARN RowBasedKeyValueBatch: Calling spill() on RowBasedKeyValueBatch. Will not spill but return 0.\n",
      "23/04/21 09:55:41 WARN RowBasedKeyValueBatch: Calling spill() on RowBasedKeyValueBatch. Will not spill but return 0.\n",
      "23/04/21 09:55:41 WARN RowBasedKeyValueBatch: Calling spill() on RowBasedKeyValueBatch. Will not spill but return 0.\n",
      "23/04/21 09:55:41 WARN RowBasedKeyValueBatch: Calling spill() on RowBasedKeyValueBatch. Will not spill but return 0.\n"
     ]
    },
    {
     "name": "stderr",
     "output_type": "stream",
     "text": [
      "[Stage 190:>  (0 + 4) / 5][Stage 193:>  (0 + 0) / 5][Stage 195:>  (0 + 0) / 4]\r"
     ]
    },
    {
     "name": "stdout",
     "output_type": "stream",
     "text": [
      "23/04/21 09:55:43 WARN RowBasedKeyValueBatch: Calling spill() on RowBasedKeyValueBatch. Will not spill but return 0.\n",
      "23/04/21 09:55:43 WARN RowBasedKeyValueBatch: Calling spill() on RowBasedKeyValueBatch. Will not spill but return 0.\n",
      "23/04/21 09:55:43 WARN RowBasedKeyValueBatch: Calling spill() on RowBasedKeyValueBatch. Will not spill but return 0.\n",
      "23/04/21 09:55:43 WARN RowBasedKeyValueBatch: Calling spill() on RowBasedKeyValueBatch. Will not spill but return 0.\n",
      "23/04/21 09:55:43 WARN RowBasedKeyValueBatch: Calling spill() on RowBasedKeyValueBatch. Will not spill but return 0.\n",
      "23/04/21 09:55:43 WARN RowBasedKeyValueBatch: Calling spill() on RowBasedKeyValueBatch. Will not spill but return 0.\n",
      "23/04/21 09:55:44 WARN RowBasedKeyValueBatch: Calling spill() on RowBasedKeyValueBatch. Will not spill but return 0.\n",
      "23/04/21 09:55:44 WARN RowBasedKeyValueBatch: Calling spill() on RowBasedKeyValueBatch. Will not spill but return 0.\n"
     ]
    },
    {
     "name": "stderr",
     "output_type": "stream",
     "text": [
      "                                                                                \r"
     ]
    },
    {
     "name": "stdout",
     "output_type": "stream",
     "text": [
      "+--------------+------------------------+-------------+-------------------------+-----------------------------+-----------------+-------------------+------------------+-----------------+------------+----------+---------------------------+---------+------+------+-------+-----------+--------+----+--------+--------+-----+-------+---------+-------+-----+---------------------------------------+------+------+---------------+------------+----------+------+------+------------------+------+-----+-----+---------+-------+---------+--------+---------+-------+-------+-----+---------+------+--------+------+----------+------------+-----------------+----------+-------+--------------------+----+-------------------+---------------------------+-----------------------+-------+------------------+----------------+------------------------------------+\n",
      "|ID_CONTRATISTA|RAZON_SOCIAL_CONTRATISTA|num_contratos|suma_valor_total_contrato|promedio_valor_total_contrato|num_departamentos|num_estados_proceso|num_clases_proceso|num_tipos_proceso|num_familias|num_clases|meses_desde_ultimo_contrato|SANTANDER|VAUPES|NARIÑO|CAQUETA|NO DEFINIDO|CASANARE|META|AMAZONAS|GUAVIARE|CAUCA|VICHADA|ANTIOQUIA|QUINDIO|CHOCO|SAN ANDRES PROVIDENCIA Y SANTA CATALINA|CALDAS|BOYACA|VALLE DEL CAUCA|CUNDINAMARCA|LA GUAJIRA|TOLIMA|ARAUCA|NORTE DE SANTANDER|BOGOTA|HUILA|SUCRE|ATLANTICO|BOLIVAR|RISARALDA|PUTUMAYO|MAGDALENA|GUAINIA|CORDOBA|CESAR|TERMINADO|ACTIVO|BORRADOR|CEDIDO|MODIFICADO|EN EJECUCION|ENVIADO PROVEEDOR|SUSPENDIDO|CERRADO|CONTRATACION DIRECTA|null|CONCURSO DE MERITOS|CONTRATACION MINIMA CUANTIA|LICITACION OBRA PUBLICA|SUBASTA|LICITACION PUBLICA|REGIMEN ESPECIAL|SELECCION ABREVIADA DE MENOR CUANTIA|\n",
      "+--------------+------------------------+-------------+-------------------------+-----------------------------+-----------------+-------------------+------------------+-----------------+------------+----------+---------------------------+---------+------+------+-------+-----------+--------+----+--------+--------+-----+-------+---------+-------+-----+---------------------------------------+------+------+---------------+------------+----------+------+------+------------------+------+-----+-----+---------+-------+---------+--------+---------+-------+-------+-----+---------+------+--------+------+----------+------------+-----------------+----------+-------+--------------------+----+-------------------+---------------------------+-----------------------+-------+------------------+----------------+------------------------------------+\n",
      "|             0|    CONSORCIO ESPINAL...|            1|                331764967|                 3.31764967E8|                1|                  1|                 1|                1|           1|         1|                         22|        0|     0|     0|      0|          0|       0|   0|       0|       0|    0|      0|        0|      0|    0|                                      0|     0|     0|              0|           0|         0|     0|     0|                 0|     1|    0|    0|        0|      0|        0|       0|        0|      0|      0|    0|        0|     0|       0|     0|         0|           1|                0|         0|      0|                   0|   0|                  1|                          0|                      0|      0|                 0|               0|                                   0|\n",
      "|             0|    CONSORCIO INTERVE...|            1|                475311103|                 4.75311103E8|                1|                  1|                 1|                1|           1|         1|                         19|        0|     0|     0|      0|          0|       0|   0|       0|       0|    0|      0|        0|      0|    0|                                      0|     0|     0|              0|           0|         0|     0|     0|                 0|     1|    0|    0|        0|      0|        0|       0|        0|      0|      0|    0|        0|     1|       0|     0|         0|           0|                0|         0|      0|                   0|   0|                  1|                          0|                      0|      0|                 0|               0|                                   0|\n",
      "|             0|    UNION TEMPORAL EQ...|            2|                677510589|                3.387552945E8|                2|                  1|                 2|                1|           2|         2|                         22|        0|     0|     0|      0|          0|       0|   0|       0|       0|    0|      0|        0|      0|    0|                                      0|     0|     0|              0|           1|         0|     0|     0|                 0|     1|    0|    0|        0|      0|        0|       0|        0|      0|      0|    0|        0|     0|       0|     0|         2|           0|                0|         0|      0|                   0|   0|                  0|                          0|                      0|      1|                 0|               0|                                   1|\n",
      "|             0|    UNION TEMPORAL IBICI|            1|                876230395|                 8.76230395E8|                1|                  1|                 1|                1|           1|         1|                         22|        0|     0|     0|      0|          0|       0|   0|       0|       0|    0|      0|        0|      0|    0|                                      0|     0|     0|              0|           0|         0|     1|     0|                 0|     0|    0|    0|        0|      0|        0|       0|        0|      0|      0|    0|        0|     0|       0|     0|         0|           1|                0|         0|      0|                   0|   0|                  0|                          0|                      1|      0|                 0|               0|                                   0|\n",
      "|             0|    UNION TEMPORAL MI...|            1|               4581987318|                4.581987318E9|                1|                  1|                 1|                1|           1|         1|                         22|        0|     0|     0|      0|          0|       0|   0|       0|       0|    0|      0|        0|      0|    0|                                      0|     0|     0|              0|           0|         0|     0|     0|                 0|     1|    0|    0|        0|      0|        0|       0|        0|      0|      0|    0|        0|     0|       0|     0|         0|           0|                0|         1|      0|                   1|   0|                  0|                          0|                      0|      0|                 0|               0|                                   0|\n",
      "|           123|    UNION TEMPORAL EL...|            1|                 30000000|                        3.0E7|                1|                  1|                 1|                1|           1|         1|                         23|        0|     0|     0|      0|          0|       0|   0|       0|       0|    0|      0|        0|      0|    0|                                      0|     0|     0|              0|           0|         0|     0|     1|                 0|     0|    0|    0|        0|      0|        0|       0|        0|      0|      0|    0|        0|     0|       0|     0|         0|           0|                0|         0|      1|                   0|   0|                  0|                          0|                      0|      0|                 0|               0|                                   1|\n",
      "|          6771|    CONSORCIO RINCONL...|            1|                480476173|                 4.80476173E8|                1|                  1|                 1|                1|           1|         1|                         20|        0|     0|     0|      0|          0|       0|   0|       0|       0|    0|      0|        0|      0|    0|                                      0|     0|     0|              0|           0|         0|     0|     0|                 0|     1|    0|    0|        0|      0|        0|       0|        0|      0|      0|    0|        0|     0|       0|     0|         0|           1|                0|         0|      0|                   0|   0|                  1|                          0|                      0|      0|                 0|               0|                                   0|\n",
      "|         20211|      CONSORCIO TEMPORAL|            1|               2848163781|                2.848163781E9|                1|                  1|                 1|                1|           1|         1|                         20|        0|     0|     0|      0|          0|       0|   0|       0|       0|    0|      0|        0|      0|    0|                                      0|     0|     0|              0|           0|         0|     0|     0|                 0|     1|    0|    0|        0|      0|        0|       0|        0|      0|      0|    0|        0|     0|       0|     0|         0|           1|                0|         0|      0|                   0|   0|                  0|                          0|                      1|      0|                 0|               0|                                   0|\n",
      "|         22222|    UT ACCESORIOS DE ...|            1|                468468040|                  4.6846804E8|                1|                  1|                 1|                1|           1|         1|                         20|        0|     0|     0|      0|          0|       0|   0|       0|       0|    0|      0|        0|      0|    0|                                      0|     0|     0|              0|           0|         0|     0|     0|                 0|     1|    0|    0|        0|      0|        0|       0|        0|      0|      0|    0|        0|     1|       0|     0|         0|           0|                0|         0|      0|                   0|   0|                  0|                          0|                      0|      1|                 0|               0|                                   0|\n",
      "|         52733|           CLAUDIA GOMEZ|            1|                 75000000|                        7.5E7|                1|                  1|                 1|                1|           1|         1|                         26|        0|     0|     0|      0|          0|       0|   0|       0|       0|    0|      0|        0|      0|    0|                                      0|     0|     0|              0|           0|         0|     0|     0|                 0|     1|    0|    0|        0|      0|        0|       0|        0|      0|      0|    0|        1|     0|       0|     0|         0|           0|                0|         0|      0|                   1|   0|                  0|                          0|                      0|      0|                 0|               0|                                   0|\n",
      "|         59078|                   A S R|            1|                 80948652|                  8.0948652E7|                1|                  1|                 1|                1|           1|         1|                         27|        0|     0|     0|      0|          0|       0|   0|       0|       0|    0|      0|        0|      0|    0|                                      0|     0|     0|              0|           0|         0|     0|     0|                 0|     1|    0|    0|        0|      0|        0|       0|        0|      0|      0|    0|        0|     0|       0|     0|         0|           1|                0|         0|      0|                   1|   0|                  0|                          0|                      0|      0|                 0|               0|                                   0|\n",
      "|        112954|    LUIS ENRIQUE TUNT...|            1|                 11952000|                     1.1952E7|                1|                  1|                 1|                1|           1|         1|                         24|        0|     0|     0|      0|          0|       0|   0|       0|       0|    0|      0|        0|      0|    0|                                      0|     0|     0|              0|           0|         0|     0|     0|                 0|     1|    0|    0|        0|      0|        0|       0|        0|      0|      0|    0|        0|     0|       0|     0|         0|           1|                0|         0|      0|                   1|   0|                  0|                          0|                      0|      0|                 0|               0|                                   0|\n",
      "|        120785|    JOSE MARIA CEPEDA...|            1|                 32844536|                  3.2844536E7|                1|                  1|                 1|                1|           1|         1|                         21|        0|     0|     0|      0|          0|       0|   0|       0|       0|    0|      0|        0|      0|    0|                                      0|     0|     0|              0|           0|         0|     0|     0|                 0|     1|    0|    0|        0|      0|        0|       0|        0|      0|      0|    0|        0|     0|       0|     0|         0|           1|                0|         0|      0|                   1|   0|                  0|                          0|                      0|      0|                 0|               0|                                   0|\n",
      "|        122560|    WALBERTO SEGUNDO ...|            1|                 96000000|                        9.6E7|                1|                  1|                 1|                1|           1|         1|                         25|        0|     0|     0|      0|          0|       0|   0|       0|       0|    0|      0|        0|      0|    0|                                      0|     0|     0|              1|           0|         0|     0|     0|                 0|     0|    0|    0|        0|      0|        0|       0|        0|      0|      0|    0|        0|     0|       0|     0|         1|           0|                0|         0|      0|                   1|   0|                  0|                          0|                      0|      0|                 0|               0|                                   0|\n",
      "|        164100|    JOSE FRANCISCO MA...|            2|                 15275000|                    7637500.0|                1|                  1|                 1|                1|           1|         1|                         21|        0|     0|     0|      0|          0|       0|   0|       0|       0|    0|      0|        0|      0|    0|                                      0|     0|     0|              2|           0|         0|     0|     0|                 0|     0|    0|    0|        0|      0|        0|       0|        0|      0|      0|    0|        0|     0|       0|     0|         0|           2|                0|         0|      0|                   2|   0|                  0|                          0|                      0|      0|                 0|               0|                                   0|\n",
      "|        172968|    MANUEL VICENTE HE...|            1|                 32300000|                       3.23E7|                1|                  1|                 1|                1|           1|         1|                         24|        0|     0|     0|      0|          0|       0|   0|       0|       0|    0|      0|        0|      0|    0|                                      0|     0|     0|              0|           0|         0|     0|     0|                 0|     1|    0|    0|        0|      0|        0|       0|        0|      0|      0|    0|        0|     0|       0|     0|         0|           1|                0|         0|      0|                   1|   0|                  0|                          0|                      0|      0|                 0|               0|                                   0|\n",
      "|        192074|    RICARDO RAMIREZ R...|            1|                 24633000|                     2.4633E7|                1|                  1|                 1|                1|           1|         1|                         25|        0|     0|     0|      0|          0|       0|   0|       0|       0|    0|      0|        0|      0|    0|                                      0|     0|     0|              0|           1|         0|     0|     0|                 0|     0|    0|    0|        0|      0|        0|       0|        0|      0|      0|    0|        0|     0|       0|     0|         0|           1|                0|         0|      0|                   1|   0|                  0|                          0|                      0|      0|                 0|               0|                                   0|\n",
      "|        193454|    JAIME HUMBERTO GO...|            2|                 79957800|                    3.99789E7|                1|                  1|                 1|                1|           1|         1|                         24|        0|     0|     0|      0|          0|       0|   0|       0|       0|    0|      0|        0|      0|    0|                                      0|     0|     0|              0|           0|         0|     0|     0|                 0|     2|    0|    0|        0|      0|        0|       0|        0|      0|      0|    0|        0|     0|       0|     0|         0|           2|                0|         0|      0|                   2|   0|                  0|                          0|                      0|      0|                 0|               0|                                   0|\n",
      "|        195176|    OSCAR IVAN ORTEGO...|            1|                  5012000|                    5012000.0|                1|                  1|                 1|                1|           1|         1|                         23|        0|     0|     0|      0|          0|       0|   0|       0|       0|    0|      0|        0|      0|    0|                                      0|     0|     0|              0|           0|         0|     0|     0|                 0|     1|    0|    0|        0|      0|        0|       0|        0|      0|      0|    0|        0|     0|       0|     0|         0|           1|                0|         0|      0|                   1|   0|                  0|                          0|                      0|      0|                 0|               0|                                   0|\n",
      "|        206762|    RODRIGO MOREIRA S...|            1|                100430000|                     1.0043E8|                1|                  1|                 1|                1|           1|         1|                         27|        0|     0|     0|      0|          0|       0|   0|       0|       0|    0|      0|        0|      0|    0|                                      0|     0|     0|              0|           0|         0|     0|     0|                 0|     1|    0|    0|        0|      0|        0|       0|        0|      0|      0|    0|        0|     0|       0|     0|         0|           1|                0|         0|      0|                   1|   0|                  0|                          0|                      0|      0|                 0|               0|                                   0|\n",
      "+--------------+------------------------+-------------+-------------------------+-----------------------------+-----------------+-------------------+------------------+-----------------+------------+----------+---------------------------+---------+------+------+-------+-----------+--------+----+--------+--------+-----+-------+---------+-------+-----+---------------------------------------+------+------+---------------+------------+----------+------+------+------------------+------+-----+-----+---------+-------+---------+--------+---------+-------+-------+-----+---------+------+--------+------+----------+------------+-----------------+----------+-------+--------------------+----+-------------------+---------------------------+-----------------------+-------+------------------+----------------+------------------------------------+\n",
      "only showing top 20 rows\n",
      "\n"
     ]
    }
   ],
   "source": [
    "infraestructura_df_agregado_y_pivotado = pyspark_etl_functions.unir_dataframes(infraestructura_df_agregado_y_pivotado, infraestructura_df_pivotado)\n",
    "infraestructura_df_agregado_y_pivotado.show()"
   ]
  },
  {
   "cell_type": "code",
   "execution_count": 25,
   "metadata": {},
   "outputs": [
    {
     "name": "stderr",
     "output_type": "stream",
     "text": [
      "[Stage 228:>                                                        (0 + 4) / 5]\r"
     ]
    },
    {
     "name": "stdout",
     "output_type": "stream",
     "text": [
      "23/04/21 09:56:06 WARN RowBasedKeyValueBatch: Calling spill() on RowBasedKeyValueBatch. Will not spill but return 0.\n",
      "23/04/21 09:56:06 WARN RowBasedKeyValueBatch: Calling spill() on RowBasedKeyValueBatch. Will not spill but return 0.\n",
      "23/04/21 09:56:06 WARN RowBasedKeyValueBatch: Calling spill() on RowBasedKeyValueBatch. Will not spill but return 0.\n",
      "23/04/21 09:56:06 WARN RowBasedKeyValueBatch: Calling spill() on RowBasedKeyValueBatch. Will not spill but return 0.\n",
      "23/04/21 09:56:06 WARN RowBasedKeyValueBatch: Calling spill() on RowBasedKeyValueBatch. Will not spill but return 0.\n",
      "23/04/21 09:56:06 WARN RowBasedKeyValueBatch: Calling spill() on RowBasedKeyValueBatch. Will not spill but return 0.\n",
      "23/04/21 09:56:06 WARN RowBasedKeyValueBatch: Calling spill() on RowBasedKeyValueBatch. Will not spill but return 0.\n",
      "23/04/21 09:56:06 WARN RowBasedKeyValueBatch: Calling spill() on RowBasedKeyValueBatch. Will not spill but return 0.\n"
     ]
    },
    {
     "name": "stderr",
     "output_type": "stream",
     "text": [
      "[Stage 228:===========>                                             (1 + 4) / 5]\r"
     ]
    },
    {
     "name": "stdout",
     "output_type": "stream",
     "text": [
      "+--------------+------------------------+----------+-------+-----------+-----------------------+------------------------+--------+-----------+--------+-----------+---------------------+------------------+----+---------------+--------------------------+------------------------+-------------+---------+--------------------------+----+----------------+-------------+\n",
      "|ID_CONTRATISTA|RAZON_SOCIAL_CONTRATISTA|EMPRESTITO|SEGUROS|CONSULTORIA|PRESTACION DE SERVICIOS|ACUERDO MARCO DE PRECIOS|COMISION|COMPRAVENTA|COMODATO|SUMINISTROS|SERVICIOS FINANCIEROS|NEGOCIO FIDUCIARIO|OTRO|VENTA INMUEBLES|ARRENDAMIENTO DE INMUEBLES|ARRENDAMIENTO DE MUEBLES|INTERVENTORIA|CONCESION|ASOCIACION PUBLICO PRIVADA|OBRA|DECREELAW0922017|VENTA MUEBLES|\n",
      "+--------------+------------------------+----------+-------+-----------+-----------------------+------------------------+--------+-----------+--------+-----------+---------------------+------------------+----+---------------+--------------------------+------------------------+-------------+---------+--------------------------+----+----------------+-------------+\n",
      "|      98709617|    FREDY ALEXANDER A...|         0|      0|          0|                      1|                       0|       0|          0|       0|          0|                    0|                 0|   0|              0|                         0|                       0|            0|        0|                         0|   0|               0|            0|\n",
      "|    1050038531|    GEAN CARLOS GONZA...|         0|      0|          0|                      1|                       0|       0|          0|       0|          0|                    0|                 0|   0|              0|                         0|                       0|            0|        0|                         0|   0|               0|            0|\n",
      "|    1022377642|    CATHERINE JIMENEZ...|         0|      0|          0|                      1|                       0|       0|          0|       0|          0|                    0|                 0|   0|              0|                         0|                       0|            0|        0|                         0|   0|               0|            0|\n",
      "|    1012380953|    JOFFRED ALEXANDER...|         0|      0|          0|                      1|                       0|       0|          0|       0|          0|                    0|                 0|   0|              0|                         0|                       0|            0|        0|                         0|   0|               0|            0|\n",
      "|    8600251956|    CIRCULO DE SUB OF...|         0|      0|          0|                      0|                       0|       0|          0|       0|          0|                    0|                 0|   1|              0|                         0|                       0|            0|        0|                         0|   0|               0|            0|\n",
      "|    1015397944|    LAURA MARIA HERNA...|         0|      0|          0|                      2|                       0|       0|          0|       0|          0|                    0|                 0|   0|              0|                         0|                       0|            0|        0|                         0|   0|               0|            0|\n",
      "|      10051943|         EULISES SIAGAMA|         0|      0|          0|                      1|                       0|       0|          0|       0|          0|                    0|                 0|   0|              0|                         0|                       0|            0|        0|                         0|   0|               0|            0|\n",
      "|    1036657695|    DANIELA ALZATE HI...|         0|      0|          0|                      1|                       0|       0|          0|       0|          0|                    0|                 0|   0|              0|                         0|                       0|            0|        0|                         0|   0|               0|            0|\n",
      "|       8754335|       SAAC ROLON SALINA|         0|      0|          0|                      1|                       0|       0|          0|       0|          0|                    0|                 0|   0|              0|                         0|                       0|            0|        0|                         0|   0|               0|            0|\n",
      "|      26350112|    NINY ANGELICA CHA...|         0|      0|          0|                      3|                       0|       0|          0|       0|          0|                    0|                 0|   0|              0|                         0|                       0|            0|        0|                         0|   0|               0|            0|\n",
      "|    1077441122|    CARLOS ARTURO GOM...|         0|      0|          0|                      2|                       0|       0|          0|       0|          0|                    0|                 0|   0|              0|                         0|                       0|            0|        0|                         0|   0|               0|            0|\n",
      "|      52372060|    FRANCY JASMIN TOR...|         0|      0|          0|                      1|                       0|       0|          0|       0|          0|                    0|                 0|   0|              0|                         0|                       0|            0|        0|                         0|   0|               0|            0|\n",
      "|    1061691343|    ALEJANDRA ELIZABE...|         0|      0|          0|                      1|                       0|       0|          0|       0|          0|                    0|                 0|   0|              0|                         0|                       0|            0|        0|                         0|   0|               0|            0|\n",
      "|      79575213|    JOSE LEONARDO HER...|         0|      0|          0|                      1|                       0|       0|          0|       0|          0|                    0|                 0|   0|              0|                         0|                       0|            0|        0|                         0|   0|               0|            0|\n",
      "|    1015461544|    OSCAR ALEXANDER C...|         0|      0|          0|                      0|                       0|       0|          0|       0|          0|                    0|                 0|   0|              0|                         0|                       0|            0|        0|                         0|   0|               1|            0|\n",
      "|    1007114134|    BRENDA CORTES MONROY|         0|      0|          0|                      1|                       0|       0|          0|       0|          0|                    0|                 0|   0|              0|                         0|                       0|            0|        0|                         0|   0|               0|            0|\n",
      "|      73197199|    LIZARDO ENRIQUE B...|         0|      0|          0|                      2|                       0|       0|          0|       0|          0|                    0|                 0|   0|              0|                         0|                       0|            0|        0|                         0|   0|               0|            0|\n",
      "|    1026296001|    ANGELA LUCIA HERR...|         0|      0|          0|                      1|                       0|       0|          0|       0|          0|                    0|                 0|   0|              0|                         0|                       0|            0|        0|                         0|   0|               0|            0|\n",
      "|     805000867|           CORRREAGRO SA|         0|      0|          0|                      7|                       0|       2|          0|       0|          0|                    0|                 0|   6|              0|                         0|                       0|            0|        0|                         0|   0|              12|            0|\n",
      "|      46382989|    SANDRA MILENA HIG...|         0|      0|          0|                      1|                       0|       0|          0|       0|          0|                    0|                 0|   0|              0|                         0|                       0|            0|        0|                         0|   0|               0|            0|\n",
      "+--------------+------------------------+----------+-------+-----------+-----------------------+------------------------+--------+-----------+--------+-----------+---------------------+------------------+----+---------------+--------------------------+------------------------+-------------+---------+--------------------------+----+----------------+-------------+\n",
      "only showing top 20 rows\n",
      "\n"
     ]
    },
    {
     "name": "stderr",
     "output_type": "stream",
     "text": [
      "                                                                                \r"
     ]
    }
   ],
   "source": [
    "infraestructura_df_pivotado = pyspark_etl_functions.pivotar_por_columna(infraestructura_df_seleccionado, \"TIPO_PROCESO\")\n",
    "infraestructura_df_pivotado.show()"
   ]
  },
  {
   "cell_type": "code",
   "execution_count": 26,
   "metadata": {},
   "outputs": [
    {
     "name": "stderr",
     "output_type": "stream",
     "text": [
      "[Stage 239:==>(4 + 1) / 5][Stage 241:>  (0 + 3) / 5][Stage 242:>  (0 + 0) / 5]5]\r"
     ]
    },
    {
     "name": "stdout",
     "output_type": "stream",
     "text": [
      "23/04/21 09:56:29 WARN RowBasedKeyValueBatch: Calling spill() on RowBasedKeyValueBatch. Will not spill but return 0.\n",
      "23/04/21 09:56:29 WARN RowBasedKeyValueBatch: Calling spill() on RowBasedKeyValueBatch. Will not spill but return 0.\n",
      "23/04/21 09:56:29 WARN RowBasedKeyValueBatch: Calling spill() on RowBasedKeyValueBatch. Will not spill but return 0.\n",
      "23/04/21 09:56:29 WARN RowBasedKeyValueBatch: Calling spill() on RowBasedKeyValueBatch. Will not spill but return 0.\n",
      "23/04/21 09:56:29 WARN RowBasedKeyValueBatch: Calling spill() on RowBasedKeyValueBatch. Will not spill but return 0.\n",
      "23/04/21 09:56:29 WARN RowBasedKeyValueBatch: Calling spill() on RowBasedKeyValueBatch. Will not spill but return 0.\n"
     ]
    },
    {
     "name": "stderr",
     "output_type": "stream",
     "text": [
      "[Stage 239:==>(4 + 1) / 5][Stage 241:==>(4 + 1) / 5][Stage 242:>  (0 + 2) / 5]\r"
     ]
    },
    {
     "name": "stdout",
     "output_type": "stream",
     "text": [
      "23/04/21 09:56:32 WARN RowBasedKeyValueBatch: Calling spill() on RowBasedKeyValueBatch. Will not spill but return 0.\n",
      "23/04/21 09:56:32 WARN RowBasedKeyValueBatch: Calling spill() on RowBasedKeyValueBatch. Will not spill but return 0.\n"
     ]
    },
    {
     "name": "stderr",
     "output_type": "stream",
     "text": [
      "[Stage 241:==>(4 + 1) / 5][Stage 242:>  (0 + 3) / 5][Stage 243:>  (0 + 0) / 5]\r"
     ]
    },
    {
     "name": "stdout",
     "output_type": "stream",
     "text": [
      "23/04/21 09:56:32 WARN RowBasedKeyValueBatch: Calling spill() on RowBasedKeyValueBatch. Will not spill but return 0.\n",
      "23/04/21 09:56:32 WARN RowBasedKeyValueBatch: Calling spill() on RowBasedKeyValueBatch. Will not spill but return 0.\n",
      "23/04/21 09:56:32 WARN RowBasedKeyValueBatch: Calling spill() on RowBasedKeyValueBatch. Will not spill but return 0.\n",
      "23/04/21 09:56:32 WARN RowBasedKeyValueBatch: Calling spill() on RowBasedKeyValueBatch. Will not spill but return 0.\n",
      "23/04/21 09:56:32 WARN RowBasedKeyValueBatch: Calling spill() on RowBasedKeyValueBatch. Will not spill but return 0.\n",
      "23/04/21 09:56:32 WARN RowBasedKeyValueBatch: Calling spill() on RowBasedKeyValueBatch. Will not spill but return 0.\n"
     ]
    },
    {
     "name": "stderr",
     "output_type": "stream",
     "text": [
      "[Stage 242:=> (3 + 2) / 5][Stage 243:>  (0 + 2) / 5][Stage 244:>  (0 + 0) / 5]\r"
     ]
    },
    {
     "name": "stdout",
     "output_type": "stream",
     "text": [
      "23/04/21 09:56:34 WARN RowBasedKeyValueBatch: Calling spill() on RowBasedKeyValueBatch. Will not spill but return 0.\n"
     ]
    },
    {
     "name": "stderr",
     "output_type": "stream",
     "text": [
      "[Stage 242:==>(4 + 1) / 5][Stage 243:>  (0 + 3) / 5][Stage 244:>  (0 + 0) / 5]\r"
     ]
    },
    {
     "name": "stdout",
     "output_type": "stream",
     "text": [
      "23/04/21 09:56:35 WARN RowBasedKeyValueBatch: Calling spill() on RowBasedKeyValueBatch. Will not spill but return 0.\n",
      "23/04/21 09:56:35 WARN RowBasedKeyValueBatch: Calling spill() on RowBasedKeyValueBatch. Will not spill but return 0.\n",
      "23/04/21 09:56:35 WARN RowBasedKeyValueBatch: Calling spill() on RowBasedKeyValueBatch. Will not spill but return 0.\n",
      "23/04/21 09:56:35 WARN RowBasedKeyValueBatch: Calling spill() on RowBasedKeyValueBatch. Will not spill but return 0.\n",
      "23/04/21 09:56:35 WARN RowBasedKeyValueBatch: Calling spill() on RowBasedKeyValueBatch. Will not spill but return 0.\n",
      "23/04/21 09:56:35 WARN RowBasedKeyValueBatch: Calling spill() on RowBasedKeyValueBatch. Will not spill but return 0.\n"
     ]
    },
    {
     "name": "stderr",
     "output_type": "stream",
     "text": [
      "[Stage 243:>  (0 + 4) / 5][Stage 244:>  (0 + 0) / 5][Stage 247:>  (0 + 0) / 5]\r"
     ]
    },
    {
     "name": "stdout",
     "output_type": "stream",
     "text": [
      "23/04/21 09:56:37 WARN RowBasedKeyValueBatch: Calling spill() on RowBasedKeyValueBatch. Will not spill but return 0.\n",
      "23/04/21 09:56:37 WARN RowBasedKeyValueBatch: Calling spill() on RowBasedKeyValueBatch. Will not spill but return 0.\n"
     ]
    },
    {
     "name": "stderr",
     "output_type": "stream",
     "text": [
      "[Stage 243:==>(4 + 1) / 5][Stage 244:>  (0 + 3) / 5][Stage 247:>  (0 + 0) / 5]\r"
     ]
    },
    {
     "name": "stdout",
     "output_type": "stream",
     "text": [
      "23/04/21 09:56:38 WARN RowBasedKeyValueBatch: Calling spill() on RowBasedKeyValueBatch. Will not spill but return 0.\n",
      "23/04/21 09:56:38 WARN RowBasedKeyValueBatch: Calling spill() on RowBasedKeyValueBatch. Will not spill but return 0.\n",
      "23/04/21 09:56:38 WARN RowBasedKeyValueBatch: Calling spill() on RowBasedKeyValueBatch. Will not spill but return 0.\n",
      "23/04/21 09:56:38 WARN RowBasedKeyValueBatch: Calling spill() on RowBasedKeyValueBatch. Will not spill but return 0.\n",
      "23/04/21 09:56:38 WARN RowBasedKeyValueBatch: Calling spill() on RowBasedKeyValueBatch. Will not spill but return 0.\n",
      "23/04/21 09:56:38 WARN RowBasedKeyValueBatch: Calling spill() on RowBasedKeyValueBatch. Will not spill but return 0.\n"
     ]
    },
    {
     "name": "stderr",
     "output_type": "stream",
     "text": [
      "[Stage 244:>  (0 + 4) / 5][Stage 247:>  (0 + 0) / 5][Stage 249:>  (0 + 0) / 4]\r"
     ]
    },
    {
     "name": "stdout",
     "output_type": "stream",
     "text": [
      "23/04/21 09:56:39 WARN RowBasedKeyValueBatch: Calling spill() on RowBasedKeyValueBatch. Will not spill but return 0.\n",
      "23/04/21 09:56:39 WARN RowBasedKeyValueBatch: Calling spill() on RowBasedKeyValueBatch. Will not spill but return 0.\n"
     ]
    },
    {
     "name": "stderr",
     "output_type": "stream",
     "text": [
      "                                                                                \r"
     ]
    },
    {
     "name": "stdout",
     "output_type": "stream",
     "text": [
      "+--------------+------------------------+-------------+-------------------------+-----------------------------+-----------------+-------------------+------------------+-----------------+------------+----------+---------------------------+---------+------+------+-------+-----------+--------+----+--------+--------+-----+-------+---------+-------+-----+---------------------------------------+------+------+---------------+------------+----------+------+------+------------------+------+-----+-----+---------+-------+---------+--------+---------+-------+-------+-----+---------+------+--------+------+----------+------------+-----------------+----------+-------+--------------------+----+-------------------+---------------------------+-----------------------+-------+------------------+----------------+------------------------------------+----------+-------+-----------+-----------------------+------------------------+--------+-----------+--------+-----------+---------------------+------------------+----+---------------+--------------------------+------------------------+-------------+---------+--------------------------+----+----------------+-------------+\n",
      "|ID_CONTRATISTA|RAZON_SOCIAL_CONTRATISTA|num_contratos|suma_valor_total_contrato|promedio_valor_total_contrato|num_departamentos|num_estados_proceso|num_clases_proceso|num_tipos_proceso|num_familias|num_clases|meses_desde_ultimo_contrato|SANTANDER|VAUPES|NARIÑO|CAQUETA|NO DEFINIDO|CASANARE|META|AMAZONAS|GUAVIARE|CAUCA|VICHADA|ANTIOQUIA|QUINDIO|CHOCO|SAN ANDRES PROVIDENCIA Y SANTA CATALINA|CALDAS|BOYACA|VALLE DEL CAUCA|CUNDINAMARCA|LA GUAJIRA|TOLIMA|ARAUCA|NORTE DE SANTANDER|BOGOTA|HUILA|SUCRE|ATLANTICO|BOLIVAR|RISARALDA|PUTUMAYO|MAGDALENA|GUAINIA|CORDOBA|CESAR|TERMINADO|ACTIVO|BORRADOR|CEDIDO|MODIFICADO|EN EJECUCION|ENVIADO PROVEEDOR|SUSPENDIDO|CERRADO|CONTRATACION DIRECTA|null|CONCURSO DE MERITOS|CONTRATACION MINIMA CUANTIA|LICITACION OBRA PUBLICA|SUBASTA|LICITACION PUBLICA|REGIMEN ESPECIAL|SELECCION ABREVIADA DE MENOR CUANTIA|EMPRESTITO|SEGUROS|CONSULTORIA|PRESTACION DE SERVICIOS|ACUERDO MARCO DE PRECIOS|COMISION|COMPRAVENTA|COMODATO|SUMINISTROS|SERVICIOS FINANCIEROS|NEGOCIO FIDUCIARIO|OTRO|VENTA INMUEBLES|ARRENDAMIENTO DE INMUEBLES|ARRENDAMIENTO DE MUEBLES|INTERVENTORIA|CONCESION|ASOCIACION PUBLICO PRIVADA|OBRA|DECREELAW0922017|VENTA MUEBLES|\n",
      "+--------------+------------------------+-------------+-------------------------+-----------------------------+-----------------+-------------------+------------------+-----------------+------------+----------+---------------------------+---------+------+------+-------+-----------+--------+----+--------+--------+-----+-------+---------+-------+-----+---------------------------------------+------+------+---------------+------------+----------+------+------+------------------+------+-----+-----+---------+-------+---------+--------+---------+-------+-------+-----+---------+------+--------+------+----------+------------+-----------------+----------+-------+--------------------+----+-------------------+---------------------------+-----------------------+-------+------------------+----------------+------------------------------------+----------+-------+-----------+-----------------------+------------------------+--------+-----------+--------+-----------+---------------------+------------------+----+---------------+--------------------------+------------------------+-------------+---------+--------------------------+----+----------------+-------------+\n",
      "|             0|    CONSORCIO ESPINAL...|            1|                331764967|                 3.31764967E8|                1|                  1|                 1|                1|           1|         1|                         22|        0|     0|     0|      0|          0|       0|   0|       0|       0|    0|      0|        0|      0|    0|                                      0|     0|     0|              0|           0|         0|     0|     0|                 0|     1|    0|    0|        0|      0|        0|       0|        0|      0|      0|    0|        0|     0|       0|     0|         0|           1|                0|         0|      0|                   0|   0|                  1|                          0|                      0|      0|                 0|               0|                                   0|         0|      0|          0|                      0|                       0|       0|          0|       0|          0|                    0|                 0|   0|              0|                         0|                       0|            1|        0|                         0|   0|               0|            0|\n",
      "|             0|    CONSORCIO INTERVE...|            1|                475311103|                 4.75311103E8|                1|                  1|                 1|                1|           1|         1|                         19|        0|     0|     0|      0|          0|       0|   0|       0|       0|    0|      0|        0|      0|    0|                                      0|     0|     0|              0|           0|         0|     0|     0|                 0|     1|    0|    0|        0|      0|        0|       0|        0|      0|      0|    0|        0|     1|       0|     0|         0|           0|                0|         0|      0|                   0|   0|                  1|                          0|                      0|      0|                 0|               0|                                   0|         0|      0|          0|                      0|                       0|       0|          0|       0|          0|                    0|                 0|   0|              0|                         0|                       0|            1|        0|                         0|   0|               0|            0|\n",
      "|             0|    UNION TEMPORAL EQ...|            2|                677510589|                3.387552945E8|                2|                  1|                 2|                1|           2|         2|                         22|        0|     0|     0|      0|          0|       0|   0|       0|       0|    0|      0|        0|      0|    0|                                      0|     0|     0|              0|           1|         0|     0|     0|                 0|     1|    0|    0|        0|      0|        0|       0|        0|      0|      0|    0|        0|     0|       0|     0|         2|           0|                0|         0|      0|                   0|   0|                  0|                          0|                      0|      1|                 0|               0|                                   1|         0|      0|          0|                      0|                       0|       0|          2|       0|          0|                    0|                 0|   0|              0|                         0|                       0|            0|        0|                         0|   0|               0|            0|\n",
      "|             0|    UNION TEMPORAL IBICI|            1|                876230395|                 8.76230395E8|                1|                  1|                 1|                1|           1|         1|                         22|        0|     0|     0|      0|          0|       0|   0|       0|       0|    0|      0|        0|      0|    0|                                      0|     0|     0|              0|           0|         0|     1|     0|                 0|     0|    0|    0|        0|      0|        0|       0|        0|      0|      0|    0|        0|     0|       0|     0|         0|           1|                0|         0|      0|                   0|   0|                  0|                          0|                      1|      0|                 0|               0|                                   0|         0|      0|          0|                      1|                       0|       0|          0|       0|          0|                    0|                 0|   0|              0|                         0|                       0|            0|        0|                         0|   0|               0|            0|\n",
      "|             0|    UNION TEMPORAL MI...|            1|               4581987318|                4.581987318E9|                1|                  1|                 1|                1|           1|         1|                         22|        0|     0|     0|      0|          0|       0|   0|       0|       0|    0|      0|        0|      0|    0|                                      0|     0|     0|              0|           0|         0|     0|     0|                 0|     1|    0|    0|        0|      0|        0|       0|        0|      0|      0|    0|        0|     0|       0|     0|         0|           0|                0|         1|      0|                   1|   0|                  0|                          0|                      0|      0|                 0|               0|                                   0|         0|      0|          0|                      0|                       0|       0|          0|       0|          0|                    0|                 0|   1|              0|                         0|                       0|            0|        0|                         0|   0|               0|            0|\n",
      "|           123|    UNION TEMPORAL EL...|            1|                 30000000|                        3.0E7|                1|                  1|                 1|                1|           1|         1|                         23|        0|     0|     0|      0|          0|       0|   0|       0|       0|    0|      0|        0|      0|    0|                                      0|     0|     0|              0|           0|         0|     0|     1|                 0|     0|    0|    0|        0|      0|        0|       0|        0|      0|      0|    0|        0|     0|       0|     0|         0|           0|                0|         0|      1|                   0|   0|                  0|                          0|                      0|      0|                 0|               0|                                   1|         0|      0|          0|                      1|                       0|       0|          0|       0|          0|                    0|                 0|   0|              0|                         0|                       0|            0|        0|                         0|   0|               0|            0|\n",
      "|          6771|    CONSORCIO RINCONL...|            1|                480476173|                 4.80476173E8|                1|                  1|                 1|                1|           1|         1|                         20|        0|     0|     0|      0|          0|       0|   0|       0|       0|    0|      0|        0|      0|    0|                                      0|     0|     0|              0|           0|         0|     0|     0|                 0|     1|    0|    0|        0|      0|        0|       0|        0|      0|      0|    0|        0|     0|       0|     0|         0|           1|                0|         0|      0|                   0|   0|                  1|                          0|                      0|      0|                 0|               0|                                   0|         0|      0|          1|                      0|                       0|       0|          0|       0|          0|                    0|                 0|   0|              0|                         0|                       0|            0|        0|                         0|   0|               0|            0|\n",
      "|         20211|      CONSORCIO TEMPORAL|            1|               2848163781|                2.848163781E9|                1|                  1|                 1|                1|           1|         1|                         20|        0|     0|     0|      0|          0|       0|   0|       0|       0|    0|      0|        0|      0|    0|                                      0|     0|     0|              0|           0|         0|     0|     0|                 0|     1|    0|    0|        0|      0|        0|       0|        0|      0|      0|    0|        0|     0|       0|     0|         0|           1|                0|         0|      0|                   0|   0|                  0|                          0|                      1|      0|                 0|               0|                                   0|         0|      0|          0|                      0|                       0|       0|          0|       0|          0|                    0|                 0|   0|              0|                         0|                       0|            0|        0|                         0|   1|               0|            0|\n",
      "|         22222|    UT ACCESORIOS DE ...|            1|                468468040|                  4.6846804E8|                1|                  1|                 1|                1|           1|         1|                         20|        0|     0|     0|      0|          0|       0|   0|       0|       0|    0|      0|        0|      0|    0|                                      0|     0|     0|              0|           0|         0|     0|     0|                 0|     1|    0|    0|        0|      0|        0|       0|        0|      0|      0|    0|        0|     1|       0|     0|         0|           0|                0|         0|      0|                   0|   0|                  0|                          0|                      0|      1|                 0|               0|                                   0|         0|      0|          0|                      0|                       0|       0|          1|       0|          0|                    0|                 0|   0|              0|                         0|                       0|            0|        0|                         0|   0|               0|            0|\n",
      "|         52733|           CLAUDIA GOMEZ|            1|                 75000000|                        7.5E7|                1|                  1|                 1|                1|           1|         1|                         26|        0|     0|     0|      0|          0|       0|   0|       0|       0|    0|      0|        0|      0|    0|                                      0|     0|     0|              0|           0|         0|     0|     0|                 0|     1|    0|    0|        0|      0|        0|       0|        0|      0|      0|    0|        1|     0|       0|     0|         0|           0|                0|         0|      0|                   1|   0|                  0|                          0|                      0|      0|                 0|               0|                                   0|         0|      0|          0|                      1|                       0|       0|          0|       0|          0|                    0|                 0|   0|              0|                         0|                       0|            0|        0|                         0|   0|               0|            0|\n",
      "|         59078|                   A S R|            1|                 80948652|                  8.0948652E7|                1|                  1|                 1|                1|           1|         1|                         27|        0|     0|     0|      0|          0|       0|   0|       0|       0|    0|      0|        0|      0|    0|                                      0|     0|     0|              0|           0|         0|     0|     0|                 0|     1|    0|    0|        0|      0|        0|       0|        0|      0|      0|    0|        0|     0|       0|     0|         0|           1|                0|         0|      0|                   1|   0|                  0|                          0|                      0|      0|                 0|               0|                                   0|         0|      0|          0|                      0|                       0|       0|          0|       0|          0|                    0|                 0|   0|              0|                         1|                       0|            0|        0|                         0|   0|               0|            0|\n",
      "|        112954|    LUIS ENRIQUE TUNT...|            1|                 11952000|                     1.1952E7|                1|                  1|                 1|                1|           1|         1|                         24|        0|     0|     0|      0|          0|       0|   0|       0|       0|    0|      0|        0|      0|    0|                                      0|     0|     0|              0|           0|         0|     0|     0|                 0|     1|    0|    0|        0|      0|        0|       0|        0|      0|      0|    0|        0|     0|       0|     0|         0|           1|                0|         0|      0|                   1|   0|                  0|                          0|                      0|      0|                 0|               0|                                   0|         0|      0|          0|                      1|                       0|       0|          0|       0|          0|                    0|                 0|   0|              0|                         0|                       0|            0|        0|                         0|   0|               0|            0|\n",
      "|        120785|    JOSE MARIA CEPEDA...|            1|                 32844536|                  3.2844536E7|                1|                  1|                 1|                1|           1|         1|                         21|        0|     0|     0|      0|          0|       0|   0|       0|       0|    0|      0|        0|      0|    0|                                      0|     0|     0|              0|           0|         0|     0|     0|                 0|     1|    0|    0|        0|      0|        0|       0|        0|      0|      0|    0|        0|     0|       0|     0|         0|           1|                0|         0|      0|                   1|   0|                  0|                          0|                      0|      0|                 0|               0|                                   0|         0|      0|          0|                      0|                       0|       0|          0|       0|          0|                    0|                 0|   0|              0|                         1|                       0|            0|        0|                         0|   0|               0|            0|\n",
      "|        122560|    WALBERTO SEGUNDO ...|            1|                 96000000|                        9.6E7|                1|                  1|                 1|                1|           1|         1|                         25|        0|     0|     0|      0|          0|       0|   0|       0|       0|    0|      0|        0|      0|    0|                                      0|     0|     0|              1|           0|         0|     0|     0|                 0|     0|    0|    0|        0|      0|        0|       0|        0|      0|      0|    0|        0|     0|       0|     0|         1|           0|                0|         0|      0|                   1|   0|                  0|                          0|                      0|      0|                 0|               0|                                   0|         0|      0|          0|                      0|                       0|       0|          0|       0|          0|                    0|                 0|   0|              0|                         1|                       0|            0|        0|                         0|   0|               0|            0|\n",
      "|        164100|    JOSE FRANCISCO MA...|            2|                 15275000|                    7637500.0|                1|                  1|                 1|                1|           1|         1|                         21|        0|     0|     0|      0|          0|       0|   0|       0|       0|    0|      0|        0|      0|    0|                                      0|     0|     0|              2|           0|         0|     0|     0|                 0|     0|    0|    0|        0|      0|        0|       0|        0|      0|      0|    0|        0|     0|       0|     0|         0|           2|                0|         0|      0|                   2|   0|                  0|                          0|                      0|      0|                 0|               0|                                   0|         0|      0|          0|                      2|                       0|       0|          0|       0|          0|                    0|                 0|   0|              0|                         0|                       0|            0|        0|                         0|   0|               0|            0|\n",
      "|        172968|    MANUEL VICENTE HE...|            1|                 32300000|                       3.23E7|                1|                  1|                 1|                1|           1|         1|                         24|        0|     0|     0|      0|          0|       0|   0|       0|       0|    0|      0|        0|      0|    0|                                      0|     0|     0|              0|           0|         0|     0|     0|                 0|     1|    0|    0|        0|      0|        0|       0|        0|      0|      0|    0|        0|     0|       0|     0|         0|           1|                0|         0|      0|                   1|   0|                  0|                          0|                      0|      0|                 0|               0|                                   0|         0|      0|          0|                      1|                       0|       0|          0|       0|          0|                    0|                 0|   0|              0|                         0|                       0|            0|        0|                         0|   0|               0|            0|\n",
      "|        192074|    RICARDO RAMIREZ R...|            1|                 24633000|                     2.4633E7|                1|                  1|                 1|                1|           1|         1|                         25|        0|     0|     0|      0|          0|       0|   0|       0|       0|    0|      0|        0|      0|    0|                                      0|     0|     0|              0|           1|         0|     0|     0|                 0|     0|    0|    0|        0|      0|        0|       0|        0|      0|      0|    0|        0|     0|       0|     0|         0|           1|                0|         0|      0|                   1|   0|                  0|                          0|                      0|      0|                 0|               0|                                   0|         0|      0|          0|                      1|                       0|       0|          0|       0|          0|                    0|                 0|   0|              0|                         0|                       0|            0|        0|                         0|   0|               0|            0|\n",
      "|        193454|    JAIME HUMBERTO GO...|            2|                 79957800|                    3.99789E7|                1|                  1|                 1|                1|           1|         1|                         24|        0|     0|     0|      0|          0|       0|   0|       0|       0|    0|      0|        0|      0|    0|                                      0|     0|     0|              0|           0|         0|     0|     0|                 0|     2|    0|    0|        0|      0|        0|       0|        0|      0|      0|    0|        0|     0|       0|     0|         0|           2|                0|         0|      0|                   2|   0|                  0|                          0|                      0|      0|                 0|               0|                                   0|         0|      0|          0|                      2|                       0|       0|          0|       0|          0|                    0|                 0|   0|              0|                         0|                       0|            0|        0|                         0|   0|               0|            0|\n",
      "|        195176|    OSCAR IVAN ORTEGO...|            1|                  5012000|                    5012000.0|                1|                  1|                 1|                1|           1|         1|                         23|        0|     0|     0|      0|          0|       0|   0|       0|       0|    0|      0|        0|      0|    0|                                      0|     0|     0|              0|           0|         0|     0|     0|                 0|     1|    0|    0|        0|      0|        0|       0|        0|      0|      0|    0|        0|     0|       0|     0|         0|           1|                0|         0|      0|                   1|   0|                  0|                          0|                      0|      0|                 0|               0|                                   0|         0|      0|          0|                      1|                       0|       0|          0|       0|          0|                    0|                 0|   0|              0|                         0|                       0|            0|        0|                         0|   0|               0|            0|\n",
      "|        206762|    RODRIGO MOREIRA S...|            1|                100430000|                     1.0043E8|                1|                  1|                 1|                1|           1|         1|                         27|        0|     0|     0|      0|          0|       0|   0|       0|       0|    0|      0|        0|      0|    0|                                      0|     0|     0|              0|           0|         0|     0|     0|                 0|     1|    0|    0|        0|      0|        0|       0|        0|      0|      0|    0|        0|     0|       0|     0|         0|           1|                0|         0|      0|                   1|   0|                  0|                          0|                      0|      0|                 0|               0|                                   0|         0|      0|          0|                      1|                       0|       0|          0|       0|          0|                    0|                 0|   0|              0|                         0|                       0|            0|        0|                         0|   0|               0|            0|\n",
      "+--------------+------------------------+-------------+-------------------------+-----------------------------+-----------------+-------------------+------------------+-----------------+------------+----------+---------------------------+---------+------+------+-------+-----------+--------+----+--------+--------+-----+-------+---------+-------+-----+---------------------------------------+------+------+---------------+------------+----------+------+------+------------------+------+-----+-----+---------+-------+---------+--------+---------+-------+-------+-----+---------+------+--------+------+----------+------------+-----------------+----------+-------+--------------------+----+-------------------+---------------------------+-----------------------+-------+------------------+----------------+------------------------------------+----------+-------+-----------+-----------------------+------------------------+--------+-----------+--------+-----------+---------------------+------------------+----+---------------+--------------------------+------------------------+-------------+---------+--------------------------+----+----------------+-------------+\n",
      "only showing top 20 rows\n",
      "\n"
     ]
    }
   ],
   "source": [
    "infraestructura_df_agregado_y_pivotado = pyspark_etl_functions.unir_dataframes(infraestructura_df_agregado_y_pivotado, infraestructura_df_pivotado)\n",
    "infraestructura_df_agregado_y_pivotado.show()"
   ]
  },
  {
   "cell_type": "code",
   "execution_count": 27,
   "metadata": {},
   "outputs": [
    {
     "name": "stderr",
     "output_type": "stream",
     "text": [
      "[Stage 290:>                                                        (0 + 4) / 5]\r"
     ]
    },
    {
     "name": "stdout",
     "output_type": "stream",
     "text": [
      "23/04/21 09:57:02 WARN RowBasedKeyValueBatch: Calling spill() on RowBasedKeyValueBatch. Will not spill but return 0.\n",
      "23/04/21 09:57:02 WARN RowBasedKeyValueBatch: Calling spill() on RowBasedKeyValueBatch. Will not spill but return 0.\n",
      "23/04/21 09:57:02 WARN RowBasedKeyValueBatch: Calling spill() on RowBasedKeyValueBatch. Will not spill but return 0.\n",
      "23/04/21 09:57:02 WARN RowBasedKeyValueBatch: Calling spill() on RowBasedKeyValueBatch. Will not spill but return 0.\n",
      "23/04/21 09:57:02 WARN RowBasedKeyValueBatch: Calling spill() on RowBasedKeyValueBatch. Will not spill but return 0.\n",
      "23/04/21 09:57:02 WARN RowBasedKeyValueBatch: Calling spill() on RowBasedKeyValueBatch. Will not spill but return 0.\n",
      "23/04/21 09:57:02 WARN RowBasedKeyValueBatch: Calling spill() on RowBasedKeyValueBatch. Will not spill but return 0.\n",
      "23/04/21 09:57:02 WARN RowBasedKeyValueBatch: Calling spill() on RowBasedKeyValueBatch. Will not spill but return 0.\n"
     ]
    },
    {
     "name": "stderr",
     "output_type": "stream",
     "text": [
      "                                                                                \r"
     ]
    },
    {
     "name": "stdout",
     "output_type": "stream",
     "text": [
      "+--------------+------------------------+---------------------+----------------------------+--------------------------------------------------+----------------+------------------+-----------+---------------------+--------+-------+--------------------------+-------------------------+---------+------------------+---------------+---------------------------+--------+---------------------------------+---------------------------------------------+----------+-----------------------+--------------------------------+-------+-------+---------------+----------+\n",
      "|ID_CONTRATISTA|RAZON_SOCIAL_CONTRATISTA|RELACIONES EXTERIORES|VIVIENDA CIUDAD Y TERRITORIO|TECNOLOGIAS DE LA INFORMACION Y LAS COMUNICACIONES|SERVICIO PUBLICO|EDUCACION NACIONAL|AGRICULTURA|NO APLICANO PERTENECE|DEPORTES|DEFENSA|HACIENDA Y CREDITO PUBLICO|SALUD Y PROTECCION SOCIAL|INDUSTRIA|CIENCIA TECNOLOGIA|MINAS Y ENERGIA|PRESIDENCIA DE LA REPUBLICA|INTERIOR|INCLUSION SOCIAL Y RECONCILIACION|INTELIGENCIA ESTRATEGICA Y CONTRAINTELIGENCIA|TRANSPORTE|INFORMACION ESTADISTICA|AMBIENTE Y DESARROLLO SOSTENIBLE|TRABAJO|CULTURA|LEY DE JUSTICIA|PLANEACION|\n",
      "+--------------+------------------------+---------------------+----------------------------+--------------------------------------------------+----------------+------------------+-----------+---------------------+--------+-------+--------------------------+-------------------------+---------+------------------+---------------+---------------------------+--------+---------------------------------+---------------------------------------------+----------+-----------------------+--------------------------------+-------+-------+---------------+----------+\n",
      "|    1118564095|    HERLENY DISNEY AC...|                    0|                           0|                                                 0|               2|                 0|          0|                    0|       0|      0|                         0|                        0|        0|                 0|              0|                          0|       0|                                0|                                            0|         0|                      0|                               0|      0|      0|              0|         0|\n",
      "|    1118840500|    NATHALIE VIVIANA ...|                    0|                           0|                                                 0|               2|                 0|          0|                    0|       0|      0|                         0|                        0|        0|                 0|              0|                          0|       0|                                0|                                            0|         0|                      0|                               0|      0|      0|              0|         0|\n",
      "|     900696969|    FUNDACION PARA EL...|                    0|                           0|                                                 0|               1|                 0|          0|                    0|       0|      0|                         0|                        5|        0|                 0|              0|                          0|       0|                                0|                                            0|         0|                      0|                               0|      0|      0|              0|         0|\n",
      "|      84456512|    JOSE LUIS RAMIREZ...|                    0|                           0|                                                 0|               0|                 0|          0|                    0|       0|      0|                         0|                        0|        0|                 0|              0|                          0|       0|                                0|                                            0|         0|                      0|                               0|      1|      0|              0|         0|\n",
      "|      36382919|    TANIA MARCELA MUÑ...|                    0|                           0|                                                 0|               0|                 0|          0|                    0|       0|      0|                         0|                        0|        0|                 0|              0|                          0|       0|                                0|                                            0|         0|                      0|                               0|      1|      0|              0|         0|\n",
      "|     900924609|      INDUSTRIAL 180 SAS|                    0|                           0|                                                 0|               1|                 0|          0|                    2|       0|      6|                         1|                        0|        0|                 0|              0|                          0|       0|                                0|                                            0|         0|                      0|                               0|      0|      0|              1|         0|\n",
      "|      80264589|    JOLMAN RICARDO JU...|                    0|                           0|                                                 0|               0|                 0|          0|                    1|       0|      0|                         0|                        0|        0|                 0|              0|                          0|       0|                                0|                                            0|         0|                      0|                               0|      0|      0|              0|         0|\n",
      "|    1065824962|    LAURA VANESSA CHI...|                    0|                           0|                                                 0|               2|                 0|          0|                    0|       0|      0|                         0|                        0|        0|                 0|              0|                          0|       0|                                0|                                            0|         0|                      0|                               0|      0|      0|              0|         0|\n",
      "|      91494506|    NESTOR RAMIREZ URIBE|                    0|                           0|                                                 0|               0|                 0|          0|                    0|       0|      0|                         0|                        1|        0|                 0|              0|                          0|       0|                                0|                                            0|         0|                      0|                               0|      0|      0|              0|         0|\n",
      "|     899999054|    ESAP SEDE CENTRAL...|                    0|                           1|                                                 0|               2|                 0|          1|                    0|       0|      0|                         1|                        0|        0|                 0|              0|                          1|       1|                                0|                                            0|         0|                      0|                               0|      1|      0|              0|         0|\n",
      "|      43841292|    SHINYA MIRYAM RIO...|                    0|                           0|                                                 0|               0|                 1|          0|                    0|       0|      0|                         0|                        0|        0|                 0|              0|                          0|       0|                                0|                                            0|         0|                      0|                               0|      0|      0|              0|         0|\n",
      "|      13507221|    LUIS ANTONIO ACEV...|                    0|                           0|                                                 0|               0|                 0|          0|                    0|       0|      0|                         0|                        0|        0|                 0|              0|                          0|       0|                                0|                                            0|         0|                      0|                               0|      0|      0|              0|         1|\n",
      "|      72211686|    CARLOS SEGUNDO BO...|                    0|                           0|                                                 0|               0|                 0|          0|                    0|       0|      0|                         0|                        0|        0|                 0|              0|                          0|       0|                                0|                                            0|         0|                      0|                               1|      0|      0|              0|         0|\n",
      "|      16355206|    CARLOS ENRIQUE PE...|                    0|                           0|                                                 0|               3|                 0|          0|                    0|       0|      0|                         0|                        0|        0|                 0|              0|                          0|       0|                                0|                                            0|         0|                      0|                               0|      0|      0|              0|         0|\n",
      "|    1129580226|    KARLA JULIETH NIE...|                    0|                           0|                                                 0|               0|                 0|          0|                    0|       0|      0|                         0|                        0|        0|                 0|              0|                          0|       0|                                0|                                            0|         0|                      2|                               0|      0|      0|              0|         0|\n",
      "|    1096210664|    DANNA VANESSA HOY...|                    0|                           0|                                                 0|               1|                 0|          0|                    1|       0|      0|                         0|                        0|        0|                 0|              0|                          0|       0|                                0|                                            0|         0|                      0|                               0|      0|      0|              0|         0|\n",
      "|      40992952|    VILMA ESTHER SARM...|                    0|                           0|                                                 0|               0|                 0|          0|                    2|       0|      0|                         0|                        0|        0|                 0|              0|                          0|       0|                                0|                                            0|         0|                      0|                               0|      0|      0|              0|         0|\n",
      "|    1069852573|    JORGE ANDRES ACOS...|                    0|                           0|                                                 0|               0|                 0|          0|                    0|       3|      0|                         0|                        0|        0|                 0|              0|                          0|       0|                                0|                                            0|         0|                      0|                               0|      0|      0|              0|         0|\n",
      "|      79481757|    WILSON CHAPARRO S...|                    0|                           0|                                                 0|               0|                 0|          0|                    0|       0|      0|                         0|                        0|        0|                 0|              0|                          0|       0|                                0|                                            0|         0|                      0|                               1|      0|      0|              0|         0|\n",
      "|    1026572352|    NANCY LORENA BURG...|                    0|                           0|                                                 0|               0|                 0|          0|                    0|       0|      0|                         0|                        1|        0|                 0|              0|                          0|       0|                                0|                                            0|         0|                      0|                               0|      0|      0|              0|         0|\n",
      "+--------------+------------------------+---------------------+----------------------------+--------------------------------------------------+----------------+------------------+-----------+---------------------+--------+-------+--------------------------+-------------------------+---------+------------------+---------------+---------------------------+--------+---------------------------------+---------------------------------------------+----------+-----------------------+--------------------------------+-------+-------+---------------+----------+\n",
      "only showing top 20 rows\n",
      "\n"
     ]
    }
   ],
   "source": [
    "infraestructura_df_pivotado = pyspark_etl_functions.pivotar_por_columna(infraestructura_df_seleccionado, \"NOMBRE_FAMILIA\")\n",
    "infraestructura_df_pivotado.show()"
   ]
  },
  {
   "cell_type": "code",
   "execution_count": 28,
   "metadata": {},
   "outputs": [
    {
     "name": "stderr",
     "output_type": "stream",
     "text": [
      "[Stage 301:==>(4 + 1) / 5][Stage 303:>  (0 + 3) / 5][Stage 304:>  (0 + 0) / 5]5]\r"
     ]
    },
    {
     "name": "stdout",
     "output_type": "stream",
     "text": [
      "23/04/21 09:57:28 WARN RowBasedKeyValueBatch: Calling spill() on RowBasedKeyValueBatch. Will not spill but return 0.\n",
      "23/04/21 09:57:28 WARN RowBasedKeyValueBatch: Calling spill() on RowBasedKeyValueBatch. Will not spill but return 0.\n",
      "23/04/21 09:57:28 WARN RowBasedKeyValueBatch: Calling spill() on RowBasedKeyValueBatch. Will not spill but return 0.\n",
      "23/04/21 09:57:28 WARN RowBasedKeyValueBatch: Calling spill() on RowBasedKeyValueBatch. Will not spill but return 0.\n"
     ]
    },
    {
     "name": "stderr",
     "output_type": "stream",
     "text": [
      "[Stage 303:>  (0 + 4) / 5][Stage 304:>  (0 + 0) / 5][Stage 305:>  (0 + 0) / 5]\r"
     ]
    },
    {
     "name": "stdout",
     "output_type": "stream",
     "text": [
      "23/04/21 09:57:28 WARN RowBasedKeyValueBatch: Calling spill() on RowBasedKeyValueBatch. Will not spill but return 0.\n",
      "23/04/21 09:57:28 WARN RowBasedKeyValueBatch: Calling spill() on RowBasedKeyValueBatch. Will not spill but return 0.\n",
      "23/04/21 09:57:29 WARN RowBasedKeyValueBatch: Calling spill() on RowBasedKeyValueBatch. Will not spill but return 0.\n",
      "23/04/21 09:57:29 WARN RowBasedKeyValueBatch: Calling spill() on RowBasedKeyValueBatch. Will not spill but return 0.\n"
     ]
    },
    {
     "name": "stderr",
     "output_type": "stream",
     "text": [
      "[Stage 304:>  (0 + 4) / 5][Stage 305:>  (0 + 0) / 5][Stage 306:>  (0 + 0) / 5]\r"
     ]
    },
    {
     "name": "stdout",
     "output_type": "stream",
     "text": [
      "23/04/21 09:57:31 WARN RowBasedKeyValueBatch: Calling spill() on RowBasedKeyValueBatch. Will not spill but return 0.\n",
      "23/04/21 09:57:31 WARN RowBasedKeyValueBatch: Calling spill() on RowBasedKeyValueBatch. Will not spill but return 0.\n",
      "23/04/21 09:57:31 WARN RowBasedKeyValueBatch: Calling spill() on RowBasedKeyValueBatch. Will not spill but return 0.\n",
      "23/04/21 09:57:31 WARN RowBasedKeyValueBatch: Calling spill() on RowBasedKeyValueBatch. Will not spill but return 0.\n",
      "23/04/21 09:57:31 WARN RowBasedKeyValueBatch: Calling spill() on RowBasedKeyValueBatch. Will not spill but return 0.\n",
      "23/04/21 09:57:31 WARN RowBasedKeyValueBatch: Calling spill() on RowBasedKeyValueBatch. Will not spill but return 0.\n",
      "23/04/21 09:57:31 WARN RowBasedKeyValueBatch: Calling spill() on RowBasedKeyValueBatch. Will not spill but return 0.\n",
      "23/04/21 09:57:31 WARN RowBasedKeyValueBatch: Calling spill() on RowBasedKeyValueBatch. Will not spill but return 0.\n"
     ]
    },
    {
     "name": "stderr",
     "output_type": "stream",
     "text": [
      "[Stage 305:>  (0 + 4) / 5][Stage 306:>  (0 + 0) / 5][Stage 307:>  (0 + 0) / 5]\r"
     ]
    },
    {
     "name": "stdout",
     "output_type": "stream",
     "text": [
      "23/04/21 09:57:34 WARN RowBasedKeyValueBatch: Calling spill() on RowBasedKeyValueBatch. Will not spill but return 0.\n",
      "23/04/21 09:57:34 WARN RowBasedKeyValueBatch: Calling spill() on RowBasedKeyValueBatch. Will not spill but return 0.\n",
      "23/04/21 09:57:34 WARN RowBasedKeyValueBatch: Calling spill() on RowBasedKeyValueBatch. Will not spill but return 0.\n",
      "23/04/21 09:57:34 WARN RowBasedKeyValueBatch: Calling spill() on RowBasedKeyValueBatch. Will not spill but return 0.\n",
      "23/04/21 09:57:34 WARN RowBasedKeyValueBatch: Calling spill() on RowBasedKeyValueBatch. Will not spill but return 0.\n",
      "23/04/21 09:57:34 WARN RowBasedKeyValueBatch: Calling spill() on RowBasedKeyValueBatch. Will not spill but return 0.\n",
      "23/04/21 09:57:34 WARN RowBasedKeyValueBatch: Calling spill() on RowBasedKeyValueBatch. Will not spill but return 0.\n",
      "23/04/21 09:57:34 WARN RowBasedKeyValueBatch: Calling spill() on RowBasedKeyValueBatch. Will not spill but return 0.\n",
      "23/04/21 09:57:34 WARN RowBasedKeyValueBatch: Calling spill() on RowBasedKeyValueBatch. Will not spill but return 0.\n",
      "23/04/21 09:57:34 WARN RowBasedKeyValueBatch: Calling spill() on RowBasedKeyValueBatch. Will not spill but return 0.\n"
     ]
    },
    {
     "name": "stderr",
     "output_type": "stream",
     "text": [
      "[Stage 306:>  (0 + 4) / 5][Stage 307:>  (0 + 0) / 5][Stage 310:>  (0 + 0) / 5]\r"
     ]
    },
    {
     "name": "stdout",
     "output_type": "stream",
     "text": [
      "23/04/21 09:57:37 WARN RowBasedKeyValueBatch: Calling spill() on RowBasedKeyValueBatch. Will not spill but return 0.\n",
      "23/04/21 09:57:37 WARN RowBasedKeyValueBatch: Calling spill() on RowBasedKeyValueBatch. Will not spill but return 0.\n",
      "23/04/21 09:57:37 WARN RowBasedKeyValueBatch: Calling spill() on RowBasedKeyValueBatch. Will not spill but return 0.\n",
      "23/04/21 09:57:37 WARN RowBasedKeyValueBatch: Calling spill() on RowBasedKeyValueBatch. Will not spill but return 0.\n",
      "23/04/21 09:57:37 WARN RowBasedKeyValueBatch: Calling spill() on RowBasedKeyValueBatch. Will not spill but return 0.\n",
      "23/04/21 09:57:37 WARN RowBasedKeyValueBatch: Calling spill() on RowBasedKeyValueBatch. Will not spill but return 0.\n",
      "23/04/21 09:57:37 WARN RowBasedKeyValueBatch: Calling spill() on RowBasedKeyValueBatch. Will not spill but return 0.\n",
      "23/04/21 09:57:37 WARN RowBasedKeyValueBatch: Calling spill() on RowBasedKeyValueBatch. Will not spill but return 0.\n"
     ]
    },
    {
     "name": "stderr",
     "output_type": "stream",
     "text": [
      "[Stage 307:>  (0 + 4) / 5][Stage 310:>  (0 + 0) / 5][Stage 312:>  (0 + 0) / 4]\r"
     ]
    },
    {
     "name": "stdout",
     "output_type": "stream",
     "text": [
      "23/04/21 09:57:39 WARN RowBasedKeyValueBatch: Calling spill() on RowBasedKeyValueBatch. Will not spill but return 0.\n",
      "23/04/21 09:57:39 WARN RowBasedKeyValueBatch: Calling spill() on RowBasedKeyValueBatch. Will not spill but return 0.\n",
      "23/04/21 09:57:39 WARN RowBasedKeyValueBatch: Calling spill() on RowBasedKeyValueBatch. Will not spill but return 0.\n",
      "23/04/21 09:57:39 WARN RowBasedKeyValueBatch: Calling spill() on RowBasedKeyValueBatch. Will not spill but return 0.\n",
      "23/04/21 09:57:39 WARN RowBasedKeyValueBatch: Calling spill() on RowBasedKeyValueBatch. Will not spill but return 0.\n",
      "23/04/21 09:57:39 WARN RowBasedKeyValueBatch: Calling spill() on RowBasedKeyValueBatch. Will not spill but return 0.\n",
      "23/04/21 09:57:39 WARN RowBasedKeyValueBatch: Calling spill() on RowBasedKeyValueBatch. Will not spill but return 0.\n",
      "23/04/21 09:57:39 WARN RowBasedKeyValueBatch: Calling spill() on RowBasedKeyValueBatch. Will not spill but return 0.\n"
     ]
    },
    {
     "name": "stderr",
     "output_type": "stream",
     "text": [
      "[Stage 355:>                                                        (0 + 1) / 1]\r"
     ]
    },
    {
     "name": "stdout",
     "output_type": "stream",
     "text": [
      "+--------------+------------------------+-------------+-------------------------+-----------------------------+-----------------+-------------------+------------------+-----------------+------------+----------+---------------------------+---------+------+------+-------+-----------+--------+----+--------+--------+-----+-------+---------+-------+-----+---------------------------------------+------+------+---------------+------------+----------+------+------+------------------+------+-----+-----+---------+-------+---------+--------+---------+-------+-------+-----+---------+------+--------+------+----------+------------+-----------------+----------+-------+--------------------+----+-------------------+---------------------------+-----------------------+-------+------------------+----------------+------------------------------------+----------+-------+-----------+-----------------------+------------------------+--------+-----------+--------+-----------+---------------------+------------------+----+---------------+--------------------------+------------------------+-------------+---------+--------------------------+----+----------------+-------------+---------------------+----------------------------+--------------------------------------------------+----------------+------------------+-----------+---------------------+--------+-------+--------------------------+-------------------------+---------+------------------+---------------+---------------------------+--------+---------------------------------+---------------------------------------------+----------+-----------------------+--------------------------------+-------+-------+---------------+----------+\n",
      "|ID_CONTRATISTA|RAZON_SOCIAL_CONTRATISTA|num_contratos|suma_valor_total_contrato|promedio_valor_total_contrato|num_departamentos|num_estados_proceso|num_clases_proceso|num_tipos_proceso|num_familias|num_clases|meses_desde_ultimo_contrato|SANTANDER|VAUPES|NARIÑO|CAQUETA|NO DEFINIDO|CASANARE|META|AMAZONAS|GUAVIARE|CAUCA|VICHADA|ANTIOQUIA|QUINDIO|CHOCO|SAN ANDRES PROVIDENCIA Y SANTA CATALINA|CALDAS|BOYACA|VALLE DEL CAUCA|CUNDINAMARCA|LA GUAJIRA|TOLIMA|ARAUCA|NORTE DE SANTANDER|BOGOTA|HUILA|SUCRE|ATLANTICO|BOLIVAR|RISARALDA|PUTUMAYO|MAGDALENA|GUAINIA|CORDOBA|CESAR|TERMINADO|ACTIVO|BORRADOR|CEDIDO|MODIFICADO|EN EJECUCION|ENVIADO PROVEEDOR|SUSPENDIDO|CERRADO|CONTRATACION DIRECTA|null|CONCURSO DE MERITOS|CONTRATACION MINIMA CUANTIA|LICITACION OBRA PUBLICA|SUBASTA|LICITACION PUBLICA|REGIMEN ESPECIAL|SELECCION ABREVIADA DE MENOR CUANTIA|EMPRESTITO|SEGUROS|CONSULTORIA|PRESTACION DE SERVICIOS|ACUERDO MARCO DE PRECIOS|COMISION|COMPRAVENTA|COMODATO|SUMINISTROS|SERVICIOS FINANCIEROS|NEGOCIO FIDUCIARIO|OTRO|VENTA INMUEBLES|ARRENDAMIENTO DE INMUEBLES|ARRENDAMIENTO DE MUEBLES|INTERVENTORIA|CONCESION|ASOCIACION PUBLICO PRIVADA|OBRA|DECREELAW0922017|VENTA MUEBLES|RELACIONES EXTERIORES|VIVIENDA CIUDAD Y TERRITORIO|TECNOLOGIAS DE LA INFORMACION Y LAS COMUNICACIONES|SERVICIO PUBLICO|EDUCACION NACIONAL|AGRICULTURA|NO APLICANO PERTENECE|DEPORTES|DEFENSA|HACIENDA Y CREDITO PUBLICO|SALUD Y PROTECCION SOCIAL|INDUSTRIA|CIENCIA TECNOLOGIA|MINAS Y ENERGIA|PRESIDENCIA DE LA REPUBLICA|INTERIOR|INCLUSION SOCIAL Y RECONCILIACION|INTELIGENCIA ESTRATEGICA Y CONTRAINTELIGENCIA|TRANSPORTE|INFORMACION ESTADISTICA|AMBIENTE Y DESARROLLO SOSTENIBLE|TRABAJO|CULTURA|LEY DE JUSTICIA|PLANEACION|\n",
      "+--------------+------------------------+-------------+-------------------------+-----------------------------+-----------------+-------------------+------------------+-----------------+------------+----------+---------------------------+---------+------+------+-------+-----------+--------+----+--------+--------+-----+-------+---------+-------+-----+---------------------------------------+------+------+---------------+------------+----------+------+------+------------------+------+-----+-----+---------+-------+---------+--------+---------+-------+-------+-----+---------+------+--------+------+----------+------------+-----------------+----------+-------+--------------------+----+-------------------+---------------------------+-----------------------+-------+------------------+----------------+------------------------------------+----------+-------+-----------+-----------------------+------------------------+--------+-----------+--------+-----------+---------------------+------------------+----+---------------+--------------------------+------------------------+-------------+---------+--------------------------+----+----------------+-------------+---------------------+----------------------------+--------------------------------------------------+----------------+------------------+-----------+---------------------+--------+-------+--------------------------+-------------------------+---------+------------------+---------------+---------------------------+--------+---------------------------------+---------------------------------------------+----------+-----------------------+--------------------------------+-------+-------+---------------+----------+\n",
      "|             0|    CONSORCIO ESPINAL...|            1|                331764967|                 3.31764967E8|                1|                  1|                 1|                1|           1|         1|                         22|        0|     0|     0|      0|          0|       0|   0|       0|       0|    0|      0|        0|      0|    0|                                      0|     0|     0|              0|           0|         0|     0|     0|                 0|     1|    0|    0|        0|      0|        0|       0|        0|      0|      0|    0|        0|     0|       0|     0|         0|           1|                0|         0|      0|                   0|   0|                  1|                          0|                      0|      0|                 0|               0|                                   0|         0|      0|          0|                      0|                       0|       0|          0|       0|          0|                    0|                 0|   0|              0|                         0|                       0|            1|        0|                         0|   0|               0|            0|                    0|                           0|                                                 0|               0|                 0|          0|                    0|       0|      0|                         0|                        0|        0|                 0|              0|                          0|       0|                                0|                                            0|         1|                      0|                               0|      0|      0|              0|         0|\n",
      "|             0|    CONSORCIO INTERVE...|            1|                475311103|                 4.75311103E8|                1|                  1|                 1|                1|           1|         1|                         19|        0|     0|     0|      0|          0|       0|   0|       0|       0|    0|      0|        0|      0|    0|                                      0|     0|     0|              0|           0|         0|     0|     0|                 0|     1|    0|    0|        0|      0|        0|       0|        0|      0|      0|    0|        0|     1|       0|     0|         0|           0|                0|         0|      0|                   0|   0|                  1|                          0|                      0|      0|                 0|               0|                                   0|         0|      0|          0|                      0|                       0|       0|          0|       0|          0|                    0|                 0|   0|              0|                         0|                       0|            1|        0|                         0|   0|               0|            0|                    0|                           0|                                                 0|               0|                 0|          0|                    0|       0|      0|                         0|                        0|        0|                 0|              0|                          0|       0|                                0|                                            0|         1|                      0|                               0|      0|      0|              0|         0|\n",
      "|             0|    UNION TEMPORAL EQ...|            2|                677510589|                3.387552945E8|                2|                  1|                 2|                1|           2|         2|                         22|        0|     0|     0|      0|          0|       0|   0|       0|       0|    0|      0|        0|      0|    0|                                      0|     0|     0|              0|           1|         0|     0|     0|                 0|     1|    0|    0|        0|      0|        0|       0|        0|      0|      0|    0|        0|     0|       0|     0|         2|           0|                0|         0|      0|                   0|   0|                  0|                          0|                      0|      1|                 0|               0|                                   1|         0|      0|          0|                      0|                       0|       0|          2|       0|          0|                    0|                 0|   0|              0|                         0|                       0|            0|        0|                         0|   0|               0|            0|                    0|                           0|                                                 0|               0|                 0|          0|                    1|       0|      0|                         0|                        0|        0|                 0|              1|                          0|       0|                                0|                                            0|         0|                      0|                               0|      0|      0|              0|         0|\n",
      "|             0|    UNION TEMPORAL IBICI|            1|                876230395|                 8.76230395E8|                1|                  1|                 1|                1|           1|         1|                         22|        0|     0|     0|      0|          0|       0|   0|       0|       0|    0|      0|        0|      0|    0|                                      0|     0|     0|              0|           0|         0|     1|     0|                 0|     0|    0|    0|        0|      0|        0|       0|        0|      0|      0|    0|        0|     0|       0|     0|         0|           1|                0|         0|      0|                   0|   0|                  0|                          0|                      1|      0|                 0|               0|                                   0|         0|      0|          0|                      1|                       0|       0|          0|       0|          0|                    0|                 0|   0|              0|                         0|                       0|            0|        0|                         0|   0|               0|            0|                    0|                           0|                                                 0|               0|                 0|          0|                    1|       0|      0|                         0|                        0|        0|                 0|              0|                          0|       0|                                0|                                            0|         0|                      0|                               0|      0|      0|              0|         0|\n",
      "|             0|    UNION TEMPORAL MI...|            1|               4581987318|                4.581987318E9|                1|                  1|                 1|                1|           1|         1|                         22|        0|     0|     0|      0|          0|       0|   0|       0|       0|    0|      0|        0|      0|    0|                                      0|     0|     0|              0|           0|         0|     0|     0|                 0|     1|    0|    0|        0|      0|        0|       0|        0|      0|      0|    0|        0|     0|       0|     0|         0|           0|                0|         1|      0|                   1|   0|                  0|                          0|                      0|      0|                 0|               0|                                   0|         0|      0|          0|                      0|                       0|       0|          0|       0|          0|                    0|                 0|   1|              0|                         0|                       0|            0|        0|                         0|   0|               0|            0|                    0|                           0|                                                 0|               0|                 0|          0|                    0|       0|      0|                         1|                        0|        0|                 0|              0|                          0|       0|                                0|                                            0|         0|                      0|                               0|      0|      0|              0|         0|\n",
      "|           123|    UNION TEMPORAL EL...|            1|                 30000000|                        3.0E7|                1|                  1|                 1|                1|           1|         1|                         23|        0|     0|     0|      0|          0|       0|   0|       0|       0|    0|      0|        0|      0|    0|                                      0|     0|     0|              0|           0|         0|     0|     1|                 0|     0|    0|    0|        0|      0|        0|       0|        0|      0|      0|    0|        0|     0|       0|     0|         0|           0|                0|         0|      1|                   0|   0|                  0|                          0|                      0|      0|                 0|               0|                                   1|         0|      0|          0|                      1|                       0|       0|          0|       0|          0|                    0|                 0|   0|              0|                         0|                       0|            0|        0|                         0|   0|               0|            0|                    0|                           0|                                                 0|               1|                 0|          0|                    0|       0|      0|                         0|                        0|        0|                 0|              0|                          0|       0|                                0|                                            0|         0|                      0|                               0|      0|      0|              0|         0|\n",
      "|          6771|    CONSORCIO RINCONL...|            1|                480476173|                 4.80476173E8|                1|                  1|                 1|                1|           1|         1|                         20|        0|     0|     0|      0|          0|       0|   0|       0|       0|    0|      0|        0|      0|    0|                                      0|     0|     0|              0|           0|         0|     0|     0|                 0|     1|    0|    0|        0|      0|        0|       0|        0|      0|      0|    0|        0|     0|       0|     0|         0|           1|                0|         0|      0|                   0|   0|                  1|                          0|                      0|      0|                 0|               0|                                   0|         0|      0|          1|                      0|                       0|       0|          0|       0|          0|                    0|                 0|   0|              0|                         0|                       0|            0|        0|                         0|   0|               0|            0|                    0|                           0|                                                 0|               0|                 0|          0|                    0|       0|      0|                         0|                        0|        0|                 0|              0|                          0|       0|                                0|                                            0|         0|                      0|                               0|      0|      1|              0|         0|\n",
      "|         20211|      CONSORCIO TEMPORAL|            1|               2848163781|                2.848163781E9|                1|                  1|                 1|                1|           1|         1|                         20|        0|     0|     0|      0|          0|       0|   0|       0|       0|    0|      0|        0|      0|    0|                                      0|     0|     0|              0|           0|         0|     0|     0|                 0|     1|    0|    0|        0|      0|        0|       0|        0|      0|      0|    0|        0|     0|       0|     0|         0|           1|                0|         0|      0|                   0|   0|                  0|                          0|                      1|      0|                 0|               0|                                   0|         0|      0|          0|                      0|                       0|       0|          0|       0|          0|                    0|                 0|   0|              0|                         0|                       0|            0|        0|                         0|   1|               0|            0|                    0|                           0|                                                 0|               0|                 0|          0|                    0|       0|      1|                         0|                        0|        0|                 0|              0|                          0|       0|                                0|                                            0|         0|                      0|                               0|      0|      0|              0|         0|\n",
      "|         22222|    UT ACCESORIOS DE ...|            1|                468468040|                  4.6846804E8|                1|                  1|                 1|                1|           1|         1|                         20|        0|     0|     0|      0|          0|       0|   0|       0|       0|    0|      0|        0|      0|    0|                                      0|     0|     0|              0|           0|         0|     0|     0|                 0|     1|    0|    0|        0|      0|        0|       0|        0|      0|      0|    0|        0|     1|       0|     0|         0|           0|                0|         0|      0|                   0|   0|                  0|                          0|                      0|      1|                 0|               0|                                   0|         0|      0|          0|                      0|                       0|       0|          1|       0|          0|                    0|                 0|   0|              0|                         0|                       0|            0|        0|                         0|   0|               0|            0|                    0|                           0|                                                 0|               0|                 0|          0|                    0|       0|      1|                         0|                        0|        0|                 0|              0|                          0|       0|                                0|                                            0|         0|                      0|                               0|      0|      0|              0|         0|\n",
      "|         52733|           CLAUDIA GOMEZ|            1|                 75000000|                        7.5E7|                1|                  1|                 1|                1|           1|         1|                         26|        0|     0|     0|      0|          0|       0|   0|       0|       0|    0|      0|        0|      0|    0|                                      0|     0|     0|              0|           0|         0|     0|     0|                 0|     1|    0|    0|        0|      0|        0|       0|        0|      0|      0|    0|        1|     0|       0|     0|         0|           0|                0|         0|      0|                   1|   0|                  0|                          0|                      0|      0|                 0|               0|                                   0|         0|      0|          0|                      1|                       0|       0|          0|       0|          0|                    0|                 0|   0|              0|                         0|                       0|            0|        0|                         0|   0|               0|            0|                    0|                           0|                                                 0|               0|                 0|          0|                    0|       0|      0|                         0|                        1|        0|                 0|              0|                          0|       0|                                0|                                            0|         0|                      0|                               0|      0|      0|              0|         0|\n",
      "|         59078|                   A S R|            1|                 80948652|                  8.0948652E7|                1|                  1|                 1|                1|           1|         1|                         27|        0|     0|     0|      0|          0|       0|   0|       0|       0|    0|      0|        0|      0|    0|                                      0|     0|     0|              0|           0|         0|     0|     0|                 0|     1|    0|    0|        0|      0|        0|       0|        0|      0|      0|    0|        0|     0|       0|     0|         0|           1|                0|         0|      0|                   1|   0|                  0|                          0|                      0|      0|                 0|               0|                                   0|         0|      0|          0|                      0|                       0|       0|          0|       0|          0|                    0|                 0|   0|              0|                         1|                       0|            0|        0|                         0|   0|               0|            0|                    0|                           0|                                                 0|               0|                 0|          0|                    0|       0|      0|                         1|                        0|        0|                 0|              0|                          0|       0|                                0|                                            0|         0|                      0|                               0|      0|      0|              0|         0|\n",
      "|        112954|    LUIS ENRIQUE TUNT...|            1|                 11952000|                     1.1952E7|                1|                  1|                 1|                1|           1|         1|                         24|        0|     0|     0|      0|          0|       0|   0|       0|       0|    0|      0|        0|      0|    0|                                      0|     0|     0|              0|           0|         0|     0|     0|                 0|     1|    0|    0|        0|      0|        0|       0|        0|      0|      0|    0|        0|     0|       0|     0|         0|           1|                0|         0|      0|                   1|   0|                  0|                          0|                      0|      0|                 0|               0|                                   0|         0|      0|          0|                      1|                       0|       0|          0|       0|          0|                    0|                 0|   0|              0|                         0|                       0|            0|        0|                         0|   0|               0|            0|                    0|                           0|                                                 0|               0|                 0|          0|                    0|       0|      0|                         0|                        0|        0|                 0|              0|                          0|       0|                                1|                                            0|         0|                      0|                               0|      0|      0|              0|         0|\n",
      "|        120785|    JOSE MARIA CEPEDA...|            1|                 32844536|                  3.2844536E7|                1|                  1|                 1|                1|           1|         1|                         21|        0|     0|     0|      0|          0|       0|   0|       0|       0|    0|      0|        0|      0|    0|                                      0|     0|     0|              0|           0|         0|     0|     0|                 0|     1|    0|    0|        0|      0|        0|       0|        0|      0|      0|    0|        0|     0|       0|     0|         0|           1|                0|         0|      0|                   1|   0|                  0|                          0|                      0|      0|                 0|               0|                                   0|         0|      0|          0|                      0|                       0|       0|          0|       0|          0|                    0|                 0|   0|              0|                         1|                       0|            0|        0|                         0|   0|               0|            0|                    0|                           0|                                                 0|               1|                 0|          0|                    0|       0|      0|                         0|                        0|        0|                 0|              0|                          0|       0|                                0|                                            0|         0|                      0|                               0|      0|      0|              0|         0|\n",
      "|        122560|    WALBERTO SEGUNDO ...|            1|                 96000000|                        9.6E7|                1|                  1|                 1|                1|           1|         1|                         25|        0|     0|     0|      0|          0|       0|   0|       0|       0|    0|      0|        0|      0|    0|                                      0|     0|     0|              1|           0|         0|     0|     0|                 0|     0|    0|    0|        0|      0|        0|       0|        0|      0|      0|    0|        0|     0|       0|     0|         1|           0|                0|         0|      0|                   1|   0|                  0|                          0|                      0|      0|                 0|               0|                                   0|         0|      0|          0|                      0|                       0|       0|          0|       0|          0|                    0|                 0|   0|              0|                         1|                       0|            0|        0|                         0|   0|               0|            0|                    0|                           0|                                                 0|               0|                 1|          0|                    0|       0|      0|                         0|                        0|        0|                 0|              0|                          0|       0|                                0|                                            0|         0|                      0|                               0|      0|      0|              0|         0|\n",
      "|        164100|    JOSE FRANCISCO MA...|            2|                 15275000|                    7637500.0|                1|                  1|                 1|                1|           1|         1|                         21|        0|     0|     0|      0|          0|       0|   0|       0|       0|    0|      0|        0|      0|    0|                                      0|     0|     0|              2|           0|         0|     0|     0|                 0|     0|    0|    0|        0|      0|        0|       0|        0|      0|      0|    0|        0|     0|       0|     0|         0|           2|                0|         0|      0|                   2|   0|                  0|                          0|                      0|      0|                 0|               0|                                   0|         0|      0|          0|                      2|                       0|       0|          0|       0|          0|                    0|                 0|   0|              0|                         0|                       0|            0|        0|                         0|   0|               0|            0|                    0|                           0|                                                 0|               2|                 0|          0|                    0|       0|      0|                         0|                        0|        0|                 0|              0|                          0|       0|                                0|                                            0|         0|                      0|                               0|      0|      0|              0|         0|\n",
      "|        172968|    MANUEL VICENTE HE...|            1|                 32300000|                       3.23E7|                1|                  1|                 1|                1|           1|         1|                         24|        0|     0|     0|      0|          0|       0|   0|       0|       0|    0|      0|        0|      0|    0|                                      0|     0|     0|              0|           0|         0|     0|     0|                 0|     1|    0|    0|        0|      0|        0|       0|        0|      0|      0|    0|        0|     0|       0|     0|         0|           1|                0|         0|      0|                   1|   0|                  0|                          0|                      0|      0|                 0|               0|                                   0|         0|      0|          0|                      1|                       0|       0|          0|       0|          0|                    0|                 0|   0|              0|                         0|                       0|            0|        0|                         0|   0|               0|            0|                    0|                           0|                                                 0|               0|                 0|          0|                    0|       0|      0|                         0|                        0|        0|                 0|              0|                          0|       0|                                0|                                            0|         0|                      0|                               0|      0|      1|              0|         0|\n",
      "|        192074|    RICARDO RAMIREZ R...|            1|                 24633000|                     2.4633E7|                1|                  1|                 1|                1|           1|         1|                         25|        0|     0|     0|      0|          0|       0|   0|       0|       0|    0|      0|        0|      0|    0|                                      0|     0|     0|              0|           1|         0|     0|     0|                 0|     0|    0|    0|        0|      0|        0|       0|        0|      0|      0|    0|        0|     0|       0|     0|         0|           1|                0|         0|      0|                   1|   0|                  0|                          0|                      0|      0|                 0|               0|                                   0|         0|      0|          0|                      1|                       0|       0|          0|       0|          0|                    0|                 0|   0|              0|                         0|                       0|            0|        0|                         0|   0|               0|            0|                    0|                           0|                                                 0|               1|                 0|          0|                    0|       0|      0|                         0|                        0|        0|                 0|              0|                          0|       0|                                0|                                            0|         0|                      0|                               0|      0|      0|              0|         0|\n",
      "|        193454|    JAIME HUMBERTO GO...|            2|                 79957800|                    3.99789E7|                1|                  1|                 1|                1|           1|         1|                         24|        0|     0|     0|      0|          0|       0|   0|       0|       0|    0|      0|        0|      0|    0|                                      0|     0|     0|              0|           0|         0|     0|     0|                 0|     2|    0|    0|        0|      0|        0|       0|        0|      0|      0|    0|        0|     0|       0|     0|         0|           2|                0|         0|      0|                   2|   0|                  0|                          0|                      0|      0|                 0|               0|                                   0|         0|      0|          0|                      2|                       0|       0|          0|       0|          0|                    0|                 0|   0|              0|                         0|                       0|            0|        0|                         0|   0|               0|            0|                    0|                           0|                                                 0|               0|                 0|          2|                    0|       0|      0|                         0|                        0|        0|                 0|              0|                          0|       0|                                0|                                            0|         0|                      0|                               0|      0|      0|              0|         0|\n",
      "|        195176|    OSCAR IVAN ORTEGO...|            1|                  5012000|                    5012000.0|                1|                  1|                 1|                1|           1|         1|                         23|        0|     0|     0|      0|          0|       0|   0|       0|       0|    0|      0|        0|      0|    0|                                      0|     0|     0|              0|           0|         0|     0|     0|                 0|     1|    0|    0|        0|      0|        0|       0|        0|      0|      0|    0|        0|     0|       0|     0|         0|           1|                0|         0|      0|                   1|   0|                  0|                          0|                      0|      0|                 0|               0|                                   0|         0|      0|          0|                      1|                       0|       0|          0|       0|          0|                    0|                 0|   0|              0|                         0|                       0|            0|        0|                         0|   0|               0|            0|                    0|                           0|                                                 0|               0|                 0|          0|                    0|       0|      0|                         0|                        0|        0|                 0|              0|                          0|       0|                                0|                                            0|         0|                      0|                               0|      0|      0|              1|         0|\n",
      "|        206762|    RODRIGO MOREIRA S...|            1|                100430000|                     1.0043E8|                1|                  1|                 1|                1|           1|         1|                         27|        0|     0|     0|      0|          0|       0|   0|       0|       0|    0|      0|        0|      0|    0|                                      0|     0|     0|              0|           0|         0|     0|     0|                 0|     1|    0|    0|        0|      0|        0|       0|        0|      0|      0|    0|        0|     0|       0|     0|         0|           1|                0|         0|      0|                   1|   0|                  0|                          0|                      0|      0|                 0|               0|                                   0|         0|      0|          0|                      1|                       0|       0|          0|       0|          0|                    0|                 0|   0|              0|                         0|                       0|            0|        0|                         0|   0|               0|            0|                    0|                           0|                                                 0|               0|                 0|          1|                    0|       0|      0|                         0|                        0|        0|                 0|              0|                          0|       0|                                0|                                            0|         0|                      0|                               0|      0|      0|              0|         0|\n",
      "+--------------+------------------------+-------------+-------------------------+-----------------------------+-----------------+-------------------+------------------+-----------------+------------+----------+---------------------------+---------+------+------+-------+-----------+--------+----+--------+--------+-----+-------+---------+-------+-----+---------------------------------------+------+------+---------------+------------+----------+------+------+------------------+------+-----+-----+---------+-------+---------+--------+---------+-------+-------+-----+---------+------+--------+------+----------+------------+-----------------+----------+-------+--------------------+----+-------------------+---------------------------+-----------------------+-------+------------------+----------------+------------------------------------+----------+-------+-----------+-----------------------+------------------------+--------+-----------+--------+-----------+---------------------+------------------+----+---------------+--------------------------+------------------------+-------------+---------+--------------------------+----+----------------+-------------+---------------------+----------------------------+--------------------------------------------------+----------------+------------------+-----------+---------------------+--------+-------+--------------------------+-------------------------+---------+------------------+---------------+---------------------------+--------+---------------------------------+---------------------------------------------+----------+-----------------------+--------------------------------+-------+-------+---------------+----------+\n",
      "only showing top 20 rows\n",
      "\n"
     ]
    },
    {
     "name": "stderr",
     "output_type": "stream",
     "text": [
      "                                                                                \r"
     ]
    }
   ],
   "source": [
    "infraestructura_df_agregado_y_pivotado = pyspark_etl_functions.unir_dataframes(infraestructura_df_agregado_y_pivotado, infraestructura_df_pivotado)\n",
    "infraestructura_df_agregado_y_pivotado.show()"
   ]
  },
  {
   "cell_type": "code",
   "execution_count": 29,
   "metadata": {},
   "outputs": [
    {
     "name": "stderr",
     "output_type": "stream",
     "text": [
      "[Stage 361:>                                                        (0 + 4) / 5]\r"
     ]
    },
    {
     "name": "stdout",
     "output_type": "stream",
     "text": [
      "23/04/21 09:58:07 WARN RowBasedKeyValueBatch: Calling spill() on RowBasedKeyValueBatch. Will not spill but return 0.\n",
      "23/04/21 09:58:07 WARN RowBasedKeyValueBatch: Calling spill() on RowBasedKeyValueBatch. Will not spill but return 0.\n",
      "23/04/21 09:58:07 WARN RowBasedKeyValueBatch: Calling spill() on RowBasedKeyValueBatch. Will not spill but return 0.\n",
      "23/04/21 09:58:07 WARN RowBasedKeyValueBatch: Calling spill() on RowBasedKeyValueBatch. Will not spill but return 0.\n",
      "23/04/21 09:58:07 WARN RowBasedKeyValueBatch: Calling spill() on RowBasedKeyValueBatch. Will not spill but return 0.\n",
      "23/04/21 09:58:07 WARN RowBasedKeyValueBatch: Calling spill() on RowBasedKeyValueBatch. Will not spill but return 0.\n",
      "23/04/21 09:58:07 WARN RowBasedKeyValueBatch: Calling spill() on RowBasedKeyValueBatch. Will not spill but return 0.\n",
      "23/04/21 09:58:07 WARN RowBasedKeyValueBatch: Calling spill() on RowBasedKeyValueBatch. Will not spill but return 0.\n"
     ]
    },
    {
     "name": "stderr",
     "output_type": "stream",
     "text": [
      "[Stage 364:============================>                            (2 + 2) / 4]\r"
     ]
    },
    {
     "name": "stdout",
     "output_type": "stream",
     "text": [
      "+--------------+------------------------+---------------------+----------------------------+--------------------------------------------------+----------------+------------------+-----------+---------------------+--------+-------+--------------------------+-------------------------+---------+------------------+---------------+---------------------------+--------+---------------------------------+---------------------------------------------+----------+-----------------------+--------------------------------+-------+-------+---------------+----------+\n",
      "|ID_CONTRATISTA|RAZON_SOCIAL_CONTRATISTA|RELACIONES EXTERIORES|VIVIENDA CIUDAD Y TERRITORIO|TECNOLOGIAS DE LA INFORMACION Y LAS COMUNICACIONES|SERVICIO PUBLICO|EDUCACION NACIONAL|AGRICULTURA|NO APLICANO PERTENECE|DEPORTES|DEFENSA|HACIENDA Y CREDITO PUBLICO|SALUD Y PROTECCION SOCIAL|INDUSTRIA|CIENCIA TECNOLOGIA|MINAS Y ENERGIA|PRESIDENCIA DE LA REPUBLICA|INTERIOR|INCLUSION SOCIAL Y RECONCILIACION|INTELIGENCIA ESTRATEGICA Y CONTRAINTELIGENCIA|TRANSPORTE|INFORMACION ESTADISTICA|AMBIENTE Y DESARROLLO SOSTENIBLE|TRABAJO|CULTURA|LEY DE JUSTICIA|PLANEACION|\n",
      "+--------------+------------------------+---------------------+----------------------------+--------------------------------------------------+----------------+------------------+-----------+---------------------+--------+-------+--------------------------+-------------------------+---------+------------------+---------------+---------------------------+--------+---------------------------------+---------------------------------------------+----------+-----------------------+--------------------------------+-------+-------+---------------+----------+\n",
      "|    1118564095|    HERLENY DISNEY AC...|                    0|                           0|                                                 0|               2|                 0|          0|                    0|       0|      0|                         0|                        0|        0|                 0|              0|                          0|       0|                                0|                                            0|         0|                      0|                               0|      0|      0|              0|         0|\n",
      "|    1118840500|    NATHALIE VIVIANA ...|                    0|                           0|                                                 0|               2|                 0|          0|                    0|       0|      0|                         0|                        0|        0|                 0|              0|                          0|       0|                                0|                                            0|         0|                      0|                               0|      0|      0|              0|         0|\n",
      "|     900696969|    FUNDACION PARA EL...|                    0|                           0|                                                 0|               1|                 0|          0|                    0|       0|      0|                         0|                        5|        0|                 0|              0|                          0|       0|                                0|                                            0|         0|                      0|                               0|      0|      0|              0|         0|\n",
      "|      84456512|    JOSE LUIS RAMIREZ...|                    0|                           0|                                                 0|               0|                 0|          0|                    0|       0|      0|                         0|                        0|        0|                 0|              0|                          0|       0|                                0|                                            0|         0|                      0|                               0|      1|      0|              0|         0|\n",
      "|      36382919|    TANIA MARCELA MUÑ...|                    0|                           0|                                                 0|               0|                 0|          0|                    0|       0|      0|                         0|                        0|        0|                 0|              0|                          0|       0|                                0|                                            0|         0|                      0|                               0|      1|      0|              0|         0|\n",
      "|     900924609|      INDUSTRIAL 180 SAS|                    0|                           0|                                                 0|               1|                 0|          0|                    2|       0|      6|                         1|                        0|        0|                 0|              0|                          0|       0|                                0|                                            0|         0|                      0|                               0|      0|      0|              1|         0|\n",
      "|      80264589|    JOLMAN RICARDO JU...|                    0|                           0|                                                 0|               0|                 0|          0|                    1|       0|      0|                         0|                        0|        0|                 0|              0|                          0|       0|                                0|                                            0|         0|                      0|                               0|      0|      0|              0|         0|\n",
      "|    1065824962|    LAURA VANESSA CHI...|                    0|                           0|                                                 0|               2|                 0|          0|                    0|       0|      0|                         0|                        0|        0|                 0|              0|                          0|       0|                                0|                                            0|         0|                      0|                               0|      0|      0|              0|         0|\n",
      "|      91494506|    NESTOR RAMIREZ URIBE|                    0|                           0|                                                 0|               0|                 0|          0|                    0|       0|      0|                         0|                        1|        0|                 0|              0|                          0|       0|                                0|                                            0|         0|                      0|                               0|      0|      0|              0|         0|\n",
      "|     899999054|    ESAP SEDE CENTRAL...|                    0|                           1|                                                 0|               2|                 0|          1|                    0|       0|      0|                         1|                        0|        0|                 0|              0|                          1|       1|                                0|                                            0|         0|                      0|                               0|      1|      0|              0|         0|\n",
      "|      43841292|    SHINYA MIRYAM RIO...|                    0|                           0|                                                 0|               0|                 1|          0|                    0|       0|      0|                         0|                        0|        0|                 0|              0|                          0|       0|                                0|                                            0|         0|                      0|                               0|      0|      0|              0|         0|\n",
      "|      13507221|    LUIS ANTONIO ACEV...|                    0|                           0|                                                 0|               0|                 0|          0|                    0|       0|      0|                         0|                        0|        0|                 0|              0|                          0|       0|                                0|                                            0|         0|                      0|                               0|      0|      0|              0|         1|\n",
      "|      72211686|    CARLOS SEGUNDO BO...|                    0|                           0|                                                 0|               0|                 0|          0|                    0|       0|      0|                         0|                        0|        0|                 0|              0|                          0|       0|                                0|                                            0|         0|                      0|                               1|      0|      0|              0|         0|\n",
      "|      16355206|    CARLOS ENRIQUE PE...|                    0|                           0|                                                 0|               3|                 0|          0|                    0|       0|      0|                         0|                        0|        0|                 0|              0|                          0|       0|                                0|                                            0|         0|                      0|                               0|      0|      0|              0|         0|\n",
      "|    1129580226|    KARLA JULIETH NIE...|                    0|                           0|                                                 0|               0|                 0|          0|                    0|       0|      0|                         0|                        0|        0|                 0|              0|                          0|       0|                                0|                                            0|         0|                      2|                               0|      0|      0|              0|         0|\n",
      "|    1096210664|    DANNA VANESSA HOY...|                    0|                           0|                                                 0|               1|                 0|          0|                    1|       0|      0|                         0|                        0|        0|                 0|              0|                          0|       0|                                0|                                            0|         0|                      0|                               0|      0|      0|              0|         0|\n",
      "|      40992952|    VILMA ESTHER SARM...|                    0|                           0|                                                 0|               0|                 0|          0|                    2|       0|      0|                         0|                        0|        0|                 0|              0|                          0|       0|                                0|                                            0|         0|                      0|                               0|      0|      0|              0|         0|\n",
      "|    1069852573|    JORGE ANDRES ACOS...|                    0|                           0|                                                 0|               0|                 0|          0|                    0|       3|      0|                         0|                        0|        0|                 0|              0|                          0|       0|                                0|                                            0|         0|                      0|                               0|      0|      0|              0|         0|\n",
      "|      79481757|    WILSON CHAPARRO S...|                    0|                           0|                                                 0|               0|                 0|          0|                    0|       0|      0|                         0|                        0|        0|                 0|              0|                          0|       0|                                0|                                            0|         0|                      0|                               1|      0|      0|              0|         0|\n",
      "|    1026572352|    NANCY LORENA BURG...|                    0|                           0|                                                 0|               0|                 0|          0|                    0|       0|      0|                         0|                        1|        0|                 0|              0|                          0|       0|                                0|                                            0|         0|                      0|                               0|      0|      0|              0|         0|\n",
      "+--------------+------------------------+---------------------+----------------------------+--------------------------------------------------+----------------+------------------+-----------+---------------------+--------+-------+--------------------------+-------------------------+---------+------------------+---------------+---------------------------+--------+---------------------------------+---------------------------------------------+----------+-----------------------+--------------------------------+-------+-------+---------------+----------+\n",
      "only showing top 20 rows\n",
      "\n"
     ]
    },
    {
     "name": "stderr",
     "output_type": "stream",
     "text": [
      "                                                                                \r"
     ]
    }
   ],
   "source": [
    "infraestructura_df_pivotado = pyspark_etl_functions.pivotar_por_columna(infraestructura_df_seleccionado, \"NOMBRE_CLASE\")\n",
    "infraestructura_df_pivotado.show()"
   ]
  },
  {
   "cell_type": "code",
   "execution_count": 30,
   "metadata": {},
   "outputs": [
    {
     "name": "stderr",
     "output_type": "stream",
     "text": [
      "[Stage 372:=> (3 + 2) / 5][Stage 374:>  (0 + 2) / 5][Stage 375:>  (0 + 0) / 5]5]\r"
     ]
    },
    {
     "name": "stdout",
     "output_type": "stream",
     "text": [
      "23/04/21 09:58:31 WARN RowBasedKeyValueBatch: Calling spill() on RowBasedKeyValueBatch. Will not spill but return 0.\n",
      "23/04/21 09:58:31 WARN RowBasedKeyValueBatch: Calling spill() on RowBasedKeyValueBatch. Will not spill but return 0.\n",
      "23/04/21 09:58:31 WARN RowBasedKeyValueBatch: Calling spill() on RowBasedKeyValueBatch. Will not spill but return 0.\n",
      "23/04/21 09:58:31 WARN RowBasedKeyValueBatch: Calling spill() on RowBasedKeyValueBatch. Will not spill but return 0.\n"
     ]
    },
    {
     "name": "stderr",
     "output_type": "stream",
     "text": [
      "[Stage 374:>  (0 + 4) / 5][Stage 375:>  (0 + 0) / 5][Stage 376:>  (0 + 0) / 5]\r"
     ]
    },
    {
     "name": "stdout",
     "output_type": "stream",
     "text": [
      "23/04/21 09:58:32 WARN RowBasedKeyValueBatch: Calling spill() on RowBasedKeyValueBatch. Will not spill but return 0.\n",
      "23/04/21 09:58:32 WARN RowBasedKeyValueBatch: Calling spill() on RowBasedKeyValueBatch. Will not spill but return 0.\n",
      "23/04/21 09:58:32 WARN RowBasedKeyValueBatch: Calling spill() on RowBasedKeyValueBatch. Will not spill but return 0.\n",
      "23/04/21 09:58:32 WARN RowBasedKeyValueBatch: Calling spill() on RowBasedKeyValueBatch. Will not spill but return 0.\n"
     ]
    },
    {
     "name": "stderr",
     "output_type": "stream",
     "text": [
      "[Stage 375:>  (0 + 4) / 5][Stage 376:>  (0 + 0) / 5][Stage 377:>  (0 + 0) / 5]\r"
     ]
    },
    {
     "name": "stdout",
     "output_type": "stream",
     "text": [
      "23/04/21 09:58:34 WARN RowBasedKeyValueBatch: Calling spill() on RowBasedKeyValueBatch. Will not spill but return 0.\n",
      "23/04/21 09:58:34 WARN RowBasedKeyValueBatch: Calling spill() on RowBasedKeyValueBatch. Will not spill but return 0.\n",
      "23/04/21 09:58:34 WARN RowBasedKeyValueBatch: Calling spill() on RowBasedKeyValueBatch. Will not spill but return 0.\n",
      "23/04/21 09:58:34 WARN RowBasedKeyValueBatch: Calling spill() on RowBasedKeyValueBatch. Will not spill but return 0.\n",
      "23/04/21 09:58:35 WARN RowBasedKeyValueBatch: Calling spill() on RowBasedKeyValueBatch. Will not spill but return 0.\n",
      "23/04/21 09:58:35 WARN RowBasedKeyValueBatch: Calling spill() on RowBasedKeyValueBatch. Will not spill but return 0.\n",
      "23/04/21 09:58:35 WARN RowBasedKeyValueBatch: Calling spill() on RowBasedKeyValueBatch. Will not spill but return 0.\n",
      "23/04/21 09:58:35 WARN RowBasedKeyValueBatch: Calling spill() on RowBasedKeyValueBatch. Will not spill but return 0.\n"
     ]
    },
    {
     "name": "stderr",
     "output_type": "stream",
     "text": [
      "[Stage 376:>  (0 + 4) / 5][Stage 377:>  (0 + 0) / 5][Stage 378:>  (0 + 0) / 5]\r"
     ]
    },
    {
     "name": "stdout",
     "output_type": "stream",
     "text": [
      "23/04/21 09:58:37 WARN RowBasedKeyValueBatch: Calling spill() on RowBasedKeyValueBatch. Will not spill but return 0.\n",
      "23/04/21 09:58:37 WARN RowBasedKeyValueBatch: Calling spill() on RowBasedKeyValueBatch. Will not spill but return 0.\n",
      "23/04/21 09:58:37 WARN RowBasedKeyValueBatch: Calling spill() on RowBasedKeyValueBatch. Will not spill but return 0.\n",
      "23/04/21 09:58:37 WARN RowBasedKeyValueBatch: Calling spill() on RowBasedKeyValueBatch. Will not spill but return 0.\n",
      "23/04/21 09:58:37 WARN RowBasedKeyValueBatch: Calling spill() on RowBasedKeyValueBatch. Will not spill but return 0.\n",
      "23/04/21 09:58:37 WARN RowBasedKeyValueBatch: Calling spill() on RowBasedKeyValueBatch. Will not spill but return 0.\n",
      "23/04/21 09:58:37 WARN RowBasedKeyValueBatch: Calling spill() on RowBasedKeyValueBatch. Will not spill but return 0.\n",
      "23/04/21 09:58:37 WARN RowBasedKeyValueBatch: Calling spill() on RowBasedKeyValueBatch. Will not spill but return 0.\n",
      "23/04/21 09:58:37 WARN RowBasedKeyValueBatch: Calling spill() on RowBasedKeyValueBatch. Will not spill but return 0.\n"
     ]
    },
    {
     "name": "stderr",
     "output_type": "stream",
     "text": [
      "[Stage 377:>  (0 + 4) / 5][Stage 378:>  (0 + 0) / 5][Stage 379:>  (0 + 0) / 5]\r"
     ]
    },
    {
     "name": "stdout",
     "output_type": "stream",
     "text": [
      "23/04/21 09:58:39 WARN RowBasedKeyValueBatch: Calling spill() on RowBasedKeyValueBatch. Will not spill but return 0.\n",
      "23/04/21 09:58:39 WARN RowBasedKeyValueBatch: Calling spill() on RowBasedKeyValueBatch. Will not spill but return 0.\n",
      "23/04/21 09:58:39 WARN RowBasedKeyValueBatch: Calling spill() on RowBasedKeyValueBatch. Will not spill but return 0.\n",
      "23/04/21 09:58:39 WARN RowBasedKeyValueBatch: Calling spill() on RowBasedKeyValueBatch. Will not spill but return 0.\n",
      "23/04/21 09:58:39 WARN RowBasedKeyValueBatch: Calling spill() on RowBasedKeyValueBatch. Will not spill but return 0.\n",
      "23/04/21 09:58:39 WARN RowBasedKeyValueBatch: Calling spill() on RowBasedKeyValueBatch. Will not spill but return 0.\n",
      "23/04/21 09:58:39 WARN RowBasedKeyValueBatch: Calling spill() on RowBasedKeyValueBatch. Will not spill but return 0.\n",
      "23/04/21 09:58:39 WARN RowBasedKeyValueBatch: Calling spill() on RowBasedKeyValueBatch. Will not spill but return 0.\n"
     ]
    },
    {
     "name": "stderr",
     "output_type": "stream",
     "text": [
      "[Stage 378:>  (0 + 4) / 5][Stage 379:>  (0 + 0) / 5][Stage 382:>  (0 + 0) / 5]\r"
     ]
    },
    {
     "name": "stdout",
     "output_type": "stream",
     "text": [
      "23/04/21 09:58:42 WARN RowBasedKeyValueBatch: Calling spill() on RowBasedKeyValueBatch. Will not spill but return 0.\n",
      "23/04/21 09:58:42 WARN RowBasedKeyValueBatch: Calling spill() on RowBasedKeyValueBatch. Will not spill but return 0.\n",
      "23/04/21 09:58:42 WARN RowBasedKeyValueBatch: Calling spill() on RowBasedKeyValueBatch. Will not spill but return 0.\n",
      "23/04/21 09:58:42 WARN RowBasedKeyValueBatch: Calling spill() on RowBasedKeyValueBatch. Will not spill but return 0.\n",
      "23/04/21 09:58:42 WARN RowBasedKeyValueBatch: Calling spill() on RowBasedKeyValueBatch. Will not spill but return 0.\n",
      "23/04/21 09:58:42 WARN RowBasedKeyValueBatch: Calling spill() on RowBasedKeyValueBatch. Will not spill but return 0.\n",
      "23/04/21 09:58:42 WARN RowBasedKeyValueBatch: Calling spill() on RowBasedKeyValueBatch. Will not spill but return 0.\n",
      "23/04/21 09:58:42 WARN RowBasedKeyValueBatch: Calling spill() on RowBasedKeyValueBatch. Will not spill but return 0.\n"
     ]
    },
    {
     "name": "stderr",
     "output_type": "stream",
     "text": [
      "[Stage 379:>  (0 + 4) / 5][Stage 382:>  (0 + 0) / 5][Stage 384:>  (0 + 0) / 4]\r"
     ]
    },
    {
     "name": "stdout",
     "output_type": "stream",
     "text": [
      "23/04/21 09:58:45 WARN RowBasedKeyValueBatch: Calling spill() on RowBasedKeyValueBatch. Will not spill but return 0.\n",
      "23/04/21 09:58:45 WARN RowBasedKeyValueBatch: Calling spill() on RowBasedKeyValueBatch. Will not spill but return 0.\n",
      "23/04/21 09:58:45 WARN RowBasedKeyValueBatch: Calling spill() on RowBasedKeyValueBatch. Will not spill but return 0.\n",
      "23/04/21 09:58:45 WARN RowBasedKeyValueBatch: Calling spill() on RowBasedKeyValueBatch. Will not spill but return 0.\n",
      "23/04/21 09:58:45 WARN RowBasedKeyValueBatch: Calling spill() on RowBasedKeyValueBatch. Will not spill but return 0.\n",
      "23/04/21 09:58:45 WARN RowBasedKeyValueBatch: Calling spill() on RowBasedKeyValueBatch. Will not spill but return 0.\n",
      "23/04/21 09:58:45 WARN RowBasedKeyValueBatch: Calling spill() on RowBasedKeyValueBatch. Will not spill but return 0.\n",
      "23/04/21 09:58:45 WARN RowBasedKeyValueBatch: Calling spill() on RowBasedKeyValueBatch. Will not spill but return 0.\n"
     ]
    },
    {
     "name": "stderr",
     "output_type": "stream",
     "text": [
      "[Stage 435:>                                                        (0 + 1) / 1]\r"
     ]
    },
    {
     "name": "stdout",
     "output_type": "stream",
     "text": [
      "+--------------+------------------------+-------------+-------------------------+-----------------------------+-----------------+-------------------+------------------+-----------------+------------+----------+---------------------------+---------+------+------+-------+-----------+--------+----+--------+--------+-----+-------+---------+-------+-----+---------------------------------------+------+------+---------------+------------+----------+------+------+------------------+------+-----+-----+---------+-------+---------+--------+---------+-------+-------+-----+---------+------+--------+------+----------+------------+-----------------+----------+-------+--------------------+----+-------------------+---------------------------+-----------------------+-------+------------------+----------------+------------------------------------+----------+-------+-----------+-----------------------+------------------------+--------+-----------+--------+-----------+---------------------+------------------+----+---------------+--------------------------+------------------------+-------------+---------+--------------------------+----+----------------+-------------+---------------------+----------------------------+--------------------------------------------------+----------------+------------------+-----------+---------------------+--------+-------+--------------------------+-------------------------+---------+------------------+---------------+---------------------------+--------+---------------------------------+---------------------------------------------+----------+-----------------------+--------------------------------+-------+-------+---------------+----------+---------------------+----------------------------+--------------------------------------------------+----------------+------------------+-----------+---------------------+--------+-------+--------------------------+-------------------------+---------+------------------+---------------+---------------------------+--------+---------------------------------+---------------------------------------------+----------+-----------------------+--------------------------------+-------+-------+---------------+----------+\n",
      "|ID_CONTRATISTA|RAZON_SOCIAL_CONTRATISTA|num_contratos|suma_valor_total_contrato|promedio_valor_total_contrato|num_departamentos|num_estados_proceso|num_clases_proceso|num_tipos_proceso|num_familias|num_clases|meses_desde_ultimo_contrato|SANTANDER|VAUPES|NARIÑO|CAQUETA|NO DEFINIDO|CASANARE|META|AMAZONAS|GUAVIARE|CAUCA|VICHADA|ANTIOQUIA|QUINDIO|CHOCO|SAN ANDRES PROVIDENCIA Y SANTA CATALINA|CALDAS|BOYACA|VALLE DEL CAUCA|CUNDINAMARCA|LA GUAJIRA|TOLIMA|ARAUCA|NORTE DE SANTANDER|BOGOTA|HUILA|SUCRE|ATLANTICO|BOLIVAR|RISARALDA|PUTUMAYO|MAGDALENA|GUAINIA|CORDOBA|CESAR|TERMINADO|ACTIVO|BORRADOR|CEDIDO|MODIFICADO|EN EJECUCION|ENVIADO PROVEEDOR|SUSPENDIDO|CERRADO|CONTRATACION DIRECTA|null|CONCURSO DE MERITOS|CONTRATACION MINIMA CUANTIA|LICITACION OBRA PUBLICA|SUBASTA|LICITACION PUBLICA|REGIMEN ESPECIAL|SELECCION ABREVIADA DE MENOR CUANTIA|EMPRESTITO|SEGUROS|CONSULTORIA|PRESTACION DE SERVICIOS|ACUERDO MARCO DE PRECIOS|COMISION|COMPRAVENTA|COMODATO|SUMINISTROS|SERVICIOS FINANCIEROS|NEGOCIO FIDUCIARIO|OTRO|VENTA INMUEBLES|ARRENDAMIENTO DE INMUEBLES|ARRENDAMIENTO DE MUEBLES|INTERVENTORIA|CONCESION|ASOCIACION PUBLICO PRIVADA|OBRA|DECREELAW0922017|VENTA MUEBLES|RELACIONES EXTERIORES|VIVIENDA CIUDAD Y TERRITORIO|TECNOLOGIAS DE LA INFORMACION Y LAS COMUNICACIONES|SERVICIO PUBLICO|EDUCACION NACIONAL|AGRICULTURA|NO APLICANO PERTENECE|DEPORTES|DEFENSA|HACIENDA Y CREDITO PUBLICO|SALUD Y PROTECCION SOCIAL|INDUSTRIA|CIENCIA TECNOLOGIA|MINAS Y ENERGIA|PRESIDENCIA DE LA REPUBLICA|INTERIOR|INCLUSION SOCIAL Y RECONCILIACION|INTELIGENCIA ESTRATEGICA Y CONTRAINTELIGENCIA|TRANSPORTE|INFORMACION ESTADISTICA|AMBIENTE Y DESARROLLO SOSTENIBLE|TRABAJO|CULTURA|LEY DE JUSTICIA|PLANEACION|RELACIONES EXTERIORES|VIVIENDA CIUDAD Y TERRITORIO|TECNOLOGIAS DE LA INFORMACION Y LAS COMUNICACIONES|SERVICIO PUBLICO|EDUCACION NACIONAL|AGRICULTURA|NO APLICANO PERTENECE|DEPORTES|DEFENSA|HACIENDA Y CREDITO PUBLICO|SALUD Y PROTECCION SOCIAL|INDUSTRIA|CIENCIA TECNOLOGIA|MINAS Y ENERGIA|PRESIDENCIA DE LA REPUBLICA|INTERIOR|INCLUSION SOCIAL Y RECONCILIACION|INTELIGENCIA ESTRATEGICA Y CONTRAINTELIGENCIA|TRANSPORTE|INFORMACION ESTADISTICA|AMBIENTE Y DESARROLLO SOSTENIBLE|TRABAJO|CULTURA|LEY DE JUSTICIA|PLANEACION|\n",
      "+--------------+------------------------+-------------+-------------------------+-----------------------------+-----------------+-------------------+------------------+-----------------+------------+----------+---------------------------+---------+------+------+-------+-----------+--------+----+--------+--------+-----+-------+---------+-------+-----+---------------------------------------+------+------+---------------+------------+----------+------+------+------------------+------+-----+-----+---------+-------+---------+--------+---------+-------+-------+-----+---------+------+--------+------+----------+------------+-----------------+----------+-------+--------------------+----+-------------------+---------------------------+-----------------------+-------+------------------+----------------+------------------------------------+----------+-------+-----------+-----------------------+------------------------+--------+-----------+--------+-----------+---------------------+------------------+----+---------------+--------------------------+------------------------+-------------+---------+--------------------------+----+----------------+-------------+---------------------+----------------------------+--------------------------------------------------+----------------+------------------+-----------+---------------------+--------+-------+--------------------------+-------------------------+---------+------------------+---------------+---------------------------+--------+---------------------------------+---------------------------------------------+----------+-----------------------+--------------------------------+-------+-------+---------------+----------+---------------------+----------------------------+--------------------------------------------------+----------------+------------------+-----------+---------------------+--------+-------+--------------------------+-------------------------+---------+------------------+---------------+---------------------------+--------+---------------------------------+---------------------------------------------+----------+-----------------------+--------------------------------+-------+-------+---------------+----------+\n",
      "|             0|    CONSORCIO ESPINAL...|            1|                331764967|                 3.31764967E8|                1|                  1|                 1|                1|           1|         1|                         22|        0|     0|     0|      0|          0|       0|   0|       0|       0|    0|      0|        0|      0|    0|                                      0|     0|     0|              0|           0|         0|     0|     0|                 0|     1|    0|    0|        0|      0|        0|       0|        0|      0|      0|    0|        0|     0|       0|     0|         0|           1|                0|         0|      0|                   0|   0|                  1|                          0|                      0|      0|                 0|               0|                                   0|         0|      0|          0|                      0|                       0|       0|          0|       0|          0|                    0|                 0|   0|              0|                         0|                       0|            1|        0|                         0|   0|               0|            0|                    0|                           0|                                                 0|               0|                 0|          0|                    0|       0|      0|                         0|                        0|        0|                 0|              0|                          0|       0|                                0|                                            0|         1|                      0|                               0|      0|      0|              0|         0|                    0|                           0|                                                 0|               0|                 0|          0|                    0|       0|      0|                         0|                        0|        0|                 0|              0|                          0|       0|                                0|                                            0|         1|                      0|                               0|      0|      0|              0|         0|\n",
      "|             0|    CONSORCIO INTERVE...|            1|                475311103|                 4.75311103E8|                1|                  1|                 1|                1|           1|         1|                         19|        0|     0|     0|      0|          0|       0|   0|       0|       0|    0|      0|        0|      0|    0|                                      0|     0|     0|              0|           0|         0|     0|     0|                 0|     1|    0|    0|        0|      0|        0|       0|        0|      0|      0|    0|        0|     1|       0|     0|         0|           0|                0|         0|      0|                   0|   0|                  1|                          0|                      0|      0|                 0|               0|                                   0|         0|      0|          0|                      0|                       0|       0|          0|       0|          0|                    0|                 0|   0|              0|                         0|                       0|            1|        0|                         0|   0|               0|            0|                    0|                           0|                                                 0|               0|                 0|          0|                    0|       0|      0|                         0|                        0|        0|                 0|              0|                          0|       0|                                0|                                            0|         1|                      0|                               0|      0|      0|              0|         0|                    0|                           0|                                                 0|               0|                 0|          0|                    0|       0|      0|                         0|                        0|        0|                 0|              0|                          0|       0|                                0|                                            0|         1|                      0|                               0|      0|      0|              0|         0|\n",
      "|             0|    UNION TEMPORAL EQ...|            2|                677510589|                3.387552945E8|                2|                  1|                 2|                1|           2|         2|                         22|        0|     0|     0|      0|          0|       0|   0|       0|       0|    0|      0|        0|      0|    0|                                      0|     0|     0|              0|           1|         0|     0|     0|                 0|     1|    0|    0|        0|      0|        0|       0|        0|      0|      0|    0|        0|     0|       0|     0|         2|           0|                0|         0|      0|                   0|   0|                  0|                          0|                      0|      1|                 0|               0|                                   1|         0|      0|          0|                      0|                       0|       0|          2|       0|          0|                    0|                 0|   0|              0|                         0|                       0|            0|        0|                         0|   0|               0|            0|                    0|                           0|                                                 0|               0|                 0|          0|                    1|       0|      0|                         0|                        0|        0|                 0|              1|                          0|       0|                                0|                                            0|         0|                      0|                               0|      0|      0|              0|         0|                    0|                           0|                                                 0|               0|                 0|          0|                    1|       0|      0|                         0|                        0|        0|                 0|              1|                          0|       0|                                0|                                            0|         0|                      0|                               0|      0|      0|              0|         0|\n",
      "|             0|    UNION TEMPORAL IBICI|            1|                876230395|                 8.76230395E8|                1|                  1|                 1|                1|           1|         1|                         22|        0|     0|     0|      0|          0|       0|   0|       0|       0|    0|      0|        0|      0|    0|                                      0|     0|     0|              0|           0|         0|     1|     0|                 0|     0|    0|    0|        0|      0|        0|       0|        0|      0|      0|    0|        0|     0|       0|     0|         0|           1|                0|         0|      0|                   0|   0|                  0|                          0|                      1|      0|                 0|               0|                                   0|         0|      0|          0|                      1|                       0|       0|          0|       0|          0|                    0|                 0|   0|              0|                         0|                       0|            0|        0|                         0|   0|               0|            0|                    0|                           0|                                                 0|               0|                 0|          0|                    1|       0|      0|                         0|                        0|        0|                 0|              0|                          0|       0|                                0|                                            0|         0|                      0|                               0|      0|      0|              0|         0|                    0|                           0|                                                 0|               0|                 0|          0|                    1|       0|      0|                         0|                        0|        0|                 0|              0|                          0|       0|                                0|                                            0|         0|                      0|                               0|      0|      0|              0|         0|\n",
      "|             0|    UNION TEMPORAL MI...|            1|               4581987318|                4.581987318E9|                1|                  1|                 1|                1|           1|         1|                         22|        0|     0|     0|      0|          0|       0|   0|       0|       0|    0|      0|        0|      0|    0|                                      0|     0|     0|              0|           0|         0|     0|     0|                 0|     1|    0|    0|        0|      0|        0|       0|        0|      0|      0|    0|        0|     0|       0|     0|         0|           0|                0|         1|      0|                   1|   0|                  0|                          0|                      0|      0|                 0|               0|                                   0|         0|      0|          0|                      0|                       0|       0|          0|       0|          0|                    0|                 0|   1|              0|                         0|                       0|            0|        0|                         0|   0|               0|            0|                    0|                           0|                                                 0|               0|                 0|          0|                    0|       0|      0|                         1|                        0|        0|                 0|              0|                          0|       0|                                0|                                            0|         0|                      0|                               0|      0|      0|              0|         0|                    0|                           0|                                                 0|               0|                 0|          0|                    0|       0|      0|                         1|                        0|        0|                 0|              0|                          0|       0|                                0|                                            0|         0|                      0|                               0|      0|      0|              0|         0|\n",
      "|           123|    UNION TEMPORAL EL...|            1|                 30000000|                        3.0E7|                1|                  1|                 1|                1|           1|         1|                         23|        0|     0|     0|      0|          0|       0|   0|       0|       0|    0|      0|        0|      0|    0|                                      0|     0|     0|              0|           0|         0|     0|     1|                 0|     0|    0|    0|        0|      0|        0|       0|        0|      0|      0|    0|        0|     0|       0|     0|         0|           0|                0|         0|      1|                   0|   0|                  0|                          0|                      0|      0|                 0|               0|                                   1|         0|      0|          0|                      1|                       0|       0|          0|       0|          0|                    0|                 0|   0|              0|                         0|                       0|            0|        0|                         0|   0|               0|            0|                    0|                           0|                                                 0|               1|                 0|          0|                    0|       0|      0|                         0|                        0|        0|                 0|              0|                          0|       0|                                0|                                            0|         0|                      0|                               0|      0|      0|              0|         0|                    0|                           0|                                                 0|               1|                 0|          0|                    0|       0|      0|                         0|                        0|        0|                 0|              0|                          0|       0|                                0|                                            0|         0|                      0|                               0|      0|      0|              0|         0|\n",
      "|          6771|    CONSORCIO RINCONL...|            1|                480476173|                 4.80476173E8|                1|                  1|                 1|                1|           1|         1|                         20|        0|     0|     0|      0|          0|       0|   0|       0|       0|    0|      0|        0|      0|    0|                                      0|     0|     0|              0|           0|         0|     0|     0|                 0|     1|    0|    0|        0|      0|        0|       0|        0|      0|      0|    0|        0|     0|       0|     0|         0|           1|                0|         0|      0|                   0|   0|                  1|                          0|                      0|      0|                 0|               0|                                   0|         0|      0|          1|                      0|                       0|       0|          0|       0|          0|                    0|                 0|   0|              0|                         0|                       0|            0|        0|                         0|   0|               0|            0|                    0|                           0|                                                 0|               0|                 0|          0|                    0|       0|      0|                         0|                        0|        0|                 0|              0|                          0|       0|                                0|                                            0|         0|                      0|                               0|      0|      1|              0|         0|                    0|                           0|                                                 0|               0|                 0|          0|                    0|       0|      0|                         0|                        0|        0|                 0|              0|                          0|       0|                                0|                                            0|         0|                      0|                               0|      0|      1|              0|         0|\n",
      "|         20211|      CONSORCIO TEMPORAL|            1|               2848163781|                2.848163781E9|                1|                  1|                 1|                1|           1|         1|                         20|        0|     0|     0|      0|          0|       0|   0|       0|       0|    0|      0|        0|      0|    0|                                      0|     0|     0|              0|           0|         0|     0|     0|                 0|     1|    0|    0|        0|      0|        0|       0|        0|      0|      0|    0|        0|     0|       0|     0|         0|           1|                0|         0|      0|                   0|   0|                  0|                          0|                      1|      0|                 0|               0|                                   0|         0|      0|          0|                      0|                       0|       0|          0|       0|          0|                    0|                 0|   0|              0|                         0|                       0|            0|        0|                         0|   1|               0|            0|                    0|                           0|                                                 0|               0|                 0|          0|                    0|       0|      1|                         0|                        0|        0|                 0|              0|                          0|       0|                                0|                                            0|         0|                      0|                               0|      0|      0|              0|         0|                    0|                           0|                                                 0|               0|                 0|          0|                    0|       0|      1|                         0|                        0|        0|                 0|              0|                          0|       0|                                0|                                            0|         0|                      0|                               0|      0|      0|              0|         0|\n",
      "|         22222|    UT ACCESORIOS DE ...|            1|                468468040|                  4.6846804E8|                1|                  1|                 1|                1|           1|         1|                         20|        0|     0|     0|      0|          0|       0|   0|       0|       0|    0|      0|        0|      0|    0|                                      0|     0|     0|              0|           0|         0|     0|     0|                 0|     1|    0|    0|        0|      0|        0|       0|        0|      0|      0|    0|        0|     1|       0|     0|         0|           0|                0|         0|      0|                   0|   0|                  0|                          0|                      0|      1|                 0|               0|                                   0|         0|      0|          0|                      0|                       0|       0|          1|       0|          0|                    0|                 0|   0|              0|                         0|                       0|            0|        0|                         0|   0|               0|            0|                    0|                           0|                                                 0|               0|                 0|          0|                    0|       0|      1|                         0|                        0|        0|                 0|              0|                          0|       0|                                0|                                            0|         0|                      0|                               0|      0|      0|              0|         0|                    0|                           0|                                                 0|               0|                 0|          0|                    0|       0|      1|                         0|                        0|        0|                 0|              0|                          0|       0|                                0|                                            0|         0|                      0|                               0|      0|      0|              0|         0|\n",
      "|         52733|           CLAUDIA GOMEZ|            1|                 75000000|                        7.5E7|                1|                  1|                 1|                1|           1|         1|                         26|        0|     0|     0|      0|          0|       0|   0|       0|       0|    0|      0|        0|      0|    0|                                      0|     0|     0|              0|           0|         0|     0|     0|                 0|     1|    0|    0|        0|      0|        0|       0|        0|      0|      0|    0|        1|     0|       0|     0|         0|           0|                0|         0|      0|                   1|   0|                  0|                          0|                      0|      0|                 0|               0|                                   0|         0|      0|          0|                      1|                       0|       0|          0|       0|          0|                    0|                 0|   0|              0|                         0|                       0|            0|        0|                         0|   0|               0|            0|                    0|                           0|                                                 0|               0|                 0|          0|                    0|       0|      0|                         0|                        1|        0|                 0|              0|                          0|       0|                                0|                                            0|         0|                      0|                               0|      0|      0|              0|         0|                    0|                           0|                                                 0|               0|                 0|          0|                    0|       0|      0|                         0|                        1|        0|                 0|              0|                          0|       0|                                0|                                            0|         0|                      0|                               0|      0|      0|              0|         0|\n",
      "|         59078|                   A S R|            1|                 80948652|                  8.0948652E7|                1|                  1|                 1|                1|           1|         1|                         27|        0|     0|     0|      0|          0|       0|   0|       0|       0|    0|      0|        0|      0|    0|                                      0|     0|     0|              0|           0|         0|     0|     0|                 0|     1|    0|    0|        0|      0|        0|       0|        0|      0|      0|    0|        0|     0|       0|     0|         0|           1|                0|         0|      0|                   1|   0|                  0|                          0|                      0|      0|                 0|               0|                                   0|         0|      0|          0|                      0|                       0|       0|          0|       0|          0|                    0|                 0|   0|              0|                         1|                       0|            0|        0|                         0|   0|               0|            0|                    0|                           0|                                                 0|               0|                 0|          0|                    0|       0|      0|                         1|                        0|        0|                 0|              0|                          0|       0|                                0|                                            0|         0|                      0|                               0|      0|      0|              0|         0|                    0|                           0|                                                 0|               0|                 0|          0|                    0|       0|      0|                         1|                        0|        0|                 0|              0|                          0|       0|                                0|                                            0|         0|                      0|                               0|      0|      0|              0|         0|\n",
      "|        112954|    LUIS ENRIQUE TUNT...|            1|                 11952000|                     1.1952E7|                1|                  1|                 1|                1|           1|         1|                         24|        0|     0|     0|      0|          0|       0|   0|       0|       0|    0|      0|        0|      0|    0|                                      0|     0|     0|              0|           0|         0|     0|     0|                 0|     1|    0|    0|        0|      0|        0|       0|        0|      0|      0|    0|        0|     0|       0|     0|         0|           1|                0|         0|      0|                   1|   0|                  0|                          0|                      0|      0|                 0|               0|                                   0|         0|      0|          0|                      1|                       0|       0|          0|       0|          0|                    0|                 0|   0|              0|                         0|                       0|            0|        0|                         0|   0|               0|            0|                    0|                           0|                                                 0|               0|                 0|          0|                    0|       0|      0|                         0|                        0|        0|                 0|              0|                          0|       0|                                1|                                            0|         0|                      0|                               0|      0|      0|              0|         0|                    0|                           0|                                                 0|               0|                 0|          0|                    0|       0|      0|                         0|                        0|        0|                 0|              0|                          0|       0|                                1|                                            0|         0|                      0|                               0|      0|      0|              0|         0|\n",
      "|        120785|    JOSE MARIA CEPEDA...|            1|                 32844536|                  3.2844536E7|                1|                  1|                 1|                1|           1|         1|                         21|        0|     0|     0|      0|          0|       0|   0|       0|       0|    0|      0|        0|      0|    0|                                      0|     0|     0|              0|           0|         0|     0|     0|                 0|     1|    0|    0|        0|      0|        0|       0|        0|      0|      0|    0|        0|     0|       0|     0|         0|           1|                0|         0|      0|                   1|   0|                  0|                          0|                      0|      0|                 0|               0|                                   0|         0|      0|          0|                      0|                       0|       0|          0|       0|          0|                    0|                 0|   0|              0|                         1|                       0|            0|        0|                         0|   0|               0|            0|                    0|                           0|                                                 0|               1|                 0|          0|                    0|       0|      0|                         0|                        0|        0|                 0|              0|                          0|       0|                                0|                                            0|         0|                      0|                               0|      0|      0|              0|         0|                    0|                           0|                                                 0|               1|                 0|          0|                    0|       0|      0|                         0|                        0|        0|                 0|              0|                          0|       0|                                0|                                            0|         0|                      0|                               0|      0|      0|              0|         0|\n",
      "|        122560|    WALBERTO SEGUNDO ...|            1|                 96000000|                        9.6E7|                1|                  1|                 1|                1|           1|         1|                         25|        0|     0|     0|      0|          0|       0|   0|       0|       0|    0|      0|        0|      0|    0|                                      0|     0|     0|              1|           0|         0|     0|     0|                 0|     0|    0|    0|        0|      0|        0|       0|        0|      0|      0|    0|        0|     0|       0|     0|         1|           0|                0|         0|      0|                   1|   0|                  0|                          0|                      0|      0|                 0|               0|                                   0|         0|      0|          0|                      0|                       0|       0|          0|       0|          0|                    0|                 0|   0|              0|                         1|                       0|            0|        0|                         0|   0|               0|            0|                    0|                           0|                                                 0|               0|                 1|          0|                    0|       0|      0|                         0|                        0|        0|                 0|              0|                          0|       0|                                0|                                            0|         0|                      0|                               0|      0|      0|              0|         0|                    0|                           0|                                                 0|               0|                 1|          0|                    0|       0|      0|                         0|                        0|        0|                 0|              0|                          0|       0|                                0|                                            0|         0|                      0|                               0|      0|      0|              0|         0|\n",
      "|        164100|    JOSE FRANCISCO MA...|            2|                 15275000|                    7637500.0|                1|                  1|                 1|                1|           1|         1|                         21|        0|     0|     0|      0|          0|       0|   0|       0|       0|    0|      0|        0|      0|    0|                                      0|     0|     0|              2|           0|         0|     0|     0|                 0|     0|    0|    0|        0|      0|        0|       0|        0|      0|      0|    0|        0|     0|       0|     0|         0|           2|                0|         0|      0|                   2|   0|                  0|                          0|                      0|      0|                 0|               0|                                   0|         0|      0|          0|                      2|                       0|       0|          0|       0|          0|                    0|                 0|   0|              0|                         0|                       0|            0|        0|                         0|   0|               0|            0|                    0|                           0|                                                 0|               2|                 0|          0|                    0|       0|      0|                         0|                        0|        0|                 0|              0|                          0|       0|                                0|                                            0|         0|                      0|                               0|      0|      0|              0|         0|                    0|                           0|                                                 0|               2|                 0|          0|                    0|       0|      0|                         0|                        0|        0|                 0|              0|                          0|       0|                                0|                                            0|         0|                      0|                               0|      0|      0|              0|         0|\n",
      "|        172968|    MANUEL VICENTE HE...|            1|                 32300000|                       3.23E7|                1|                  1|                 1|                1|           1|         1|                         24|        0|     0|     0|      0|          0|       0|   0|       0|       0|    0|      0|        0|      0|    0|                                      0|     0|     0|              0|           0|         0|     0|     0|                 0|     1|    0|    0|        0|      0|        0|       0|        0|      0|      0|    0|        0|     0|       0|     0|         0|           1|                0|         0|      0|                   1|   0|                  0|                          0|                      0|      0|                 0|               0|                                   0|         0|      0|          0|                      1|                       0|       0|          0|       0|          0|                    0|                 0|   0|              0|                         0|                       0|            0|        0|                         0|   0|               0|            0|                    0|                           0|                                                 0|               0|                 0|          0|                    0|       0|      0|                         0|                        0|        0|                 0|              0|                          0|       0|                                0|                                            0|         0|                      0|                               0|      0|      1|              0|         0|                    0|                           0|                                                 0|               0|                 0|          0|                    0|       0|      0|                         0|                        0|        0|                 0|              0|                          0|       0|                                0|                                            0|         0|                      0|                               0|      0|      1|              0|         0|\n",
      "|        192074|    RICARDO RAMIREZ R...|            1|                 24633000|                     2.4633E7|                1|                  1|                 1|                1|           1|         1|                         25|        0|     0|     0|      0|          0|       0|   0|       0|       0|    0|      0|        0|      0|    0|                                      0|     0|     0|              0|           1|         0|     0|     0|                 0|     0|    0|    0|        0|      0|        0|       0|        0|      0|      0|    0|        0|     0|       0|     0|         0|           1|                0|         0|      0|                   1|   0|                  0|                          0|                      0|      0|                 0|               0|                                   0|         0|      0|          0|                      1|                       0|       0|          0|       0|          0|                    0|                 0|   0|              0|                         0|                       0|            0|        0|                         0|   0|               0|            0|                    0|                           0|                                                 0|               1|                 0|          0|                    0|       0|      0|                         0|                        0|        0|                 0|              0|                          0|       0|                                0|                                            0|         0|                      0|                               0|      0|      0|              0|         0|                    0|                           0|                                                 0|               1|                 0|          0|                    0|       0|      0|                         0|                        0|        0|                 0|              0|                          0|       0|                                0|                                            0|         0|                      0|                               0|      0|      0|              0|         0|\n",
      "|        193454|    JAIME HUMBERTO GO...|            2|                 79957800|                    3.99789E7|                1|                  1|                 1|                1|           1|         1|                         24|        0|     0|     0|      0|          0|       0|   0|       0|       0|    0|      0|        0|      0|    0|                                      0|     0|     0|              0|           0|         0|     0|     0|                 0|     2|    0|    0|        0|      0|        0|       0|        0|      0|      0|    0|        0|     0|       0|     0|         0|           2|                0|         0|      0|                   2|   0|                  0|                          0|                      0|      0|                 0|               0|                                   0|         0|      0|          0|                      2|                       0|       0|          0|       0|          0|                    0|                 0|   0|              0|                         0|                       0|            0|        0|                         0|   0|               0|            0|                    0|                           0|                                                 0|               0|                 0|          2|                    0|       0|      0|                         0|                        0|        0|                 0|              0|                          0|       0|                                0|                                            0|         0|                      0|                               0|      0|      0|              0|         0|                    0|                           0|                                                 0|               0|                 0|          2|                    0|       0|      0|                         0|                        0|        0|                 0|              0|                          0|       0|                                0|                                            0|         0|                      0|                               0|      0|      0|              0|         0|\n",
      "|        195176|    OSCAR IVAN ORTEGO...|            1|                  5012000|                    5012000.0|                1|                  1|                 1|                1|           1|         1|                         23|        0|     0|     0|      0|          0|       0|   0|       0|       0|    0|      0|        0|      0|    0|                                      0|     0|     0|              0|           0|         0|     0|     0|                 0|     1|    0|    0|        0|      0|        0|       0|        0|      0|      0|    0|        0|     0|       0|     0|         0|           1|                0|         0|      0|                   1|   0|                  0|                          0|                      0|      0|                 0|               0|                                   0|         0|      0|          0|                      1|                       0|       0|          0|       0|          0|                    0|                 0|   0|              0|                         0|                       0|            0|        0|                         0|   0|               0|            0|                    0|                           0|                                                 0|               0|                 0|          0|                    0|       0|      0|                         0|                        0|        0|                 0|              0|                          0|       0|                                0|                                            0|         0|                      0|                               0|      0|      0|              1|         0|                    0|                           0|                                                 0|               0|                 0|          0|                    0|       0|      0|                         0|                        0|        0|                 0|              0|                          0|       0|                                0|                                            0|         0|                      0|                               0|      0|      0|              1|         0|\n",
      "|        206762|    RODRIGO MOREIRA S...|            1|                100430000|                     1.0043E8|                1|                  1|                 1|                1|           1|         1|                         27|        0|     0|     0|      0|          0|       0|   0|       0|       0|    0|      0|        0|      0|    0|                                      0|     0|     0|              0|           0|         0|     0|     0|                 0|     1|    0|    0|        0|      0|        0|       0|        0|      0|      0|    0|        0|     0|       0|     0|         0|           1|                0|         0|      0|                   1|   0|                  0|                          0|                      0|      0|                 0|               0|                                   0|         0|      0|          0|                      1|                       0|       0|          0|       0|          0|                    0|                 0|   0|              0|                         0|                       0|            0|        0|                         0|   0|               0|            0|                    0|                           0|                                                 0|               0|                 0|          1|                    0|       0|      0|                         0|                        0|        0|                 0|              0|                          0|       0|                                0|                                            0|         0|                      0|                               0|      0|      0|              0|         0|                    0|                           0|                                                 0|               0|                 0|          1|                    0|       0|      0|                         0|                        0|        0|                 0|              0|                          0|       0|                                0|                                            0|         0|                      0|                               0|      0|      0|              0|         0|\n",
      "+--------------+------------------------+-------------+-------------------------+-----------------------------+-----------------+-------------------+------------------+-----------------+------------+----------+---------------------------+---------+------+------+-------+-----------+--------+----+--------+--------+-----+-------+---------+-------+-----+---------------------------------------+------+------+---------------+------------+----------+------+------+------------------+------+-----+-----+---------+-------+---------+--------+---------+-------+-------+-----+---------+------+--------+------+----------+------------+-----------------+----------+-------+--------------------+----+-------------------+---------------------------+-----------------------+-------+------------------+----------------+------------------------------------+----------+-------+-----------+-----------------------+------------------------+--------+-----------+--------+-----------+---------------------+------------------+----+---------------+--------------------------+------------------------+-------------+---------+--------------------------+----+----------------+-------------+---------------------+----------------------------+--------------------------------------------------+----------------+------------------+-----------+---------------------+--------+-------+--------------------------+-------------------------+---------+------------------+---------------+---------------------------+--------+---------------------------------+---------------------------------------------+----------+-----------------------+--------------------------------+-------+-------+---------------+----------+---------------------+----------------------------+--------------------------------------------------+----------------+------------------+-----------+---------------------+--------+-------+--------------------------+-------------------------+---------+------------------+---------------+---------------------------+--------+---------------------------------+---------------------------------------------+----------+-----------------------+--------------------------------+-------+-------+---------------+----------+\n",
      "only showing top 20 rows\n",
      "\n"
     ]
    },
    {
     "name": "stderr",
     "output_type": "stream",
     "text": [
      "                                                                                \r"
     ]
    }
   ],
   "source": [
    "infraestructura_df_agregado_y_pivotado = pyspark_etl_functions.unir_dataframes(infraestructura_df_agregado_y_pivotado, infraestructura_df_pivotado)\n",
    "infraestructura_df_agregado_y_pivotado.show()"
   ]
  },
  {
   "cell_type": "code",
   "execution_count": 31,
   "metadata": {},
   "outputs": [
    {
     "name": "stderr",
     "output_type": "stream",
     "text": [
      "[Stage 439:==>(4 + 1) / 5][Stage 441:>  (0 + 3) / 5][Stage 442:>  (0 + 0) / 5]5]\r"
     ]
    },
    {
     "name": "stdout",
     "output_type": "stream",
     "text": [
      "23/04/21 09:59:23 WARN RowBasedKeyValueBatch: Calling spill() on RowBasedKeyValueBatch. Will not spill but return 0.\n",
      "23/04/21 09:59:23 WARN RowBasedKeyValueBatch: Calling spill() on RowBasedKeyValueBatch. Will not spill but return 0.\n",
      "23/04/21 09:59:24 WARN RowBasedKeyValueBatch: Calling spill() on RowBasedKeyValueBatch. Will not spill but return 0.\n",
      "23/04/21 09:59:24 WARN RowBasedKeyValueBatch: Calling spill() on RowBasedKeyValueBatch. Will not spill but return 0.\n",
      "23/04/21 09:59:24 WARN RowBasedKeyValueBatch: Calling spill() on RowBasedKeyValueBatch. Will not spill but return 0.\n",
      "23/04/21 09:59:24 WARN RowBasedKeyValueBatch: Calling spill() on RowBasedKeyValueBatch. Will not spill but return 0.\n"
     ]
    },
    {
     "name": "stderr",
     "output_type": "stream",
     "text": [
      "[Stage 441:>  (0 + 4) / 5][Stage 442:>  (0 + 0) / 5][Stage 443:>  (0 + 0) / 5]\r"
     ]
    },
    {
     "name": "stdout",
     "output_type": "stream",
     "text": [
      "23/04/21 09:59:25 WARN RowBasedKeyValueBatch: Calling spill() on RowBasedKeyValueBatch. Will not spill but return 0.\n",
      "23/04/21 09:59:25 WARN RowBasedKeyValueBatch: Calling spill() on RowBasedKeyValueBatch. Will not spill but return 0.\n"
     ]
    },
    {
     "name": "stderr",
     "output_type": "stream",
     "text": [
      "[Stage 441:==>(4 + 1) / 5][Stage 442:>  (0 + 3) / 5][Stage 443:>  (0 + 0) / 5]\r"
     ]
    },
    {
     "name": "stdout",
     "output_type": "stream",
     "text": [
      "23/04/21 09:59:26 WARN RowBasedKeyValueBatch: Calling spill() on RowBasedKeyValueBatch. Will not spill but return 0.\n",
      "23/04/21 09:59:26 WARN RowBasedKeyValueBatch: Calling spill() on RowBasedKeyValueBatch. Will not spill but return 0.\n",
      "23/04/21 09:59:26 WARN RowBasedKeyValueBatch: Calling spill() on RowBasedKeyValueBatch. Will not spill but return 0.\n",
      "23/04/21 09:59:26 WARN RowBasedKeyValueBatch: Calling spill() on RowBasedKeyValueBatch. Will not spill but return 0.\n",
      "23/04/21 09:59:26 WARN RowBasedKeyValueBatch: Calling spill() on RowBasedKeyValueBatch. Will not spill but return 0.\n",
      "23/04/21 09:59:26 WARN RowBasedKeyValueBatch: Calling spill() on RowBasedKeyValueBatch. Will not spill but return 0.\n"
     ]
    },
    {
     "name": "stderr",
     "output_type": "stream",
     "text": [
      "[Stage 442:>  (0 + 4) / 5][Stage 443:>  (0 + 0) / 5][Stage 444:>  (0 + 0) / 5]\r"
     ]
    },
    {
     "name": "stdout",
     "output_type": "stream",
     "text": [
      "23/04/21 09:59:28 WARN RowBasedKeyValueBatch: Calling spill() on RowBasedKeyValueBatch. Will not spill but return 0.\n",
      "23/04/21 09:59:28 WARN RowBasedKeyValueBatch: Calling spill() on RowBasedKeyValueBatch. Will not spill but return 0.\n"
     ]
    },
    {
     "name": "stderr",
     "output_type": "stream",
     "text": [
      "[Stage 442:==>(4 + 1) / 5][Stage 443:>  (0 + 3) / 5][Stage 444:>  (0 + 0) / 5]\r"
     ]
    },
    {
     "name": "stdout",
     "output_type": "stream",
     "text": [
      "23/04/21 09:59:29 WARN RowBasedKeyValueBatch: Calling spill() on RowBasedKeyValueBatch. Will not spill but return 0.\n",
      "23/04/21 09:59:29 WARN RowBasedKeyValueBatch: Calling spill() on RowBasedKeyValueBatch. Will not spill but return 0.\n",
      "23/04/21 09:59:29 WARN RowBasedKeyValueBatch: Calling spill() on RowBasedKeyValueBatch. Will not spill but return 0.\n",
      "23/04/21 09:59:29 WARN RowBasedKeyValueBatch: Calling spill() on RowBasedKeyValueBatch. Will not spill but return 0.\n",
      "23/04/21 09:59:29 WARN RowBasedKeyValueBatch: Calling spill() on RowBasedKeyValueBatch. Will not spill but return 0.\n",
      "23/04/21 09:59:29 WARN RowBasedKeyValueBatch: Calling spill() on RowBasedKeyValueBatch. Will not spill but return 0.\n"
     ]
    },
    {
     "name": "stderr",
     "output_type": "stream",
     "text": [
      "[Stage 443:>  (0 + 4) / 5][Stage 444:>  (0 + 0) / 5][Stage 445:>  (0 + 0) / 5]\r"
     ]
    },
    {
     "name": "stdout",
     "output_type": "stream",
     "text": [
      "23/04/21 09:59:31 WARN RowBasedKeyValueBatch: Calling spill() on RowBasedKeyValueBatch. Will not spill but return 0.\n",
      "23/04/21 09:59:31 WARN RowBasedKeyValueBatch: Calling spill() on RowBasedKeyValueBatch. Will not spill but return 0.\n"
     ]
    },
    {
     "name": "stderr",
     "output_type": "stream",
     "text": [
      "[Stage 443:==>(4 + 1) / 5][Stage 444:>  (0 + 3) / 5][Stage 445:>  (0 + 0) / 5]\r"
     ]
    },
    {
     "name": "stdout",
     "output_type": "stream",
     "text": [
      "23/04/21 09:59:32 WARN RowBasedKeyValueBatch: Calling spill() on RowBasedKeyValueBatch. Will not spill but return 0.\n",
      "23/04/21 09:59:32 WARN RowBasedKeyValueBatch: Calling spill() on RowBasedKeyValueBatch. Will not spill but return 0.\n",
      "23/04/21 09:59:32 WARN RowBasedKeyValueBatch: Calling spill() on RowBasedKeyValueBatch. Will not spill but return 0.\n",
      "23/04/21 09:59:32 WARN RowBasedKeyValueBatch: Calling spill() on RowBasedKeyValueBatch. Will not spill but return 0.\n",
      "23/04/21 09:59:32 WARN RowBasedKeyValueBatch: Calling spill() on RowBasedKeyValueBatch. Will not spill but return 0.\n",
      "23/04/21 09:59:32 WARN RowBasedKeyValueBatch: Calling spill() on RowBasedKeyValueBatch. Will not spill but return 0.\n"
     ]
    },
    {
     "name": "stderr",
     "output_type": "stream",
     "text": [
      "[Stage 444:>  (0 + 4) / 5][Stage 445:>  (0 + 0) / 5][Stage 446:>  (0 + 0) / 5]\r"
     ]
    },
    {
     "name": "stdout",
     "output_type": "stream",
     "text": [
      "23/04/21 09:59:33 WARN RowBasedKeyValueBatch: Calling spill() on RowBasedKeyValueBatch. Will not spill but return 0.\n",
      "23/04/21 09:59:34 WARN RowBasedKeyValueBatch: Calling spill() on RowBasedKeyValueBatch. Will not spill but return 0.\n"
     ]
    },
    {
     "name": "stderr",
     "output_type": "stream",
     "text": [
      "[Stage 444:==>(4 + 1) / 5][Stage 445:>  (0 + 3) / 5][Stage 446:>  (0 + 0) / 5]\r"
     ]
    },
    {
     "name": "stdout",
     "output_type": "stream",
     "text": [
      "23/04/21 09:59:35 WARN RowBasedKeyValueBatch: Calling spill() on RowBasedKeyValueBatch. Will not spill but return 0.\n",
      "23/04/21 09:59:35 WARN RowBasedKeyValueBatch: Calling spill() on RowBasedKeyValueBatch. Will not spill but return 0.\n",
      "23/04/21 09:59:35 WARN RowBasedKeyValueBatch: Calling spill() on RowBasedKeyValueBatch. Will not spill but return 0.\n",
      "23/04/21 09:59:35 WARN RowBasedKeyValueBatch: Calling spill() on RowBasedKeyValueBatch. Will not spill but return 0.\n",
      "23/04/21 09:59:35 WARN RowBasedKeyValueBatch: Calling spill() on RowBasedKeyValueBatch. Will not spill but return 0.\n",
      "23/04/21 09:59:35 WARN RowBasedKeyValueBatch: Calling spill() on RowBasedKeyValueBatch. Will not spill but return 0.\n"
     ]
    },
    {
     "name": "stderr",
     "output_type": "stream",
     "text": [
      "[Stage 445:>  (0 + 4) / 5][Stage 446:>  (0 + 0) / 5][Stage 449:>  (0 + 0) / 5]\r"
     ]
    },
    {
     "name": "stdout",
     "output_type": "stream",
     "text": [
      "23/04/21 09:59:37 WARN RowBasedKeyValueBatch: Calling spill() on RowBasedKeyValueBatch. Will not spill but return 0.\n",
      "23/04/21 09:59:37 WARN RowBasedKeyValueBatch: Calling spill() on RowBasedKeyValueBatch. Will not spill but return 0.\n"
     ]
    },
    {
     "name": "stderr",
     "output_type": "stream",
     "text": [
      "[Stage 445:==>(4 + 1) / 5][Stage 446:>  (0 + 3) / 5][Stage 449:>  (0 + 0) / 5]\r"
     ]
    },
    {
     "name": "stdout",
     "output_type": "stream",
     "text": [
      "23/04/21 09:59:38 WARN RowBasedKeyValueBatch: Calling spill() on RowBasedKeyValueBatch. Will not spill but return 0.\n",
      "23/04/21 09:59:38 WARN RowBasedKeyValueBatch: Calling spill() on RowBasedKeyValueBatch. Will not spill but return 0.\n",
      "23/04/21 09:59:38 WARN RowBasedKeyValueBatch: Calling spill() on RowBasedKeyValueBatch. Will not spill but return 0.\n",
      "23/04/21 09:59:38 WARN RowBasedKeyValueBatch: Calling spill() on RowBasedKeyValueBatch. Will not spill but return 0.\n",
      "23/04/21 09:59:38 WARN RowBasedKeyValueBatch: Calling spill() on RowBasedKeyValueBatch. Will not spill but return 0.\n",
      "23/04/21 09:59:38 WARN RowBasedKeyValueBatch: Calling spill() on RowBasedKeyValueBatch. Will not spill but return 0.\n"
     ]
    },
    {
     "name": "stderr",
     "output_type": "stream",
     "text": [
      "[Stage 446:>  (0 + 4) / 5][Stage 449:>  (0 + 0) / 5][Stage 451:>  (0 + 0) / 4]\r"
     ]
    },
    {
     "name": "stdout",
     "output_type": "stream",
     "text": [
      "23/04/21 09:59:39 WARN RowBasedKeyValueBatch: Calling spill() on RowBasedKeyValueBatch. Will not spill but return 0.\n",
      "23/04/21 09:59:39 WARN RowBasedKeyValueBatch: Calling spill() on RowBasedKeyValueBatch. Will not spill but return 0.\n"
     ]
    },
    {
     "name": "stderr",
     "output_type": "stream",
     "text": [
      "[Stage 502:=============================================>           (4 + 1) / 5]\r"
     ]
    },
    {
     "name": "stdout",
     "output_type": "stream",
     "text": [
      "+--------------+------------------------+-------------+-------------------------+-----------------------------+-----------------+-------------------+------------------+-----------------+------------+----------+---------------------------+---------+------+------+-------+-----------+--------+----+--------+--------+-----+-------+---------+-------+-----+---------------------------------------+------+------+---------------+------------+----------+------+------+------------------+------+-----+-----+---------+-------+---------+--------+---------+-------+-------+-----+---------+------+--------+------+----------+------------+-----------------+----------+-------+--------------------+----+-------------------+---------------------------+-----------------------+-------+------------------+----------------+------------------------------------+----------+-------+-----------+-----------------------+------------------------+--------+-----------+--------+-----------+---------------------+------------------+----+---------------+--------------------------+------------------------+-------------+---------+--------------------------+----+----------------+-------------+---------------------+----------------------------+--------------------------------------------------+----------------+------------------+-----------+---------------------+--------+-------+--------------------------+-------------------------+---------+------------------+---------------+---------------------------+--------+---------------------------------+---------------------------------------------+----------+-----------------------+--------------------------------+-------+-------+---------------+----------+---------------------+----------------------------+--------------------------------------------------+----------------+------------------+-----------+---------------------+--------+-------+--------------------------+-------------------------+---------+------------------+---------------+---------------------------+--------+---------------------------------+---------------------------------------------+----------+-----------------------+--------------------------------+-------+-------+---------------+----------+\n",
      "|ID_CONTRATISTA|RAZON_SOCIAL_CONTRATISTA|num_contratos|suma_valor_total_contrato|promedio_valor_total_contrato|num_departamentos|num_estados_proceso|num_clases_proceso|num_tipos_proceso|num_familias|num_clases|meses_desde_ultimo_contrato|SANTANDER|VAUPES|NARIÑO|CAQUETA|NO DEFINIDO|CASANARE|META|AMAZONAS|GUAVIARE|CAUCA|VICHADA|ANTIOQUIA|QUINDIO|CHOCO|SAN ANDRES PROVIDENCIA Y SANTA CATALINA|CALDAS|BOYACA|VALLE DEL CAUCA|CUNDINAMARCA|LA GUAJIRA|TOLIMA|ARAUCA|NORTE DE SANTANDER|BOGOTA|HUILA|SUCRE|ATLANTICO|BOLIVAR|RISARALDA|PUTUMAYO|MAGDALENA|GUAINIA|CORDOBA|CESAR|TERMINADO|ACTIVO|BORRADOR|CEDIDO|MODIFICADO|EN EJECUCION|ENVIADO PROVEEDOR|SUSPENDIDO|CERRADO|CONTRATACION DIRECTA|null|CONCURSO DE MERITOS|CONTRATACION MINIMA CUANTIA|LICITACION OBRA PUBLICA|SUBASTA|LICITACION PUBLICA|REGIMEN ESPECIAL|SELECCION ABREVIADA DE MENOR CUANTIA|EMPRESTITO|SEGUROS|CONSULTORIA|PRESTACION DE SERVICIOS|ACUERDO MARCO DE PRECIOS|COMISION|COMPRAVENTA|COMODATO|SUMINISTROS|SERVICIOS FINANCIEROS|NEGOCIO FIDUCIARIO|OTRO|VENTA INMUEBLES|ARRENDAMIENTO DE INMUEBLES|ARRENDAMIENTO DE MUEBLES|INTERVENTORIA|CONCESION|ASOCIACION PUBLICO PRIVADA|OBRA|DECREELAW0922017|VENTA MUEBLES|RELACIONES EXTERIORES|VIVIENDA CIUDAD Y TERRITORIO|TECNOLOGIAS DE LA INFORMACION Y LAS COMUNICACIONES|SERVICIO PUBLICO|EDUCACION NACIONAL|AGRICULTURA|NO APLICANO PERTENECE|DEPORTES|DEFENSA|HACIENDA Y CREDITO PUBLICO|SALUD Y PROTECCION SOCIAL|INDUSTRIA|CIENCIA TECNOLOGIA|MINAS Y ENERGIA|PRESIDENCIA DE LA REPUBLICA|INTERIOR|INCLUSION SOCIAL Y RECONCILIACION|INTELIGENCIA ESTRATEGICA Y CONTRAINTELIGENCIA|TRANSPORTE|INFORMACION ESTADISTICA|AMBIENTE Y DESARROLLO SOSTENIBLE|TRABAJO|CULTURA|LEY DE JUSTICIA|PLANEACION|RELACIONES EXTERIORES|VIVIENDA CIUDAD Y TERRITORIO|TECNOLOGIAS DE LA INFORMACION Y LAS COMUNICACIONES|SERVICIO PUBLICO|EDUCACION NACIONAL|AGRICULTURA|NO APLICANO PERTENECE|DEPORTES|DEFENSA|HACIENDA Y CREDITO PUBLICO|SALUD Y PROTECCION SOCIAL|INDUSTRIA|CIENCIA TECNOLOGIA|MINAS Y ENERGIA|PRESIDENCIA DE LA REPUBLICA|INTERIOR|INCLUSION SOCIAL Y RECONCILIACION|INTELIGENCIA ESTRATEGICA Y CONTRAINTELIGENCIA|TRANSPORTE|INFORMACION ESTADISTICA|AMBIENTE Y DESARROLLO SOSTENIBLE|TRABAJO|CULTURA|LEY DE JUSTICIA|PLANEACION|\n",
      "+--------------+------------------------+-------------+-------------------------+-----------------------------+-----------------+-------------------+------------------+-----------------+------------+----------+---------------------------+---------+------+------+-------+-----------+--------+----+--------+--------+-----+-------+---------+-------+-----+---------------------------------------+------+------+---------------+------------+----------+------+------+------------------+------+-----+-----+---------+-------+---------+--------+---------+-------+-------+-----+---------+------+--------+------+----------+------------+-----------------+----------+-------+--------------------+----+-------------------+---------------------------+-----------------------+-------+------------------+----------------+------------------------------------+----------+-------+-----------+-----------------------+------------------------+--------+-----------+--------+-----------+---------------------+------------------+----+---------------+--------------------------+------------------------+-------------+---------+--------------------------+----+----------------+-------------+---------------------+----------------------------+--------------------------------------------------+----------------+------------------+-----------+---------------------+--------+-------+--------------------------+-------------------------+---------+------------------+---------------+---------------------------+--------+---------------------------------+---------------------------------------------+----------+-----------------------+--------------------------------+-------+-------+---------------+----------+---------------------+----------------------------+--------------------------------------------------+----------------+------------------+-----------+---------------------+--------+-------+--------------------------+-------------------------+---------+------------------+---------------+---------------------------+--------+---------------------------------+---------------------------------------------+----------+-----------------------+--------------------------------+-------+-------+---------------+----------+\n",
      "|     900062917|    SERVICIOS POSTALE...|          224|              68312474900|          3.049664058035714E8|               30|                  4|                 3|                4|          21|        21|                         18|       16|     0|     2|      5|          1|       1|   3|       0|       1|    0|      2|       12|      4|    1|                                      1|     8|     1|             12|           8|         2|    11|     2|                 5|    94|    3|    1|        6|      1|        4|       6|        4|      0|      1|    6|        3|    21|       0|     0|        23|         177|                0|         0|      0|                  90| 118|                  0|                          8|                      0|      0|                 0|               8|                                   0|         0|      0|          0|                     46|                       0|       0|          0|       0|          7|                    1|                 0| 170|              0|                         0|                       0|            0|        0|                         0|   0|               0|            0|                    2|                           5|                                                 3|              46|                 4|          5|                   28|       2|     65|                         7|                       15|        2|                 0|              2|                          1|       0|                                5|                                            0|         5|                      1|                              16|      0|      6|              2|         2|                    2|                           5|                                                 3|              46|                 4|          5|                   28|       2|     65|                         7|                       15|        2|                 0|              2|                          1|       0|                                5|                                            0|         5|                      1|                              16|      0|      6|              2|         2|\n",
      "|     900846370|    CONTROL SERVICES ...|          183|               2648525142|         1.4472814983606558E7|               29|                  6|                 1|                5|          16|        16|                         18|       12|     0|     3|     10|          0|       1|   0|       2|       0|    3|      3|       19|      2|    1|                                      1|     2|     2|             11|          12|         2|     5|     3|                 1|    61|    6|    1|        3|      5|        4|       1|        5|      0|      1|    1|        8|    18|       0|     1|        35|         120|                0|         0|      1|                   0|   3|                  0|                        180|                      0|      0|                 0|               0|                                   0|         0|      0|          0|                    119|                       0|       0|         30|       0|         21|                    0|                 0|   6|              0|                         0|                       0|            0|        0|                         0|   7|               0|            0|                    0|                           0|                                                 2|              14|                 8|         11|                   20|       0|     66|                         8|                        6|        0|                 0|              0|                          1|       3|                                0|                                            0|         3|                      0|                               5|      9|      3|             21|         3|                    0|                           0|                                                 2|              14|                 8|         11|                   20|       0|     66|                         8|                        6|        0|                 0|              0|                          1|       3|                                0|                                            0|         3|                      0|                               5|      9|      3|             21|         3|\n",
      "|     899999063|    UNIVERSIDAD NACIO...|          174|             116361133027|          6.687421438333334E8|               14|                  3|                 3|                5|          22|        22|                         18|        0|     0|     0|      0|          5|       0|   0|       0|       0|    0|      0|       21|      1|    1|                                      0|     7|     1|              4|           5|         0|     0|     0|                 0|   124|    0|    0|        1|      1|        1|       0|        1|      0|      0|    1|        0|    20|       0|     0|        35|         119|                0|         0|      0|                  77|  89|                  0|                          0|                      0|      0|                 0|               7|                                   1|         0|      0|          0|                     27|                       0|       0|          1|       0|          0|                    0|                 0| 144|              0|                         1|                       0|            0|        0|                         0|   0|               1|            0|                    2|                           2|                                                 5|              26|                16|          3|                   11|       0|      8|                         4|                       10|        3|                 3|             11|                          2|       0|                                4|                                            0|         8|                      2|                              18|      1|      9|             12|        14|                    2|                           2|                                                 5|              26|                16|          3|                   11|       0|      8|                         4|                       10|        3|                 3|             11|                          2|       0|                                4|                                            0|         8|                      2|                              18|      1|      9|             12|        14|\n",
      "|     860002400|    LA PREVISORA SA C...|          173|              45941356523|         2.6555697412138727E8|               28|                  5|                 6|                7|          21|        21|                         18|        4|     0|     1|      3|          0|       4|   5|       0|       1|    4|      0|        1|      4|    1|                                      0|     2|     8|             10|           6|         8|     8|     3|                 4|    43|    5|   12|        5|      2|        1|       5|        9|      0|     12|    2|        2|    15|       0|     0|        21|         134|                0|         0|      1|                   2|  11|                  0|                         89|                     14|      0|                 1|               1|                                  55|         0|    144|          0|                      7|                       1|       0|          8|       0|          6|                    1|                 0|   6|              0|                         0|                       0|            0|        0|                         0|   0|               0|            0|                    0|                           4|                                                 2|              62|                 2|          1|                   47|       2|      6|                         5|                        9|        1|                 0|              1|                          1|       1|                                1|                                            0|         6|                      0|                               9|      1|      7|              2|         3|                    0|                           4|                                                 2|              62|                 2|          1|                   47|       2|      6|                         5|                        9|        1|                 0|              1|                          1|       1|                                1|                                            0|         6|                      0|                               9|      1|      7|              2|         3|\n",
      "|     860012336|    INSTITUTO COLOMBI...|          165|               9109554507|          5.520942125454546E7|               21|                  5|                 5|                5|          23|        23|                         18|       10|     0|     2|      0|          0|       0|   2|       0|       0|    1|      0|       31|      3|    0|                                      1|     1|     1|              7|          17|         0|     2|     0|                 1|    68|    4|    1|        6|      2|        1|       0|        0|      0|      1|    3|        4|    15|       0|     0|        14|         131|                0|         0|      1|                 116|  20|                  2|                         16|                      0|      0|                 0|              10|                                   1|         0|      0|          2|                    137|                       0|       0|          2|       0|          0|                    0|                 0|  21|              0|                         0|                       0|            0|        0|                         0|   0|               3|            0|                    4|                           5|                                                 3|              45|                 7|          5|                   23|       6|     13|                         6|                       10|        1|                 1|              3|                          1|       2|                                3|                                            0|         4|                      0|                               9|      3|      3|              4|         4|                    4|                           5|                                                 3|              45|                 7|          5|                   23|       6|     13|                         6|                       10|        1|                 1|              3|                          1|       2|                                3|                                            0|         4|                      0|                               9|      3|      3|              4|         4|\n",
      "|     890980040|    UNIVERSIDAD DE AN...|          156|             273561230461|         1.7535976311602564E9|                7|                  4|                 4|                6|          16|        16|                         18|        0|     0|     0|      0|          0|       0|   0|       0|       0|    0|      0|      132|      2|    2|                                      0|     1|     3|              0|           1|         0|     0|     0|                 0|    15|    0|    0|        0|      0|        0|       0|        0|      0|      0|    0|        1|    12|       0|     0|        36|         107|                0|         0|      0|                  71|  77|                  0|                          2|                      0|      0|                 0|               5|                                   1|         0|      0|          0|                     38|                       0|       0|          0|       0|          3|                    0|                 0| 111|              0|                         1|                       0|            0|        0|                         0|   1|               2|            0|                    0|                           2|                                                 1|              53|                10|          0|                    9|       3|      0|                         3|                        3|        1|                 0|              2|                          0|       0|                                1|                                            0|         0|                      0|                               9|      1|     10|              1|        47|                    0|                           2|                                                 1|              53|                10|          0|                    9|       3|      0|                         3|                        3|        1|                 0|              2|                          0|       0|                                1|                                            0|         0|                      0|                               9|      1|     10|              1|        47|\n",
      "|     860524654|    ASEGURADORA SOLID...|          143|              40605348116|         2.8395348332867134E8|               22|                  5|                 4|                6|          19|        19|                         18|        9|     0|     3|      0|          2|       2|   5|       0|       0|    1|      0|       22|      0|    0|                                      0|     2|     5|              3|           8|         0|     1|     0|                 3|    51|    2|    4|        6|      5|        2|       0|        3|      0|      1|    3|        2|    16|       0|     0|        22|         101|                0|         0|      2|                   0|   2|                  0|                         71|                     26|      0|                 0|               1|                                  43|         0|    129|          0|                      2|                       0|       0|          7|       0|          3|                    1|                 0|   1|              0|                         0|                       0|            0|        0|                         0|   0|               0|            0|                    0|                           3|                                                 4|              43|                 5|          2|                   37|       2|      6|                         2|                        6|        5|                 0|              3|                          0|       0|                                2|                                            0|         1|                      2|                               7|      0|      6|              5|         2|                    0|                           3|                                                 4|              43|                 5|          2|                   37|       2|      6|                         2|                        6|        5|                 0|              3|                          0|       0|                                2|                                            0|         1|                      2|                               7|      0|      6|              5|         2|\n",
      "|     901406206|    CRR SOLUCIONES IN...|          122|                897117152|            7353419.278688525|               27|                  4|                 1|                5|          16|        16|                         18|        9|     0|     4|      2|          2|       1|   3|       1|       0|    5|      2|       20|      2|    1|                                      0|     3|     0|             10|           4|         0|     1|     2|                 1|    29|    3|    3|        2|      2|        2|       2|        3|      0|      3|    0|        2|     9|       0|     0|        12|          99|                0|         0|      0|                   0|   0|                  0|                        122|                      0|      0|                 0|               0|                                   0|         0|      0|          0|                     66|                       0|       0|         25|       0|         28|                    0|                 0|   2|              0|                         0|                       0|            0|        0|                         0|   1|               0|            0|                    0|                           1|                                                 0|               5|                 2|          9|                   13|       0|     32|                         0|                        7|        3|                 0|              0|                          1|       0|                                0|                                            1|         1|                      0|                              15|      3|      2|             25|         2|                    0|                           1|                                                 0|               5|                 2|          9|                   13|       0|     32|                         0|                        7|        3|                 0|              0|                          1|       0|                                0|                                            1|         1|                      0|                              15|      3|      2|             25|         2|\n",
      "|     830001113|    IMPRENTA NACIONAL...|          112|              32762148041|             2.925191789375E8|                7|                  4|                 2|                5|          23|        23|                         19|        0|     0|     0|      0|          4|       0|   0|       0|       0|    0|      0|        1|      0|    0|                                      0|     0|     1|              0|           2|         0|     1|     0|                 0|   102|    0|    0|        0|      0|        1|       0|        0|      0|      0|    0|        2|     7|       0|     0|        24|          79|                0|         0|      0|                  59|  48|                  0|                          0|                      0|      0|                 0|               5|                                   0|         0|      0|          0|                     24|                       0|       0|          4|       0|          1|                    0|                 0|  82|              0|                         0|                       0|            0|        0|                         0|   1|               0|            0|                    3|                           4|                                                 2|               5|                 5|          6|                   11|       0|     11|                         5|                        4|        5|                 1|              4|                          4|       3|                                5|                                            0|         6|                      1|                               6|      4|      4|              9|         4|                    3|                           4|                                                 2|               5|                 5|          6|                   11|       0|     11|                         5|                        4|        5|                 1|              4|                          4|       3|                                5|                                            0|         6|                      1|                               6|      4|      4|              9|         4|\n",
      "|     860066942|    CAJA DE COMPENSAC...|          104|             138495146906|         1.3316841048653846E9|                3|                  3|                 4|                5|          20|        20|                         18|        0|     0|     0|      0|          2|       0|   0|       0|       0|    0|      0|        0|      0|    0|                                      0|     0|     0|              0|           3|         0|     0|     0|                 0|    99|    0|    0|        0|      0|        0|       0|        0|      0|      0|    0|        0|     6|       0|     0|        11|          87|                0|         0|      0|                  85|   5|                  0|                          1|                      0|      0|                 0|               8|                                   5|         0|      0|          0|                     94|                       0|       0|          0|       0|          1|                    0|                 0|   7|              0|                         1|                       0|            0|        0|                         0|   0|               1|            0|                    0|                           5|                                                 4|               7|                 9|          2|                    6|       0|      2|                        11|                        7|        7|                 1|              5|                          4|       0|                                2|                                            0|         9|                      0|                               3|      4|      9|              4|         3|                    0|                           5|                                                 4|               7|                 9|          2|                    6|       0|      2|                        11|                        7|        7|                 1|              5|                          4|       0|                                2|                                            0|         9|                      0|                               3|      4|      9|              4|         3|\n",
      "|     899999115|    EMPRESA DE TELECO...|           91|             174153075151|         1.9137700566043956E9|               11|                  3|                 2|                2|          13|        13|                         19|        3|     0|     0|      0|          0|       0|   2|       0|       0|    0|      0|        0|      0|    1|                                      0|     0|     0|              1|           3|         0|     1|     0|                 0|    74|    2|    0|        2|      0|        1|       0|        0|      0|      0|    1|        0|     8|       0|     0|        11|          72|                0|         0|      0|                  58|  31|                  0|                          0|                      0|      0|                 0|               2|                                   0|         0|      0|          0|                     24|                       0|       0|          0|       0|          0|                    0|                 0|  67|              0|                         0|                       0|            0|        0|                         0|   0|               0|            0|                    0|                           7|                                                 0|              32|                 2|          0|                    9|       0|      0|                         6|                        3|        3|                 0|              0|                          0|       0|                                3|                                            0|        10|                      0|                               3|      0|      7|              4|         2|                    0|                           7|                                                 0|              32|                 2|          0|                    9|       0|      0|                         6|                        3|        3|                 0|              0|                          0|       0|                                3|                                            0|        10|                      0|                               3|      0|      7|              4|         2|\n",
      "|      80747896|    ZAMORA JIMENEZ LE...|           86|                494884031|            5754465.476744186|               18|                  3|                 1|                2|           5|         5|                         18|        3|     0|     9|      0|          0|       1|   1|       0|       0|   12|      0|       15|      0|    1|                                      3|    11|     1|              2|           5|         1|    14|     0|                 1|     1|    0|    0|        4|      0|        0|       0|        1|      0|      0|    0|        0|     8|       0|     0|        33|          45|                0|         0|      0|                   0|   0|                  0|                         86|                      0|      0|                 0|               0|                                   0|         0|      0|          0|                      0|                       0|       0|         58|       0|         28|                    0|                 0|   0|              0|                         0|                       0|            0|        0|                         0|   0|               0|            0|                    0|                           0|                                                 0|               5|                 0|          0|                    1|       0|      2|                         0|                        0|        0|                 0|              0|                          0|       0|                                0|                                            0|         0|                      0|                               0|      0|      1|             77|         0|                    0|                           0|                                                 0|               5|                 0|          0|                    1|       0|      2|                         0|                        0|        0|                 0|              0|                          0|       0|                                0|                                            0|         0|                      0|                               0|      0|      1|             77|         0|\n",
      "|     900204272|    GESTION DE SEGURI...|           71|               1416858885|         1.9955758943661973E7|                9|                  4|                 4|                4|          22|        22|                         18|        0|     0|     0|      0|          2|       0|   1|       0|       0|    0|      0|        1|      0|    0|                                      0|     0|     1|              1|           1|         0|     2|     0|                 0|    61|    0|    0|        0|      0|        1|       0|        0|      0|      0|    0|        1|     2|       0|     0|         4|          64|                0|         0|      0|                   2|   0|                  0|                         65|                      0|      2|                 0|               2|                                   0|         0|      0|          0|                     18|                       0|       0|         38|       0|         13|                    0|                 0|   2|              0|                         0|                       0|            0|        0|                         0|   0|               0|            0|                    1|                           3|                                                 2|               4|                 1|          3|                    7|       1|     13|                         7|                        3|        0|                 1|              3|                          3|       1|                                2|                                            0|         2|                      0|                               4|      3|      2|              4|         1|                    1|                           3|                                                 2|               4|                 1|          3|                    7|       1|     13|                         7|                        3|        0|                 1|              3|                          3|       1|                                2|                                            0|         2|                      0|                               4|      3|      2|              4|         1|\n",
      "|     860005068|    CONGREGACION DE R...|           67|              27111957051|          4.046560753880597E8|                6|                  3|                 3|                5|           6|         6|                         19|        0|     0|     0|      0|          0|       0|   0|       0|       0|    5|      0|       18|      0|    0|                                      0|     4|     5|              0|           4|         0|     0|     0|                 0|    31|    0|    0|        0|      0|        0|       0|        0|      0|      0|    0|        0|     1|       0|     0|        20|          46|                0|         0|      0|                  11|   1|                  0|                          1|                      0|      0|                 0|              54|                                   0|         0|      0|          0|                     10|                       0|       0|          0|       2|          0|                    0|                 0|  52|              0|                         0|                       0|            0|        0|                         0|   2|               1|            0|                    0|                           1|                                                 0|               6|                 0|          0|                    9|       0|      0|                         0|                       49|        0|                 0|              0|                          0|       1|                                0|                                            0|         0|                      0|                               0|      0|      0|              0|         1|                    0|                           1|                                                 0|               6|                 0|          0|                    9|       0|      0|                         0|                       49|        0|                 0|              0|                          0|       1|                                0|                                            0|         0|                      0|                               0|      0|      0|              0|         1|\n",
      "|     804003744|    CENTRAL DE SUMINI...|           66|                372244992|            5640075.636363637|               18|                  5|                 1|                3|           7|         7|                         18|       16|     0|     0|      1|          0|       0|   2|       0|       0|    4|      0|        9|      0|    0|                                      0|     2|     2|              2|           1|         0|     1|     3|                12|     3|    1|    1|        1|      0|        1|       0|        0|      0|      4|    0|        1|     4|       0|     0|        18|          41|                0|         0|      2|                   0|   0|                  0|                         66|                      0|      0|                 0|               0|                                   0|         0|      0|          0|                      1|                       0|       0|         56|       0|          9|                    0|                 0|   0|              0|                         0|                       0|            0|        0|                         0|   0|               0|            0|                    0|                           1|                                                 0|               4|                 0|          0|                    5|       0|      2|                         0|                        0|        1|                 0|              0|                          0|       1|                                0|                                            0|         0|                      0|                               0|      0|      0|             52|         0|                    0|                           1|                                                 0|               4|                 0|          0|                    5|       0|      2|                         0|                        0|        1|                 0|              0|                          0|       1|                                0|                                            0|         0|                      0|                               0|      0|      0|             52|         0|\n",
      "|     860063869|     FOX TELECOLOMBIA SA|           66|                        0|                          0.0|                1|                  3|                 1|                1|           1|         1|                         19|        0|     0|     0|      0|          0|       0|   0|       0|       0|    0|      0|        0|      0|    0|                                      0|     0|     0|              0|           0|         0|     0|     0|                 0|    66|    0|    0|        0|      0|        0|       0|        0|      0|      0|    0|        0|     4|       0|     0|         7|          55|                0|         0|      0|                  66|   0|                  0|                          0|                      0|      0|                 0|               0|                                   0|         0|      0|          0|                      0|                       0|       0|          0|       0|          0|                    0|                 0|  66|              0|                         0|                       0|            0|        0|                         0|   0|               0|            0|                    0|                           0|                                                 0|               0|                 0|          0|                    0|       0|      0|                         0|                        0|        0|                 0|              0|                          0|       0|                                0|                                            0|         0|                      0|                               0|      0|     66|              0|         0|                    0|                           0|                                                 0|               0|                 0|          0|                    0|       0|      0|                         0|                        0|        0|                 0|              0|                          0|       0|                                0|                                            0|         0|                      0|                               0|      0|     66|              0|         0|\n",
      "|     860007538|    FEDERACION NACION...|           64|              54214990732|             8.471092301875E8|               11|                  3|                 2|                6|          10|        10|                         18|        2|     0|     0|      0|          0|       0|   0|       0|       0|    0|      0|        6|     10|    0|                                      0|    14|     0|              7|           1|         0|     3|     0|                 1|    12|    3|    0|        0|      0|        5|       0|        0|      0|      0|    0|        0|     7|       0|     0|         8|          49|                0|         0|      0|                  17|  18|                  0|                          0|                      0|      0|                 0|              29|                                   0|         0|      0|          0|                      2|                       0|       0|          0|       1|          0|                    0|                 0|  20|              0|                         5|                       0|            0|        0|                         0|   9|              27|            0|                    0|                           0|                                                 0|              29|                 0|          3|                   22|       0|      0|                         1|                        0|        1|                 0|              0|                          0|       0|                                0|                                            0|         0|                      1|                               4|      1|      1|              1|         0|                    0|                           0|                                                 0|              29|                 0|          3|                   22|       0|      0|                         1|                        0|        1|                 0|              0|                          0|       0|                                0|                                            0|         0|                      1|                               4|      1|      1|              1|         0|\n",
      "|      59706955|       DEICY BRAVO JOJOA|           62|               8928174217|          1.440028099516129E8|               15|                  3|                 4|                4|           9|         9|                         18|        0|     0|     2|      1|          0|       0|   0|       0|       1|   28|      0|        5|      1|    0|                                      0|     4|     0|              6|           4|         0|     1|     0|                 0|     3|    2|    1|        0|      0|        2|       0|        0|      0|      0|    1|        0|     8|       0|     0|        21|          33|                0|         0|      0|                   0|   0|                  0|                         34|                      0|     26|                 1|               0|                                   1|         0|      0|          0|                      1|                       1|       0|         33|       0|         27|                    0|                 0|   0|              0|                         0|                       0|            0|        0|                         0|   0|               0|            0|                    0|                           1|                                                 0|               4|                 3|          0|                    2|       0|      2|                         0|                        1|        0|                 0|              0|                          0|       0|                                0|                                            0|         0|                      0|                               0|     45|      0|              3|         1|                    0|                           1|                                                 0|               4|                 3|          0|                    2|       0|      2|                         0|                        1|        0|                 0|              0|                          0|       0|                                0|                                            0|         0|                      0|                               0|     45|      0|              3|         1|\n",
      "|      17068260|    RAFAEL ANTONIO SA...|           57|              15388836737|           2.69979591877193E8|                2|                  3|                 3|                3|           2|         2|                         19|        0|     0|     0|      0|          0|       0|   0|       0|       0|    0|      0|        0|      0|    0|                                      0|     0|     0|              0|           0|         0|     2|     0|                 0|    55|    0|    0|        0|      0|        0|       0|        0|      0|      0|    0|        0|     4|       0|     0|        32|          21|                0|         0|      0|                   0|  16|                  0|                          1|                      0|      0|                 0|              38|                                   2|         0|      0|          0|                      0|                       0|       0|          2|       0|         48|                    0|                 0|   7|              0|                         0|                       0|            0|        0|                         0|   0|               0|            0|                    0|                           0|                                                 0|               0|                 0|          0|                    0|       0|      3|                         0|                       54|        0|                 0|              0|                          0|       0|                                0|                                            0|         0|                      0|                               0|      0|      0|              0|         0|                    0|                           0|                                                 0|               0|                 0|          0|                    0|       0|      3|                         0|                       54|        0|                 0|              0|                          0|       0|                                0|                                            0|         0|                      0|                               0|      0|      0|              0|         0|\n",
      "|     890309152|          IMPRETICS EICE|           53|              65233533906|           1.23082139445283E9|                6|                  3|                 1|                4|          11|        11|                         19|        1|     0|     0|      0|          0|       0|   0|       0|       0|    0|      0|        1|      0|    0|                                      1|     0|     0|             41|           0|         0|     0|     0|                 0|     8|    0|    0|        0|      0|        0|       0|        1|      0|      0|    0|        0|     3|       0|     0|        10|          40|                0|         0|      0|                  41|  12|                  0|                          0|                      0|      0|                 0|               0|                                   0|         0|      0|          0|                      9|                       0|       0|          3|       0|          1|                    0|                 0|  40|              0|                         0|                       0|            0|        0|                         0|   0|               0|            0|                    0|                           2|                                                 0|              14|                 2|          0|                   18|       0|      0|                         8|                        3|        1|                 0|              0|                          0|       0|                                1|                                            0|         0|                      0|                               0|      0|      2|              1|         1|                    0|                           2|                                                 0|              14|                 2|          0|                   18|       0|      0|                         8|                        3|        1|                 0|              0|                          0|       0|                                1|                                            0|         0|                      0|                               0|      0|      2|              1|         1|\n",
      "+--------------+------------------------+-------------+-------------------------+-----------------------------+-----------------+-------------------+------------------+-----------------+------------+----------+---------------------------+---------+------+------+-------+-----------+--------+----+--------+--------+-----+-------+---------+-------+-----+---------------------------------------+------+------+---------------+------------+----------+------+------+------------------+------+-----+-----+---------+-------+---------+--------+---------+-------+-------+-----+---------+------+--------+------+----------+------------+-----------------+----------+-------+--------------------+----+-------------------+---------------------------+-----------------------+-------+------------------+----------------+------------------------------------+----------+-------+-----------+-----------------------+------------------------+--------+-----------+--------+-----------+---------------------+------------------+----+---------------+--------------------------+------------------------+-------------+---------+--------------------------+----+----------------+-------------+---------------------+----------------------------+--------------------------------------------------+----------------+------------------+-----------+---------------------+--------+-------+--------------------------+-------------------------+---------+------------------+---------------+---------------------------+--------+---------------------------------+---------------------------------------------+----------+-----------------------+--------------------------------+-------+-------+---------------+----------+---------------------+----------------------------+--------------------------------------------------+----------------+------------------+-----------+---------------------+--------+-------+--------------------------+-------------------------+---------+------------------+---------------+---------------------------+--------+---------------------------------+---------------------------------------------+----------+-----------------------+--------------------------------+-------+-------+---------------+----------+\n",
      "only showing top 20 rows\n",
      "\n"
     ]
    },
    {
     "name": "stderr",
     "output_type": "stream",
     "text": [
      "                                                                                \r"
     ]
    }
   ],
   "source": [
    "infraestructura_df_ordenado = infraestructura_df_agregado_y_pivotado.orderBy(F.desc(\"num_contratos\"))\n",
    "\n",
    "infraestructura_df_ordenado.show()"
   ]
  },
  {
   "cell_type": "code",
   "execution_count": 32,
   "metadata": {},
   "outputs": [],
   "source": [
    "def separar_dataframe(df):\n",
    "    df_cero = df.filter(df.suma_valor_total_contrato == 0)\n",
    "    df_no_cero = df.filter(df.suma_valor_total_contrato != 0)\n",
    "    return df_cero, df_no_cero"
   ]
  },
  {
   "cell_type": "code",
   "execution_count": 33,
   "metadata": {},
   "outputs": [
    {
     "name": "stdout",
     "output_type": "stream",
     "text": [
      "Dataframe con suma_valor_total_contrato = 0:\n"
     ]
    },
    {
     "name": "stderr",
     "output_type": "stream",
     "text": [
      "[Stage 506:=> (3 + 2) / 5][Stage 508:>  (0 + 2) / 5][Stage 509:>  (0 + 0) / 5]5]\r"
     ]
    },
    {
     "name": "stdout",
     "output_type": "stream",
     "text": [
      "23/04/21 10:00:36 WARN RowBasedKeyValueBatch: Calling spill() on RowBasedKeyValueBatch. Will not spill but return 0.\n",
      "23/04/21 10:00:36 WARN RowBasedKeyValueBatch: Calling spill() on RowBasedKeyValueBatch. Will not spill but return 0.\n",
      "23/04/21 10:00:36 WARN RowBasedKeyValueBatch: Calling spill() on RowBasedKeyValueBatch. Will not spill but return 0.\n",
      "23/04/21 10:00:36 WARN RowBasedKeyValueBatch: Calling spill() on RowBasedKeyValueBatch. Will not spill but return 0.\n"
     ]
    },
    {
     "name": "stderr",
     "output_type": "stream",
     "text": [
      "[Stage 508:>  (0 + 4) / 5][Stage 509:>  (0 + 0) / 5][Stage 510:>  (0 + 0) / 5]\r"
     ]
    },
    {
     "name": "stdout",
     "output_type": "stream",
     "text": [
      "23/04/21 10:00:37 WARN RowBasedKeyValueBatch: Calling spill() on RowBasedKeyValueBatch. Will not spill but return 0.\n",
      "23/04/21 10:00:37 WARN RowBasedKeyValueBatch: Calling spill() on RowBasedKeyValueBatch. Will not spill but return 0.\n",
      "23/04/21 10:00:37 WARN RowBasedKeyValueBatch: Calling spill() on RowBasedKeyValueBatch. Will not spill but return 0.\n",
      "23/04/21 10:00:37 WARN RowBasedKeyValueBatch: Calling spill() on RowBasedKeyValueBatch. Will not spill but return 0.\n"
     ]
    },
    {
     "name": "stderr",
     "output_type": "stream",
     "text": [
      "[Stage 508:==>(4 + 1) / 5][Stage 509:>  (0 + 3) / 5][Stage 510:>  (0 + 0) / 5]\r"
     ]
    },
    {
     "name": "stdout",
     "output_type": "stream",
     "text": [
      "23/04/21 10:00:39 WARN RowBasedKeyValueBatch: Calling spill() on RowBasedKeyValueBatch. Will not spill but return 0.\n",
      "23/04/21 10:00:39 WARN RowBasedKeyValueBatch: Calling spill() on RowBasedKeyValueBatch. Will not spill but return 0.\n",
      "23/04/21 10:00:39 WARN RowBasedKeyValueBatch: Calling spill() on RowBasedKeyValueBatch. Will not spill but return 0.\n"
     ]
    },
    {
     "name": "stderr",
     "output_type": "stream",
     "text": [
      "[Stage 509:>  (0 + 4) / 5][Stage 510:>  (0 + 0) / 5][Stage 511:>  (0 + 0) / 5]\r"
     ]
    },
    {
     "name": "stdout",
     "output_type": "stream",
     "text": [
      "23/04/21 10:00:39 WARN RowBasedKeyValueBatch: Calling spill() on RowBasedKeyValueBatch. Will not spill but return 0.\n",
      "23/04/21 10:00:40 WARN RowBasedKeyValueBatch: Calling spill() on RowBasedKeyValueBatch. Will not spill but return 0.\n",
      "23/04/21 10:00:40 WARN RowBasedKeyValueBatch: Calling spill() on RowBasedKeyValueBatch. Will not spill but return 0.\n",
      "23/04/21 10:00:40 WARN RowBasedKeyValueBatch: Calling spill() on RowBasedKeyValueBatch. Will not spill but return 0.\n",
      "23/04/21 10:00:40 WARN RowBasedKeyValueBatch: Calling spill() on RowBasedKeyValueBatch. Will not spill but return 0.\n"
     ]
    },
    {
     "name": "stderr",
     "output_type": "stream",
     "text": [
      "[Stage 510:>  (0 + 4) / 5][Stage 511:>  (0 + 0) / 5][Stage 512:>  (0 + 0) / 5]\r"
     ]
    },
    {
     "name": "stdout",
     "output_type": "stream",
     "text": [
      "23/04/21 10:00:42 WARN RowBasedKeyValueBatch: Calling spill() on RowBasedKeyValueBatch. Will not spill but return 0.\n",
      "23/04/21 10:00:42 WARN RowBasedKeyValueBatch: Calling spill() on RowBasedKeyValueBatch. Will not spill but return 0.\n",
      "23/04/21 10:00:42 WARN RowBasedKeyValueBatch: Calling spill() on RowBasedKeyValueBatch. Will not spill but return 0.\n",
      "23/04/21 10:00:42 WARN RowBasedKeyValueBatch: Calling spill() on RowBasedKeyValueBatch. Will not spill but return 0.\n",
      "23/04/21 10:00:42 WARN RowBasedKeyValueBatch: Calling spill() on RowBasedKeyValueBatch. Will not spill but return 0.\n",
      "23/04/21 10:00:42 WARN RowBasedKeyValueBatch: Calling spill() on RowBasedKeyValueBatch. Will not spill but return 0.\n",
      "23/04/21 10:00:42 WARN RowBasedKeyValueBatch: Calling spill() on RowBasedKeyValueBatch. Will not spill but return 0.\n",
      "23/04/21 10:00:42 WARN RowBasedKeyValueBatch: Calling spill() on RowBasedKeyValueBatch. Will not spill but return 0.\n"
     ]
    },
    {
     "name": "stderr",
     "output_type": "stream",
     "text": [
      "[Stage 511:>  (0 + 4) / 5][Stage 512:>  (0 + 0) / 5][Stage 513:>  (0 + 0) / 5]\r"
     ]
    },
    {
     "name": "stdout",
     "output_type": "stream",
     "text": [
      "23/04/21 10:00:45 WARN RowBasedKeyValueBatch: Calling spill() on RowBasedKeyValueBatch. Will not spill but return 0.\n",
      "23/04/21 10:00:45 WARN RowBasedKeyValueBatch: Calling spill() on RowBasedKeyValueBatch. Will not spill but return 0.\n",
      "23/04/21 10:00:45 WARN RowBasedKeyValueBatch: Calling spill() on RowBasedKeyValueBatch. Will not spill but return 0.\n",
      "23/04/21 10:00:45 WARN RowBasedKeyValueBatch: Calling spill() on RowBasedKeyValueBatch. Will not spill but return 0.\n",
      "23/04/21 10:00:45 WARN RowBasedKeyValueBatch: Calling spill() on RowBasedKeyValueBatch. Will not spill but return 0.\n",
      "23/04/21 10:00:45 WARN RowBasedKeyValueBatch: Calling spill() on RowBasedKeyValueBatch. Will not spill but return 0.\n",
      "23/04/21 10:00:45 WARN RowBasedKeyValueBatch: Calling spill() on RowBasedKeyValueBatch. Will not spill but return 0.\n",
      "23/04/21 10:00:45 WARN RowBasedKeyValueBatch: Calling spill() on RowBasedKeyValueBatch. Will not spill but return 0.\n"
     ]
    },
    {
     "name": "stderr",
     "output_type": "stream",
     "text": [
      "[Stage 512:>  (0 + 4) / 5][Stage 513:>  (0 + 0) / 5][Stage 516:>  (0 + 0) / 5]\r"
     ]
    },
    {
     "name": "stdout",
     "output_type": "stream",
     "text": [
      "23/04/21 10:00:47 WARN RowBasedKeyValueBatch: Calling spill() on RowBasedKeyValueBatch. Will not spill but return 0.\n",
      "23/04/21 10:00:47 WARN RowBasedKeyValueBatch: Calling spill() on RowBasedKeyValueBatch. Will not spill but return 0.\n",
      "23/04/21 10:00:48 WARN RowBasedKeyValueBatch: Calling spill() on RowBasedKeyValueBatch. Will not spill but return 0.\n",
      "23/04/21 10:00:48 WARN RowBasedKeyValueBatch: Calling spill() on RowBasedKeyValueBatch. Will not spill but return 0.\n",
      "23/04/21 10:00:48 WARN RowBasedKeyValueBatch: Calling spill() on RowBasedKeyValueBatch. Will not spill but return 0.\n"
     ]
    },
    {
     "name": "stderr",
     "output_type": "stream",
     "text": [
      "[Stage 513:>  (0 + 4) / 5][Stage 516:>  (0 + 0) / 5][Stage 518:>  (0 + 0) / 4]\r"
     ]
    },
    {
     "name": "stdout",
     "output_type": "stream",
     "text": [
      "23/04/21 10:00:50 WARN RowBasedKeyValueBatch: Calling spill() on RowBasedKeyValueBatch. Will not spill but return 0.\n",
      "23/04/21 10:00:50 WARN RowBasedKeyValueBatch: Calling spill() on RowBasedKeyValueBatch. Will not spill but return 0.\n",
      "23/04/21 10:00:50 WARN RowBasedKeyValueBatch: Calling spill() on RowBasedKeyValueBatch. Will not spill but return 0.\n",
      "23/04/21 10:00:50 WARN RowBasedKeyValueBatch: Calling spill() on RowBasedKeyValueBatch. Will not spill but return 0.\n",
      "23/04/21 10:00:50 WARN RowBasedKeyValueBatch: Calling spill() on RowBasedKeyValueBatch. Will not spill but return 0.\n",
      "23/04/21 10:00:50 WARN RowBasedKeyValueBatch: Calling spill() on RowBasedKeyValueBatch. Will not spill but return 0.\n",
      "23/04/21 10:00:50 WARN RowBasedKeyValueBatch: Calling spill() on RowBasedKeyValueBatch. Will not spill but return 0.\n",
      "23/04/21 10:00:50 WARN RowBasedKeyValueBatch: Calling spill() on RowBasedKeyValueBatch. Will not spill but return 0.\n"
     ]
    },
    {
     "name": "stderr",
     "output_type": "stream",
     "text": [
      "[Stage 569:======================>                                  (2 + 3) / 5]\r"
     ]
    },
    {
     "name": "stdout",
     "output_type": "stream",
     "text": [
      "+--------------+------------------------+-------------+-------------------------+-----------------------------+-----------------+-------------------+------------------+-----------------+------------+----------+---------------------------+---------+------+------+-------+-----------+--------+----+--------+--------+-----+-------+---------+-------+-----+---------------------------------------+------+------+---------------+------------+----------+------+------+------------------+------+-----+-----+---------+-------+---------+--------+---------+-------+-------+-----+---------+------+--------+------+----------+------------+-----------------+----------+-------+--------------------+----+-------------------+---------------------------+-----------------------+-------+------------------+----------------+------------------------------------+----------+-------+-----------+-----------------------+------------------------+--------+-----------+--------+-----------+---------------------+------------------+----+---------------+--------------------------+------------------------+-------------+---------+--------------------------+----+----------------+-------------+---------------------+----------------------------+--------------------------------------------------+----------------+------------------+-----------+---------------------+--------+-------+--------------------------+-------------------------+---------+------------------+---------------+---------------------------+--------+---------------------------------+---------------------------------------------+----------+-----------------------+--------------------------------+-------+-------+---------------+----------+---------------------+----------------------------+--------------------------------------------------+----------------+------------------+-----------+---------------------+--------+-------+--------------------------+-------------------------+---------+------------------+---------------+---------------------------+--------+---------------------------------+---------------------------------------------+----------+-----------------------+--------------------------------+-------+-------+---------------+----------+\n",
      "|ID_CONTRATISTA|RAZON_SOCIAL_CONTRATISTA|num_contratos|suma_valor_total_contrato|promedio_valor_total_contrato|num_departamentos|num_estados_proceso|num_clases_proceso|num_tipos_proceso|num_familias|num_clases|meses_desde_ultimo_contrato|SANTANDER|VAUPES|NARIÑO|CAQUETA|NO DEFINIDO|CASANARE|META|AMAZONAS|GUAVIARE|CAUCA|VICHADA|ANTIOQUIA|QUINDIO|CHOCO|SAN ANDRES PROVIDENCIA Y SANTA CATALINA|CALDAS|BOYACA|VALLE DEL CAUCA|CUNDINAMARCA|LA GUAJIRA|TOLIMA|ARAUCA|NORTE DE SANTANDER|BOGOTA|HUILA|SUCRE|ATLANTICO|BOLIVAR|RISARALDA|PUTUMAYO|MAGDALENA|GUAINIA|CORDOBA|CESAR|TERMINADO|ACTIVO|BORRADOR|CEDIDO|MODIFICADO|EN EJECUCION|ENVIADO PROVEEDOR|SUSPENDIDO|CERRADO|CONTRATACION DIRECTA|null|CONCURSO DE MERITOS|CONTRATACION MINIMA CUANTIA|LICITACION OBRA PUBLICA|SUBASTA|LICITACION PUBLICA|REGIMEN ESPECIAL|SELECCION ABREVIADA DE MENOR CUANTIA|EMPRESTITO|SEGUROS|CONSULTORIA|PRESTACION DE SERVICIOS|ACUERDO MARCO DE PRECIOS|COMISION|COMPRAVENTA|COMODATO|SUMINISTROS|SERVICIOS FINANCIEROS|NEGOCIO FIDUCIARIO|OTRO|VENTA INMUEBLES|ARRENDAMIENTO DE INMUEBLES|ARRENDAMIENTO DE MUEBLES|INTERVENTORIA|CONCESION|ASOCIACION PUBLICO PRIVADA|OBRA|DECREELAW0922017|VENTA MUEBLES|RELACIONES EXTERIORES|VIVIENDA CIUDAD Y TERRITORIO|TECNOLOGIAS DE LA INFORMACION Y LAS COMUNICACIONES|SERVICIO PUBLICO|EDUCACION NACIONAL|AGRICULTURA|NO APLICANO PERTENECE|DEPORTES|DEFENSA|HACIENDA Y CREDITO PUBLICO|SALUD Y PROTECCION SOCIAL|INDUSTRIA|CIENCIA TECNOLOGIA|MINAS Y ENERGIA|PRESIDENCIA DE LA REPUBLICA|INTERIOR|INCLUSION SOCIAL Y RECONCILIACION|INTELIGENCIA ESTRATEGICA Y CONTRAINTELIGENCIA|TRANSPORTE|INFORMACION ESTADISTICA|AMBIENTE Y DESARROLLO SOSTENIBLE|TRABAJO|CULTURA|LEY DE JUSTICIA|PLANEACION|RELACIONES EXTERIORES|VIVIENDA CIUDAD Y TERRITORIO|TECNOLOGIAS DE LA INFORMACION Y LAS COMUNICACIONES|SERVICIO PUBLICO|EDUCACION NACIONAL|AGRICULTURA|NO APLICANO PERTENECE|DEPORTES|DEFENSA|HACIENDA Y CREDITO PUBLICO|SALUD Y PROTECCION SOCIAL|INDUSTRIA|CIENCIA TECNOLOGIA|MINAS Y ENERGIA|PRESIDENCIA DE LA REPUBLICA|INTERIOR|INCLUSION SOCIAL Y RECONCILIACION|INTELIGENCIA ESTRATEGICA Y CONTRAINTELIGENCIA|TRANSPORTE|INFORMACION ESTADISTICA|AMBIENTE Y DESARROLLO SOSTENIBLE|TRABAJO|CULTURA|LEY DE JUSTICIA|PLANEACION|\n",
      "+--------------+------------------------+-------------+-------------------------+-----------------------------+-----------------+-------------------+------------------+-----------------+------------+----------+---------------------------+---------+------+------+-------+-----------+--------+----+--------+--------+-----+-------+---------+-------+-----+---------------------------------------+------+------+---------------+------------+----------+------+------+------------------+------+-----+-----+---------+-------+---------+--------+---------+-------+-------+-----+---------+------+--------+------+----------+------------+-----------------+----------+-------+--------------------+----+-------------------+---------------------------+-----------------------+-------+------------------+----------------+------------------------------------+----------+-------+-----------+-----------------------+------------------------+--------+-----------+--------+-----------+---------------------+------------------+----+---------------+--------------------------+------------------------+-------------+---------+--------------------------+----+----------------+-------------+---------------------+----------------------------+--------------------------------------------------+----------------+------------------+-----------+---------------------+--------+-------+--------------------------+-------------------------+---------+------------------+---------------+---------------------------+--------+---------------------------------+---------------------------------------------+----------+-----------------------+--------------------------------+-------+-------+---------------+----------+---------------------+----------------------------+--------------------------------------------------+----------------+------------------+-----------+---------------------+--------+-------+--------------------------+-------------------------+---------+------------------+---------------+---------------------------+--------+---------------------------------+---------------------------------------------+----------+-----------------------+--------------------------------+-------+-------+---------------+----------+\n",
      "|     900062917|    SERVICIOS POSTALE...|          224|              68312474900|          3.049664058035714E8|               30|                  4|                 3|                4|          21|        21|                         18|       16|     0|     2|      5|          1|       1|   3|       0|       1|    0|      2|       12|      4|    1|                                      1|     8|     1|             12|           8|         2|    11|     2|                 5|    94|    3|    1|        6|      1|        4|       6|        4|      0|      1|    6|        3|    21|       0|     0|        23|         177|                0|         0|      0|                  90| 118|                  0|                          8|                      0|      0|                 0|               8|                                   0|         0|      0|          0|                     46|                       0|       0|          0|       0|          7|                    1|                 0| 170|              0|                         0|                       0|            0|        0|                         0|   0|               0|            0|                    2|                           5|                                                 3|              46|                 4|          5|                   28|       2|     65|                         7|                       15|        2|                 0|              2|                          1|       0|                                5|                                            0|         5|                      1|                              16|      0|      6|              2|         2|                    2|                           5|                                                 3|              46|                 4|          5|                   28|       2|     65|                         7|                       15|        2|                 0|              2|                          1|       0|                                5|                                            0|         5|                      1|                              16|      0|      6|              2|         2|\n",
      "|     900846370|    CONTROL SERVICES ...|          183|               2648525142|         1.4472814983606558E7|               29|                  6|                 1|                5|          16|        16|                         18|       12|     0|     3|     10|          0|       1|   0|       2|       0|    3|      3|       19|      2|    1|                                      1|     2|     2|             11|          12|         2|     5|     3|                 1|    61|    6|    1|        3|      5|        4|       1|        5|      0|      1|    1|        8|    18|       0|     1|        35|         120|                0|         0|      1|                   0|   3|                  0|                        180|                      0|      0|                 0|               0|                                   0|         0|      0|          0|                    119|                       0|       0|         30|       0|         21|                    0|                 0|   6|              0|                         0|                       0|            0|        0|                         0|   7|               0|            0|                    0|                           0|                                                 2|              14|                 8|         11|                   20|       0|     66|                         8|                        6|        0|                 0|              0|                          1|       3|                                0|                                            0|         3|                      0|                               5|      9|      3|             21|         3|                    0|                           0|                                                 2|              14|                 8|         11|                   20|       0|     66|                         8|                        6|        0|                 0|              0|                          1|       3|                                0|                                            0|         3|                      0|                               5|      9|      3|             21|         3|\n",
      "|     899999063|    UNIVERSIDAD NACIO...|          174|             116361133027|          6.687421438333334E8|               14|                  3|                 3|                5|          22|        22|                         18|        0|     0|     0|      0|          5|       0|   0|       0|       0|    0|      0|       21|      1|    1|                                      0|     7|     1|              4|           5|         0|     0|     0|                 0|   124|    0|    0|        1|      1|        1|       0|        1|      0|      0|    1|        0|    20|       0|     0|        35|         119|                0|         0|      0|                  77|  89|                  0|                          0|                      0|      0|                 0|               7|                                   1|         0|      0|          0|                     27|                       0|       0|          1|       0|          0|                    0|                 0| 144|              0|                         1|                       0|            0|        0|                         0|   0|               1|            0|                    2|                           2|                                                 5|              26|                16|          3|                   11|       0|      8|                         4|                       10|        3|                 3|             11|                          2|       0|                                4|                                            0|         8|                      2|                              18|      1|      9|             12|        14|                    2|                           2|                                                 5|              26|                16|          3|                   11|       0|      8|                         4|                       10|        3|                 3|             11|                          2|       0|                                4|                                            0|         8|                      2|                              18|      1|      9|             12|        14|\n",
      "|     860002400|    LA PREVISORA SA C...|          173|              45941356523|         2.6555697412138727E8|               28|                  5|                 6|                7|          21|        21|                         18|        4|     0|     1|      3|          0|       4|   5|       0|       1|    4|      0|        1|      4|    1|                                      0|     2|     8|             10|           6|         8|     8|     3|                 4|    43|    5|   12|        5|      2|        1|       5|        9|      0|     12|    2|        2|    15|       0|     0|        21|         134|                0|         0|      1|                   2|  11|                  0|                         89|                     14|      0|                 1|               1|                                  55|         0|    144|          0|                      7|                       1|       0|          8|       0|          6|                    1|                 0|   6|              0|                         0|                       0|            0|        0|                         0|   0|               0|            0|                    0|                           4|                                                 2|              62|                 2|          1|                   47|       2|      6|                         5|                        9|        1|                 0|              1|                          1|       1|                                1|                                            0|         6|                      0|                               9|      1|      7|              2|         3|                    0|                           4|                                                 2|              62|                 2|          1|                   47|       2|      6|                         5|                        9|        1|                 0|              1|                          1|       1|                                1|                                            0|         6|                      0|                               9|      1|      7|              2|         3|\n",
      "|     860012336|    INSTITUTO COLOMBI...|          165|               9109554507|          5.520942125454546E7|               21|                  5|                 5|                5|          23|        23|                         18|       10|     0|     2|      0|          0|       0|   2|       0|       0|    1|      0|       31|      3|    0|                                      1|     1|     1|              7|          17|         0|     2|     0|                 1|    68|    4|    1|        6|      2|        1|       0|        0|      0|      1|    3|        4|    15|       0|     0|        14|         131|                0|         0|      1|                 116|  20|                  2|                         16|                      0|      0|                 0|              10|                                   1|         0|      0|          2|                    137|                       0|       0|          2|       0|          0|                    0|                 0|  21|              0|                         0|                       0|            0|        0|                         0|   0|               3|            0|                    4|                           5|                                                 3|              45|                 7|          5|                   23|       6|     13|                         6|                       10|        1|                 1|              3|                          1|       2|                                3|                                            0|         4|                      0|                               9|      3|      3|              4|         4|                    4|                           5|                                                 3|              45|                 7|          5|                   23|       6|     13|                         6|                       10|        1|                 1|              3|                          1|       2|                                3|                                            0|         4|                      0|                               9|      3|      3|              4|         4|\n",
      "|     890980040|    UNIVERSIDAD DE AN...|          156|             273561230461|         1.7535976311602564E9|                7|                  4|                 4|                6|          16|        16|                         18|        0|     0|     0|      0|          0|       0|   0|       0|       0|    0|      0|      132|      2|    2|                                      0|     1|     3|              0|           1|         0|     0|     0|                 0|    15|    0|    0|        0|      0|        0|       0|        0|      0|      0|    0|        1|    12|       0|     0|        36|         107|                0|         0|      0|                  71|  77|                  0|                          2|                      0|      0|                 0|               5|                                   1|         0|      0|          0|                     38|                       0|       0|          0|       0|          3|                    0|                 0| 111|              0|                         1|                       0|            0|        0|                         0|   1|               2|            0|                    0|                           2|                                                 1|              53|                10|          0|                    9|       3|      0|                         3|                        3|        1|                 0|              2|                          0|       0|                                1|                                            0|         0|                      0|                               9|      1|     10|              1|        47|                    0|                           2|                                                 1|              53|                10|          0|                    9|       3|      0|                         3|                        3|        1|                 0|              2|                          0|       0|                                1|                                            0|         0|                      0|                               9|      1|     10|              1|        47|\n",
      "|     860524654|    ASEGURADORA SOLID...|          143|              40605348116|         2.8395348332867134E8|               22|                  5|                 4|                6|          19|        19|                         18|        9|     0|     3|      0|          2|       2|   5|       0|       0|    1|      0|       22|      0|    0|                                      0|     2|     5|              3|           8|         0|     1|     0|                 3|    51|    2|    4|        6|      5|        2|       0|        3|      0|      1|    3|        2|    16|       0|     0|        22|         101|                0|         0|      2|                   0|   2|                  0|                         71|                     26|      0|                 0|               1|                                  43|         0|    129|          0|                      2|                       0|       0|          7|       0|          3|                    1|                 0|   1|              0|                         0|                       0|            0|        0|                         0|   0|               0|            0|                    0|                           3|                                                 4|              43|                 5|          2|                   37|       2|      6|                         2|                        6|        5|                 0|              3|                          0|       0|                                2|                                            0|         1|                      2|                               7|      0|      6|              5|         2|                    0|                           3|                                                 4|              43|                 5|          2|                   37|       2|      6|                         2|                        6|        5|                 0|              3|                          0|       0|                                2|                                            0|         1|                      2|                               7|      0|      6|              5|         2|\n",
      "|     901406206|    CRR SOLUCIONES IN...|          122|                897117152|            7353419.278688525|               27|                  4|                 1|                5|          16|        16|                         18|        9|     0|     4|      2|          2|       1|   3|       1|       0|    5|      2|       20|      2|    1|                                      0|     3|     0|             10|           4|         0|     1|     2|                 1|    29|    3|    3|        2|      2|        2|       2|        3|      0|      3|    0|        2|     9|       0|     0|        12|          99|                0|         0|      0|                   0|   0|                  0|                        122|                      0|      0|                 0|               0|                                   0|         0|      0|          0|                     66|                       0|       0|         25|       0|         28|                    0|                 0|   2|              0|                         0|                       0|            0|        0|                         0|   1|               0|            0|                    0|                           1|                                                 0|               5|                 2|          9|                   13|       0|     32|                         0|                        7|        3|                 0|              0|                          1|       0|                                0|                                            1|         1|                      0|                              15|      3|      2|             25|         2|                    0|                           1|                                                 0|               5|                 2|          9|                   13|       0|     32|                         0|                        7|        3|                 0|              0|                          1|       0|                                0|                                            1|         1|                      0|                              15|      3|      2|             25|         2|\n",
      "|     830001113|    IMPRENTA NACIONAL...|          112|              32762148041|             2.925191789375E8|                7|                  4|                 2|                5|          23|        23|                         19|        0|     0|     0|      0|          4|       0|   0|       0|       0|    0|      0|        1|      0|    0|                                      0|     0|     1|              0|           2|         0|     1|     0|                 0|   102|    0|    0|        0|      0|        1|       0|        0|      0|      0|    0|        2|     7|       0|     0|        24|          79|                0|         0|      0|                  59|  48|                  0|                          0|                      0|      0|                 0|               5|                                   0|         0|      0|          0|                     24|                       0|       0|          4|       0|          1|                    0|                 0|  82|              0|                         0|                       0|            0|        0|                         0|   1|               0|            0|                    3|                           4|                                                 2|               5|                 5|          6|                   11|       0|     11|                         5|                        4|        5|                 1|              4|                          4|       3|                                5|                                            0|         6|                      1|                               6|      4|      4|              9|         4|                    3|                           4|                                                 2|               5|                 5|          6|                   11|       0|     11|                         5|                        4|        5|                 1|              4|                          4|       3|                                5|                                            0|         6|                      1|                               6|      4|      4|              9|         4|\n",
      "|     860066942|    CAJA DE COMPENSAC...|          104|             138495146906|         1.3316841048653846E9|                3|                  3|                 4|                5|          20|        20|                         18|        0|     0|     0|      0|          2|       0|   0|       0|       0|    0|      0|        0|      0|    0|                                      0|     0|     0|              0|           3|         0|     0|     0|                 0|    99|    0|    0|        0|      0|        0|       0|        0|      0|      0|    0|        0|     6|       0|     0|        11|          87|                0|         0|      0|                  85|   5|                  0|                          1|                      0|      0|                 0|               8|                                   5|         0|      0|          0|                     94|                       0|       0|          0|       0|          1|                    0|                 0|   7|              0|                         1|                       0|            0|        0|                         0|   0|               1|            0|                    0|                           5|                                                 4|               7|                 9|          2|                    6|       0|      2|                        11|                        7|        7|                 1|              5|                          4|       0|                                2|                                            0|         9|                      0|                               3|      4|      9|              4|         3|                    0|                           5|                                                 4|               7|                 9|          2|                    6|       0|      2|                        11|                        7|        7|                 1|              5|                          4|       0|                                2|                                            0|         9|                      0|                               3|      4|      9|              4|         3|\n",
      "|     899999115|    EMPRESA DE TELECO...|           91|             174153075151|         1.9137700566043956E9|               11|                  3|                 2|                2|          13|        13|                         19|        3|     0|     0|      0|          0|       0|   2|       0|       0|    0|      0|        0|      0|    1|                                      0|     0|     0|              1|           3|         0|     1|     0|                 0|    74|    2|    0|        2|      0|        1|       0|        0|      0|      0|    1|        0|     8|       0|     0|        11|          72|                0|         0|      0|                  58|  31|                  0|                          0|                      0|      0|                 0|               2|                                   0|         0|      0|          0|                     24|                       0|       0|          0|       0|          0|                    0|                 0|  67|              0|                         0|                       0|            0|        0|                         0|   0|               0|            0|                    0|                           7|                                                 0|              32|                 2|          0|                    9|       0|      0|                         6|                        3|        3|                 0|              0|                          0|       0|                                3|                                            0|        10|                      0|                               3|      0|      7|              4|         2|                    0|                           7|                                                 0|              32|                 2|          0|                    9|       0|      0|                         6|                        3|        3|                 0|              0|                          0|       0|                                3|                                            0|        10|                      0|                               3|      0|      7|              4|         2|\n",
      "|      80747896|    ZAMORA JIMENEZ LE...|           86|                494884031|            5754465.476744186|               18|                  3|                 1|                2|           5|         5|                         18|        3|     0|     9|      0|          0|       1|   1|       0|       0|   12|      0|       15|      0|    1|                                      3|    11|     1|              2|           5|         1|    14|     0|                 1|     1|    0|    0|        4|      0|        0|       0|        1|      0|      0|    0|        0|     8|       0|     0|        33|          45|                0|         0|      0|                   0|   0|                  0|                         86|                      0|      0|                 0|               0|                                   0|         0|      0|          0|                      0|                       0|       0|         58|       0|         28|                    0|                 0|   0|              0|                         0|                       0|            0|        0|                         0|   0|               0|            0|                    0|                           0|                                                 0|               5|                 0|          0|                    1|       0|      2|                         0|                        0|        0|                 0|              0|                          0|       0|                                0|                                            0|         0|                      0|                               0|      0|      1|             77|         0|                    0|                           0|                                                 0|               5|                 0|          0|                    1|       0|      2|                         0|                        0|        0|                 0|              0|                          0|       0|                                0|                                            0|         0|                      0|                               0|      0|      1|             77|         0|\n",
      "|     900204272|    GESTION DE SEGURI...|           71|               1416858885|         1.9955758943661973E7|                9|                  4|                 4|                4|          22|        22|                         18|        0|     0|     0|      0|          2|       0|   1|       0|       0|    0|      0|        1|      0|    0|                                      0|     0|     1|              1|           1|         0|     2|     0|                 0|    61|    0|    0|        0|      0|        1|       0|        0|      0|      0|    0|        1|     2|       0|     0|         4|          64|                0|         0|      0|                   2|   0|                  0|                         65|                      0|      2|                 0|               2|                                   0|         0|      0|          0|                     18|                       0|       0|         38|       0|         13|                    0|                 0|   2|              0|                         0|                       0|            0|        0|                         0|   0|               0|            0|                    1|                           3|                                                 2|               4|                 1|          3|                    7|       1|     13|                         7|                        3|        0|                 1|              3|                          3|       1|                                2|                                            0|         2|                      0|                               4|      3|      2|              4|         1|                    1|                           3|                                                 2|               4|                 1|          3|                    7|       1|     13|                         7|                        3|        0|                 1|              3|                          3|       1|                                2|                                            0|         2|                      0|                               4|      3|      2|              4|         1|\n",
      "|     860005068|    CONGREGACION DE R...|           67|              27111957051|          4.046560753880597E8|                6|                  3|                 3|                5|           6|         6|                         19|        0|     0|     0|      0|          0|       0|   0|       0|       0|    5|      0|       18|      0|    0|                                      0|     4|     5|              0|           4|         0|     0|     0|                 0|    31|    0|    0|        0|      0|        0|       0|        0|      0|      0|    0|        0|     1|       0|     0|        20|          46|                0|         0|      0|                  11|   1|                  0|                          1|                      0|      0|                 0|              54|                                   0|         0|      0|          0|                     10|                       0|       0|          0|       2|          0|                    0|                 0|  52|              0|                         0|                       0|            0|        0|                         0|   2|               1|            0|                    0|                           1|                                                 0|               6|                 0|          0|                    9|       0|      0|                         0|                       49|        0|                 0|              0|                          0|       1|                                0|                                            0|         0|                      0|                               0|      0|      0|              0|         1|                    0|                           1|                                                 0|               6|                 0|          0|                    9|       0|      0|                         0|                       49|        0|                 0|              0|                          0|       1|                                0|                                            0|         0|                      0|                               0|      0|      0|              0|         1|\n",
      "|     804003744|    CENTRAL DE SUMINI...|           66|                372244992|            5640075.636363637|               18|                  5|                 1|                3|           7|         7|                         18|       16|     0|     0|      1|          0|       0|   2|       0|       0|    4|      0|        9|      0|    0|                                      0|     2|     2|              2|           1|         0|     1|     3|                12|     3|    1|    1|        1|      0|        1|       0|        0|      0|      4|    0|        1|     4|       0|     0|        18|          41|                0|         0|      2|                   0|   0|                  0|                         66|                      0|      0|                 0|               0|                                   0|         0|      0|          0|                      1|                       0|       0|         56|       0|          9|                    0|                 0|   0|              0|                         0|                       0|            0|        0|                         0|   0|               0|            0|                    0|                           1|                                                 0|               4|                 0|          0|                    5|       0|      2|                         0|                        0|        1|                 0|              0|                          0|       1|                                0|                                            0|         0|                      0|                               0|      0|      0|             52|         0|                    0|                           1|                                                 0|               4|                 0|          0|                    5|       0|      2|                         0|                        0|        1|                 0|              0|                          0|       1|                                0|                                            0|         0|                      0|                               0|      0|      0|             52|         0|\n",
      "|     860007538|    FEDERACION NACION...|           64|              54214990732|             8.471092301875E8|               11|                  3|                 2|                6|          10|        10|                         18|        2|     0|     0|      0|          0|       0|   0|       0|       0|    0|      0|        6|     10|    0|                                      0|    14|     0|              7|           1|         0|     3|     0|                 1|    12|    3|    0|        0|      0|        5|       0|        0|      0|      0|    0|        0|     7|       0|     0|         8|          49|                0|         0|      0|                  17|  18|                  0|                          0|                      0|      0|                 0|              29|                                   0|         0|      0|          0|                      2|                       0|       0|          0|       1|          0|                    0|                 0|  20|              0|                         5|                       0|            0|        0|                         0|   9|              27|            0|                    0|                           0|                                                 0|              29|                 0|          3|                   22|       0|      0|                         1|                        0|        1|                 0|              0|                          0|       0|                                0|                                            0|         0|                      1|                               4|      1|      1|              1|         0|                    0|                           0|                                                 0|              29|                 0|          3|                   22|       0|      0|                         1|                        0|        1|                 0|              0|                          0|       0|                                0|                                            0|         0|                      1|                               4|      1|      1|              1|         0|\n",
      "|      59706955|       DEICY BRAVO JOJOA|           62|               8928174217|          1.440028099516129E8|               15|                  3|                 4|                4|           9|         9|                         18|        0|     0|     2|      1|          0|       0|   0|       0|       1|   28|      0|        5|      1|    0|                                      0|     4|     0|              6|           4|         0|     1|     0|                 0|     3|    2|    1|        0|      0|        2|       0|        0|      0|      0|    1|        0|     8|       0|     0|        21|          33|                0|         0|      0|                   0|   0|                  0|                         34|                      0|     26|                 1|               0|                                   1|         0|      0|          0|                      1|                       1|       0|         33|       0|         27|                    0|                 0|   0|              0|                         0|                       0|            0|        0|                         0|   0|               0|            0|                    0|                           1|                                                 0|               4|                 3|          0|                    2|       0|      2|                         0|                        1|        0|                 0|              0|                          0|       0|                                0|                                            0|         0|                      0|                               0|     45|      0|              3|         1|                    0|                           1|                                                 0|               4|                 3|          0|                    2|       0|      2|                         0|                        1|        0|                 0|              0|                          0|       0|                                0|                                            0|         0|                      0|                               0|     45|      0|              3|         1|\n",
      "|      17068260|    RAFAEL ANTONIO SA...|           57|              15388836737|           2.69979591877193E8|                2|                  3|                 3|                3|           2|         2|                         19|        0|     0|     0|      0|          0|       0|   0|       0|       0|    0|      0|        0|      0|    0|                                      0|     0|     0|              0|           0|         0|     2|     0|                 0|    55|    0|    0|        0|      0|        0|       0|        0|      0|      0|    0|        0|     4|       0|     0|        32|          21|                0|         0|      0|                   0|  16|                  0|                          1|                      0|      0|                 0|              38|                                   2|         0|      0|          0|                      0|                       0|       0|          2|       0|         48|                    0|                 0|   7|              0|                         0|                       0|            0|        0|                         0|   0|               0|            0|                    0|                           0|                                                 0|               0|                 0|          0|                    0|       0|      3|                         0|                       54|        0|                 0|              0|                          0|       0|                                0|                                            0|         0|                      0|                               0|      0|      0|              0|         0|                    0|                           0|                                                 0|               0|                 0|          0|                    0|       0|      3|                         0|                       54|        0|                 0|              0|                          0|       0|                                0|                                            0|         0|                      0|                               0|      0|      0|              0|         0|\n",
      "|     890309152|          IMPRETICS EICE|           53|              65233533906|           1.23082139445283E9|                6|                  3|                 1|                4|          11|        11|                         19|        1|     0|     0|      0|          0|       0|   0|       0|       0|    0|      0|        1|      0|    0|                                      1|     0|     0|             41|           0|         0|     0|     0|                 0|     8|    0|    0|        0|      0|        0|       0|        1|      0|      0|    0|        0|     3|       0|     0|        10|          40|                0|         0|      0|                  41|  12|                  0|                          0|                      0|      0|                 0|               0|                                   0|         0|      0|          0|                      9|                       0|       0|          3|       0|          1|                    0|                 0|  40|              0|                         0|                       0|            0|        0|                         0|   0|               0|            0|                    0|                           2|                                                 0|              14|                 2|          0|                   18|       0|      0|                         8|                        3|        1|                 0|              0|                          0|       0|                                1|                                            0|         0|                      0|                               0|      0|      2|              1|         1|                    0|                           2|                                                 0|              14|                 2|          0|                   18|       0|      0|                         8|                        3|        1|                 0|              0|                          0|       0|                                1|                                            0|         0|                      0|                               0|      0|      2|              1|         1|\n",
      "|     830084433|    SOCIEDAD CAMERAL ...|           53|               1701033827|          3.209497786792453E7|               10|                  4|                 5|                5|          18|        18|                         19|        0|     0|     0|      0|          1|       0|   1|       0|       0|    0|      0|        4|      0|    0|                                      0|     1|     0|              1|           0|         0|     0|     0|                 1|    39|    0|    0|        0|      1|        3|       0|        0|      0|      0|    1|        1|     6|       0|     0|         4|          42|                0|         0|      0|                  13|  11|                  0|                         22|                      0|      3|                 0|               3|                                   1|         0|      0|          0|                     19|                       0|       0|         22|       0|          6|                    0|                 0|   5|              0|                         0|                       0|            0|        1|                         0|   0|               0|            0|                    0|                           1|                                                 1|               7|                 2|          1|                    8|       0|      3|                         6|                        6|        1|                 0|              3|                          2|       0|                                3|                                            0|         2|                      0|                               3|      0|      1|              1|         2|                    0|                           1|                                                 1|               7|                 2|          1|                    8|       0|      3|                         6|                        6|        1|                 0|              3|                          2|       0|                                3|                                            0|         2|                      0|                               3|      0|      1|              1|         2|\n",
      "+--------------+------------------------+-------------+-------------------------+-----------------------------+-----------------+-------------------+------------------+-----------------+------------+----------+---------------------------+---------+------+------+-------+-----------+--------+----+--------+--------+-----+-------+---------+-------+-----+---------------------------------------+------+------+---------------+------------+----------+------+------+------------------+------+-----+-----+---------+-------+---------+--------+---------+-------+-------+-----+---------+------+--------+------+----------+------------+-----------------+----------+-------+--------------------+----+-------------------+---------------------------+-----------------------+-------+------------------+----------------+------------------------------------+----------+-------+-----------+-----------------------+------------------------+--------+-----------+--------+-----------+---------------------+------------------+----+---------------+--------------------------+------------------------+-------------+---------+--------------------------+----+----------------+-------------+---------------------+----------------------------+--------------------------------------------------+----------------+------------------+-----------+---------------------+--------+-------+--------------------------+-------------------------+---------+------------------+---------------+---------------------------+--------+---------------------------------+---------------------------------------------+----------+-----------------------+--------------------------------+-------+-------+---------------+----------+---------------------+----------------------------+--------------------------------------------------+----------------+------------------+-----------+---------------------+--------+-------+--------------------------+-------------------------+---------+------------------+---------------+---------------------------+--------+---------------------------------+---------------------------------------------+----------+-----------------------+--------------------------------+-------+-------+---------------+----------+\n",
      "only showing top 20 rows\n",
      "\n"
     ]
    },
    {
     "name": "stderr",
     "output_type": "stream",
     "text": [
      "                                                                                \r"
     ]
    }
   ],
   "source": [
    "infraestructura_df_cero, infraestructura_df_no_cero = separar_dataframe(infraestructura_df_ordenado)\n",
    "\n",
    "print(\"Dataframe con suma_valor_total_contrato = 0:\")\n",
    "infraestructura_df_no_cero.show()   "
   ]
  },
  {
   "cell_type": "code",
   "execution_count": 34,
   "metadata": {},
   "outputs": [
    {
     "name": "stderr",
     "output_type": "stream",
     "text": [
      "[Stage 573:>                                                        (0 + 4) / 5]\r"
     ]
    },
    {
     "name": "stdout",
     "output_type": "stream",
     "text": [
      "23/04/21 10:01:33 WARN RowBasedKeyValueBatch: Calling spill() on RowBasedKeyValueBatch. Will not spill but return 0.\n",
      "23/04/21 10:01:33 WARN RowBasedKeyValueBatch: Calling spill() on RowBasedKeyValueBatch. Will not spill but return 0.\n",
      "23/04/21 10:01:33 WARN RowBasedKeyValueBatch: Calling spill() on RowBasedKeyValueBatch. Will not spill but return 0.\n",
      "23/04/21 10:01:33 WARN RowBasedKeyValueBatch: Calling spill() on RowBasedKeyValueBatch. Will not spill but return 0.\n",
      "23/04/21 10:01:33 WARN RowBasedKeyValueBatch: Calling spill() on RowBasedKeyValueBatch. Will not spill but return 0.\n",
      "23/04/21 10:01:33 WARN RowBasedKeyValueBatch: Calling spill() on RowBasedKeyValueBatch. Will not spill but return 0.\n"
     ]
    },
    {
     "name": "stderr",
     "output_type": "stream",
     "text": [
      "[Stage 573:>                (0 + 4) / 5][Stage 575:>                (0 + 0) / 4]\r"
     ]
    },
    {
     "name": "stdout",
     "output_type": "stream",
     "text": [
      "23/04/21 10:01:34 WARN RowBasedKeyValueBatch: Calling spill() on RowBasedKeyValueBatch. Will not spill but return 0.\n",
      "23/04/21 10:01:34 WARN RowBasedKeyValueBatch: Calling spill() on RowBasedKeyValueBatch. Will not spill but return 0.\n"
     ]
    },
    {
     "name": "stderr",
     "output_type": "stream",
     "text": [
      "[Stage 590:>                                                        (0 + 4) / 5]\r"
     ]
    },
    {
     "name": "stdout",
     "output_type": "stream",
     "text": [
      "23/04/21 10:01:49 WARN RowBasedKeyValueBatch: Calling spill() on RowBasedKeyValueBatch. Will not spill but return 0.\n",
      "23/04/21 10:01:49 WARN RowBasedKeyValueBatch: Calling spill() on RowBasedKeyValueBatch. Will not spill but return 0.\n",
      "23/04/21 10:01:49 WARN RowBasedKeyValueBatch: Calling spill() on RowBasedKeyValueBatch. Will not spill but return 0.\n",
      "23/04/21 10:01:49 WARN RowBasedKeyValueBatch: Calling spill() on RowBasedKeyValueBatch. Will not spill but return 0.\n"
     ]
    },
    {
     "name": "stderr",
     "output_type": "stream",
     "text": [
      "[Stage 590:>                (0 + 4) / 5][Stage 592:>                (0 + 0) / 4]\r"
     ]
    },
    {
     "name": "stdout",
     "output_type": "stream",
     "text": [
      "23/04/21 10:01:49 WARN RowBasedKeyValueBatch: Calling spill() on RowBasedKeyValueBatch. Will not spill but return 0.\n",
      "23/04/21 10:01:49 WARN RowBasedKeyValueBatch: Calling spill() on RowBasedKeyValueBatch. Will not spill but return 0.\n",
      "23/04/21 10:01:49 WARN RowBasedKeyValueBatch: Calling spill() on RowBasedKeyValueBatch. Will not spill but return 0.\n",
      "23/04/21 10:01:49 WARN RowBasedKeyValueBatch: Calling spill() on RowBasedKeyValueBatch. Will not spill but return 0.\n"
     ]
    },
    {
     "name": "stderr",
     "output_type": "stream",
     "text": [
      "[Stage 597:==============>                                          (1 + 3) / 4]\r"
     ]
    },
    {
     "name": "stdout",
     "output_type": "stream",
     "text": [
      "Número de filas con suma_valor_total_contrato = 0: 1343\n",
      "Número de filas con suma_valor_total_contrato != 0: 323513\n"
     ]
    },
    {
     "name": "stderr",
     "output_type": "stream",
     "text": [
      "                                                                                \r"
     ]
    }
   ],
   "source": [
    "num_filas_cero = infraestructura_df_cero.count()\n",
    "num_filas_no_cero = infraestructura_df_no_cero.count()\n",
    "\n",
    "print(\"Número de filas con suma_valor_total_contrato = 0:\", num_filas_cero)\n",
    "print(\"Número de filas con suma_valor_total_contrato != 0:\", num_filas_no_cero)"
   ]
  },
  {
   "attachments": {},
   "cell_type": "markdown",
   "metadata": {},
   "source": [
    "# Quality Colusiones"
   ]
  },
  {
   "cell_type": "code",
   "execution_count": 35,
   "metadata": {},
   "outputs": [],
   "source": [
    "# filename = 'colusiones_en_contratacion_SIC.csv'\n",
    "# colusiones_df = pyspark_etl_functions.read_csv_with_pyspark(filename, folder='data', separator=',')\n",
    "# colusiones_df.show(5)"
   ]
  },
  {
   "cell_type": "code",
   "execution_count": 36,
   "metadata": {},
   "outputs": [],
   "source": [
    "# def agg_colusiones(colusiones_df):\n",
    "#     # Calcular los meses desde el último Año Radicacion hasta la fecha actual\n",
    "#     current_year = 2023\n",
    "#     colusiones_df = colusiones_df.withColumn(\"Meses_desde_Ultimo_Año\", (current_year - F.col(\"Año Radicacion\")) * 12)\n",
    "    \n",
    "#     # Agrupar por Identificacion y calcular las métricas solicitadas\n",
    "#     colusiones_agg = (\n",
    "#         colusiones_df.groupBy(\"Identificacion\")\n",
    "#         .agg(\n",
    "#             F.count(\"*\").alias(\"num_colusiones\"),\n",
    "#             F.sum(\"Multa Inicial\").alias(\"suma_multa_inicial\"),\n",
    "#             F.avg(\"Multa Inicial\").alias(\"promedio_multa_inicial\"),\n",
    "#             F.max(\"Meses_desde_Ultimo_Año\").alias(\"meses_desde_ultima_colusion\")\n",
    "#         )\n",
    "#     )\n",
    "    \n",
    "#     return colusiones_agg"
   ]
  },
  {
   "cell_type": "code",
   "execution_count": 37,
   "metadata": {},
   "outputs": [],
   "source": [
    "# colusiones_agg_df = agg_colusiones(colusiones_df)\n",
    "# colusiones_agg_df.show(5)"
   ]
  },
  {
   "cell_type": "code",
   "execution_count": 38,
   "metadata": {},
   "outputs": [],
   "source": [
    "# def left_join_dataframes(df1, df2, df1_key, df2_key):\n",
    "#     joined_df = df1.join(df2, df1[df1_key] == df2[df2_key], how=\"left\")\n",
    "#     return joined_df\n",
    "\n",
    "# # Realizar el left join\n",
    "# result_df = left_join_dataframes(infraestructura_df_cero, colusiones_agg_df, \"NIT_ENTIDAD\", \"Identificacion\")\n",
    "# # result_df.show(5)\n",
    "# result_df.orderBy(F.desc(\"Identificacion\")).show(5)\n"
   ]
  },
  {
   "attachments": {},
   "cell_type": "markdown",
   "metadata": {},
   "source": [
    "# Quality multas"
   ]
  },
  {
   "cell_type": "code",
   "execution_count": 39,
   "metadata": {},
   "outputs": [
    {
     "name": "stdout",
     "output_type": "stream",
     "text": [
      "23/04/21 10:01:55 WARN SparkSession: Using an existing Spark session; only runtime SQL configurations will take effect.\n",
      "+--------------------+-----------+--------+--------------------+--------------------+---------------------+--------------------+--------------------+-------------+--------------------+--------------------+---------+--------+------+--------+\n",
      "|      nombre_entidad|nit_entidad|   nivel|               orden|numero_de_resolucion|documento_contratista|  nombre_contratista|  numero_de_contrato|valor_sancion|fecha_de_publicacion|     ruta_de_proceso|cod_depto|cod_mpio|  dpto|nom_mpio|\n",
      "+--------------------+-----------+--------+--------------------+--------------------+---------------------+--------------------+--------------------+-------------+--------------------+--------------------+---------+--------+------+--------+\n",
      "|CORTOLIMA - CORPO...|  890704536|NACIONAL|NACIONAL DESCENTR...|Resolución No.266...|             93405374|EDWIN SANTAMARIA ...|CTO 587 DEL 30 DE...|  1.0721123E7| 2014-11-05 00:00:00|https://www.contr...|       73|   73001|TOLIMA|  IBAGUE|\n",
      "|   EJÉRCITO NACIONAL|NO DEFINIDO|NACIONAL|NACIONAL CENTRALI...|RESOLUCION 086-11...|            900427561|CABAR CONSTRUCCIO...|            662-2014|    4393325.0| 2015-08-10 00:00:00|https://www.contr...|       73|   73001|TOLIMA|  IBAGUE|\n",
      "|CORTOLIMA - CORPO...|  890704536|NACIONAL|NACIONAL DESCENTR...|Resolución No.146...|             93380691|     YIMI ARCINIEGAS|     CTO 319 DE 2010|    6034875.0| 2013-07-08 00:00:00|https://www.contr...|       73|   73001|TOLIMA|  IBAGUE|\n",
      "|   EJÉRCITO NACIONAL|NO DEFINIDO|NACIONAL|NACIONAL CENTRALI...|        Res. No. 374|            900427561|CABAR CONSTRUCCIO...|      662-JEING-2014|4.271849266E7| 2016-10-11 00:00:00|https://www.contr...|       73|   73001|TOLIMA|  IBAGUE|\n",
      "|CORTOLIMA - CORPO...|  890704536|NACIONAL|NACIONAL DESCENTR...|Resolución No.178...|           1110456896|CHRISTIAN CAMILO ...|CTO 661 DEL 31 DE...|     945000.0| 2015-07-17 00:00:00|https://www.contr...|       73|   73001|TOLIMA|  IBAGUE|\n",
      "+--------------------+-----------+--------+--------------------+--------------------+---------------------+--------------------+--------------------+-------------+--------------------+--------------------+---------+--------+------+--------+\n",
      "only showing top 5 rows\n",
      "\n"
     ]
    }
   ],
   "source": [
    "filename = 'multas_SECOP.csv'\n",
    "multas_df = pyspark_etl_functions.read_csv_with_pyspark(filename, folder='data', separator=',')\n",
    "multas_df.show(5)"
   ]
  },
  {
   "cell_type": "code",
   "execution_count": 40,
   "metadata": {},
   "outputs": [
    {
     "name": "stdout",
     "output_type": "stream",
     "text": [
      "23/04/21 10:01:56 WARN SparkSession: Using an existing Spark session; only runtime SQL configurations will take effect.\n",
      "Total de registros: 1444\n",
      "\n",
      "Conteo de registros nulos por columna:\n",
      "nombre_entidad: 0\n",
      "nit_entidad: 0\n",
      "nivel: 0\n",
      "orden: 0\n",
      "numero_de_resolucion: 0\n",
      "documento_contratista: 0\n",
      "nombre_contratista: 0\n",
      "numero_de_contrato: 0\n",
      "valor_sancion: 0\n",
      "fecha_de_publicacion: 0\n",
      "ruta_de_proceso: 0\n",
      "cod_depto: 11\n",
      "cod_mpio: 11\n",
      "dpto: 0\n",
      "nom_mpio: 0\n",
      "\n",
      "Conteo de registros duplicados: 0\n",
      "\n",
      "Estadísticas descriptivas para columnas numéricas:\n",
      "min:\n",
      "  documento_contratista: 230802\n",
      "  valor_sancion: 0.0\n",
      "  cod_depto: 5\n",
      "  cod_mpio: 5001\n",
      "max:\n",
      "  documento_contratista: 90075612726\n",
      "  valor_sancion: 9.7969201936E10\n",
      "  cod_depto: 99\n",
      "  cod_mpio: 99001\n",
      "mean:\n",
      "  documento_contratista: 4.0192013053026314E9\n",
      "  valor_sancion: 6.246716858476892E8\n",
      "  cod_depto: 29.314026517794836\n",
      "  cod_mpio: 29432.270062805303\n",
      "stddev:\n",
      "  documento_contratista: 6.43643826806861E9\n",
      "  valor_sancion: 6.293069421343648E9\n",
      "  cod_depto: 26.57250921265884\n",
      "  cod_mpio: 26605.777653086523\n",
      "\n",
      "Valores atípicos en la columna documento_contratista: 5\n",
      "\n",
      "Valores atípicos en la columna valor_sancion: 249\n",
      "\n",
      "Valores atípicos en la columna cod_depto: 0\n",
      "\n",
      "Valores atípicos en la columna cod_mpio: 0\n"
     ]
    }
   ],
   "source": [
    "pyspark_etl_functions.analyze_data_quality(multas_df)"
   ]
  },
  {
   "cell_type": "code",
   "execution_count": 41,
   "metadata": {},
   "outputs": [
    {
     "name": "stdout",
     "output_type": "stream",
     "text": [
      "+----------------------------+----------------+------------------+----------------------+------------------------+\n",
      "|documento_contratista_multas|numero_de_multas|suma_valor_sancion|promedio_valor_sancion|meses_desde_ultima_multa|\n",
      "+----------------------------+----------------+------------------+----------------------+------------------------+\n",
      "|                    81715332|               2|         6216000.0|             3108000.0|              81.4516129|\n",
      "|                  9001460865|               2|         7804944.0|             3902472.0|             77.64516129|\n",
      "|                  8002171296|               1|               0.0|                   0.0|             86.29032258|\n",
      "|                  8001248516|               1|         1000000.0|             1000000.0|             104.5483871|\n",
      "|                  8300414110|               2|     1.368527294E9|          6.84263647E8|                    61.0|\n",
      "+----------------------------+----------------+------------------+----------------------+------------------------+\n",
      "only showing top 5 rows\n",
      "\n"
     ]
    }
   ],
   "source": [
    "# Read the data and process it using the aggregate_multas_data function\n",
    "aggregated_multas = pyspark_etl_functions.aggregate_multas_data(multas_df)\n",
    "aggregated_multas = aggregated_multas.withColumnRenamed(\"documento_contratista\", \"documento_contratista_multas\")\n",
    "aggregated_multas.show(5)"
   ]
  },
  {
   "cell_type": "code",
   "execution_count": 42,
   "metadata": {},
   "outputs": [],
   "source": [
    "\n",
    "result_df = pyspark_etl_functions.left_join_dataframes(infraestructura_df_no_cero, aggregated_multas, \"ID_CONTRATISTA\", \"documento_contratista_multas\")\n"
   ]
  },
  {
   "cell_type": "code",
   "execution_count": 43,
   "metadata": {},
   "outputs": [
    {
     "name": "stdout",
     "output_type": "stream",
     "text": [
      "Joined dataframe:\n"
     ]
    },
    {
     "name": "stderr",
     "output_type": "stream",
     "text": [
      "[Stage 648:==>(4 + 1) / 5][Stage 652:>  (0 + 3) / 5][Stage 653:>  (0 + 0) / 5]  \r"
     ]
    },
    {
     "name": "stdout",
     "output_type": "stream",
     "text": [
      "23/04/21 10:02:21 WARN RowBasedKeyValueBatch: Calling spill() on RowBasedKeyValueBatch. Will not spill but return 0.\n",
      "23/04/21 10:02:21 WARN RowBasedKeyValueBatch: Calling spill() on RowBasedKeyValueBatch. Will not spill but return 0.\n",
      "23/04/21 10:02:21 WARN RowBasedKeyValueBatch: Calling spill() on RowBasedKeyValueBatch. Will not spill but return 0.\n",
      "23/04/21 10:02:21 WARN RowBasedKeyValueBatch: Calling spill() on RowBasedKeyValueBatch. Will not spill but return 0.\n",
      "23/04/21 10:02:21 WARN RowBasedKeyValueBatch: Calling spill() on RowBasedKeyValueBatch. Will not spill but return 0.\n",
      "23/04/21 10:02:21 WARN RowBasedKeyValueBatch: Calling spill() on RowBasedKeyValueBatch. Will not spill but return 0.\n"
     ]
    },
    {
     "name": "stderr",
     "output_type": "stream",
     "text": [
      "[Stage 652:>  (0 + 4) / 5][Stage 653:>  (0 + 0) / 5][Stage 654:>  (0 + 0) / 5]\r"
     ]
    },
    {
     "name": "stdout",
     "output_type": "stream",
     "text": [
      "23/04/21 10:02:23 WARN RowBasedKeyValueBatch: Calling spill() on RowBasedKeyValueBatch. Will not spill but return 0.\n",
      "23/04/21 10:02:23 WARN RowBasedKeyValueBatch: Calling spill() on RowBasedKeyValueBatch. Will not spill but return 0.\n"
     ]
    },
    {
     "name": "stderr",
     "output_type": "stream",
     "text": [
      "[Stage 652:==>(4 + 1) / 5][Stage 653:>  (0 + 3) / 5][Stage 654:>  (0 + 0) / 5]\r"
     ]
    },
    {
     "name": "stdout",
     "output_type": "stream",
     "text": [
      "23/04/21 10:02:24 WARN RowBasedKeyValueBatch: Calling spill() on RowBasedKeyValueBatch. Will not spill but return 0.\n",
      "23/04/21 10:02:24 WARN RowBasedKeyValueBatch: Calling spill() on RowBasedKeyValueBatch. Will not spill but return 0.\n",
      "23/04/21 10:02:24 WARN RowBasedKeyValueBatch: Calling spill() on RowBasedKeyValueBatch. Will not spill but return 0.\n",
      "23/04/21 10:02:25 WARN RowBasedKeyValueBatch: Calling spill() on RowBasedKeyValueBatch. Will not spill but return 0.\n",
      "23/04/21 10:02:25 WARN RowBasedKeyValueBatch: Calling spill() on RowBasedKeyValueBatch. Will not spill but return 0.\n",
      "23/04/21 10:02:25 WARN RowBasedKeyValueBatch: Calling spill() on RowBasedKeyValueBatch. Will not spill but return 0.\n"
     ]
    },
    {
     "name": "stderr",
     "output_type": "stream",
     "text": [
      "[Stage 653:>  (0 + 4) / 5][Stage 654:>  (0 + 0) / 5][Stage 655:>  (0 + 0) / 5]\r"
     ]
    },
    {
     "name": "stdout",
     "output_type": "stream",
     "text": [
      "23/04/21 10:02:25 WARN RowBasedKeyValueBatch: Calling spill() on RowBasedKeyValueBatch. Will not spill but return 0.\n",
      "23/04/21 10:02:25 WARN RowBasedKeyValueBatch: Calling spill() on RowBasedKeyValueBatch. Will not spill but return 0.\n"
     ]
    },
    {
     "name": "stderr",
     "output_type": "stream",
     "text": [
      "[Stage 654:>  (0 + 4) / 5][Stage 655:>  (0 + 0) / 5][Stage 656:>  (0 + 0) / 5]\r"
     ]
    },
    {
     "name": "stdout",
     "output_type": "stream",
     "text": [
      "23/04/21 10:02:27 WARN RowBasedKeyValueBatch: Calling spill() on RowBasedKeyValueBatch. Will not spill but return 0.\n",
      "23/04/21 10:02:27 WARN RowBasedKeyValueBatch: Calling spill() on RowBasedKeyValueBatch. Will not spill but return 0.\n",
      "23/04/21 10:02:27 WARN RowBasedKeyValueBatch: Calling spill() on RowBasedKeyValueBatch. Will not spill but return 0.\n",
      "23/04/21 10:02:27 WARN RowBasedKeyValueBatch: Calling spill() on RowBasedKeyValueBatch. Will not spill but return 0.\n",
      "23/04/21 10:02:27 WARN RowBasedKeyValueBatch: Calling spill() on RowBasedKeyValueBatch. Will not spill but return 0.\n",
      "23/04/21 10:02:27 WARN RowBasedKeyValueBatch: Calling spill() on RowBasedKeyValueBatch. Will not spill but return 0.\n",
      "23/04/21 10:02:27 WARN RowBasedKeyValueBatch: Calling spill() on RowBasedKeyValueBatch. Will not spill but return 0.\n",
      "23/04/21 10:02:27 WARN RowBasedKeyValueBatch: Calling spill() on RowBasedKeyValueBatch. Will not spill but return 0.\n"
     ]
    },
    {
     "name": "stderr",
     "output_type": "stream",
     "text": [
      "[Stage 655:>  (0 + 4) / 5][Stage 656:>  (0 + 0) / 5][Stage 657:>  (0 + 0) / 5]\r"
     ]
    },
    {
     "name": "stdout",
     "output_type": "stream",
     "text": [
      "23/04/21 10:02:30 WARN RowBasedKeyValueBatch: Calling spill() on RowBasedKeyValueBatch. Will not spill but return 0.\n",
      "23/04/21 10:02:30 WARN RowBasedKeyValueBatch: Calling spill() on RowBasedKeyValueBatch. Will not spill but return 0.\n",
      "23/04/21 10:02:30 WARN RowBasedKeyValueBatch: Calling spill() on RowBasedKeyValueBatch. Will not spill but return 0.\n",
      "23/04/21 10:02:30 WARN RowBasedKeyValueBatch: Calling spill() on RowBasedKeyValueBatch. Will not spill but return 0.\n",
      "23/04/21 10:02:30 WARN RowBasedKeyValueBatch: Calling spill() on RowBasedKeyValueBatch. Will not spill but return 0.\n",
      "23/04/21 10:02:30 WARN RowBasedKeyValueBatch: Calling spill() on RowBasedKeyValueBatch. Will not spill but return 0.\n",
      "23/04/21 10:02:30 WARN RowBasedKeyValueBatch: Calling spill() on RowBasedKeyValueBatch. Will not spill but return 0.\n",
      "23/04/21 10:02:30 WARN RowBasedKeyValueBatch: Calling spill() on RowBasedKeyValueBatch. Will not spill but return 0.\n"
     ]
    },
    {
     "name": "stderr",
     "output_type": "stream",
     "text": [
      "[Stage 656:>  (0 + 4) / 5][Stage 657:>  (0 + 0) / 5][Stage 660:>  (0 + 0) / 5]\r"
     ]
    },
    {
     "name": "stdout",
     "output_type": "stream",
     "text": [
      "23/04/21 10:02:33 WARN RowBasedKeyValueBatch: Calling spill() on RowBasedKeyValueBatch. Will not spill but return 0.\n",
      "23/04/21 10:02:33 WARN RowBasedKeyValueBatch: Calling spill() on RowBasedKeyValueBatch. Will not spill but return 0.\n",
      "23/04/21 10:02:33 WARN RowBasedKeyValueBatch: Calling spill() on RowBasedKeyValueBatch. Will not spill but return 0.\n",
      "23/04/21 10:02:33 WARN RowBasedKeyValueBatch: Calling spill() on RowBasedKeyValueBatch. Will not spill but return 0.\n",
      "23/04/21 10:02:33 WARN RowBasedKeyValueBatch: Calling spill() on RowBasedKeyValueBatch. Will not spill but return 0.\n",
      "23/04/21 10:02:33 WARN RowBasedKeyValueBatch: Calling spill() on RowBasedKeyValueBatch. Will not spill but return 0.\n",
      "23/04/21 10:02:33 WARN RowBasedKeyValueBatch: Calling spill() on RowBasedKeyValueBatch. Will not spill but return 0.\n",
      "23/04/21 10:02:33 WARN RowBasedKeyValueBatch: Calling spill() on RowBasedKeyValueBatch. Will not spill but return 0.\n"
     ]
    },
    {
     "name": "stderr",
     "output_type": "stream",
     "text": [
      "[Stage 657:>  (0 + 4) / 5][Stage 660:>  (0 + 0) / 5][Stage 662:>  (0 + 0) / 4]\r"
     ]
    },
    {
     "name": "stdout",
     "output_type": "stream",
     "text": [
      "23/04/21 10:02:36 WARN RowBasedKeyValueBatch: Calling spill() on RowBasedKeyValueBatch. Will not spill but return 0.\n",
      "23/04/21 10:02:36 WARN RowBasedKeyValueBatch: Calling spill() on RowBasedKeyValueBatch. Will not spill but return 0.\n",
      "23/04/21 10:02:36 WARN RowBasedKeyValueBatch: Calling spill() on RowBasedKeyValueBatch. Will not spill but return 0.\n",
      "23/04/21 10:02:36 WARN RowBasedKeyValueBatch: Calling spill() on RowBasedKeyValueBatch. Will not spill but return 0.\n",
      "23/04/21 10:02:36 WARN RowBasedKeyValueBatch: Calling spill() on RowBasedKeyValueBatch. Will not spill but return 0.\n",
      "23/04/21 10:02:36 WARN RowBasedKeyValueBatch: Calling spill() on RowBasedKeyValueBatch. Will not spill but return 0.\n",
      "23/04/21 10:02:36 WARN RowBasedKeyValueBatch: Calling spill() on RowBasedKeyValueBatch. Will not spill but return 0.\n",
      "23/04/21 10:02:36 WARN RowBasedKeyValueBatch: Calling spill() on RowBasedKeyValueBatch. Will not spill but return 0.\n"
     ]
    },
    {
     "name": "stderr",
     "output_type": "stream",
     "text": [
      "                                                                                \r"
     ]
    },
    {
     "name": "stdout",
     "output_type": "stream",
     "text": [
      "+--------------+------------------------+-------------+-------------------------+-----------------------------+-----------------+-------------------+------------------+-----------------+------------+----------+---------------------------+---------+------+------+-------+-----------+--------+----+--------+--------+-----+-------+---------+-------+-----+---------------------------------------+------+------+---------------+------------+----------+------+------+------------------+------+-----+-----+---------+-------+---------+--------+---------+-------+-------+-----+---------+------+--------+------+----------+------------+-----------------+----------+-------+--------------------+----+-------------------+---------------------------+-----------------------+-------+------------------+----------------+------------------------------------+----------+-------+-----------+-----------------------+------------------------+--------+-----------+--------+-----------+---------------------+------------------+----+---------------+--------------------------+------------------------+-------------+---------+--------------------------+----+----------------+-------------+---------------------+----------------------------+--------------------------------------------------+----------------+------------------+-----------+---------------------+--------+-------+--------------------------+-------------------------+---------+------------------+---------------+---------------------------+--------+---------------------------------+---------------------------------------------+----------+-----------------------+--------------------------------+-------+-------+---------------+----------+---------------------+----------------------------+--------------------------------------------------+----------------+------------------+-----------+---------------------+--------+-------+--------------------------+-------------------------+---------+------------------+---------------+---------------------------+--------+---------------------------------+---------------------------------------------+----------+-----------------------+--------------------------------+-------+-------+---------------+----------+----------------------------+----------------+------------------+----------------------+------------------------+\n",
      "|ID_CONTRATISTA|RAZON_SOCIAL_CONTRATISTA|num_contratos|suma_valor_total_contrato|promedio_valor_total_contrato|num_departamentos|num_estados_proceso|num_clases_proceso|num_tipos_proceso|num_familias|num_clases|meses_desde_ultimo_contrato|SANTANDER|VAUPES|NARIÑO|CAQUETA|NO DEFINIDO|CASANARE|META|AMAZONAS|GUAVIARE|CAUCA|VICHADA|ANTIOQUIA|QUINDIO|CHOCO|SAN ANDRES PROVIDENCIA Y SANTA CATALINA|CALDAS|BOYACA|VALLE DEL CAUCA|CUNDINAMARCA|LA GUAJIRA|TOLIMA|ARAUCA|NORTE DE SANTANDER|BOGOTA|HUILA|SUCRE|ATLANTICO|BOLIVAR|RISARALDA|PUTUMAYO|MAGDALENA|GUAINIA|CORDOBA|CESAR|TERMINADO|ACTIVO|BORRADOR|CEDIDO|MODIFICADO|EN EJECUCION|ENVIADO PROVEEDOR|SUSPENDIDO|CERRADO|CONTRATACION DIRECTA|null|CONCURSO DE MERITOS|CONTRATACION MINIMA CUANTIA|LICITACION OBRA PUBLICA|SUBASTA|LICITACION PUBLICA|REGIMEN ESPECIAL|SELECCION ABREVIADA DE MENOR CUANTIA|EMPRESTITO|SEGUROS|CONSULTORIA|PRESTACION DE SERVICIOS|ACUERDO MARCO DE PRECIOS|COMISION|COMPRAVENTA|COMODATO|SUMINISTROS|SERVICIOS FINANCIEROS|NEGOCIO FIDUCIARIO|OTRO|VENTA INMUEBLES|ARRENDAMIENTO DE INMUEBLES|ARRENDAMIENTO DE MUEBLES|INTERVENTORIA|CONCESION|ASOCIACION PUBLICO PRIVADA|OBRA|DECREELAW0922017|VENTA MUEBLES|RELACIONES EXTERIORES|VIVIENDA CIUDAD Y TERRITORIO|TECNOLOGIAS DE LA INFORMACION Y LAS COMUNICACIONES|SERVICIO PUBLICO|EDUCACION NACIONAL|AGRICULTURA|NO APLICANO PERTENECE|DEPORTES|DEFENSA|HACIENDA Y CREDITO PUBLICO|SALUD Y PROTECCION SOCIAL|INDUSTRIA|CIENCIA TECNOLOGIA|MINAS Y ENERGIA|PRESIDENCIA DE LA REPUBLICA|INTERIOR|INCLUSION SOCIAL Y RECONCILIACION|INTELIGENCIA ESTRATEGICA Y CONTRAINTELIGENCIA|TRANSPORTE|INFORMACION ESTADISTICA|AMBIENTE Y DESARROLLO SOSTENIBLE|TRABAJO|CULTURA|LEY DE JUSTICIA|PLANEACION|RELACIONES EXTERIORES|VIVIENDA CIUDAD Y TERRITORIO|TECNOLOGIAS DE LA INFORMACION Y LAS COMUNICACIONES|SERVICIO PUBLICO|EDUCACION NACIONAL|AGRICULTURA|NO APLICANO PERTENECE|DEPORTES|DEFENSA|HACIENDA Y CREDITO PUBLICO|SALUD Y PROTECCION SOCIAL|INDUSTRIA|CIENCIA TECNOLOGIA|MINAS Y ENERGIA|PRESIDENCIA DE LA REPUBLICA|INTERIOR|INCLUSION SOCIAL Y RECONCILIACION|INTELIGENCIA ESTRATEGICA Y CONTRAINTELIGENCIA|TRANSPORTE|INFORMACION ESTADISTICA|AMBIENTE Y DESARROLLO SOSTENIBLE|TRABAJO|CULTURA|LEY DE JUSTICIA|PLANEACION|documento_contratista_multas|numero_de_multas|suma_valor_sancion|promedio_valor_sancion|meses_desde_ultima_multa|\n",
      "+--------------+------------------------+-------------+-------------------------+-----------------------------+-----------------+-------------------+------------------+-----------------+------------+----------+---------------------------+---------+------+------+-------+-----------+--------+----+--------+--------+-----+-------+---------+-------+-----+---------------------------------------+------+------+---------------+------------+----------+------+------+------------------+------+-----+-----+---------+-------+---------+--------+---------+-------+-------+-----+---------+------+--------+------+----------+------------+-----------------+----------+-------+--------------------+----+-------------------+---------------------------+-----------------------+-------+------------------+----------------+------------------------------------+----------+-------+-----------+-----------------------+------------------------+--------+-----------+--------+-----------+---------------------+------------------+----+---------------+--------------------------+------------------------+-------------+---------+--------------------------+----+----------------+-------------+---------------------+----------------------------+--------------------------------------------------+----------------+------------------+-----------+---------------------+--------+-------+--------------------------+-------------------------+---------+------------------+---------------+---------------------------+--------+---------------------------------+---------------------------------------------+----------+-----------------------+--------------------------------+-------+-------+---------------+----------+---------------------+----------------------------+--------------------------------------------------+----------------+------------------+-----------+---------------------+--------+-------+--------------------------+-------------------------+---------+------------------+---------------+---------------------------+--------+---------------------------------+---------------------------------------------+----------+-----------------------+--------------------------------+-------+-------+---------------+----------+----------------------------+----------------+------------------+----------------------+------------------------+\n",
      "|      79391917|    JOHN ALEJANDRO FR...|           11|                226400125|         2.0581829545454547E7|                9|                  3|                 1|                2|           4|         4|                         19|        1|     0|     0|      0|          0|       1|   1|       0|       0|    0|      0|        2|      1|    0|                                      0|     0|     0|              1|           0|         0|     0|     1|                 0|     1|    0|    0|        2|      0|        0|       0|        0|      0|      0|    0|        1|     3|       0|     0|         0|           7|                0|         0|      0|                   0|   0|                  0|                         11|                      0|      0|                 0|               0|                                   0|         0|      0|          0|                      0|                       0|       0|         10|       0|          1|                    0|                 0|   0|              0|                         0|                       0|            0|        0|                         0|   0|               0|            0|                    0|                           0|                                                 0|               0|                 0|          0|                    0|       0|      6|                         0|                        1|        0|                 0|              0|                          0|       0|                                0|                                            0|         0|                      0|                               3|      0|      0|              1|         0|                    0|                           0|                                                 0|               0|                 0|          0|                    0|       0|      6|                         0|                        1|        0|                 0|              0|                          0|       0|                                0|                                            0|         0|                      0|                               3|      0|      0|              1|         0|                    79391917|               5|         7744160.0|             1548832.0|             73.19354839|\n",
      "|      79452804|      HUGO JIMENEZ AVILA|            1|                126105396|                 1.26105396E8|                1|                  1|                 1|                1|           1|         1|                         27|        0|     0|     0|      0|          0|       0|   0|       0|       0|    0|      0|        0|      0|    0|                                      0|     0|     0|              0|           0|         0|     0|     0|                 0|     1|    0|    0|        0|      0|        0|       0|        0|      0|      0|    0|        0|     0|       0|     0|         1|           0|                0|         0|      0|                   1|   0|                  0|                          0|                      0|      0|                 0|               0|                                   0|         0|      0|          0|                      1|                       0|       0|          0|       0|          0|                    0|                 0|   0|              0|                         0|                       0|            0|        0|                         0|   0|               0|            0|                    0|                           0|                                                 0|               1|                 0|          0|                    0|       0|      0|                         0|                        0|        0|                 0|              0|                          0|       0|                                0|                                            0|         0|                      0|                               0|      0|      0|              0|         0|                    0|                           0|                                                 0|               1|                 0|          0|                    0|       0|      0|                         0|                        0|        0|                 0|              0|                          0|       0|                                0|                                            0|         0|                      0|                               0|      0|      0|              0|         0|                    79452804|               3|           2.244E7|             7480000.0|             56.64516129|\n",
      "|     890301753|                  SI SAS|            2|               1024532749|                5.122663745E8|                1|                  1|                 1|                1|           1|         1|                         22|        0|     0|     0|      0|          0|       0|   0|       0|       0|    0|      0|        0|      0|    0|                                      0|     0|     0|              2|           0|         0|     0|     0|                 0|     0|    0|    0|        0|      0|        0|       0|        0|      0|      0|    0|        0|     0|       0|     0|         2|           0|                0|         0|      0|                   0|   0|                  0|                          0|                      0|      0|                 0|               0|                                   2|         0|      0|          0|                      0|                       0|       0|          0|       0|          2|                    0|                 0|   0|              0|                         0|                       0|            0|        0|                         0|   0|               0|            0|                    0|                           0|                                                 0|               2|                 0|          0|                    0|       0|      0|                         0|                        0|        0|                 0|              0|                          0|       0|                                0|                                            0|         0|                      0|                               0|      0|      0|              0|         0|                    0|                           0|                                                 0|               2|                 0|          0|                    0|       0|      0|                         0|                        0|        0|                 0|              0|                          0|       0|                                0|                                            0|         0|                      0|                               0|      0|      0|              0|         0|                   890301753|               3|        2.178564E7|             7261880.0|            100.19354839|\n",
      "|      79867234|    CARLOS ALBERTO PI...|            2|                 91536500|                   4.576825E7|                2|                  2|                 1|                1|           2|         2|                         19|        0|     0|     0|      0|          0|       0|   0|       0|       0|    0|      0|        0|      0|    0|                                      0|     0|     0|              1|           0|         0|     0|     0|                 0|     1|    0|    0|        0|      0|        0|       0|        0|      0|      0|    0|        0|     1|       0|     0|         0|           1|                0|         0|      0|                   0|   0|                  0|                          2|                      0|      0|                 0|               0|                                   0|         0|      0|          0|                      2|                       0|       0|          0|       0|          0|                    0|                 0|   0|              0|                         0|                       0|            0|        0|                         0|   0|               0|            0|                    0|                           0|                                                 0|               0|                 1|          0|                    0|       0|      0|                         0|                        0|        0|                 0|              0|                          0|       0|                                0|                                            0|         0|                      0|                               0|      1|      0|              0|         0|                    0|                           0|                                                 0|               0|                 1|          0|                    0|       0|      0|                         0|                        0|        0|                 0|              0|                          0|       0|                                0|                                            0|         0|                      0|                               0|      1|      0|              0|         0|                    79867234|               2|               0.0|                   0.0|             58.96774194|\n",
      "|     800167494|                  ADA SA|            7|               1361854952|         1.9455070742857143E8|                3|                  2|                 1|                1|           5|         5|                         19|        0|     0|     0|      0|          0|       0|   0|       0|       0|    0|      0|        2|      0|    0|                                      0|     3|     0|              0|           0|         0|     0|     0|                 0|     2|    0|    0|        0|      0|        0|       0|        0|      0|      0|    0|        0|     0|       0|     0|         2|           5|                0|         0|      0|                   7|   0|                  0|                          0|                      0|      0|                 0|               0|                                   0|         0|      0|          0|                      7|                       0|       0|          0|       0|          0|                    0|                 0|   0|              0|                         0|                       0|            0|        0|                         0|   0|               0|            0|                    0|                           0|                                                 0|               3|                 0|          0|                    1|       0|      0|                         0|                        0|        0|                 0|              0|                          0|       0|                                0|                                            0|         0|                      0|                               1|      0|      0|              1|         1|                    0|                           0|                                                 0|               3|                 0|          0|                    1|       0|      0|                         0|                        0|        0|                 0|              0|                          0|       0|                                0|                                            0|         0|                      0|                               1|      0|      0|              1|         1|                   800167494|               2|      1.92579735E8|          9.62898675E7|              45.5483871|\n",
      "+--------------+------------------------+-------------+-------------------------+-----------------------------+-----------------+-------------------+------------------+-----------------+------------+----------+---------------------------+---------+------+------+-------+-----------+--------+----+--------+--------+-----+-------+---------+-------+-----+---------------------------------------+------+------+---------------+------------+----------+------+------+------------------+------+-----+-----+---------+-------+---------+--------+---------+-------+-------+-----+---------+------+--------+------+----------+------------+-----------------+----------+-------+--------------------+----+-------------------+---------------------------+-----------------------+-------+------------------+----------------+------------------------------------+----------+-------+-----------+-----------------------+------------------------+--------+-----------+--------+-----------+---------------------+------------------+----+---------------+--------------------------+------------------------+-------------+---------+--------------------------+----+----------------+-------------+---------------------+----------------------------+--------------------------------------------------+----------------+------------------+-----------+---------------------+--------+-------+--------------------------+-------------------------+---------+------------------+---------------+---------------------------+--------+---------------------------------+---------------------------------------------+----------+-----------------------+--------------------------------+-------+-------+---------------+----------+---------------------+----------------------------+--------------------------------------------------+----------------+------------------+-----------+---------------------+--------+-------+--------------------------+-------------------------+---------+------------------+---------------+---------------------------+--------+---------------------------------+---------------------------------------------+----------+-----------------------+--------------------------------+-------+-------+---------------+----------+----------------------------+----------------+------------------+----------------------+------------------------+\n",
      "only showing top 5 rows\n",
      "\n"
     ]
    }
   ],
   "source": [
    "# Check the joined dataframe\n",
    "print(\"Joined dataframe:\")\n",
    "result_df.orderBy(F.desc(\"numero_de_multas\")).show(5)\n",
    "# result_df.show(5)\n"
   ]
  },
  {
   "cell_type": "code",
   "execution_count": 44,
   "metadata": {},
   "outputs": [],
   "source": [
    "result_df = result_df.drop(\"documento_contratista_multas\")"
   ]
  },
  {
   "cell_type": "code",
   "execution_count": 45,
   "metadata": {},
   "outputs": [],
   "source": [
    "from collections import Counter\n",
    "\n",
    "column_counts = Counter(result_df.columns)\n",
    "\n",
    "duplicate_columns = [col for col, count in column_counts.items() if count > 1]\n",
    "\n",
    "result_df = result_df.drop(*duplicate_columns)\n"
   ]
  },
  {
   "cell_type": "code",
   "execution_count": 46,
   "metadata": {},
   "outputs": [
    {
     "name": "stderr",
     "output_type": "stream",
     "text": [
      "[Stage 721:>  (0 + 4) / 5][Stage 722:>  (0 + 0) / 5][Stage 723:>  (0 + 0) / 5]0]\r"
     ]
    },
    {
     "name": "stdout",
     "output_type": "stream",
     "text": [
      "23/04/21 10:03:47 WARN RowBasedKeyValueBatch: Calling spill() on RowBasedKeyValueBatch. Will not spill but return 0.\n",
      "23/04/21 10:03:47 WARN RowBasedKeyValueBatch: Calling spill() on RowBasedKeyValueBatch. Will not spill but return 0.\n",
      "23/04/21 10:03:47 WARN RowBasedKeyValueBatch: Calling spill() on RowBasedKeyValueBatch. Will not spill but return 0.\n",
      "23/04/21 10:03:47 WARN RowBasedKeyValueBatch: Calling spill() on RowBasedKeyValueBatch. Will not spill but return 0.\n",
      "23/04/21 10:03:47 WARN RowBasedKeyValueBatch: Calling spill() on RowBasedKeyValueBatch. Will not spill but return 0.\n",
      "23/04/21 10:03:47 WARN RowBasedKeyValueBatch: Calling spill() on RowBasedKeyValueBatch. Will not spill but return 0.\n",
      "23/04/21 10:03:47 WARN RowBasedKeyValueBatch: Calling spill() on RowBasedKeyValueBatch. Will not spill but return 0.\n",
      "23/04/21 10:03:47 WARN RowBasedKeyValueBatch: Calling spill() on RowBasedKeyValueBatch. Will not spill but return 0.\n"
     ]
    },
    {
     "name": "stderr",
     "output_type": "stream",
     "text": [
      "[Stage 722:>  (0 + 4) / 5][Stage 723:>  (0 + 0) / 5][Stage 724:>  (0 + 0) / 5]\r"
     ]
    },
    {
     "name": "stdout",
     "output_type": "stream",
     "text": [
      "23/04/21 10:03:50 WARN RowBasedKeyValueBatch: Calling spill() on RowBasedKeyValueBatch. Will not spill but return 0.\n",
      "23/04/21 10:03:50 WARN RowBasedKeyValueBatch: Calling spill() on RowBasedKeyValueBatch. Will not spill but return 0.\n",
      "23/04/21 10:03:50 WARN RowBasedKeyValueBatch: Calling spill() on RowBasedKeyValueBatch. Will not spill but return 0.\n",
      "23/04/21 10:03:50 WARN RowBasedKeyValueBatch: Calling spill() on RowBasedKeyValueBatch. Will not spill but return 0.\n",
      "23/04/21 10:03:50 WARN RowBasedKeyValueBatch: Calling spill() on RowBasedKeyValueBatch. Will not spill but return 0.\n",
      "23/04/21 10:03:50 WARN RowBasedKeyValueBatch: Calling spill() on RowBasedKeyValueBatch. Will not spill but return 0.\n",
      "23/04/21 10:03:50 WARN RowBasedKeyValueBatch: Calling spill() on RowBasedKeyValueBatch. Will not spill but return 0.\n",
      "23/04/21 10:03:50 WARN RowBasedKeyValueBatch: Calling spill() on RowBasedKeyValueBatch. Will not spill but return 0.\n"
     ]
    },
    {
     "name": "stderr",
     "output_type": "stream",
     "text": [
      "[Stage 723:>  (0 + 4) / 5][Stage 724:>  (0 + 0) / 5][Stage 726:>  (0 + 0) / 1]\r"
     ]
    },
    {
     "name": "stdout",
     "output_type": "stream",
     "text": [
      "23/04/21 10:03:53 WARN RowBasedKeyValueBatch: Calling spill() on RowBasedKeyValueBatch. Will not spill but return 0.\n",
      "23/04/21 10:03:53 WARN RowBasedKeyValueBatch: Calling spill() on RowBasedKeyValueBatch. Will not spill but return 0.\n",
      "23/04/21 10:03:53 WARN RowBasedKeyValueBatch: Calling spill() on RowBasedKeyValueBatch. Will not spill but return 0.\n",
      "23/04/21 10:03:53 WARN RowBasedKeyValueBatch: Calling spill() on RowBasedKeyValueBatch. Will not spill but return 0.\n",
      "23/04/21 10:03:53 WARN RowBasedKeyValueBatch: Calling spill() on RowBasedKeyValueBatch. Will not spill but return 0.\n",
      "23/04/21 10:03:53 WARN RowBasedKeyValueBatch: Calling spill() on RowBasedKeyValueBatch. Will not spill but return 0.\n",
      "23/04/21 10:03:53 WARN RowBasedKeyValueBatch: Calling spill() on RowBasedKeyValueBatch. Will not spill but return 0.\n",
      "23/04/21 10:03:53 WARN RowBasedKeyValueBatch: Calling spill() on RowBasedKeyValueBatch. Will not spill but return 0.\n"
     ]
    },
    {
     "name": "stderr",
     "output_type": "stream",
     "text": [
      "[Stage 724:>  (0 + 4) / 5][Stage 726:>  (0 + 0) / 1][Stage 728:>  (0 + 0) / 4]\r"
     ]
    },
    {
     "name": "stdout",
     "output_type": "stream",
     "text": [
      "23/04/21 10:03:56 WARN RowBasedKeyValueBatch: Calling spill() on RowBasedKeyValueBatch. Will not spill but return 0.\n",
      "23/04/21 10:03:56 WARN RowBasedKeyValueBatch: Calling spill() on RowBasedKeyValueBatch. Will not spill but return 0.\n",
      "23/04/21 10:03:56 WARN RowBasedKeyValueBatch: Calling spill() on RowBasedKeyValueBatch. Will not spill but return 0.\n",
      "23/04/21 10:03:56 WARN RowBasedKeyValueBatch: Calling spill() on RowBasedKeyValueBatch. Will not spill but return 0.\n",
      "23/04/21 10:03:56 WARN RowBasedKeyValueBatch: Calling spill() on RowBasedKeyValueBatch. Will not spill but return 0.\n",
      "23/04/21 10:03:56 WARN RowBasedKeyValueBatch: Calling spill() on RowBasedKeyValueBatch. Will not spill but return 0.\n",
      "23/04/21 10:03:56 WARN RowBasedKeyValueBatch: Calling spill() on RowBasedKeyValueBatch. Will not spill but return 0.\n",
      "23/04/21 10:03:56 WARN RowBasedKeyValueBatch: Calling spill() on RowBasedKeyValueBatch. Will not spill but return 0.\n"
     ]
    },
    {
     "name": "stderr",
     "output_type": "stream",
     "text": [
      "                                                                                \r"
     ]
    }
   ],
   "source": [
    "result_df.write.csv(\"etl_data/contratistas_df.csv\", mode=\"overwrite\", header=True)"
   ]
  },
  {
   "cell_type": "code",
   "execution_count": 47,
   "metadata": {},
   "outputs": [],
   "source": [
    "# jupyter nbconvert --to script etl.ipynb\n",
    "\n",
    "\n",
    "# import subprocess\n",
    "# subprocess.run([\"python3\", \"nombre.py\"])\n",
    "\n",
    "\n",
    "\n",
    "# def my_function():\n",
    "#     print(\"Hello, World!\")\n",
    "\n",
    "# if __name__ == \"__main__\":\n",
    "#     my_function()\n",
    "\n",
    "# import nombre\n",
    "\n",
    "# nombre.my_function()\n",
    "\n"
   ]
  }
 ],
 "metadata": {
  "kernelspec": {
   "display_name": "Python 3",
   "language": "python",
   "name": "python3"
  },
  "language_info": {
   "codemirror_mode": {
    "name": "ipython",
    "version": 3
   },
   "file_extension": ".py",
   "mimetype": "text/x-python",
   "name": "python",
   "nbconvert_exporter": "python",
   "pygments_lexer": "ipython3",
   "version": "3.9.2"
  },
  "orig_nbformat": 4
 },
 "nbformat": 4,
 "nbformat_minor": 2
}
