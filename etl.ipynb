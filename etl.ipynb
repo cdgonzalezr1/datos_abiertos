{
 "cells": [
  {
   "cell_type": "code",
   "execution_count": 1,
   "metadata": {},
   "outputs": [],
   "source": [
    "import lectura_paco_colusiones\n",
    "import lectura_paco_multas\n",
    "import lectura_paco_secop\n",
    "import pyspark_etl_functions\n",
    "import pandas as pd\n"
   ]
  },
  {
   "cell_type": "code",
   "execution_count": 10,
   "metadata": {},
   "outputs": [
    {
     "name": "stdout",
     "output_type": "stream",
     "text": [
      "Archivo 'colusiones_en_contratacion_SIC.csv' guardado en la carpeta 'data'.\n"
     ]
    }
   ],
   "source": [
    "url = 'https://paco7public7info7prod.blob.core.windows.net/paco-pulic-info/colusiones_en_contratacion_SIC.csv'\n",
    "filename = 'colusiones_en_contratacion_SIC.csv'\n",
    "lectura_paco_colusiones.download_and_save_csv(url, filename)"
   ]
  },
  {
   "cell_type": "code",
   "execution_count": 12,
   "metadata": {},
   "outputs": [
    {
     "name": "stdout",
     "output_type": "stream",
     "text": [
      "Archivo 'multas_SECOP.csv' guardado en la carpeta 'data'.\n"
     ]
    }
   ],
   "source": [
    "url = 'https://paco7public7info7prod.blob.core.windows.net/paco-pulic-info/multas_SECOP.csv'\n",
    "filename = 'multas_SECOP.csv'\n",
    "lectura_paco_multas.download_and_save_csv(url, filename)"
   ]
  },
  {
   "cell_type": "code",
   "execution_count": 13,
   "metadata": {},
   "outputs": [
    {
     "name": "stdout",
     "output_type": "stream",
     "text": [
      "Archivo 'SECOP_II_Cleaned.csv' guardado en la carpeta 'data'.\n"
     ]
    }
   ],
   "source": [
    "url = 'https://paco7public7info7prod.blob.core.windows.net/paco-pulic-info/SECOP_II_Cleaned.csv'\n",
    "filename = 'SECOP_II_Cleaned.csv'\n",
    "lectura_paco_secop.download_and_save_csv(url, filename)"
   ]
  },
  {
   "attachments": {},
   "cell_type": "markdown",
   "metadata": {},
   "source": [
    "# Quality PACO_secop"
   ]
  },
  {
   "cell_type": "code",
   "execution_count": 2,
   "metadata": {},
   "outputs": [
    {
     "name": "stdout",
     "output_type": "stream",
     "text": [
      "23/04/12 06:54:12 WARN Utils: Your hostname, penguin resolves to a loopback address: 127.0.1.1; using 100.115.92.200 instead (on interface eth0)\n",
      "23/04/12 06:54:12 WARN Utils: Set SPARK_LOCAL_IP if you need to bind to another address\n"
     ]
    },
    {
     "name": "stderr",
     "output_type": "stream",
     "text": [
      "Setting default log level to \"WARN\".\n",
      "To adjust logging level use sc.setLogLevel(newLevel). For SparkR, use setLogLevel(newLevel).\n"
     ]
    },
    {
     "name": "stdout",
     "output_type": "stream",
     "text": [
      "23/04/12 06:54:13 WARN NativeCodeLoader: Unable to load native-hadoop library for your platform... using builtin-java classes where applicable\n"
     ]
    },
    {
     "name": "stderr",
     "output_type": "stream",
     "text": [
      "                                                                                \r"
     ]
    },
    {
     "name": "stdout",
     "output_type": "stream",
     "text": [
      "23/04/12 06:54:29 WARN package: Truncated the string representation of a plan since it was too large. This behavior can be adjusted by setting 'spark.sql.debug.maxToStringFields'.\n",
      "+-------------------+-------------+-----------+------------+------------------+-------------------+--------------------+---------------------+-------------------+--------------------+--------------------+----------------+--------------------+--------------------+-----------+--------------+--------------------+--------------+------------------------+---------------------+----------------+--------------------+--------------+--------------------+--------------------+------------------------------+--------------------+--------------------------+------------+--------------------+--------------------+-----+----+\n",
      "|REFERENCIA_CONTRATO|BASE_DE_DATOS|  MUNICIPIO|DEPARTAMENTO|ESTADO_DEL_PROCESO| FECHA_CARGUE_SECOP|FECHA_FIRMA_CONTRATO|FECHA_INICIO_CONTRATO| FECHA_FIN_CONTRATO|       CLASE_PROCESO|        TIPO_PROCESO|      ID_PROCESO|       TIPO_CONTRATO|      NOMBRE_ENTIDAD|NIT_ENTIDAD|CODIGO_ENTIDAD| TIPO_ID_CONTRATISTA|ID_CONTRATISTA|RAZON_SOCIAL_CONTRATISTA|TIPO_ID_REPRESENTANTE|ID_REPRESENTANTE|NOMBRE_REPRESENTANTE|VALOR_CONTRATO|VALOR_TOTAL_CONTRATO|  OBJETO_A_CONTRATAR|DETALLE_DEL_OBJETO_A_CONTRATAR|         URL_PROCESO|JUSTIFICACION_CONTRATACION|NOMBRE_GRUPO|      NOMBRE_FAMILIA|        NOMBRE_CLASE|month|year|\n",
      "+-------------------+-------------+-----------+------------+------------------+-------------------+--------------------+---------------------+-------------------+--------------------+--------------------+----------------+--------------------+--------------------+-----------+--------------+--------------------+--------------+------------------------+---------------------+----------------+--------------------+--------------+--------------------+--------------------+------------------------------+--------------------+--------------------------+------------+--------------------+--------------------+-----+----+\n",
      "|               1062|     SECOP II|      BELLO|   ANTIOQUIA|      EN EJECUCION|2021-07-30 00:00:00| 2021-07-30 00:00:00|  2021-08-02 00:00:00|2021-12-29 00:00:00|CONTRATACION DIRECTA|PRESTACION DE SER...|CO1PCCNTR2707483|CONTRATACION DIRECTA|ANTIOQUIA - BELLO...|  890980112|     890980112|CEDULA DE CIUDADANIA|      43065479|    PIEDAD GIRALDO CO...| CEDULA DE CIUDADANIA|        43065479|PIEDAD GIRALDO CO...|      17383333|            17383333|PRESTACION DE SER...|          PRESTACION DE SER...|https://community...|      SERVICIOSPROFESIO...|   EJECUTIVO|NO APLICANO PERTE...|NO APLICANO PERTE...|    7|2021|\n",
      "|        726 DE 2020|     SECOP II|     BOGOTA|      BOGOTA|        MODIFICADO|2020-11-23 00:00:00| 2020-11-23 00:00:00|  2020-12-16 00:00:00|2021-04-15 00:00:00|SELECCION ABREVIA...|PRESTACION DE SER...|CO1PCCNTR2002022|SELECCION ABREVIA...|INSTITUTO NACIONA...|  830000167|     830000167|                 NIT|      46421988|                   AINIA|                  NIT|        46421988|               AINIA|     204294545|           204294545|PRESTAR LOS SERVI...|          PRESTAR LOS SERVI...|https://community...|      PRESUPUESTO MENOR...|   EJECUTIVO|SALUD Y PROTECCIO...|SALUD Y PROTECCIO...|   11|2020|\n",
      "|    CO1PCCNTR935617|     SECOP II|     BOGOTA|      BOGOTA|            ACTIVO|2019-04-30 00:00:00| 2019-04-30 00:00:00|  2019-04-23 00:00:00|2019-05-10 00:00:00|CONTRATACION MINI...|         COMPRAVENTA| CO1PCCNTR935617|      MINIMA CUANTIA|   EJERCITO NACIONAL| 8001306324|    8001306324|                 NIT|     900889064|    COMERCIALIZADORA ...|                  NIT|       900889064|COMERCIALIZADORA ...|      81999934|            81999934|ADQUISICION DE PA...|          ADQUISICION DE PA...|https://community...|      PRESUPUESTO INFER...|   EJECUTIVO|             DEFENSA|             DEFENSA|    4|2019|\n",
      "|   CO1PCCNTR2040520|     SECOP II|     BOGOTA|      BOGOTA|      EN EJECUCION|2020-12-09 00:00:00| 2020-12-09 00:00:00|  2020-12-29 00:00:00|2021-04-28 00:00:00|CONTRATACION DIRECTA|PRESTACION DE SER...|CO1PCCNTR2040520|CONTRATACION DIRECTA|FONDO FINANCIERO ...| 8002469532|    8002469532|CEDULA DE CIUDADANIA|    1049611041|    JEISSON OSWADO ES...| CEDULA DE CIUDADANIA|      1049611041|JEISSON OSWADO ES...|      18120000|            18120000|PRESTAR SERVICIOS...|          PRESTAR SERVICIOS...|https://community...|      SERVICIOSPROFESIO...|   EJECUTIVO|SALUD Y PROTECCIO...|SALUD Y PROTECCIO...|   12|2020|\n",
      "|        41001452021|     SECOP II|NO DEFINIDO|       HUILA|      EN EJECUCION|2021-02-24 00:00:00| 2021-02-24 00:00:00|  2021-02-24 00:00:00|2021-12-28 00:00:00|CONTRATACION DIRECTA|PRESTACION DE SER...|CO1PCCNTR2294579|CONTRATACION DIRECTA|INSTITUTO COLOMBI...|  899999239|     899999239|CEDULA DE CIUDADANIA|    1075232017|    CARLOS ALBERTO NA...| CEDULA DE CIUDADANIA|      1075232017|CARLOS ALBERTO NA...|      18931667|            18931667|PRESTAR SERVICIOS...|          PRESTAR SERVICIOS...|https://community...|      SERVICIOSPROFESIO...|   EJECUTIVO|SALUD Y PROTECCIO...|SALUD Y PROTECCIO...|    2|2021|\n",
      "+-------------------+-------------+-----------+------------+------------------+-------------------+--------------------+---------------------+-------------------+--------------------+--------------------+----------------+--------------------+--------------------+-----------+--------------+--------------------+--------------+------------------------+---------------------+----------------+--------------------+--------------+--------------------+--------------------+------------------------------+--------------------+--------------------------+------------+--------------------+--------------------+-----+----+\n",
      "only showing top 5 rows\n",
      "\n"
     ]
    }
   ],
   "source": [
    "filename = 'SECOP_II_Cleaned.csv'\n",
    "paco_secop_df = pyspark_etl_functions.read_csv_with_pyspark(filename, folder='data', separator='|')\n",
    "paco_secop_df.show(5)"
   ]
  },
  {
   "cell_type": "code",
   "execution_count": 3,
   "metadata": {},
   "outputs": [
    {
     "name": "stdout",
     "output_type": "stream",
     "text": [
      "23/04/12 06:40:45 WARN SparkSession: Using an existing Spark session; only runtime SQL configurations will take effect.\n"
     ]
    },
    {
     "name": "stderr",
     "output_type": "stream",
     "text": [
      "                                                                                \r"
     ]
    },
    {
     "name": "stdout",
     "output_type": "stream",
     "text": [
      "Total de registros: 1206087\n"
     ]
    },
    {
     "name": "stderr",
     "output_type": "stream",
     "text": [
      "                                                                                \r"
     ]
    },
    {
     "name": "stdout",
     "output_type": "stream",
     "text": [
      "\n",
      "Conteo de registros nulos por columna:\n",
      "REFERENCIA_CONTRATO: 103\n",
      "BASE_DE_DATOS: 0\n",
      "MUNICIPIO: 0\n",
      "DEPARTAMENTO: 0\n",
      "ESTADO_DEL_PROCESO: 0\n",
      "FECHA_CARGUE_SECOP: 0\n",
      "FECHA_FIRMA_CONTRATO: 0\n",
      "FECHA_INICIO_CONTRATO: 0\n",
      "FECHA_FIN_CONTRATO: 0\n",
      "CLASE_PROCESO: 42938\n",
      "TIPO_PROCESO: 0\n",
      "ID_PROCESO: 0\n",
      "TIPO_CONTRATO: 0\n",
      "NOMBRE_ENTIDAD: 0\n",
      "NIT_ENTIDAD: 0\n",
      "CODIGO_ENTIDAD: 0\n",
      "TIPO_ID_CONTRATISTA: 0\n",
      "ID_CONTRATISTA: 27112\n",
      "RAZON_SOCIAL_CONTRATISTA: 15\n",
      "TIPO_ID_REPRESENTANTE: 0\n",
      "ID_REPRESENTANTE: 27112\n",
      "NOMBRE_REPRESENTANTE: 15\n",
      "VALOR_CONTRATO: 0\n",
      "VALOR_TOTAL_CONTRATO: 0\n",
      "OBJETO_A_CONTRATAR: 2\n",
      "DETALLE_DEL_OBJETO_A_CONTRATAR: 2\n",
      "URL_PROCESO: 0\n",
      "JUSTIFICACION_CONTRATACION: 0\n",
      "NOMBRE_GRUPO: 0\n",
      "NOMBRE_FAMILIA: 0\n",
      "NOMBRE_CLASE: 0\n",
      "month: 0\n",
      "year: 0\n",
      "\n",
      "Conteo de registros duplicados: 2\n"
     ]
    },
    {
     "name": "stderr",
     "output_type": "stream",
     "text": [
      "                                                                                \r"
     ]
    },
    {
     "name": "stdout",
     "output_type": "stream",
     "text": [
      "\n",
      "Estadísticas descriptivas para columnas numéricas:\n",
      "min:\n",
      "  NIT_ENTIDAD: 7180873\n",
      "  CODIGO_ENTIDAD: 7180873\n",
      "  VALOR_CONTRATO: 0\n",
      "  VALOR_TOTAL_CONTRATO: 0\n",
      "  month: 1\n",
      "  year: 1900\n",
      "max:\n",
      "  NIT_ENTIDAD: 9013620904\n",
      "  CODIGO_ENTIDAD: 9013620904\n",
      "  VALOR_CONTRATO: 7277004800000000\n",
      "  VALOR_TOTAL_CONTRATO: 7277004800000000\n",
      "  month: 12\n",
      "  year: 2021\n",
      "mean:\n",
      "  NIT_ENTIDAD: 1.5554327998993614E9\n",
      "  CODIGO_ENTIDAD: 1.5554327998993614E9\n",
      "  VALOR_CONTRATO: 5.082991450575178E10\n",
      "  VALOR_TOTAL_CONTRATO: 5.082991450575178E10\n",
      "  month: 4.888488143890117\n",
      "  year: 2013.8793909560422\n",
      "stddev:\n",
      "  NIT_ENTIDAD: 2.2108121267742243E9\n",
      "  CODIGO_ENTIDAD: 2.2108121267742243E9\n",
      "  VALOR_CONTRATO: 1.282255936349012E13\n",
      "  VALOR_TOTAL_CONTRATO: 1.282255936349012E13\n",
      "  month: 3.520285173422338\n",
      "  year: 26.22792558153513\n"
     ]
    },
    {
     "name": "stderr",
     "output_type": "stream",
     "text": [
      "                                                                                \r"
     ]
    },
    {
     "name": "stdout",
     "output_type": "stream",
     "text": [
      "\n",
      "Valores atípicos en la columna NIT_ENTIDAD: 384768\n"
     ]
    },
    {
     "name": "stderr",
     "output_type": "stream",
     "text": [
      "                                                                                \r"
     ]
    },
    {
     "name": "stdout",
     "output_type": "stream",
     "text": [
      "\n",
      "Valores atípicos en la columna CODIGO_ENTIDAD: 384768\n"
     ]
    },
    {
     "name": "stderr",
     "output_type": "stream",
     "text": [
      "                                                                                \r"
     ]
    },
    {
     "name": "stdout",
     "output_type": "stream",
     "text": [
      "\n",
      "Valores atípicos en la columna VALOR_CONTRATO: 121530\n"
     ]
    },
    {
     "name": "stderr",
     "output_type": "stream",
     "text": [
      "                                                                                \r"
     ]
    },
    {
     "name": "stdout",
     "output_type": "stream",
     "text": [
      "\n",
      "Valores atípicos en la columna VALOR_TOTAL_CONTRATO: 121530\n"
     ]
    },
    {
     "name": "stderr",
     "output_type": "stream",
     "text": [
      "                                                                                \r"
     ]
    },
    {
     "name": "stdout",
     "output_type": "stream",
     "text": [
      "\n",
      "Valores atípicos en la columna month: 0\n"
     ]
    },
    {
     "name": "stderr",
     "output_type": "stream",
     "text": [
      "[Stage 48:===================================================>     (9 + 1) / 10]\r"
     ]
    },
    {
     "name": "stdout",
     "output_type": "stream",
     "text": [
      "\n",
      "Valores atípicos en la columna year: 60712\n"
     ]
    },
    {
     "name": "stderr",
     "output_type": "stream",
     "text": [
      "                                                                                \r"
     ]
    }
   ],
   "source": [
    "# pyspark_etl_functions.analyze_data_quality(paco_secop_df)"
   ]
  },
  {
   "cell_type": "code",
   "execution_count": 3,
   "metadata": {},
   "outputs": [
    {
     "name": "stderr",
     "output_type": "stream",
     "text": [
      "[Stage 3:====================================================>     (9 + 1) / 10]\r"
     ]
    },
    {
     "name": "stdout",
     "output_type": "stream",
     "text": [
      "                                       NOMBRE_FAMILIA\n",
      "0                               RELACIONES EXTERIORES\n",
      "1                        VIVIENDA CIUDAD Y TERRITORIO\n",
      "2   TECNOLOGIAS DE LA INFORMACION Y LAS COMUNICACI...\n",
      "3                                    SERVICIO PUBLICO\n",
      "4                                  EDUCACION NACIONAL\n",
      "5                                         AGRICULTURA\n",
      "6                               NO APLICANO PERTENECE\n",
      "7                                            DEPORTES\n",
      "8                                             DEFENSA\n",
      "9                          HACIENDA Y CREDITO PUBLICO\n",
      "10                          SALUD Y PROTECCION SOCIAL\n",
      "11                                          INDUSTRIA\n",
      "12                                 CIENCIA TECNOLOGIA\n",
      "13                                    MINAS Y ENERGIA\n",
      "14                        PRESIDENCIA DE LA REPUBLICA\n",
      "15                                           INTERIOR\n",
      "16                  INCLUSION SOCIAL Y RECONCILIACION\n",
      "17      INTELIGENCIA ESTRATEGICA Y CONTRAINTELIGENCIA\n",
      "18                                         TRANSPORTE\n",
      "19                            INFORMACION ESTADISTICA\n",
      "20                   AMBIENTE Y DESARROLLO SOSTENIBLE\n",
      "21                                            TRABAJO\n",
      "22                                            CULTURA\n",
      "23                                    LEY DE JUSTICIA\n",
      "24                                         PLANEACION\n",
      "25                                        NO DEFINIDO\n"
     ]
    },
    {
     "name": "stderr",
     "output_type": "stream",
     "text": [
      "                                                                                \r"
     ]
    }
   ],
   "source": [
    "nombre_familia_df = paco_secop_df.select('NOMBRE_FAMILIA').distinct().toPandas()\n",
    "pd.set_option('display.max_rows', None) \n",
    "print(nombre_familia_df)"
   ]
  },
  {
   "attachments": {},
   "cell_type": "markdown",
   "metadata": {},
   "source": [
    "- VIVIENDA CIUDAD Y TERRITORIO: Se relaciona con la construcción y desarrollo de viviendas, urbanismo y ordenamiento territorial.\n",
    "- TRANSPORTE: Incluye la infraestructura vial, ferroviaria, aeroportuaria y marítima, así como la construcción y mantenimiento de medios de transporte.\n",
    "- MINAS Y ENERGÍA: Abarca la infraestructura relacionada con la extracción de recursos minerales y la producción y distribución de energía.\n",
    "- AMBIENTE Y DESARROLLO SOSTENIBLE: Puede incluir infraestructuras sostenibles y proyectos relacionados con el medio ambiente, como plantas de tratamiento de agua y sistemas de gestión de residuos.\n"
   ]
  },
  {
   "cell_type": "code",
   "execution_count": 4,
   "metadata": {},
   "outputs": [
    {
     "name": "stdout",
     "output_type": "stream",
     "text": [
      "+--------------------+-------------+-----------+------------+------------------+-------------------+--------------------+---------------------+-------------------+--------------------+--------------------+----------------+--------------------+--------------------+-----------+--------------+--------------------+--------------+------------------------+---------------------+----------------+--------------------+--------------+--------------------+--------------------+------------------------------+--------------------+--------------------------+--------------------+--------------------+--------------------+-----+----+\n",
      "| REFERENCIA_CONTRATO|BASE_DE_DATOS|  MUNICIPIO|DEPARTAMENTO|ESTADO_DEL_PROCESO| FECHA_CARGUE_SECOP|FECHA_FIRMA_CONTRATO|FECHA_INICIO_CONTRATO| FECHA_FIN_CONTRATO|       CLASE_PROCESO|        TIPO_PROCESO|      ID_PROCESO|       TIPO_CONTRATO|      NOMBRE_ENTIDAD|NIT_ENTIDAD|CODIGO_ENTIDAD| TIPO_ID_CONTRATISTA|ID_CONTRATISTA|RAZON_SOCIAL_CONTRATISTA|TIPO_ID_REPRESENTANTE|ID_REPRESENTANTE|NOMBRE_REPRESENTANTE|VALOR_CONTRATO|VALOR_TOTAL_CONTRATO|  OBJETO_A_CONTRATAR|DETALLE_DEL_OBJETO_A_CONTRATAR|         URL_PROCESO|JUSTIFICACION_CONTRATACION|        NOMBRE_GRUPO|      NOMBRE_FAMILIA|        NOMBRE_CLASE|month|year|\n",
      "+--------------------+-------------+-----------+------------+------------------+-------------------+--------------------+---------------------+-------------------+--------------------+--------------------+----------------+--------------------+--------------------+-----------+--------------+--------------------+--------------+------------------------+---------------------+----------------+--------------------+--------------+--------------------+--------------------+------------------------------+--------------------+--------------------------+--------------------+--------------------+--------------------+-----+----+\n",
      "|            CTO48118|     SECOP II|     BOGOTA|      BOGOTA|          BORRADOR|1900-01-01 00:00:00| 1900-01-01 00:00:00|  2018-08-01 00:00:00|2019-03-31 00:00:00|CONTRATACION DIRECTA|PRESTACION DE SER...| CO1PCCNTR501714|CONTRATACION DIRECTA|BOGOTA - TRANSMIL...|  830063506|     830063506|CEDULA DE CIUDADANIA|      89001246|    ESTEVAN MILLAN CA...| CEDULA DE CIUDADANIA|        89001246|ESTEVAN MILLAN CA...|      19040000|            19040000|CONTRATAR LA PRES...|          CONTRATAR LA PRES...|https://community...|      SERVICIOSPROFESIO...|           EJECUTIVO|          TRANSPORTE|          TRANSPORTE|    1|2018|\n",
      "|         MVCT7292020|     SECOP II|NO DEFINIDO| NO DEFINIDO|      EN EJECUCION|2020-06-19 00:00:00| 2020-06-19 00:00:00|  2020-06-19 00:00:00|2020-12-31 00:00:00|CONTRATACION DIRECTA|PRESTACION DE SER...|CO1PCCNTR1641304|CONTRATACION DIRECTA|MINISTERIO DE VIV...|  900463725|     900463725|CEDULA DE CIUDADANIA|      79384862|    NELSON HERNAN COR...| CEDULA DE CIUDADANIA|        79384862|NELSON HERNAN COR...|      56000000|            56000000|PRESTACION DE SER...|          PRESTACION DE SER...|https://community...|      SERVICIOSPROFESIO...|           EJECUTIVO|VIVIENDA CIUDAD Y...|VIVIENDA CIUDAD Y...|    6|2020|\n",
      "|             2020176|     SECOP II|     BOGOTA|      BOGOTA|        MODIFICADO|2020-02-14 00:00:00| 2020-02-14 00:00:00|  2020-02-14 00:00:00|2020-12-29 00:00:00|CONTRATACION DIRECTA|PRESTACION DE SER...|CO1PCCNTR1377033|CONTRATACION DIRECTA|SECRETARIA DISTRI...| 8999990619|    8999990619|CEDULA DE CIUDADANIA|    1030579350|    ERIKA LIZETH LATO...| CEDULA DE CIUDADANIA|      1030579350|ERIKA LIZETH LATO...|      36739500|            36739500|PRESTAR SERVICIOS...|          PRESTAR SERVICIOS...|https://community...|      SERVICIOSPROFESIO...|           EJECUTIVO|          TRANSPORTE|          TRANSPORTE|    2|2020|\n",
      "|            SGR22318|     SECOP II|     BOGOTA|      BOGOTA|            ACTIVO|2018-06-18 00:00:00| 2018-06-18 00:00:00|  2018-06-14 00:00:00|2018-07-29 00:00:00|             SUBASTA|         COMPRAVENTA| CO1PCCNTR434165|SELECCION ABREVIA...|AGENCIA NACIONAL ...|  900500018|     900500018|                 NIT|    8000806329|           POLMINERA SAS|                  NIT|      8000806329|       POLMINERA SAS|    1016260000|          1016260000|COMPRA DE MULTIDE...|          COMPRA DE MULTIDE...|https://community...|      SUMINISTRO DE BIE...|           EJECUTIVO|     MINAS Y ENERGIA|     MINAS Y ENERGIA|    6|2018|\n",
      "|CONTRATO 233 DE 2019|     SECOP II|     BOGOTA|      BOGOTA|            ACTIVO|2019-03-08 00:00:00| 2019-03-08 00:00:00|  2019-03-09 00:00:00|2019-06-08 00:00:00|CONTRATACION DIRECTA|PRESTACION DE SER...| CO1PCCNTR882613|CONTRATACION DIRECTA|MINISTERIO DE AMB...|  830115395|     830115395|CEDULA DE CIUDADANIA|      80513779|    ALVARO FERNANDO R...| CEDULA DE CIUDADANIA|        80513779|ALVARO FERNANDO R...|      10710000|            10710000|PRESTAR LOS SERVI...|          PRESTAR LOS SERVI...|https://community...|      SERVICIOSPROFESIO...|           EJECUTIVO|AMBIENTE Y DESARR...|AMBIENTE Y DESARR...|    3|2019|\n",
      "|     CPS 100 DE 2018|     SECOP II|     BOGOTA|      BOGOTA|        MODIFICADO|2018-01-15 00:00:00| 2018-01-15 00:00:00|  2018-01-15 00:00:00|2018-10-14 00:00:00|CONTRATACION DIRECTA|PRESTACION DE SER...| CO1PCCNTR283165|CONTRATACION DIRECTA|FONDO NACIONAL AM...|  830025267|     830025267|CEDULA DE CIUDADANIA|      80200652|    CARLOS ANDRES GAR...| CEDULA DE CIUDADANIA|        80200652|CARLOS ANDRES GAR...|      69347719|            69347719|PRESTACION DE SER...|          PRESTACION DE SER...|https://community...|      SERVICIOSPROFESIO...|           EJECUTIVO|AMBIENTE Y DESARR...|AMBIENTE Y DESARR...|    1|2018|\n",
      "|            20201347|     SECOP II|     BOGOTA|      BOGOTA|        MODIFICADO|2020-08-14 00:00:00| 2020-08-14 00:00:00|  2020-08-19 00:00:00|2021-06-02 00:00:00|CONTRATACION DIRECTA|PRESTACION DE SER...|CO1PCCNTR1769807|CONTRATACION DIRECTA|SECRETARIA DISTRI...| 8999990619|    8999990619|CEDULA DE CIUDADANIA|      79971894|    OSCAR DAVID RUBIA...| CEDULA DE CIUDADANIA|        79971894|OSCAR DAVID RUBIA...|      19433061|            19433061|PRESTAR SERVICIOS...|          PRESTAR SERVICIOS...|https://community...|      SERVICIOSPROFESIO...|           EJECUTIVO|          TRANSPORTE|          TRANSPORTE|    8|2020|\n",
      "|            CTO39520|     SECOP II|     BOGOTA|      BOGOTA|            ACTIVO|2020-04-17 00:00:00| 2020-04-17 00:00:00|  2020-04-17 00:00:00|2021-03-16 00:00:00|CONTRATACION DIRECTA|PRESTACION DE SER...|CO1PCCNTR1507217|CONTRATACION DIRECTA|BOGOTA - TRANSMIL...|  830063506|     830063506|CEDULA DE CIUDADANIA|    1030569617|    LUIS ANTONIO DIAZ...| CEDULA DE CIUDADANIA|      1030569617|LUIS ANTONIO DIAZ...|      26100635|            26100635|CONTRATAR LOS SER...|          CONTRATAR LOS SER...|https://community...|      SERVICIOSPROFESIO...|           EJECUTIVO|          TRANSPORTE|          TRANSPORTE|    4|2020|\n",
      "|         CPSF7082021|     SECOP II|     BOGOTA|      BOGOTA|      EN EJECUCION|2021-01-18 00:00:00| 2021-01-18 00:00:00|  2021-01-18 00:00:00|2021-12-17 00:00:00|CONTRATACION DIRECTA|PRESTACION DE SER...|CO1PCCNTR2137223|CONTRATACION DIRECTA|FONDO NACIONAL AM...|  830025267|     830025267|CEDULA DE CIUDADANIA|      93478208|    FERNEY CABRERA GU...| CEDULA DE CIUDADANIA|        93478208|FERNEY CABRERA GU...|     100533378|           100533378|432012 PRESTAR SE...|          432012 PRESTAR SE...|https://community...|      SERVICIOSPROFESIO...|           EJECUTIVO|AMBIENTE Y DESARR...|AMBIENTE Y DESARR...|    1|2021|\n",
      "|     CO1PCCNTR213501|     SECOP II|    PEREIRA|   RISARALDA|           CERRADO|2017-10-07 00:00:00| 2017-10-07 00:00:00|  2017-10-12 00:00:00|2017-12-22 00:00:00|CONTRATACION DIRECTA|PRESTACION DE SER...| CO1PCCNTR213501|CONTRATACION DIRECTA|CARDER - CORPORAC...|  891410354|     891410354|CEDULA DE CIUDADANIA|       4519550|    ANDRES FELIPE QUI...| CEDULA DE CIUDADANIA|         4519550|ANDRES FELIPE QUI...|       6533333|             6533333|APOYAR PROFESIONA...|          APOYAR PROFESIONA...|https://community...|      SERVICIOSPROFESIO...|CORPORACION AUTONOMA|AMBIENTE Y DESARR...|AMBIENTE Y DESARR...|   10|2017|\n",
      "|       CD  158  2020|     SECOP II|     BOGOTA|      BOGOTA|            ACTIVO|2020-01-30 00:00:00| 2020-01-30 00:00:00|  2020-01-31 00:00:00|2020-12-31 00:00:00|CONTRATACION DIRECTA|PRESTACION DE SER...|CO1PCCNTR1324345|CONTRATACION DIRECTA|MINISTERIO DE AMB...|  830115395|     830115395|CEDULA DE CIUDADANIA|      52961394|    KATHERINE GOMEZ P...| CEDULA DE CIUDADANIA|        52961394|KATHERINE GOMEZ P...|      23182500|            23182500|PRESTACION DE SER...|          PRESTACION DE SER...|https://community...|      SERVICIOSPROFESIO...|           EJECUTIVO|AMBIENTE Y DESARR...|AMBIENTE Y DESARR...|    1|2020|\n",
      "|            CTO27519|     SECOP II|     BOGOTA|      BOGOTA|        MODIFICADO|2019-03-05 00:00:00| 2019-03-05 00:00:00|  2019-03-01 00:00:00|2020-02-05 00:00:00|CONTRATACION DIRECTA|PRESTACION DE SER...| CO1PCCNTR867558|CONTRATACION DIRECTA|BOGOTA - TRANSMIL...|  830063506|     830063506|CEDULA DE CIUDADANIA|    1019047488|    GERMAN DANIEL RAM...| CEDULA DE CIUDADANIA|      1019047488|GERMAN DANIEL RAM...|      68368320|            68368320|CONTRATAR LA PRES...|          CONTRATAR LA PRES...|https://community...|      SERVICIOSPROFESIO...|           EJECUTIVO|          TRANSPORTE|          TRANSPORTE|    3|2019|\n",
      "|     CO1PCCNTR282677|     SECOP II|    PEREIRA|   RISARALDA|           CERRADO|2018-01-12 00:00:00| 2018-01-12 00:00:00|  2018-01-15 00:00:00|2018-12-14 00:00:00|CONTRATACION DIRECTA|PRESTACION DE SER...| CO1PCCNTR282677|CONTRATACION DIRECTA|CARDER - CORPORAC...|  891410354|     891410354|CEDULA DE CIUDADANIA|    1088244102|    WALTER EDUARDO AR...| CEDULA DE CIUDADANIA|      1088244102|WALTER EDUARDO AR...|      36587000|            36587000|APOYAR ADMINISTRA...|          APOYAR ADMINISTRA...|https://community...|      SERVICIOSPROFESIO...|CORPORACION AUTONOMA|AMBIENTE Y DESARR...|AMBIENTE Y DESARR...|    1|2018|\n",
      "|          GGC2932021|     SECOP II|     BOGOTA|      BOGOTA|        MODIFICADO|2021-02-12 00:00:00| 2021-02-12 00:00:00|  2021-02-15 00:00:00|2021-12-16 00:00:00|CONTRATACION DIRECTA|PRESTACION DE SER...|CO1PCCNTR2257466|CONTRATACION DIRECTA|MINISTERIO DE MIN...|  899999022|     899999022|CEDULA DE CIUDADANIA|     193320907|      OMAR OLARTE TRIANA| CEDULA DE CIUDADANIA|       193320907|  OMAR OLARTE TRIANA|      75000000|            75000000|CONTRATAR LA PRES...|          CONTRATAR LA PRES...|https://community...|      SERVICIOSPROFESIO...|           EJECUTIVO|     MINAS Y ENERGIA|     MINAS Y ENERGIA|    2|2021|\n",
      "|            10732021|     SECOP II|     BOGOTA|      BOGOTA|      EN EJECUCION|2021-05-24 00:00:00| 2021-05-24 00:00:00|  2021-05-26 00:00:00|2021-12-31 00:00:00|CONTRATACION DIRECTA|PRESTACION DE SER...|CO1PCCNTR2532911|CONTRATACION DIRECTA|INSTITUTO NACIONA...|  800215807|     800215807|CEDULA DE CIUDADANIA|    1152198540|    JUAN DIEGO GALLEG...| CEDULA DE CIUDADANIA|      1152198540|JUAN DIEGO GALLEG...|      51333333|            51333333|PRESTACION DE SER...|          PRESTACION DE SER...|https://community...|      SERVICIOSPROFESIO...|           EJECUTIVO|          TRANSPORTE|          TRANSPORTE|    5|2021|\n",
      "|             3602020|     SECOP II|     BOGOTA|      BOGOTA|      EN EJECUCION|2020-07-02 00:00:00| 2020-07-02 00:00:00|  2020-07-02 00:00:00|2020-12-30 00:00:00|CONTRATACION DIRECTA|PRESTACION DE SER...|CO1PCCNTR1669011|CONTRATACION DIRECTA|SERVICIO GEOLOGIC...|  899999294|     899999294|CEDULA DE CIUDADANIA|      52704871|    CAMILA SAVINE LUE...| CEDULA DE CIUDADANIA|        52704871|CAMILA SAVINE LUE...|      34792722|            34792722|PRESTAR SERVICIOS...|          PRESTAR SERVICIOS...|https://community...|      SERVICIOSPROFESIO...|           EJECUTIVO|     MINAS Y ENERGIA|     MINAS Y ENERGIA|    7|2020|\n",
      "|         MVCT8902020|     SECOP II|NO DEFINIDO| NO DEFINIDO|            ACTIVO|2020-09-08 00:00:00| 2020-09-08 00:00:00|  1900-01-01 00:00:00|2020-08-31 00:00:00|CONTRATACION DIRECTA|                OTRO|CO1PCCNTR1809538|CONTRATACION DIRECTA|MINISTERIO DE VIV...|  900463725|     900463725|                 NIT|     892301761|    ALCALDIA DE MANAU...|                  NIT|       892301761|ALCALDIA DE MANAU...|             0|                   0|AUNAR ESFUERZOS E...|          AUNAR ESFUERZOS E...|https://community...|      CONTRATOSCONVENIO...|           EJECUTIVO|VIVIENDA CIUDAD Y...|VIVIENDA CIUDAD Y...|    9|2020|\n",
      "|     CO1PCCNTR646012|     SECOP II|NO DEFINIDO| NO DEFINIDO|          BORRADOR|1900-01-01 00:00:00| 1900-01-01 00:00:00|  1900-01-01 00:00:00|1900-01-01 00:00:00|CONTRATACION MINI...|PRESTACION DE SER...| CO1PCCNTR646012|      MINIMA CUANTIA|MINISTERIO DE VIV...|  900463725|     900463725|                 NIT|    9006270609|    ALL TECHNOLOGICAL...|                  NIT|      9006270609|ALL TECHNOLOGICAL...|       1500000|             1500000|REALIZAR EL MANTE...|          REALIZAR EL MANTE...|https://community...|      PRESUPUESTO INFER...|           EJECUTIVO|VIVIENDA CIUDAD Y...|VIVIENDA CIUDAD Y...|    1|1900|\n",
      "|     CO1PCCNTR998615|     SECOP II|     BOGOTA|      BOGOTA| ENVIADO PROVEEDOR|1900-01-01 00:00:00| 1900-01-01 00:00:00|  2019-06-18 00:00:00|2019-12-18 00:00:00| CONCURSO DE MERITOS|         CONSULTORIA| CO1PCCNTR998615|CONCURSO DE MERIT...|INSTITUTO NACIONA...|  800215807|     800215807|         NO DEFINIDO|          null|       CONSORCIO VIAL 19|          NO DEFINIDO|            null|   CONSORCIO VIAL 19|     213479098|           213479098|ADMINISTRACION VI...|          ADMINISTRACION VI...|https://community...|          LEY 1150 DE 2007|           EJECUTIVO|          TRANSPORTE|          TRANSPORTE|    1|2019|\n",
      "|        2018 DE 2019|     SECOP II|     BOGOTA|      BOGOTA|        MODIFICADO|2020-01-15 00:00:00| 2020-01-15 00:00:00|  2019-11-08 00:00:00|2020-12-22 00:00:00| CONCURSO DE MERITOS|       INTERVENTORIA|CO1PCCNTR1161637|CONCURSO DE MERIT...|INSTITUTO NACIONA...|  800215807|     800215807|         NO DEFINIDO|          null|       CONSORCIO DUITAMA|          NO DEFINIDO|            null|   CONSORCIO DUITAMA|     337250405|           337250405|INTERVENTORIA PAR...|          INTERVENTORIA PAR...|https://community...|          LEY 1150 DE 2007|           EJECUTIVO|          TRANSPORTE|          TRANSPORTE|    1|2020|\n",
      "+--------------------+-------------+-----------+------------+------------------+-------------------+--------------------+---------------------+-------------------+--------------------+--------------------+----------------+--------------------+--------------------+-----------+--------------+--------------------+--------------+------------------------+---------------------+----------------+--------------------+--------------+--------------------+--------------------+------------------------------+--------------------+--------------------------+--------------------+--------------------+--------------------+-----+----+\n",
      "only showing top 20 rows\n",
      "\n"
     ]
    }
   ],
   "source": [
    "infraestructura_categorias = [\n",
    "    \"VIVIENDA CIUDAD Y TERRITORIO\",\n",
    "    \"TRANSPORTE\",\n",
    "    \"MINAS Y ENERGIA\",\n",
    "    \"AMBIENTE Y DESARROLLO SOSTENIBLE\"\n",
    "]\n",
    "\n",
    "infraestructura_df = paco_secop_df.filter(paco_secop_df.NOMBRE_FAMILIA.isin(infraestructura_categorias))\n",
    "\n",
    "infraestructura_df.show()"
   ]
  },
  {
   "cell_type": "code",
   "execution_count": 5,
   "metadata": {},
   "outputs": [
    {
     "name": "stdout",
     "output_type": "stream",
     "text": [
      "23/04/12 06:54:56 WARN SparkSession: Using an existing Spark session; only runtime SQL configurations will take effect.\n"
     ]
    },
    {
     "name": "stderr",
     "output_type": "stream",
     "text": [
      "                                                                                \r"
     ]
    },
    {
     "name": "stdout",
     "output_type": "stream",
     "text": [
      "Total de registros: 116325\n"
     ]
    },
    {
     "name": "stderr",
     "output_type": "stream",
     "text": [
      "                                                                                \r"
     ]
    },
    {
     "name": "stdout",
     "output_type": "stream",
     "text": [
      "\n",
      "Conteo de registros nulos por columna:\n",
      "REFERENCIA_CONTRATO: 16\n",
      "BASE_DE_DATOS: 0\n",
      "MUNICIPIO: 0\n",
      "DEPARTAMENTO: 0\n",
      "ESTADO_DEL_PROCESO: 0\n",
      "FECHA_CARGUE_SECOP: 0\n",
      "FECHA_FIRMA_CONTRATO: 0\n",
      "FECHA_INICIO_CONTRATO: 0\n",
      "FECHA_FIN_CONTRATO: 0\n",
      "CLASE_PROCESO: 2620\n",
      "TIPO_PROCESO: 0\n",
      "ID_PROCESO: 0\n",
      "TIPO_CONTRATO: 0\n",
      "NOMBRE_ENTIDAD: 0\n",
      "NIT_ENTIDAD: 0\n",
      "CODIGO_ENTIDAD: 0\n",
      "TIPO_ID_CONTRATISTA: 0\n",
      "ID_CONTRATISTA: 3745\n",
      "RAZON_SOCIAL_CONTRATISTA: 1\n",
      "TIPO_ID_REPRESENTANTE: 0\n",
      "ID_REPRESENTANTE: 3745\n",
      "NOMBRE_REPRESENTANTE: 1\n",
      "VALOR_CONTRATO: 0\n",
      "VALOR_TOTAL_CONTRATO: 0\n",
      "OBJETO_A_CONTRATAR: 0\n",
      "DETALLE_DEL_OBJETO_A_CONTRATAR: 0\n",
      "URL_PROCESO: 0\n",
      "JUSTIFICACION_CONTRATACION: 0\n",
      "NOMBRE_GRUPO: 0\n",
      "NOMBRE_FAMILIA: 0\n",
      "NOMBRE_CLASE: 0\n",
      "month: 0\n",
      "year: 0\n",
      "\n",
      "Conteo de registros duplicados: 1\n"
     ]
    },
    {
     "name": "stderr",
     "output_type": "stream",
     "text": [
      "                                                                                \r"
     ]
    },
    {
     "name": "stdout",
     "output_type": "stream",
     "text": [
      "\n",
      "Estadísticas descriptivas para columnas numéricas:\n",
      "min:\n",
      "  NIT_ENTIDAD: 800002916\n",
      "  CODIGO_ENTIDAD: 800002916\n",
      "  VALOR_CONTRATO: 0\n",
      "  VALOR_TOTAL_CONTRATO: 0\n",
      "  month: 1\n",
      "  year: 1900\n",
      "max:\n",
      "  NIT_ENTIDAD: 9008529985\n",
      "  CODIGO_ENTIDAD: 9008529985\n",
      "  VALOR_CONTRATO: 417912160410000\n",
      "  VALOR_TOTAL_CONTRATO: 417912160410000\n",
      "  month: 12\n",
      "  year: 2021\n",
      "mean:\n",
      "  NIT_ENTIDAD: 1.5113992141226306E9\n",
      "  CODIGO_ENTIDAD: 1.5113992141226306E9\n",
      "  VALOR_CONTRATO: 1.0078002193842802E10\n",
      "  VALOR_TOTAL_CONTRATO: 1.0078002193842802E10\n",
      "  month: 4.868549323017408\n",
      "  year: 2014.5071136900924\n",
      "stddev:\n",
      "  NIT_ENTIDAD: 2.1815737385576897E9\n",
      "  CODIGO_ENTIDAD: 2.1815737385576897E9\n",
      "  VALOR_CONTRATO: 1.8765098777052305E12\n",
      "  VALOR_TOTAL_CONTRATO: 1.8765098777052305E12\n",
      "  month: 3.537922040830522\n",
      "  year: 24.67164465312655\n"
     ]
    },
    {
     "name": "stderr",
     "output_type": "stream",
     "text": [
      "                                                                                \r"
     ]
    },
    {
     "name": "stdout",
     "output_type": "stream",
     "text": [
      "\n",
      "Valores atípicos en la columna NIT_ENTIDAD: 9425\n"
     ]
    },
    {
     "name": "stderr",
     "output_type": "stream",
     "text": [
      "                                                                                \r"
     ]
    },
    {
     "name": "stdout",
     "output_type": "stream",
     "text": [
      "\n",
      "Valores atípicos en la columna CODIGO_ENTIDAD: 9425\n"
     ]
    },
    {
     "name": "stderr",
     "output_type": "stream",
     "text": [
      "                                                                                \r"
     ]
    },
    {
     "name": "stdout",
     "output_type": "stream",
     "text": [
      "\n",
      "Valores atípicos en la columna VALOR_CONTRATO: 10843\n"
     ]
    },
    {
     "name": "stderr",
     "output_type": "stream",
     "text": [
      "                                                                                \r"
     ]
    },
    {
     "name": "stdout",
     "output_type": "stream",
     "text": [
      "\n",
      "Valores atípicos en la columna VALOR_TOTAL_CONTRATO: 10843\n"
     ]
    },
    {
     "name": "stderr",
     "output_type": "stream",
     "text": [
      "                                                                                \r"
     ]
    },
    {
     "name": "stdout",
     "output_type": "stream",
     "text": [
      "\n",
      "Valores atípicos en la columna month: 0\n"
     ]
    },
    {
     "name": "stderr",
     "output_type": "stream",
     "text": [
      "[Stage 52:===================================================>     (9 + 1) / 10]\r"
     ]
    },
    {
     "name": "stdout",
     "output_type": "stream",
     "text": [
      "\n",
      "Valores atípicos en la columna year: 5154\n"
     ]
    },
    {
     "name": "stderr",
     "output_type": "stream",
     "text": [
      "                                                                                \r"
     ]
    }
   ],
   "source": [
    "pyspark_etl_functions.analyze_data_quality(infraestructura_df)"
   ]
  },
  {
   "attachments": {},
   "cell_type": "markdown",
   "metadata": {},
   "source": [
    "## ETL"
   ]
  },
  {
   "cell_type": "code",
   "execution_count": 6,
   "metadata": {},
   "outputs": [
    {
     "name": "stderr",
     "output_type": "stream",
     "text": [
      "[Stage 57:>                                                         (0 + 1) / 1]\r"
     ]
    },
    {
     "name": "stdout",
     "output_type": "stream",
     "text": [
      "+--------------------+-------------+-----------+--------------------+------------------+-------------------+--------------------+---------------------+-------------------+--------------------+--------------------+----------------+--------------------+--------------------+-----------+--------------+--------------------+--------------+------------------------+---------------------+----------------+--------------------+--------------+--------------------+--------------------+------------------------------+--------------------+--------------------------+--------------------+--------------------+--------------------+-----+----+\n",
      "| REFERENCIA_CONTRATO|BASE_DE_DATOS|  MUNICIPIO|        DEPARTAMENTO|ESTADO_DEL_PROCESO| FECHA_CARGUE_SECOP|FECHA_FIRMA_CONTRATO|FECHA_INICIO_CONTRATO| FECHA_FIN_CONTRATO|       CLASE_PROCESO|        TIPO_PROCESO|      ID_PROCESO|       TIPO_CONTRATO|      NOMBRE_ENTIDAD|NIT_ENTIDAD|CODIGO_ENTIDAD| TIPO_ID_CONTRATISTA|ID_CONTRATISTA|RAZON_SOCIAL_CONTRATISTA|TIPO_ID_REPRESENTANTE|ID_REPRESENTANTE|NOMBRE_REPRESENTANTE|VALOR_CONTRATO|VALOR_TOTAL_CONTRATO|  OBJETO_A_CONTRATAR|DETALLE_DEL_OBJETO_A_CONTRATAR|         URL_PROCESO|JUSTIFICACION_CONTRATACION|        NOMBRE_GRUPO|      NOMBRE_FAMILIA|        NOMBRE_CLASE|month|year|\n",
      "+--------------------+-------------+-----------+--------------------+------------------+-------------------+--------------------+---------------------+-------------------+--------------------+--------------------+----------------+--------------------+--------------------+-----------+--------------+--------------------+--------------+------------------------+---------------------+----------------+--------------------+--------------+--------------------+--------------------+------------------------------+--------------------+--------------------------+--------------------+--------------------+--------------------+-----+----+\n",
      "|         GGC672 2021|     SECOP II|     BOGOTA|              BOGOTA|            ACTIVO|2021-09-29 00:00:00| 2021-09-29 00:00:00|  1900-01-01 00:00:00|2041-10-10 00:00:00|                null|                OTRO|CO1PCCNTR2875503|CONTRATACION DIRE...|MINISTERIO DE MIN...|  899999022|     899999022|                 NIT|     901380930|            AIRE SAS ESP|                  NIT|       901380930|        AIRE SAS ESP|    1577290422|          1577290422| MEJORAR LA CALID...|           MEJORAR LA CALID...|https://community...|      NO EXISTE PLURALI...|           EJECUTIVO|     MINAS Y ENERGIA|     MINAS Y ENERGIA|    9|2021|\n",
      "|      IDRDCTO0352018|     SECOP II|     BOGOTA|              BOGOTA|        MODIFICADO|2018-01-18 00:00:00| 2018-01-18 00:00:00|  2018-01-17 00:00:00|2019-01-16 00:00:00|CONTRATACION DIRECTA|PRESTACION DE SER...| CO1PCCNTR294732|CONTRATACION DIRECTA|BOGOTA - INSTITUT...|  860061099|     860061099|CEDULA DE CIUDADANIA|      52847619|    RUBY YOLIMA MATEU...| CEDULA DE CIUDADANIA|        52847619|RUBY YOLIMA MATEU...|      54000000|            54000000|10 PRESTAR SERVIC...|          10 PRESTAR SERVIC...|https://community...|      SERVICIOSPROFESIO...|           EJECUTIVO|             CULTURA|             CULTURA|    1|2018|\n",
      "|    CO1PCCNTR1102339|     SECOP II|   RIONEGRO|           ANTIOQUIA|            ACTIVO|2019-09-13 00:00:00| 2019-09-13 00:00:00|  2019-09-17 00:00:00|2019-12-17 00:00:00|CONTRATACION MINI...|PRESTACION DE SER...|CO1PCCNTR1102339|      MINIMA CUANTIA|SENA REGIONAL ANT...|  899999034|     899999034|                 NIT|     900439346|    PRODUCTOS MEDICOS...|                  NIT|       900439346|PRODUCTOS MEDICOS...|      13000000|            13000000|59503380 PRESTAR ...|          59503380 PRESTAR ...|https://community...|      PRESUPUESTO INFER...|           EJECUTIVO|             TRABAJO|             TRABAJO|    9|2019|\n",
      "|    CO1PCCNTR2214514|     SECOP II|   RIONEGRO|           ANTIOQUIA|      EN EJECUCION|2021-02-03 00:00:00| 2021-02-03 00:00:00|  2021-02-03 00:00:00|2021-12-30 00:00:00|CONTRATACION DIRECTA|PRESTACION DE SER...|CO1PCCNTR2214514|CONTRATACION DIRECTA|SENA REGIONAL ANT...|  899999034|     899999034|CEDULA DE CIUDADANIA|    1036938236|    JUAN SEBASTIAN LO...| CEDULA DE CIUDADANIA|      1036938236|JUAN SEBASTIAN LO...|      30220200|            30220200|59503394 PRESTAR ...|          59503394 PRESTAR ...|https://community...|      SERVICIOSPROFESIO...|           EJECUTIVO|             TRABAJO|             TRABAJO|    2|2021|\n",
      "|       JBBCTO1722021|     SECOP II|     BOGOTA|              BOGOTA|        MODIFICADO|2021-03-03 00:00:00| 2021-03-03 00:00:00|  2021-03-04 00:00:00|2021-12-03 00:00:00|CONTRATACION DIRECTA|PRESTACION DE SER...|CO1PCCNTR2318816|CONTRATACION DIRECTA|BOGOTA - JARDIN B...|  860030197|     860030197|CEDULA DE CIUDADANIA|      39555016|           NOMBRE FELISA| CEDULA DE CIUDADANIA|        39555016|       NOMBRE FELISA|      21240000|            21240000|808947683PRESTAR ...|          808947683PRESTAR ...|https://community...|      SERVICIOSPROFESIO...|CORPORACION AUTONOMA|AMBIENTE Y DESARR...|AMBIENTE Y DESARR...|    3|2021|\n",
      "|    CO1PCCNTR2207421|     SECOP II|     BOGOTA|              BOGOTA|      EN EJECUCION|2021-02-02 00:00:00| 2021-02-02 00:00:00|  2021-02-03 00:00:00|2021-07-31 00:00:00|CONTRATACION DIRECTA|PRESTACION DE SER...|CO1PCCNTR2207421|CONTRATACION DIRECTA|DEPARTAMENTO ADMI...|  899999027|     899999027|CEDULA DE CIUDADANIA|    1013581766|    LEIDY JOHANNA MOI...| CEDULA DE CIUDADANIA|      1013581766|LEIDY JOHANNA MOI...|      18936000|            18936000|99049633CENSOECON...|          99049633CENSOECON...|https://community...|      SERVICIOSPROFESIO...|           EJECUTIVO|INFORMACION ESTAD...|INFORMACION ESTAD...|    2|2021|\n",
      "|            12962021|     SECOP II|     BOGOTA|              BOGOTA|         TERMINADO|2021-03-26 00:00:00| 2021-03-26 00:00:00|  2021-03-26 00:00:00|2021-12-30 00:00:00|CONTRATACION DIRECTA|PRESTACION DE SER...|CO1PCCNTR2387047|CONTRATACION DIRECTA|MINISTERIO DE CUL...|  830034348|     830034348|CEDULA DE CIUDADANIA|      35505168|    MARIA FERNANDA SA...| CEDULA DE CIUDADANIA|        35505168|MARIA FERNANDA SA...|     101539167|           101539167|ACOMPAÑAR AL VICE...|          ACOMPAÑAR AL VICE...|https://community...|      SERVICIOSPROFESIO...|           EJECUTIVO|             CULTURA|             CULTURA|    3|2021|\n",
      "|    CO1PCCNTR1327113|     SECOP II|     BOGOTA|              BOGOTA|            ACTIVO|2020-02-26 00:00:00| 2020-02-26 00:00:00|  2020-02-28 00:00:00|2021-02-27 00:00:00|                null|         COMPRAVENTA|CO1PCCNTR1327113|CONTRATACION DIRE...|BOGOTA - CONTRALORIA|  800245133|     800245133|                 NIT|    8600010227|    CASA EDITORIAL EL...|                  NIT|      8600010227|CASA EDITORIAL EL...|       1053800|             1053800|ADQUISICION DE A ...|          ADQUISICION DE A ...|https://community...|      NO EXISTE PLURALI...|CORPORACION AUTONOMA|NO APLICANO PERTE...|NO APLICANO PERTE...|    2|2020|\n",
      "|         147 DE 2019|     SECOP II|     BOGOTA|              BOGOTA|        MODIFICADO|2019-08-28 00:00:00| 2019-08-28 00:00:00|  2019-08-21 00:00:00|2019-10-18 00:00:00|CONTRATACION MINI...|         COMPRAVENTA|CO1PCCNTR1075102|      MINIMA CUANTIA|INSTITUTO NACIONA...|  800215546|     800215546|                 NIT|     830146283|          MOVITRONIC SAS|                  NIT|       830146283|      MOVITRONIC SAS|       4800000|             4800000|ADQUISICION DE BI...|          ADQUISICION DE BI...|https://community...|      PRESUPUESTO INFER...|CORPORACION AUTONOMA|NO APLICANO PERTE...|NO APLICANO PERTE...|    8|2019|\n",
      "|     0084ARCCBN12020|     SECOP II|  CARTAGENA|             BOLIVAR|      EN EJECUCION|2020-09-01 00:00:00| 2020-09-01 00:00:00|  2020-09-01 00:00:00|2020-09-30 00:00:00|CONTRATACION MINI...|         COMPRAVENTA|CO1PCCNTR1799271|      MINIMA CUANTIA|ARMADA NACIONAL B...|  800141645|     800141645|                 NIT|     901188686|    DISTRIBUIDORA MAE...|                  NIT|       901188686|DISTRIBUIDORA MAE...|       2394000|             2394000|ADQUISICION DE CA...|          ADQUISICION DE CA...|https://community...|      PRESUPUESTO INFER...|           EJECUTIVO|             DEFENSA|             DEFENSA|    9|2020|\n",
      "|038  CENAC REGION...|     SECOP II|  FLORENCIA|             CAQUETA|            ACTIVO|2020-04-24 00:00:00| 2020-04-24 00:00:00|  2020-04-22 00:00:00|2020-05-01 00:00:00|CONTRATACION DIRECTA|         COMPRAVENTA|CO1PCCNTR1514776|CONTRATACION DIRECTA|CENTRAL ADMINISTR...|  808001433|     808001433|                 NIT|     900304743|    COMPAÑIA LIDER DE...|                  NIT|       900304743|COMPAÑIA LIDER DE...|       2628000|             2628000|ADQUISICION DE EL...|          ADQUISICION DE EL...|https://community...|       URGENCIA MANIFIESTA|           EJECUTIVO|             DEFENSA|             DEFENSA|    4|2020|\n",
      "|044CENACONVENIOS2021|     SECOP II|     BOGOTA|              BOGOTA|      EN EJECUCION|2021-07-08 00:00:00| 2021-07-08 00:00:00|  2021-07-12 00:00:00|2021-09-11 00:00:00|             SUBASTA|         COMPRAVENTA|CO1PCCNTR2635215|SELECCION ABREVIA...|CENTRAL ADMINISTR...|  900973540|     900973540|                 NIT|     830146283|          MOVITRONIC SAS|                  NIT|       830146283|      MOVITRONIC SAS|      91171610|            91171610|ADQUISICION DE EQ...|          ADQUISICION DE EQ...|https://community...|      SUMINISTRO DE BIE...|           EJECUTIVO|             DEFENSA|             DEFENSA|    7|2021|\n",
      "|      031ARCCBN42020|     SECOP II|NO DEFINIDO|SAN ANDRES PROVID...|      EN EJECUCION|2020-06-23 00:00:00| 2020-06-23 00:00:00|  2020-07-07 00:00:00|2020-11-20 00:00:00|CONTRATACION MINI...|         SUMINISTROS|CO1PCCNTR1642886|      MINIMA CUANTIA|ARMADA NACIONAL B...|  800141656|     800141656|                 NIT|    9004093813|    AGUA Y TIERRA LOG...|                  NIT|      9004093813|AGUA Y TIERRA LOG...|      26974437|            26974437|ADQUISICION DE HE...|          ADQUISICION DE HE...|https://community...|      PRESUPUESTO INFER...|           EJECUTIVO|             DEFENSA|             DEFENSA|    6|2020|\n",
      "|         CTO06712018|     SECOP II|     BOGOTA|              BOGOTA|         TERMINADO|2018-05-23 00:00:00| 2018-05-23 00:00:00|  2018-05-22 00:00:00|2018-08-30 00:00:00|SELECCION ABREVIA...|         COMPRAVENTA| CO1PCCNTR418553|SELECCION ABREVIA...|FONDO ROTATORIO D...|  860020227|     860020227|                 NIT|     800145548|     AB SEÑALIZACION SAS|                  NIT|       800145548| AB SEÑALIZACION SAS|      92263080|            92263080|ADQUISICION DE IN...|          ADQUISICION DE IN...|https://community...|      PRESUPUESTO MENOR...|           EJECUTIVO|             DEFENSA|             DEFENSA|    5|2018|\n",
      "|COMUNICACION DE A...|     SECOP II|       NILO|        CUNDINAMARCA|           CERRADO|2018-12-19 00:00:00| 2018-12-19 00:00:00|  2018-12-17 00:00:00|2018-12-27 00:00:00|CONTRATACION MINI...|         COMPRAVENTA| CO1PCCNTR692092|      MINIMA CUANTIA|CENTRAL ADMINISTR...|  800131049|     800131049|                 NIT|     860030360|    FERRETERIA FORERO SA|                  NIT|       860030360|FERRETERIA FORERO SA|      68386449|            68386449|ADQUISICION DE MA...|          ADQUISICION DE MA...|https://community...|      PRESUPUESTO INFER...|           EJECUTIVO|             DEFENSA|             DEFENSA|   12|2018|\n",
      "|02300HCACOM5GRUSE...|     SECOP II|NO DEFINIDO|           ANTIOQUIA|      EN EJECUCION|2021-06-15 00:00:00| 2021-06-15 00:00:00|  2021-06-23 00:00:00|2021-07-20 00:00:00|CONTRATACION MINI...|         COMPRAVENTA|CO1PCCNTR2588216|      MINIMA CUANTIA|COMANDO AEREO DE ...|  800141633|     800141633|                 NIT|     860513624|    INGENIERIA DE PRO...|                  NIT|       860513624|INGENIERIA DE PRO...|       8506239|             8506239|ADQUISICION DE MA...|          ADQUISICION DE MA...|https://community...|      PRESUPUESTO INFER...|           EJECUTIVO|             DEFENSA|             DEFENSA|    6|2021|\n",
      "|         398 DE 2018|     SECOP II|     BOGOTA|              BOGOTA|            ACTIVO|2018-05-28 00:00:00| 2018-05-28 00:00:00|  2018-05-25 00:00:00|2018-06-24 00:00:00|CONTRATACION MINI...|         COMPRAVENTA| CO1PCCNTR421905|      MINIMA CUANTIA|MINISTERIO DEL TR...|  830115226|     830115226|                 NIT|     900020751|    PANDAID SOLUCIONE...|                  NIT|       900020751|PANDAID SOLUCIONE...|       6291173|             6291173|ADQUISICION DE UN...|          ADQUISICION DE UN...|https://community...|      PRESUPUESTO INFER...|           EJECUTIVO|             TRABAJO|             TRABAJO|    5|2018|\n",
      "|           001992019|     SECOP II|     BOGOTA|              BOGOTA|            ACTIVO|2019-10-29 00:00:00| 2019-10-29 00:00:00|  2019-11-01 00:00:00|2019-11-30 00:00:00|             SUBASTA|         COMPRAVENTA|CO1PCCNTR1156816|SELECCION ABREVIA...|DIRECCION DE IMPU...|  800197268|     800197268|                 NIT|     900443044|      SAFETY IN DEEP SAS|                  NIT|       900443044|  SAFETY IN DEEP SAS|    1448953170|          1448953170|ADQUISICION DEL D...|          ADQUISICION DEL D...|https://community...|      SUMINISTRO DE BIE...|           EJECUTIVO|HACIENDA Y CREDIT...|HACIENDA Y CREDIT...|   10|2019|\n",
      "|        110CNT171198|     SECOP II|   MEDELLIN|           ANTIOQUIA|            ACTIVO|2018-08-08 00:00:00| 2018-08-08 00:00:00|  2017-11-24 00:00:00|2018-01-24 00:00:00|SELECCION ABREVIA...|         SUMINISTROS| CO1PCCNTR501912|SELECCION ABREVIA...|CORANTIOQUIA - CO...|  811000231|     811000231|                 NIT|     830034462|    INNOVACION TECNOL...|                  NIT|       830034462|INNOVACION TECNOL...|     176120000|           176120000|ADQUISICION E INS...|          ADQUISICION E INS...|https://community...|      PRESUPUESTO MENOR...|CORPORACION AUTONOMA|AMBIENTE Y DESARR...|AMBIENTE Y DESARR...|    8|2018|\n",
      "|          0110432020|     SECOP II|     BOGOTA|              BOGOTA|         TERMINADO|2020-07-03 00:00:00| 2020-07-03 00:00:00|  2020-07-03 00:00:00|2020-10-24 00:00:00|             SUBASTA|                OTRO|CO1PCCNTR1652769|SELECCION ABREVIA...|AGENCIA LOGISTICA...|  899999162|     899999162|                 NIT|     900126632|          LIMACOR MY SAS|                  NIT|       900126632|      LIMACOR MY SAS|      76819956|            76819956|ADQUISICION E INS...|          ADQUISICION E INS...|https://community...|      SUMINISTRO DE BIE...|           EJECUTIVO|             DEFENSA|             DEFENSA|    7|2020|\n",
      "+--------------------+-------------+-----------+--------------------+------------------+-------------------+--------------------+---------------------+-------------------+--------------------+--------------------+----------------+--------------------+--------------------+-----------+--------------+--------------------+--------------+------------------------+---------------------+----------------+--------------------+--------------+--------------------+--------------------+------------------------------+--------------------+--------------------------+--------------------+--------------------+--------------------+-----+----+\n",
      "only showing top 20 rows\n",
      "\n"
     ]
    },
    {
     "name": "stderr",
     "output_type": "stream",
     "text": [
      "                                                                                \r"
     ]
    }
   ],
   "source": [
    "columnas_referencia = ['REFERENCIA_CONTRATO']\n",
    "infraestructura_df_limpio = pyspark_etl_functions.limpiar_nulos_y_duplicados(paco_secop_df, columnas_referencia)\n",
    "infraestructura_df_limpio.show()"
   ]
  },
  {
   "cell_type": "code",
   "execution_count": 7,
   "metadata": {},
   "outputs": [
    {
     "name": "stderr",
     "output_type": "stream",
     "text": [
      "[Stage 58:===================================================>     (9 + 1) / 10]\r"
     ]
    },
    {
     "name": "stdout",
     "output_type": "stream",
     "text": [
      "+--------------------+-------------+-------------+--------------------+------------------+-------------------+--------------------+---------------------+-------------------+--------------------+--------------------+----------------+--------------------+--------------------+-----------+--------------+--------------------+--------------+------------------------+---------------------+----------------+--------------------+--------------+--------------------+--------------------+------------------------------+--------------------+--------------------------+--------------------+--------------------+--------------------+-----+----+\n",
      "| REFERENCIA_CONTRATO|BASE_DE_DATOS|    MUNICIPIO|        DEPARTAMENTO|ESTADO_DEL_PROCESO| FECHA_CARGUE_SECOP|FECHA_FIRMA_CONTRATO|FECHA_INICIO_CONTRATO| FECHA_FIN_CONTRATO|       CLASE_PROCESO|        TIPO_PROCESO|      ID_PROCESO|       TIPO_CONTRATO|      NOMBRE_ENTIDAD|NIT_ENTIDAD|CODIGO_ENTIDAD| TIPO_ID_CONTRATISTA|ID_CONTRATISTA|RAZON_SOCIAL_CONTRATISTA|TIPO_ID_REPRESENTANTE|ID_REPRESENTANTE|NOMBRE_REPRESENTANTE|VALOR_CONTRATO|VALOR_TOTAL_CONTRATO|  OBJETO_A_CONTRATAR|DETALLE_DEL_OBJETO_A_CONTRATAR|         URL_PROCESO|JUSTIFICACION_CONTRATACION|        NOMBRE_GRUPO|      NOMBRE_FAMILIA|        NOMBRE_CLASE|month|year|\n",
      "+--------------------+-------------+-------------+--------------------+------------------+-------------------+--------------------+---------------------+-------------------+--------------------+--------------------+----------------+--------------------+--------------------+-----------+--------------+--------------------+--------------+------------------------+---------------------+----------------+--------------------+--------------+--------------------+--------------------+------------------------------+--------------------+--------------------------+--------------------+--------------------+--------------------+-----+----+\n",
      "|    CDSECGRAL1692021|     SECOP II|    CARTAGENA|             BOLIVAR|        MODIFICADO|2021-01-19 00:00:00| 2021-01-19 00:00:00|  2021-01-20 00:00:00|2021-07-19 00:00:00|CONTRATACION DIRECTA|PRESTACION DE SER...|CO1PCCNTR2137589|CONTRATACION DIRECTA|BOLIVAR - CARTAGE...|  890480184|     890480184|CEDULA DE CIUDADANIA|    1047403306|    SANDRA MARCELA ME...| CEDULA DE CIUDADANIA|      1047403306|SANDRA MARCELA ME...|      27000000|            27000000|PRESTACION DE SER...|          PRESTACION DE SER...|https://community...|      SERVICIOSPROFESIO...|           EJECUTIVO|NO APLICANO PERTE...|NO APLICANO PERTE...|    1|2021|\n",
      "|            70092021|     SECOP II|       BOGOTA|              BOGOTA|      EN EJECUCION|2021-09-01 00:00:00| 2021-09-01 00:00:00|  2021-09-01 00:00:00|2021-11-30 00:00:00|    REGIMEN ESPECIAL|PRESTACION DE SER...|CO1PCCNTR2807716|CONTRATACION REGI...|BOGOTA - SUBRED I...|  900958564|     900958564|CEDULA DE CIUDADANIA|      52229239|    SANDRA YOLANDA BU...| CEDULA DE CIUDADANIA|        52229239|SANDRA YOLANDA BU...|       6697326|             6697326|PRESTAR SERVICIOS...|          PRESTAR SERVICIOS...|https://community...|           REGLA APLICABLE|           EJECUTIVO|SALUD Y PROTECCIO...|SALUD Y PROTECCIO...|    9|2021|\n",
      "|    CO1PCCNTR2239141|     SECOP II|  NO DEFINIDO|             CAQUETA|      EN EJECUCION|2021-02-09 00:00:00| 2021-02-09 00:00:00|  2021-02-15 00:00:00|2021-12-18 00:00:00|CONTRATACION DIRECTA|PRESTACION DE SER...|CO1PCCNTR2239141|CONTRATACION DIRECTA|SENA REGIONAL CAQ...|  899999034|     899999034|CEDULA DE CIUDADANIA|      40078772|    ANGELA MARIA ROJA...| CEDULA DE CIUDADANIA|        40078772|ANGELA MARIA ROJA...|      42280000|            42280000|PRESTAR LOS  SERV...|          PRESTAR LOS  SERV...|https://community...|      SERVICIOSPROFESIO...|           EJECUTIVO|             TRABAJO|             TRABAJO|    2|2021|\n",
      "|    CO1PCCNTR2628519|     SECOP II|      DUITAMA|              BOYACA|      EN EJECUCION|2021-06-30 00:00:00| 2021-06-30 00:00:00|  2021-06-30 00:00:00|2021-06-30 00:00:00|CONTRATACION DIRECTA|PRESTACION DE SER...|CO1PCCNTR2628519|CONTRATACION DIRECTA|BOYACA - DUITAMA ...|  891855138|     891855138|CEDULA DE CIUDADANIA|      46664169|    LUZ STELLA PACHEC...| CEDULA DE CIUDADANIA|        46664169|LUZ STELLA PACHEC...|      11034000|            11034000|PRESTACION DE SER...|          PRESTACION DE SER...|https://community...|      SERVICIOSPROFESIO...|           EJECUTIVO|    SERVICIO PUBLICO|    SERVICIO PUBLICO|    6|2021|\n",
      "|         CCS10202021|     SECOP II|       BOGOTA|              BOGOTA|            ACTIVO|2021-09-06 00:00:00| 2021-09-06 00:00:00|  1900-01-01 00:00:00|2021-12-31 00:00:00| CONCURSO DE MERITOS|         CONSULTORIA|CO1PCCNTR2749131|CONCURSO DE MERIT...|MINISTERIO DEL DE...|  899999306|     899999306|                 NIT|     830028126|    RMCONSTRUCCIONES ...|                  NIT|       830028126|RMCONSTRUCCIONES ...|     110825697|           110825697|INTERVENTORIA TEC...|          INTERVENTORIA TEC...|https://community...|          LEY 1150 DE 2007|           EJECUTIVO|            DEPORTES|            DEPORTES|    9|2021|\n",
      "|        202100000063|     SECOP II|  NO DEFINIDO|             CAQUETA|      EN EJECUCION|2021-02-19 00:00:00| 2021-02-19 00:00:00|  2021-02-23 00:00:00|2021-10-31 00:00:00|CONTRATACION DIRECTA|PRESTACION DE SER...|CO1PCCNTR2278556|CONTRATACION DIRECTA|CAQUETA - GOBERNA...|  800091594|     800091594|CEDULA DE CIUDADANIA|      17635270|    ARMANDO PARRA MEDINA| CEDULA DE CIUDADANIA|        17635270|ARMANDO PARRA MEDINA|      28016000|            28016000|PRESTAR LOS SERVI...|          PRESTAR LOS SERVI...|https://community...|      SERVICIOSPROFESIO...|           EJECUTIVO|NO APLICANO PERTE...|NO APLICANO PERTE...|    2|2021|\n",
      "|        0602 DE 2021|     SECOP II|VILLAVICENCIO|                META|         TERMINADO|2021-03-10 00:00:00| 2021-03-10 00:00:00|  2021-03-10 00:00:00|2021-08-09 00:00:00|CONTRATACION DIRECTA|PRESTACION DE SER...|CO1PCCNTR2331611|CONTRATACION DIRECTA|DEPARTAMENTO DEL ...| 8920001488|    8920001488|CEDULA DE CIUDADANIA|    1121855673|    EMILIANO BAQUERO ...| CEDULA DE CIUDADANIA|      1121855673|EMILIANO BAQUERO ...|      16430000|            16430000|FORTALECIMIENTO D...|          FORTALECIMIENTO D...|https://community...|      SERVICIOSPROFESIO...|           EJECUTIVO|    SERVICIO PUBLICO|    SERVICIO PUBLICO|    3|2021|\n",
      "|          BOG3372021|     SECOP II|       BOGOTA|              BOGOTA|      EN EJECUCION|2021-03-01 00:00:00| 2021-03-01 00:00:00|  2021-03-02 00:00:00|2021-11-02 00:00:00|CONTRATACION DIRECTA|PRESTACION DE SER...|CO1PCCNTR2306565|CONTRATACION DIRECTA|ESAP SEDE CENTRAL...|  899999054|     899999054|CEDULA DE CIUDADANIA|    1069727208|     ELIANA PRIETO PARRA| CEDULA DE CIUDADANIA|      1069727208| ELIANA PRIETO PARRA|      32000000|            32000000|PRESTAR SERVICIOS...|          PRESTAR SERVICIOS...|https://community...|      SERVICIOSPROFESIO...|           EJECUTIVO|    SERVICIO PUBLICO|    SERVICIO PUBLICO|    3|2021|\n",
      "|            41542021|     SECOP II|       BOGOTA|              BOGOTA|        MODIFICADO|2021-03-06 00:00:00| 2021-03-06 00:00:00|  2021-03-06 00:00:00|2021-10-31 00:00:00|    REGIMEN ESPECIAL|PRESTACION DE SER...|CO1PCCNTR2328171|CONTRATACION REGI...|BOGOTA - SUBRED I...|  900958564|     900958564|CEDULA DE CIUDADANIA|    1030588338|    DIANA MILENA SAND...| CEDULA DE CIUDADANIA|      1030588338|DIANA MILENA SAND...|      15298677|            15298677|PRESTAR SERVICIOS...|          PRESTAR SERVICIOS...|https://community...|           REGLA APLICABLE|           EJECUTIVO|SALUD Y PROTECCIO...|SALUD Y PROTECCIO...|    3|2021|\n",
      "|            22382021|     SECOP II|      POPAYAN|               CAUCA|      EN EJECUCION|2021-09-24 00:00:00| 2021-09-24 00:00:00|  2021-09-28 00:00:00|2021-12-31 00:00:00|CONTRATACION DIRECTA|PRESTACION DE SER...|CO1PCCNTR2851124|CONTRATACION DIRECTA| CAUCA - GOBERNACION|  891580016|     891580016|CEDULA DE CIUDADANIA|    1062283434|    SANTIAGO SIERRA S...| CEDULA DE CIUDADANIA|      1062283434|SANTIAGO SIERRA S...|      14660000|            14660000|     SIN DESCRIPCION|               SIN DESCRIPCION|https://community...|      SERVICIOSPROFESIO...|           EJECUTIVO|    SERVICIO PUBLICO|    SERVICIO PUBLICO|    9|2021|\n",
      "|CMACD259890834362021|     SECOP II|     MEDELLIN|           ANTIOQUIA|      EN EJECUCION|2021-08-06 00:00:00| 2021-08-06 00:00:00|  2021-08-06 00:00:00|2021-12-31 00:00:00|CONTRATACION DIRECTA|PRESTACION DE SER...|CO1PCCNTR2733858|CONTRATACION DIRECTA|ANTIOQUIA - INSTI...|  890980134|     890980134|CEDULA DE CIUDADANIA|      71366672|    ANDRES ESTEBAN RI...| CEDULA DE CIUDADANIA|        71366672|ANDRES ESTEBAN RI...|      23771493|            23771493|EL CONTRATISTA DE...|          EL CONTRATISTA DE...|https://community...|      SERVICIOSPROFESIO...|           EJECUTIVO|  EDUCACION NACIONAL|  EDUCACION NACIONAL|    8|2021|\n",
      "|          CPS3642021|     SECOP II|         CHIA|        CUNDINAMARCA|      EN EJECUCION|2021-04-21 00:00:00| 2021-04-21 00:00:00|  2021-04-22 00:00:00|2021-11-21 00:00:00|CONTRATACION DIRECTA|PRESTACION DE SER...|CO1PCCNTR2448434|CONTRATACION DIRECTA|CUNDINAMARCA - CH...|  899999172|     899999172|CEDULA DE CIUDADANIA|      35477302|    LUZ MERY PAEZ MOR...| CEDULA DE CIUDADANIA|        35477302|LUZ MERY PAEZ MOR...|      14000000|            14000000|PRESTACION DE SER...|          PRESTACION DE SER...|https://community...|      SERVICIOSPROFESIO...|           EJECUTIVO|    SERVICIO PUBLICO|    SERVICIO PUBLICO|    4|2021|\n",
      "|    CO1PCCNTR2670534|     SECOP II|      CALARCA|             QUINDIO|      EN EJECUCION|2021-07-14 00:00:00| 2021-07-14 00:00:00|  2021-07-15 00:00:00|2021-10-14 00:00:00|CONTRATACION DIRECTA|                OTRO|CO1PCCNTR2670534|CONTRATACION DIRECTA|QUINDIO - CALARCA...|  890000441|     890000441|CEDULA DE CIUDADANIA|      41948091|    FRANCILENY CABALL...| CEDULA DE CIUDADANIA|        41948091|FRANCILENY CABALL...|             0|                   0|APOYO A LA SECRET...|          APOYO A LA SECRET...|https://community...|      CONTRATOSCONVENIO...|           EJECUTIVO|NO APLICANO PERTE...|NO APLICANO PERTE...|    7|2021|\n",
      "|       4112060261024|     SECOP II|         CALI|     VALLE DEL CAUCA|      EN EJECUCION|2021-01-24 00:00:00| 2021-01-24 00:00:00|  2021-01-26 00:00:00|2021-04-30 00:00:00|CONTRATACION DIRECTA|PRESTACION DE SER...|CO1PCCNTR2166026|CONTRATACION DIRECTA|SANTIAGO DE CALI ...|  890399011|     890399011|CEDULA DE CIUDADANIA|    1143850087|    LINA MARCELA ARTU...| CEDULA DE CIUDADANIA|      1143850087|LINA MARCELA ARTU...|      14092000|            14092000|PRESTAR LOS SERVI...|          PRESTAR LOS SERVI...|https://community...|      SERVICIOSPROFESIO...|CORPORACION AUTONOMA|NO APLICANO PERTE...|NO APLICANO PERTE...|    1|2021|\n",
      "|            20112021|     SECOP II|      POPAYAN|               CAUCA|      EN EJECUCION|2021-08-09 00:00:00| 2021-08-09 00:00:00|  2021-08-10 00:00:00|2021-12-24 00:00:00|CONTRATACION DIRECTA|PRESTACION DE SER...|CO1PCCNTR2738108|CONTRATACION DIRECTA| CAUCA - GOBERNACION|  891580016|     891580016|CEDULA DE CIUDADANIA|       6393647|    JULIAN CAMILO PAZ...| CEDULA DE CIUDADANIA|         6393647|JULIAN CAMILO PAZ...|      15660000|            15660000|PRESTAR SERVICIOS...|          PRESTAR SERVICIOS...|https://community...|      SERVICIOSPROFESIO...|           EJECUTIVO|    SERVICIO PUBLICO|    SERVICIO PUBLICO|    8|2021|\n",
      "|      PLA1314PSP2021|     SECOP II|      ARMENIA|             QUINDIO|      EN EJECUCION|2021-06-24 00:00:00| 2021-06-24 00:00:00|  2021-06-24 00:00:00|2021-09-21 00:00:00|CONTRATACION DIRECTA|PRESTACION DE SER...|CO1PCCNTR2614508|CONTRATACION DIRECTA|QUINDIO - GOBERNA...|  890001639|     890001639|CEDULA DE CIUDADANIA|       7559535|    HENRY JARAMILLO G...| CEDULA DE CIUDADANIA|         7559535|HENRY JARAMILLO G...|       8655000|             8655000|PRESTACION DE SER...|          PRESTACION DE SER...|https://community...|      SERVICIOSPROFESIO...|           EJECUTIVO|NO APLICANO PERTE...|NO APLICANO PERTE...|    6|2021|\n",
      "|           IND210053|     SECOP II|         CALI|     VALLE DEL CAUCA|      EN EJECUCION|2021-04-27 00:00:00| 2021-04-27 00:00:00|  2021-04-29 00:00:00|2021-08-31 00:00:00|CONTRATACION DIRECTA|PRESTACION DE SER...|CO1PCCNTR2466616|CONTRATACION DIRECTA|INSTITUTO DEL DEP...|  805012896|     805012896|CEDULA DE CIUDADANIA|      16684061|       JUAN CARLOS PRADO| CEDULA DE CIUDADANIA|        16684061|   JUAN CARLOS PRADO|       7916000|             7916000|PRESTACION DE SER...|          PRESTACION DE SER...|https://community...|      SERVICIOSPROFESIO...|           EJECUTIVO|            DEPORTES|            DEPORTES|    4|2021|\n",
      "|    CO1PCCNTR2207421|     SECOP II|       BOGOTA|              BOGOTA|      EN EJECUCION|2021-02-02 00:00:00| 2021-02-02 00:00:00|  2021-02-03 00:00:00|2021-07-31 00:00:00|CONTRATACION DIRECTA|PRESTACION DE SER...|CO1PCCNTR2207421|CONTRATACION DIRECTA|DEPARTAMENTO ADMI...|  899999027|     899999027|CEDULA DE CIUDADANIA|    1013581766|    LEIDY JOHANNA MOI...| CEDULA DE CIUDADANIA|      1013581766|LEIDY JOHANNA MOI...|      18936000|            18936000|99049633CENSOECON...|          99049633CENSOECON...|https://community...|      SERVICIOSPROFESIO...|           EJECUTIVO|INFORMACION ESTAD...|INFORMACION ESTAD...|    2|2021|\n",
      "|    CO1PCCNTR2608311|     SECOP II|   SAN ANDRES|SAN ANDRES PROVID...|      EN EJECUCION|2021-06-25 00:00:00| 2021-06-25 00:00:00|  2021-06-28 00:00:00|2021-10-27 00:00:00|CONTRATACION DIRECTA|PRESTACION DE SER...|CO1PCCNTR2608311|CONTRATACION DIRECTA|GOBERNACION DEL D...|  892400038|     892400038|CEDULA DE CIUDADANIA|    1123635974|    ANDERSON SMITH CH...| CEDULA DE CIUDADANIA|      1123635974|ANDERSON SMITH CH...|       9204384|             9204384|PRESTAR SUS SERVI...|          PRESTAR SUS SERVI...|https://community...|      SERVICIOSPROFESIO...|           EJECUTIVO|NO APLICANO PERTE...|NO APLICANO PERTE...|    6|2021|\n",
      "|            62192021|     SECOP II|       BOGOTA|              BOGOTA|        MODIFICADO|2021-06-21 00:00:00| 2021-06-21 00:00:00|  2021-06-21 00:00:00|2021-07-31 00:00:00|    REGIMEN ESPECIAL|PRESTACION DE SER...|CO1PCCNTR2599107|CONTRATACION REGI...|BOGOTA - SUBRED I...|  900959048|     900959048|CEDULA DE CIUDADANIA|      28542833|    MARHA ROCIO GOMEZ...| CEDULA DE CIUDADANIA|        28542833|MARHA ROCIO GOMEZ...|       4092810|             4092810|PRESTAR SERVICIOS...|          PRESTAR SERVICIOS...|https://community...|           REGLA APLICABLE|           EJECUTIVO|SALUD Y PROTECCIO...|SALUD Y PROTECCIO...|    6|2021|\n",
      "+--------------------+-------------+-------------+--------------------+------------------+-------------------+--------------------+---------------------+-------------------+--------------------+--------------------+----------------+--------------------+--------------------+-----------+--------------+--------------------+--------------+------------------------+---------------------+----------------+--------------------+--------------+--------------------+--------------------+------------------------------+--------------------+--------------------------+--------------------+--------------------+--------------------+-----+----+\n",
      "only showing top 20 rows\n",
      "\n"
     ]
    },
    {
     "name": "stderr",
     "output_type": "stream",
     "text": [
      "                                                                                \r"
     ]
    }
   ],
   "source": [
    "infraestructura_df_limpio_2_anos = pyspark_etl_functions.filtrar_ultimos_anos(infraestructura_df_limpio, 2)\n",
    "infraestructura_df_limpio_2_anos.show()"
   ]
  },
  {
   "cell_type": "code",
   "execution_count": 8,
   "metadata": {},
   "outputs": [
    {
     "name": "stderr",
     "output_type": "stream",
     "text": [
      "[Stage 63:>                                                         (0 + 1) / 1]\r"
     ]
    },
    {
     "name": "stdout",
     "output_type": "stream",
     "text": [
      "+--------------------+-------------+--------------------+------------------+---------------------+-------------------+--------------------+--------------------+--------------------+--------------------+-----------+------------------------+--------------------+--------------------+--------------------+--------------------+-----+----+\n",
      "| REFERENCIA_CONTRATO|    MUNICIPIO|        DEPARTAMENTO|ESTADO_DEL_PROCESO|FECHA_INICIO_CONTRATO| FECHA_FIN_CONTRATO|       CLASE_PROCESO|        TIPO_PROCESO|       TIPO_CONTRATO|      NOMBRE_ENTIDAD|NIT_ENTIDAD|RAZON_SOCIAL_CONTRATISTA|VALOR_TOTAL_CONTRATO|        NOMBRE_GRUPO|      NOMBRE_FAMILIA|        NOMBRE_CLASE|month|year|\n",
      "+--------------------+-------------+--------------------+------------------+---------------------+-------------------+--------------------+--------------------+--------------------+--------------------+-----------+------------------------+--------------------+--------------------+--------------------+--------------------+-----+----+\n",
      "|    CDSECGRAL1692021|    CARTAGENA|             BOLIVAR|        MODIFICADO|  2021-01-20 00:00:00|2021-07-19 00:00:00|CONTRATACION DIRECTA|PRESTACION DE SER...|CONTRATACION DIRECTA|BOLIVAR - CARTAGE...|  890480184|    SANDRA MARCELA ME...|            27000000|           EJECUTIVO|NO APLICANO PERTE...|NO APLICANO PERTE...|    1|2021|\n",
      "|            70092021|       BOGOTA|              BOGOTA|      EN EJECUCION|  2021-09-01 00:00:00|2021-11-30 00:00:00|    REGIMEN ESPECIAL|PRESTACION DE SER...|CONTRATACION REGI...|BOGOTA - SUBRED I...|  900958564|    SANDRA YOLANDA BU...|             6697326|           EJECUTIVO|SALUD Y PROTECCIO...|SALUD Y PROTECCIO...|    9|2021|\n",
      "|    CO1PCCNTR2239141|  NO DEFINIDO|             CAQUETA|      EN EJECUCION|  2021-02-15 00:00:00|2021-12-18 00:00:00|CONTRATACION DIRECTA|PRESTACION DE SER...|CONTRATACION DIRECTA|SENA REGIONAL CAQ...|  899999034|    ANGELA MARIA ROJA...|            42280000|           EJECUTIVO|             TRABAJO|             TRABAJO|    2|2021|\n",
      "|    CO1PCCNTR2628519|      DUITAMA|              BOYACA|      EN EJECUCION|  2021-06-30 00:00:00|2021-06-30 00:00:00|CONTRATACION DIRECTA|PRESTACION DE SER...|CONTRATACION DIRECTA|BOYACA - DUITAMA ...|  891855138|    LUZ STELLA PACHEC...|            11034000|           EJECUTIVO|    SERVICIO PUBLICO|    SERVICIO PUBLICO|    6|2021|\n",
      "|         CCS10202021|       BOGOTA|              BOGOTA|            ACTIVO|  1900-01-01 00:00:00|2021-12-31 00:00:00| CONCURSO DE MERITOS|         CONSULTORIA|CONCURSO DE MERIT...|MINISTERIO DEL DE...|  899999306|    RMCONSTRUCCIONES ...|           110825697|           EJECUTIVO|            DEPORTES|            DEPORTES|    9|2021|\n",
      "|        202100000063|  NO DEFINIDO|             CAQUETA|      EN EJECUCION|  2021-02-23 00:00:00|2021-10-31 00:00:00|CONTRATACION DIRECTA|PRESTACION DE SER...|CONTRATACION DIRECTA|CAQUETA - GOBERNA...|  800091594|    ARMANDO PARRA MEDINA|            28016000|           EJECUTIVO|NO APLICANO PERTE...|NO APLICANO PERTE...|    2|2021|\n",
      "|        0602 DE 2021|VILLAVICENCIO|                META|         TERMINADO|  2021-03-10 00:00:00|2021-08-09 00:00:00|CONTRATACION DIRECTA|PRESTACION DE SER...|CONTRATACION DIRECTA|DEPARTAMENTO DEL ...| 8920001488|    EMILIANO BAQUERO ...|            16430000|           EJECUTIVO|    SERVICIO PUBLICO|    SERVICIO PUBLICO|    3|2021|\n",
      "|          BOG3372021|       BOGOTA|              BOGOTA|      EN EJECUCION|  2021-03-02 00:00:00|2021-11-02 00:00:00|CONTRATACION DIRECTA|PRESTACION DE SER...|CONTRATACION DIRECTA|ESAP SEDE CENTRAL...|  899999054|     ELIANA PRIETO PARRA|            32000000|           EJECUTIVO|    SERVICIO PUBLICO|    SERVICIO PUBLICO|    3|2021|\n",
      "|            41542021|       BOGOTA|              BOGOTA|        MODIFICADO|  2021-03-06 00:00:00|2021-10-31 00:00:00|    REGIMEN ESPECIAL|PRESTACION DE SER...|CONTRATACION REGI...|BOGOTA - SUBRED I...|  900958564|    DIANA MILENA SAND...|            15298677|           EJECUTIVO|SALUD Y PROTECCIO...|SALUD Y PROTECCIO...|    3|2021|\n",
      "|            22382021|      POPAYAN|               CAUCA|      EN EJECUCION|  2021-09-28 00:00:00|2021-12-31 00:00:00|CONTRATACION DIRECTA|PRESTACION DE SER...|CONTRATACION DIRECTA| CAUCA - GOBERNACION|  891580016|    SANTIAGO SIERRA S...|            14660000|           EJECUTIVO|    SERVICIO PUBLICO|    SERVICIO PUBLICO|    9|2021|\n",
      "|CMACD259890834362021|     MEDELLIN|           ANTIOQUIA|      EN EJECUCION|  2021-08-06 00:00:00|2021-12-31 00:00:00|CONTRATACION DIRECTA|PRESTACION DE SER...|CONTRATACION DIRECTA|ANTIOQUIA - INSTI...|  890980134|    ANDRES ESTEBAN RI...|            23771493|           EJECUTIVO|  EDUCACION NACIONAL|  EDUCACION NACIONAL|    8|2021|\n",
      "|          CPS3642021|         CHIA|        CUNDINAMARCA|      EN EJECUCION|  2021-04-22 00:00:00|2021-11-21 00:00:00|CONTRATACION DIRECTA|PRESTACION DE SER...|CONTRATACION DIRECTA|CUNDINAMARCA - CH...|  899999172|    LUZ MERY PAEZ MOR...|            14000000|           EJECUTIVO|    SERVICIO PUBLICO|    SERVICIO PUBLICO|    4|2021|\n",
      "|    CO1PCCNTR2670534|      CALARCA|             QUINDIO|      EN EJECUCION|  2021-07-15 00:00:00|2021-10-14 00:00:00|CONTRATACION DIRECTA|                OTRO|CONTRATACION DIRECTA|QUINDIO - CALARCA...|  890000441|    FRANCILENY CABALL...|                   0|           EJECUTIVO|NO APLICANO PERTE...|NO APLICANO PERTE...|    7|2021|\n",
      "|       4112060261024|         CALI|     VALLE DEL CAUCA|      EN EJECUCION|  2021-01-26 00:00:00|2021-04-30 00:00:00|CONTRATACION DIRECTA|PRESTACION DE SER...|CONTRATACION DIRECTA|SANTIAGO DE CALI ...|  890399011|    LINA MARCELA ARTU...|            14092000|CORPORACION AUTONOMA|NO APLICANO PERTE...|NO APLICANO PERTE...|    1|2021|\n",
      "|            20112021|      POPAYAN|               CAUCA|      EN EJECUCION|  2021-08-10 00:00:00|2021-12-24 00:00:00|CONTRATACION DIRECTA|PRESTACION DE SER...|CONTRATACION DIRECTA| CAUCA - GOBERNACION|  891580016|    JULIAN CAMILO PAZ...|            15660000|           EJECUTIVO|    SERVICIO PUBLICO|    SERVICIO PUBLICO|    8|2021|\n",
      "|      PLA1314PSP2021|      ARMENIA|             QUINDIO|      EN EJECUCION|  2021-06-24 00:00:00|2021-09-21 00:00:00|CONTRATACION DIRECTA|PRESTACION DE SER...|CONTRATACION DIRECTA|QUINDIO - GOBERNA...|  890001639|    HENRY JARAMILLO G...|             8655000|           EJECUTIVO|NO APLICANO PERTE...|NO APLICANO PERTE...|    6|2021|\n",
      "|           IND210053|         CALI|     VALLE DEL CAUCA|      EN EJECUCION|  2021-04-29 00:00:00|2021-08-31 00:00:00|CONTRATACION DIRECTA|PRESTACION DE SER...|CONTRATACION DIRECTA|INSTITUTO DEL DEP...|  805012896|       JUAN CARLOS PRADO|             7916000|           EJECUTIVO|            DEPORTES|            DEPORTES|    4|2021|\n",
      "|    CO1PCCNTR2207421|       BOGOTA|              BOGOTA|      EN EJECUCION|  2021-02-03 00:00:00|2021-07-31 00:00:00|CONTRATACION DIRECTA|PRESTACION DE SER...|CONTRATACION DIRECTA|DEPARTAMENTO ADMI...|  899999027|    LEIDY JOHANNA MOI...|            18936000|           EJECUTIVO|INFORMACION ESTAD...|INFORMACION ESTAD...|    2|2021|\n",
      "|    CO1PCCNTR2608311|   SAN ANDRES|SAN ANDRES PROVID...|      EN EJECUCION|  2021-06-28 00:00:00|2021-10-27 00:00:00|CONTRATACION DIRECTA|PRESTACION DE SER...|CONTRATACION DIRECTA|GOBERNACION DEL D...|  892400038|    ANDERSON SMITH CH...|             9204384|           EJECUTIVO|NO APLICANO PERTE...|NO APLICANO PERTE...|    6|2021|\n",
      "|            62192021|       BOGOTA|              BOGOTA|        MODIFICADO|  2021-06-21 00:00:00|2021-07-31 00:00:00|    REGIMEN ESPECIAL|PRESTACION DE SER...|CONTRATACION REGI...|BOGOTA - SUBRED I...|  900959048|    MARHA ROCIO GOMEZ...|             4092810|           EJECUTIVO|SALUD Y PROTECCIO...|SALUD Y PROTECCIO...|    6|2021|\n",
      "+--------------------+-------------+--------------------+------------------+---------------------+-------------------+--------------------+--------------------+--------------------+--------------------+-----------+------------------------+--------------------+--------------------+--------------------+--------------------+-----+----+\n",
      "only showing top 20 rows\n",
      "\n"
     ]
    },
    {
     "name": "stderr",
     "output_type": "stream",
     "text": [
      "                                                                                \r"
     ]
    }
   ],
   "source": [
    "def seleccionar_columnas(df, columnas):\n",
    "    return df.select(columnas)\n",
    "\n",
    "columnas_a_conservar = [\n",
    "    \"REFERENCIA_CONTRATO\", \"MUNICIPIO\", \"DEPARTAMENTO\", \"ESTADO_DEL_PROCESO\",\n",
    "    \"FECHA_INICIO_CONTRATO\", \"FECHA_FIN_CONTRATO\", \"CLASE_PROCESO\", \"TIPO_PROCESO\",\n",
    "    \"TIPO_CONTRATO\", \"NOMBRE_ENTIDAD\", \"NIT_ENTIDAD\", \"RAZON_SOCIAL_CONTRATISTA\",\n",
    "    \"VALOR_TOTAL_CONTRATO\", \"NOMBRE_GRUPO\", \"NOMBRE_FAMILIA\", \"NOMBRE_CLASE\", \"month\", \"year\"\n",
    "]\n",
    "\n",
    "infraestructura_df_seleccionado = seleccionar_columnas(infraestructura_df_limpio_2_anos, columnas_a_conservar)\n",
    "infraestructura_df_seleccionado.show()"
   ]
  },
  {
   "cell_type": "code",
   "execution_count": 21,
   "metadata": {},
   "outputs": [
    {
     "name": "stderr",
     "output_type": "stream",
     "text": [
      "[Stage 171:>                                                        (0 + 4) / 4]\r"
     ]
    },
    {
     "name": "stdout",
     "output_type": "stream",
     "text": [
      "+-----------+------------------------+-------------+-------------------------+-----------------------------+-----------------+-------------------+------------------+-----------------+------------+----------+---------------------------+\n",
      "|NIT_ENTIDAD|RAZON_SOCIAL_CONTRATISTA|num_contratos|suma_valor_total_contrato|promedio_valor_total_contrato|num_departamentos|num_estados_proceso|num_clases_proceso|num_tipos_proceso|num_familias|num_clases|meses_desde_ultimo_contrato|\n",
      "+-----------+------------------------+-------------+-------------------------+-----------------------------+-----------------+-------------------+------------------+-----------------+------------+----------+---------------------------+\n",
      "|  900413030|     FOX TELECOLOMBIA SA|           66|                        0|                          0.0|                1|                  3|                 1|                1|           1|         1|                         19|\n",
      "|  899999239|    CONGREGACION DE R...|           55|              23272667065|          4.231394011818182E8|                5|                  2|                 2|                3|           2|         2|                         19|\n",
      "|  890905211|    UNIVERSIDAD DE AN...|           47|             114542051045|         2.4370649158510637E9|                1|                  3|                 2|                4|           2|         2|                         19|\n",
      "|  899999022|            AIRE SAS ESP|           45|              81470847159|               1.8104632702E9|                1|                  1|                 0|                1|           1|         1|                         18|\n",
      "|  899999034|       DEICY BRAVO JOJOA|           44|               4083905117|          9.281602538636364E7|               11|                  3|                 2|                2|           2|         2|                         18|\n",
      "|  900413030|           TELEVIDEO SAS|           38|                        0|                          0.0|                1|                  3|                 1|                1|           1|         1|                         20|\n",
      "|  800248004|    CORPORACION SUJET...|           37|                801380023|          2.165891954054054E7|                1|                  3|                 1|                1|           1|         1|                         21|\n",
      "|  890900286|    UNIVERSIDAD DE AN...|           36|             111629072952|                3.100807582E9|                1|                  4|                 2|                2|           1|         1|                         19|\n",
      "|  899999061|    EMPRESA DE TELECO...|           33|              79193893290|          2.399814948181818E9|                1|                  3|                 1|                2|           9|         9|                         19|\n",
      "| 8999990611|    SECRETARIA DE INT...|           32|                688015333|             2.150047915625E7|                1|                  2|                 1|                1|           1|         1|                         19|\n",
      "| 8999990611|    SECRETARIA DISTRI...|           31|                687508488|          2.217769316129032E7|                1|                  3|                 1|                2|           1|         1|                         19|\n",
      "|  900958564|    RAFAEL ANTONIO SA...|           30|               5029929640|         1.6766432133333334E8|                1|                  3|                 1|                1|           1|         1|                         19|\n",
      "|  890905211|    INSTITUTO TECNOLO...|           30|              67374412463|          2.245813748766667E9|                1|                  4|                 1|                3|           1|         1|                         18|\n",
      "|  899999239|    ONG CRECER EN FAM...|           30|              22733303280|                 7.57776776E8|                5|                  4|                 2|                2|           1|         1|                         20|\n",
      "|  890980807|    EMPRESA PARA LA C...|           27|              44181719065|         1.6363599653703704E9|                1|                  2|                 1|                4|           1|         1|                         19|\n",
      "|  890905211|    EMPRESA SOCIAL DE...|           26|             134958553430|          5.190713593461538E9|                1|                  3|                 2|                1|           1|         1|                         18|\n",
      "|  890905211|    INSTITUCION UNIVE...|           25|              95737803694|              3.82951214776E9|                1|                  3|                 1|                2|           1|         1|                         19|\n",
      "|  900413030|    LOVE PRODUCCIONES...|           25|                        0|                          0.0|                1|                  1|                 1|                1|           1|         1|                         18|\n",
      "|  890907106|    INSTITUCION UNIVE...|           25|               3991588815|                1.596635526E8|                1|                  2|                 1|                2|           1|         1|                         20|\n",
      "|  899999239|    FE Y ALEGRIA DE C...|           24|              21995444943|              9.16476872625E8|                5|                  4|                 2|                2|           1|         1|                         24|\n",
      "+-----------+------------------------+-------------+-------------------------+-----------------------------+-----------------+-------------------+------------------+-----------------+------------+----------+---------------------------+\n",
      "only showing top 20 rows\n",
      "\n"
     ]
    },
    {
     "name": "stderr",
     "output_type": "stream",
     "text": [
      "                                                                                \r"
     ]
    }
   ],
   "source": [
    "from pyspark.sql import functions as F\n",
    "\n",
    "def agregar_por_nit_entidad(df):\n",
    "    agg_exprs = [\n",
    "        F.count(\"*\").alias(\"num_contratos\"),\n",
    "        F.sum(\"VALOR_TOTAL_CONTRATO\").alias(\"suma_valor_total_contrato\"),\n",
    "        F.avg(\"VALOR_TOTAL_CONTRATO\").alias(\"promedio_valor_total_contrato\"),\n",
    "        F.max(F.struct(\"year\", \"month\")).alias(\"ultimo_contrato\"),\n",
    "        F.countDistinct(\"DEPARTAMENTO\").alias(\"num_departamentos\"),\n",
    "        F.countDistinct(\"ESTADO_DEL_PROCESO\").alias(\"num_estados_proceso\"),\n",
    "        F.countDistinct(\"CLASE_PROCESO\").alias(\"num_clases_proceso\"),\n",
    "        F.countDistinct(\"TIPO_PROCESO\").alias(\"num_tipos_proceso\"),\n",
    "        F.countDistinct(\"NOMBRE_FAMILIA\").alias(\"num_familias\"),\n",
    "        F.countDistinct(\"NOMBRE_CLASE\").alias(\"num_clases\")\n",
    "    ]\n",
    "    \n",
    "    df_agregado = (\n",
    "        df.groupBy(\"NIT_ENTIDAD\", \"RAZON_SOCIAL_CONTRATISTA\")\n",
    "        .agg(*agg_exprs)\n",
    "        .withColumn(\n",
    "            \"meses_desde_ultimo_contrato\",\n",
    "            (F.year(F.current_date()) - F.col(\"ultimo_contrato.year\")) * 12\n",
    "            + (F.month(F.current_date()) - F.col(\"ultimo_contrato.month\"))\n",
    "        )\n",
    "        .drop(\"ultimo_contrato\")\n",
    "        .orderBy(F.desc(\"num_contratos\")) \n",
    "    )\n",
    "    \n",
    "    return df_agregado\n",
    "\n",
    "infraestructura_df_agregado = agregar_por_nit_entidad(infraestructura_df_seleccionado)\n",
    "infraestructura_df_agregado.show()\n"
   ]
  },
  {
   "cell_type": "code",
   "execution_count": 29,
   "metadata": {},
   "outputs": [
    {
     "name": "stderr",
     "output_type": "stream",
     "text": [
      "[Stage 271:>                                                        (0 + 4) / 5]\r"
     ]
    },
    {
     "name": "stdout",
     "output_type": "stream",
     "text": [
      "23/04/12 09:40:57 WARN RowBasedKeyValueBatch: Calling spill() on RowBasedKeyValueBatch. Will not spill but return 0.\n",
      "23/04/12 09:40:57 WARN RowBasedKeyValueBatch: Calling spill() on RowBasedKeyValueBatch. Will not spill but return 0.\n",
      "23/04/12 09:40:57 WARN RowBasedKeyValueBatch: Calling spill() on RowBasedKeyValueBatch. Will not spill but return 0.\n",
      "23/04/12 09:40:57 WARN RowBasedKeyValueBatch: Calling spill() on RowBasedKeyValueBatch. Will not spill but return 0.\n",
      "23/04/12 09:40:57 WARN RowBasedKeyValueBatch: Calling spill() on RowBasedKeyValueBatch. Will not spill but return 0.\n",
      "23/04/12 09:40:57 WARN RowBasedKeyValueBatch: Calling spill() on RowBasedKeyValueBatch. Will not spill but return 0.\n",
      "23/04/12 09:40:57 WARN RowBasedKeyValueBatch: Calling spill() on RowBasedKeyValueBatch. Will not spill but return 0.\n",
      "23/04/12 09:40:57 WARN RowBasedKeyValueBatch: Calling spill() on RowBasedKeyValueBatch. Will not spill but return 0.\n",
      "+-----------+------------------------+---------+------+------+-------+-----------+--------+----+--------+--------+-----+-------+---------+-------+-----+---------------------------------------+------+------+---------------+------------+----------+------+------+------------------+------+-----+-----+---------+-------+---------+--------+---------+-------+-------+-----+\n",
      "|NIT_ENTIDAD|RAZON_SOCIAL_CONTRATISTA|SANTANDER|VAUPES|NARIÑO|CAQUETA|NO DEFINIDO|CASANARE|META|AMAZONAS|GUAVIARE|CAUCA|VICHADA|ANTIOQUIA|QUINDIO|CHOCO|SAN ANDRES PROVIDENCIA Y SANTA CATALINA|CALDAS|BOYACA|VALLE DEL CAUCA|CUNDINAMARCA|LA GUAJIRA|TOLIMA|ARAUCA|NORTE DE SANTANDER|BOGOTA|HUILA|SUCRE|ATLANTICO|BOLIVAR|RISARALDA|PUTUMAYO|MAGDALENA|GUAINIA|CORDOBA|CESAR|\n",
      "+-----------+------------------------+---------+------+------+-------+-----------+--------+----+--------+--------+-----+-------+---------+-------+-----+---------------------------------------+------+------+---------------+------------+----------+------+------+------------------+------+-----+-----+---------+-------+---------+--------+---------+-------+-------+-----+\n",
      "| 8001136727|    CARLOS ALIRIO SUA...|        0|     0|     0|      0|          0|       0|   0|       0|       0|    0|      0|        0|      0|    0|                                      0|     0|     0|              0|           0|         0|     1|     0|                 0|     0|    0|    0|        0|      0|        0|       0|        0|      0|      0|    0|\n",
      "|  900034608|    JESSICA JOHANA SA...|        0|     0|     0|      0|          0|       0|   0|       0|       0|    0|      0|        0|      0|    0|                                      0|     0|     0|              0|           0|         0|     0|     1|                 0|     0|    0|    0|        0|      0|        0|       0|        0|      0|      0|    0|\n",
      "| 8999990611|    INGRID ALEXANDRA ...|        0|     0|     0|      0|          0|       0|   0|       0|       0|    0|      0|        0|      0|    0|                                      0|     0|     0|              0|           0|         0|     0|     0|                 0|     1|    0|    0|        0|      0|        0|       0|        0|      0|      0|    0|\n",
      "|  891800498|    KAREN PAOLA VARGA...|        0|     0|     0|      0|          0|       0|   0|       0|       0|    0|      0|        0|      0|    0|                                      0|     0|     1|              0|           0|         0|     0|     0|                 0|     0|    0|    0|        0|      0|        0|       0|        0|      0|      0|    0|\n",
      "|  899999034|    ROSAMARIA BULLA CANO|        0|     0|     0|      0|          0|       0|   0|       0|       0|    0|      0|        0|      0|    0|                                      0|     0|     0|              0|           0|         0|     0|     0|                 0|     1|    0|    0|        0|      0|        0|       0|        0|      0|      0|    0|\n",
      "|  890980096|    SERVICIOS EMPRESA...|        0|     0|     0|      0|          0|       0|   0|       0|       0|    0|      0|        9|      0|    0|                                      0|     0|     0|              0|           0|         0|     0|     0|                 0|     0|    0|    0|        0|      0|        0|       0|        0|      0|      0|    0|\n",
      "|  899999239|    FUNDACION PROFESI...|        0|     0|     5|      0|          0|       0|   0|       0|       0|    0|      0|        0|      0|    0|                                      0|     0|     0|              0|           0|         0|     0|     0|                 0|     0|    0|    0|        0|      0|        0|       0|        0|      0|      0|    0|\n",
      "| 8999990611|    SANDRA JIMENA CAS...|        0|     0|     0|      0|          0|       0|   0|       0|       0|    0|      0|        0|      0|    0|                                      0|     0|     0|              0|           0|         0|     0|     0|                 0|     2|    0|    0|        0|      0|        0|       0|        0|      0|      0|    0|\n",
      "|  890980112|    JUANITA VILLAMIZA...|        0|     0|     0|      0|          0|       0|   0|       0|       0|    0|      0|        2|      0|    0|                                      0|     0|     0|              0|           0|         0|     0|     0|                 0|     0|    0|    0|        0|      0|        0|       0|        0|      0|      0|    0|\n",
      "|  805012896|    ELIECER DE JESUS ...|        0|     0|     0|      0|          0|       0|   0|       0|       0|    0|      0|        0|      0|    0|                                      0|     0|     0|              2|           0|         0|     0|     0|                 0|     0|    0|    0|        0|      0|        0|       0|        0|      0|      0|    0|\n",
      "|  890102006|    MILENA BORRERO CA...|        0|     0|     0|      0|          0|       0|   0|       0|       0|    0|      0|        0|      0|    0|                                      0|     0|     0|              0|           0|         0|     0|     0|                 0|     0|    0|    0|        1|      0|        0|       0|        0|      0|      0|    0|\n",
      "|  899999034|    OSCAR ALBERTO ZAP...|        0|     0|     0|      0|          0|       0|   0|       0|       0|    0|      0|        1|      0|    0|                                      0|     0|     0|              0|           0|         0|     0|     0|                 0|     0|    0|    0|        0|      0|        0|       0|        0|      0|      0|    0|\n",
      "|  800102504|    TANIA VANESSA SAN...|        0|     0|     0|      0|          0|       0|   0|       0|       0|    0|      0|        0|      0|    0|                                      0|     0|     0|              0|           0|         0|     0|     2|                 0|     0|    0|    0|        0|      0|        0|       0|        0|      0|      0|    0|\n",
      "|  800113389|    ANGELICA MARIA ES...|        0|     0|     0|      0|          0|       0|   0|       0|       0|    0|      0|        0|      0|    0|                                      0|     0|     0|              0|           0|         0|     1|     0|                 0|     0|    0|    0|        0|      0|        0|       0|        0|      0|      0|    0|\n",
      "|  800103927|    DONALDO ORTEGA CO...|        0|     0|     0|      0|          0|       0|   0|       0|       0|    0|      0|        0|      0|    0|                                      0|     0|     0|              0|           0|         0|     0|     0|                 1|     0|    0|    0|        0|      0|        0|       0|        0|      0|      0|    0|\n",
      "|  830114475|    LUZ KARIME FALLA ...|        0|     0|     0|      0|          0|       0|   0|       0|       0|    0|      0|        0|      0|    0|                                      0|     0|     0|              0|           0|         0|     0|     0|                 0|     1|    0|    0|        0|      0|        0|       0|        0|      0|      0|    0|\n",
      "|  800103923|    ANDRES ORLANDO VI...|        0|     0|     1|      0|          0|       0|   0|       0|       0|    0|      0|        0|      0|    0|                                      0|     0|     0|              0|           0|         0|     0|     0|                 0|     0|    0|    0|        0|      0|        0|       0|        0|      0|      0|    0|\n",
      "|  800186061|    REINALDO GOMEZ JI...|        0|     0|     0|      0|          0|       0|   0|       0|       0|    0|      0|        0|      0|    0|                                      0|     0|     0|              0|           0|         0|     0|     0|                 0|     1|    0|    0|        0|      0|        0|       0|        0|      0|      0|    0|\n",
      "|  890505253|    IVAN GABRIEL RICA...|        0|     0|     0|      0|          0|       0|   0|       0|       0|    0|      0|        0|      0|    0|                                      0|     0|     0|              0|           0|         0|     0|     0|                 1|     0|    0|    0|        0|      0|        0|       0|        0|      0|      0|    0|\n",
      "|  899999034|    INALBIS DEL CARME...|        0|     0|     0|      0|          0|       0|   0|       0|       0|    0|      0|        0|      0|    0|                                      0|     0|     0|              0|           0|         0|     0|     0|                 0|     0|    0|    0|        0|      1|        0|       0|        0|      0|      0|    0|\n",
      "+-----------+------------------------+---------+------+------+-------+-----------+--------+----+--------+--------+-----+-------+---------+-------+-----+---------------------------------------+------+------+---------------+------------+----------+------+------+------------------+------+-----+-----+---------+-------+---------+--------+---------+-------+-------+-----+\n",
      "only showing top 20 rows\n",
      "\n"
     ]
    },
    {
     "name": "stderr",
     "output_type": "stream",
     "text": [
      "                                                                                \r"
     ]
    }
   ],
   "source": [
    "def pivotar_por_columna(df, columna):\n",
    "    valores = df.select(columna).distinct().rdd.flatMap(lambda x: x).collect()\n",
    "\n",
    "    df_pivote = (\n",
    "        df.groupBy(\"NIT_ENTIDAD\", \"RAZON_SOCIAL_CONTRATISTA\")\n",
    "        .pivot(columna, valores)\n",
    "        .count()\n",
    "        .fillna(0)\n",
    "    )\n",
    "    \n",
    "    return df_pivote\n",
    "\n",
    "infraestructura_df_pivotado = pivotar_por_columna(infraestructura_df_seleccionado, \"DEPARTAMENTO\")\n",
    "infraestructura_df_pivotado.show()\n"
   ]
  },
  {
   "cell_type": "code",
   "execution_count": 30,
   "metadata": {},
   "outputs": [
    {
     "name": "stderr",
     "output_type": "stream",
     "text": [
      "[Stage 282:==========>      (3 + 2) / 5][Stage 284:>                (0 + 2) / 5]\r"
     ]
    },
    {
     "name": "stdout",
     "output_type": "stream",
     "text": [
      "23/04/12 09:42:43 WARN RowBasedKeyValueBatch: Calling spill() on RowBasedKeyValueBatch. Will not spill but return 0.\n",
      "23/04/12 09:42:43 WARN RowBasedKeyValueBatch: Calling spill() on RowBasedKeyValueBatch. Will not spill but return 0.\n",
      "23/04/12 09:42:43 WARN RowBasedKeyValueBatch: Calling spill() on RowBasedKeyValueBatch. Will not spill but return 0.\n",
      "23/04/12 09:42:43 WARN RowBasedKeyValueBatch: Calling spill() on RowBasedKeyValueBatch. Will not spill but return 0.\n"
     ]
    },
    {
     "name": "stderr",
     "output_type": "stream",
     "text": [
      "[Stage 282:=============>   (4 + 1) / 5][Stage 284:>                (0 + 3) / 5]\r"
     ]
    },
    {
     "name": "stdout",
     "output_type": "stream",
     "text": [
      "23/04/12 09:42:44 WARN RowBasedKeyValueBatch: Calling spill() on RowBasedKeyValueBatch. Will not spill but return 0.\n",
      "23/04/12 09:42:44 WARN RowBasedKeyValueBatch: Calling spill() on RowBasedKeyValueBatch. Will not spill but return 0.\n"
     ]
    },
    {
     "name": "stderr",
     "output_type": "stream",
     "text": [
      "[Stage 284:======>          (2 + 3) / 5][Stage 287:>                (0 + 1) / 5]\r"
     ]
    },
    {
     "name": "stdout",
     "output_type": "stream",
     "text": [
      "23/04/12 09:42:45 WARN RowBasedKeyValueBatch: Calling spill() on RowBasedKeyValueBatch. Will not spill but return 0.\n",
      "23/04/12 09:42:46 WARN RowBasedKeyValueBatch: Calling spill() on RowBasedKeyValueBatch. Will not spill but return 0.\n"
     ]
    },
    {
     "name": "stderr",
     "output_type": "stream",
     "text": [
      "[Stage 302:>                                                        (0 + 1) / 1]\r"
     ]
    },
    {
     "name": "stdout",
     "output_type": "stream",
     "text": [
      "+-----------+------------------------+-------------+-------------------------+-----------------------------+-----------------+-------------------+------------------+-----------------+------------+----------+---------------------------+---------+------+------+-------+-----------+--------+----+--------+--------+-----+-------+---------+-------+-----+---------------------------------------+------+------+---------------+------------+----------+------+------+------------------+------+-----+-----+---------+-------+---------+--------+---------+-------+-------+-----+\n",
      "|NIT_ENTIDAD|RAZON_SOCIAL_CONTRATISTA|num_contratos|suma_valor_total_contrato|promedio_valor_total_contrato|num_departamentos|num_estados_proceso|num_clases_proceso|num_tipos_proceso|num_familias|num_clases|meses_desde_ultimo_contrato|SANTANDER|VAUPES|NARIÑO|CAQUETA|NO DEFINIDO|CASANARE|META|AMAZONAS|GUAVIARE|CAUCA|VICHADA|ANTIOQUIA|QUINDIO|CHOCO|SAN ANDRES PROVIDENCIA Y SANTA CATALINA|CALDAS|BOYACA|VALLE DEL CAUCA|CUNDINAMARCA|LA GUAJIRA|TOLIMA|ARAUCA|NORTE DE SANTANDER|BOGOTA|HUILA|SUCRE|ATLANTICO|BOLIVAR|RISARALDA|PUTUMAYO|MAGDALENA|GUAINIA|CORDOBA|CESAR|\n",
      "+-----------+------------------------+-------------+-------------------------+-----------------------------+-----------------+-------------------+------------------+-----------------+------------+----------+---------------------------+---------+------+------+-------+-----------+--------+----+--------+--------+-----+-------+---------+-------+-----+---------------------------------------+------+------+---------------+------------+----------+------+------+------------------+------+-----+-----+---------+-------+---------+--------+---------+-------+-------+-----+\n",
      "|    7180873|    FABIAN ANEYDER JI...|            1|                  5312173|                    5312173.0|                1|                  1|                 1|                1|           1|         1|                         22|        0|     0|     0|      0|          0|       0|   0|       0|       0|    0|      0|        0|      0|    0|                                      0|     0|     0|              0|           0|         0|     0|     0|                 0|     0|    0|    0|        0|      0|        0|       0|        0|      1|      0|    0|\n",
      "|   84458523|    ALVARADO ULLOQUE ...|            1|                  3190000|                    3190000.0|                1|                  1|                 1|                1|           1|         1|                         27|        0|     0|     0|      0|          0|       0|   0|       0|       0|    0|      0|        0|      0|    0|                                      0|     0|     0|              0|           0|         0|     0|     0|                 0|     0|    0|    0|        0|      0|        0|       0|        1|      0|      0|    0|\n",
      "|   84458523|    ALVARO JAVIER ROY...|            1|                   586667|                     586667.0|                1|                  1|                 1|                1|           1|         1|                         27|        0|     0|     0|      0|          0|       0|   0|       0|       0|    0|      0|        0|      0|    0|                                      0|     0|     0|              0|           0|         0|     0|     0|                 0|     0|    0|    0|        0|      0|        0|       0|        1|      0|      0|    0|\n",
      "|   84458523|    BETSABE  OSPINO Q...|            1|                   880000|                     880000.0|                1|                  1|                 1|                1|           1|         1|                         27|        0|     0|     0|      0|          0|       0|   0|       0|       0|    0|      0|        0|      0|    0|                                      0|     0|     0|              0|           0|         0|     0|     0|                 0|     0|    0|    0|        0|      0|        0|       0|        1|      0|      0|    0|\n",
      "|   84458523|    CARLOS ALBERTO GA...|            1|                  1840000|                    1840000.0|                1|                  1|                 1|                1|           1|         1|                         27|        0|     0|     0|      0|          0|       0|   0|       0|       0|    0|      0|        0|      0|    0|                                      0|     0|     0|              0|           0|         0|     0|     0|                 0|     0|    0|    0|        0|      0|        0|       0|        1|      0|      0|    0|\n",
      "|   84458523|    COORPORACION CULT...|            1|                   880000|                     880000.0|                1|                  1|                 1|                1|           1|         1|                         27|        0|     0|     0|      0|          0|       0|   0|       0|       0|    0|      0|        0|      0|    0|                                      0|     0|     0|              0|           0|         0|     0|     0|                 0|     0|    0|    0|        0|      0|        0|       0|        1|      0|      0|    0|\n",
      "|   84458523|    DAURYS PAOLA YEPE...|            1|                   880000|                     880000.0|                1|                  1|                 1|                1|           1|         1|                         27|        0|     0|     0|      0|          0|       0|   0|       0|       0|    0|      0|        0|      0|    0|                                      0|     0|     0|              0|           0|         0|     0|     0|                 0|     0|    0|    0|        0|      0|        0|       0|        1|      0|      0|    0|\n",
      "|   84458523|    MAICOL JOSE CHACO...|            1|                  1150000|                    1150000.0|                1|                  1|                 1|                1|           1|         1|                         27|        0|     0|     0|      0|          0|       0|   0|       0|       0|    0|      0|        0|      0|    0|                                      0|     0|     0|              0|           0|         0|     0|     0|                 0|     0|    0|    0|        0|      0|        0|       0|        1|      0|      0|    0|\n",
      "|   84458523|    MARY STELLA SINNI...|            1|                  2625000|                    2625000.0|                1|                  1|                 1|                1|           1|         1|                         27|        0|     0|     0|      0|          0|       0|   0|       0|       0|    0|      0|        0|      0|    0|                                      0|     0|     0|              0|           0|         0|     0|     0|                 0|     0|    0|    0|        0|      0|        0|       0|        1|      0|      0|    0|\n",
      "|   84458523|     SUMISERVICIO AB SAS|            1|                   790000|                     790000.0|                1|                  1|                 1|                1|           1|         1|                         27|        0|     0|     0|      0|          0|       0|   0|       0|       0|    0|      0|        0|      0|    0|                                      0|     0|     0|              0|           0|         0|     0|     0|                 0|     0|    0|    0|        0|      0|        0|       0|        1|      0|      0|    0|\n",
      "|   84458523|    YENNIS ESTHER CUD...|            1|                   880000|                     880000.0|                1|                  1|                 1|                1|           1|         1|                         27|        0|     0|     0|      0|          0|       0|   0|       0|       0|    0|      0|        0|      0|    0|                                      0|     0|     0|              0|           0|         0|     0|     0|                 0|     0|    0|    0|        0|      0|        0|       0|        1|      0|      0|    0|\n",
      "|  800002916|    ALMACEN MANGUERAS...|            1|                  2404000|                    2404000.0|                1|                  1|                 1|                1|           1|         1|                         22|        0|     0|     0|      0|          0|       0|   0|       0|       0|    0|      0|        0|      0|    0|                                      0|     1|     0|              0|           0|         0|     0|     0|                 0|     0|    0|    0|        0|      0|        0|       0|        0|      0|      0|    0|\n",
      "|  800002916|    DIANA MILENA BOTE...|            2|                 20934039|                 1.04670195E7|                1|                  2|                 1|                1|           1|         1|                         21|        0|     0|     0|      0|          0|       0|   0|       0|       0|    0|      0|        0|      0|    0|                                      0|     2|     0|              0|           0|         0|     0|     0|                 0|     0|    0|    0|        0|      0|        0|       0|        0|      0|      0|    0|\n",
      "|  800002916|    ELIAS DE JESUS OS...|            1|                 10216227|                  1.0216227E7|                1|                  1|                 1|                1|           1|         1|                         23|        0|     0|     0|      0|          0|       0|   0|       0|       0|    0|      0|        0|      0|    0|                                      0|     1|     0|              0|           0|         0|     0|     0|                 0|     0|    0|    0|        0|      0|        0|       0|        0|      0|      0|    0|\n",
      "|  800002916|    FERNANDO NARANJO ...|            1|                 23510448|                  2.3510448E7|                1|                  1|                 1|                1|           1|         1|                         23|        0|     0|     0|      0|          0|       0|   0|       0|       0|    0|      0|        0|      0|    0|                                      0|     1|     0|              0|           0|         0|     0|     0|                 0|     0|    0|    0|        0|      0|        0|       0|        0|      0|      0|    0|\n",
      "|  800002916|    HOSPITAL GENERAL ...|            1|                 13201280|                   1.320128E7|                1|                  1|                 1|                1|           1|         1|                         19|        0|     0|     0|      0|          0|       0|   0|       0|       0|    0|      0|        0|      0|    0|                                      0|     1|     0|              0|           0|         0|     0|     0|                 0|     0|    0|    0|        0|      0|        0|       0|        0|      0|      0|    0|\n",
      "|  800002916|    JAVIER ANTONIO CA...|            1|                 13329232|                  1.3329232E7|                1|                  1|                 1|                1|           1|         1|                         23|        0|     0|     0|      0|          0|       0|   0|       0|       0|    0|      0|        0|      0|    0|                                      0|     1|     0|              0|           0|         0|     0|     0|                 0|     0|    0|    0|        0|      0|        0|       0|        0|      0|      0|    0|\n",
      "|  800002916|    JHON ALEXANDER SE...|            1|                  5412528|                    5412528.0|                1|                  1|                 1|                1|           1|         1|                         22|        0|     0|     0|      0|          0|       0|   0|       0|       0|    0|      0|        0|      0|    0|                                      0|     1|     0|              0|           0|         0|     0|     0|                 0|     0|    0|    0|        0|      0|        0|       0|        0|      0|      0|    0|\n",
      "|  800002916|    JUAN CARLOS GOMEZ...|            1|                    49656|                      49656.0|                1|                  1|                 1|                1|           1|         1|                         20|        0|     0|     0|      0|          0|       0|   0|       0|       0|    0|      0|        0|      0|    0|                                      0|     1|     0|              0|           0|         0|     0|     0|                 0|     0|    0|    0|        0|      0|        0|       0|        0|      0|      0|    0|\n",
      "|  800002916|    JULIAN ANDRES AGU...|            2|                 14129986|                    7064993.0|                1|                  1|                 1|                1|           1|         1|                         19|        0|     0|     0|      0|          0|       0|   0|       0|       0|    0|      0|        0|      0|    0|                                      0|     2|     0|              0|           0|         0|     0|     0|                 0|     0|    0|    0|        0|      0|        0|       0|        0|      0|      0|    0|\n",
      "+-----------+------------------------+-------------+-------------------------+-----------------------------+-----------------+-------------------+------------------+-----------------+------------+----------+---------------------------+---------+------+------+-------+-----------+--------+----+--------+--------+-----+-------+---------+-------+-----+---------------------------------------+------+------+---------------+------------+----------+------+------+------------------+------+-----+-----+---------+-------+---------+--------+---------+-------+-------+-----+\n",
      "only showing top 20 rows\n",
      "\n"
     ]
    },
    {
     "name": "stderr",
     "output_type": "stream",
     "text": [
      "                                                                                \r"
     ]
    }
   ],
   "source": [
    "def unir_dataframes(df1, df2):\n",
    "    df_unido = df1.join(df2, on=[\"NIT_ENTIDAD\", \"RAZON_SOCIAL_CONTRATISTA\"], how=\"inner\")\n",
    "    return df_unido\n",
    "\n",
    "infraestructura_df_agregado_y_pivotado = unir_dataframes(infraestructura_df_agregado, infraestructura_df_pivotado)\n",
    "infraestructura_df_agregado_y_pivotado.show()\n"
   ]
  },
  {
   "attachments": {},
   "cell_type": "markdown",
   "metadata": {},
   "source": [
    "# Quality Colusiones"
   ]
  },
  {
   "cell_type": "code",
   "execution_count": 10,
   "metadata": {},
   "outputs": [
    {
     "name": "stdout",
     "output_type": "stream",
     "text": [
      "23/04/12 06:35:00 WARN SparkSession: Using an existing Spark session; only runtime SQL configurations will take effect.\n",
      "+---+-------------------+--------+-----------+----------------------------+----------------------+---------------------+--------------------------+--------------------+--------------+-------------+--------------+\n",
      "|No.|Fecha de Radicacion|Radicado|       Caso|Falta que origina la sancion|Resolucion de Apertura|Resolucion de Sancion|Tipo de Persona Sancionada|Personas Sancionadas|Identificacion|Multa Inicial|Año Radicacion|\n",
      "+---+-------------------+--------+-----------+----------------------------+----------------------+---------------------+--------------------------+--------------------+--------------+-------------+--------------+\n",
      "|  1|2011-06-07 00:00:00|11-71590|VIGILANCIA |        Infringir el artí...|  Resolución de Ape...| Resolución de San...|        Personas Jurídicas|GUARDIANES COMPAÑ...|     860520097| 8.59440305E9|          2011|\n",
      "|  1|2011-06-07 00:00:00|11-71590|VIGILANCIA |        Infringir el artí...|  Resolución de Ape...| Resolución de San...|        Personas Jurídicas|EXPERTOS SEGURIDA...|     800010866| 3.85088274E9|          2011|\n",
      "|  1|2011-06-07 00:00:00|11-71590|VIGILANCIA |        Infringir el artí...|  Resolución de Ape...| Resolución de San...|        Personas Jurídicas|    COBASEC LIMITADA|     891801317|4.651305685E9|          2011|\n",
      "|  1|2011-06-07 00:00:00|11-71590|VIGILANCIA |        Infringir el artí...|  Resolución de Ape...| Resolución de San...|        Personas Jurídicas|COOPERATIVA DE VI...|     830101476|7.026754425E9|          2011|\n",
      "|  1|2011-06-07 00:00:00|11-71590|VIGILANCIA |        Infringir el artí...|  Resolución de Ape...| Resolución de San...|        Personas Jurídicas|CENTINEL DE SEGUR...|     820001482| 3.13529725E8|          2011|\n",
      "+---+-------------------+--------+-----------+----------------------------+----------------------+---------------------+--------------------------+--------------------+--------------+-------------+--------------+\n",
      "only showing top 5 rows\n",
      "\n"
     ]
    }
   ],
   "source": [
    "filename = 'colusiones_en_contratacion_SIC.csv'\n",
    "colusiones_df = pyspark_etl_functions.read_csv_with_pyspark(filename, folder='data', separator=',')\n",
    "colusiones_df.show(5)"
   ]
  },
  {
   "cell_type": "code",
   "execution_count": 11,
   "metadata": {},
   "outputs": [
    {
     "name": "stdout",
     "output_type": "stream",
     "text": [
      "23/04/12 06:35:03 WARN SparkSession: Using an existing Spark session; only runtime SQL configurations will take effect.\n",
      "Total de registros: 103\n"
     ]
    },
    {
     "ename": "AnalysisException",
     "evalue": "syntax error in attribute name: No.",
     "output_type": "error",
     "traceback": [
      "\u001b[0;31m---------------------------------------------------------------------------\u001b[0m",
      "\u001b[0;31mAnalysisException\u001b[0m                         Traceback (most recent call last)",
      "\u001b[0;32m/tmp/ipykernel_26939/469031195.py\u001b[0m in \u001b[0;36m<cell line: 1>\u001b[0;34m()\u001b[0m\n\u001b[0;32m----> 1\u001b[0;31m \u001b[0mpyspark_etl_functions\u001b[0m\u001b[0;34m.\u001b[0m\u001b[0manalyze_data_quality\u001b[0m\u001b[0;34m(\u001b[0m\u001b[0mcolusiones_df\u001b[0m\u001b[0;34m)\u001b[0m\u001b[0;34m\u001b[0m\u001b[0;34m\u001b[0m\u001b[0m\n\u001b[0m",
      "\u001b[0;32m~/datos_abiertos/pyspark_etl_functions.py\u001b[0m in \u001b[0;36manalyze_data_quality\u001b[0;34m(df)\u001b[0m\n\u001b[1;32m     28\u001b[0m \u001b[0;34m\u001b[0m\u001b[0m\n\u001b[1;32m     29\u001b[0m     \u001b[0;31m# Cuenta de registros nulos y duplicados\u001b[0m\u001b[0;34m\u001b[0m\u001b[0;34m\u001b[0m\u001b[0;34m\u001b[0m\u001b[0m\n\u001b[0;32m---> 30\u001b[0;31m     \u001b[0mnull_count\u001b[0m \u001b[0;34m=\u001b[0m \u001b[0mdf\u001b[0m\u001b[0;34m.\u001b[0m\u001b[0mselect\u001b[0m\u001b[0;34m(\u001b[0m\u001b[0;34m[\u001b[0m\u001b[0mcount\u001b[0m\u001b[0;34m(\u001b[0m\u001b[0mwhen\u001b[0m\u001b[0;34m(\u001b[0m\u001b[0misnull\u001b[0m\u001b[0;34m(\u001b[0m\u001b[0mc\u001b[0m\u001b[0;34m)\u001b[0m\u001b[0;34m,\u001b[0m \u001b[0mc\u001b[0m\u001b[0;34m)\u001b[0m\u001b[0;34m)\u001b[0m\u001b[0;34m.\u001b[0m\u001b[0malias\u001b[0m\u001b[0;34m(\u001b[0m\u001b[0mc\u001b[0m\u001b[0;34m)\u001b[0m \u001b[0;32mfor\u001b[0m \u001b[0mc\u001b[0m \u001b[0;32min\u001b[0m \u001b[0mdf\u001b[0m\u001b[0;34m.\u001b[0m\u001b[0mcolumns\u001b[0m\u001b[0;34m]\u001b[0m\u001b[0;34m)\u001b[0m\u001b[0;34m.\u001b[0m\u001b[0mcollect\u001b[0m\u001b[0;34m(\u001b[0m\u001b[0;34m)\u001b[0m\u001b[0;34m\u001b[0m\u001b[0;34m\u001b[0m\u001b[0m\n\u001b[0m\u001b[1;32m     31\u001b[0m     \u001b[0mduplicate_count\u001b[0m \u001b[0;34m=\u001b[0m \u001b[0mdf\u001b[0m\u001b[0;34m.\u001b[0m\u001b[0mcount\u001b[0m\u001b[0;34m(\u001b[0m\u001b[0;34m)\u001b[0m \u001b[0;34m-\u001b[0m \u001b[0mdf\u001b[0m\u001b[0;34m.\u001b[0m\u001b[0mdropDuplicates\u001b[0m\u001b[0;34m(\u001b[0m\u001b[0;34m)\u001b[0m\u001b[0;34m.\u001b[0m\u001b[0mcount\u001b[0m\u001b[0;34m(\u001b[0m\u001b[0;34m)\u001b[0m\u001b[0;34m\u001b[0m\u001b[0;34m\u001b[0m\u001b[0m\n\u001b[1;32m     32\u001b[0m \u001b[0;34m\u001b[0m\u001b[0m\n",
      "\u001b[0;32m~/datos_abiertos/pyspark_etl_functions.py\u001b[0m in \u001b[0;36m<listcomp>\u001b[0;34m(.0)\u001b[0m\n\u001b[1;32m     28\u001b[0m \u001b[0;34m\u001b[0m\u001b[0m\n\u001b[1;32m     29\u001b[0m     \u001b[0;31m# Cuenta de registros nulos y duplicados\u001b[0m\u001b[0;34m\u001b[0m\u001b[0;34m\u001b[0m\u001b[0;34m\u001b[0m\u001b[0m\n\u001b[0;32m---> 30\u001b[0;31m     \u001b[0mnull_count\u001b[0m \u001b[0;34m=\u001b[0m \u001b[0mdf\u001b[0m\u001b[0;34m.\u001b[0m\u001b[0mselect\u001b[0m\u001b[0;34m(\u001b[0m\u001b[0;34m[\u001b[0m\u001b[0mcount\u001b[0m\u001b[0;34m(\u001b[0m\u001b[0mwhen\u001b[0m\u001b[0;34m(\u001b[0m\u001b[0misnull\u001b[0m\u001b[0;34m(\u001b[0m\u001b[0mc\u001b[0m\u001b[0;34m)\u001b[0m\u001b[0;34m,\u001b[0m \u001b[0mc\u001b[0m\u001b[0;34m)\u001b[0m\u001b[0;34m)\u001b[0m\u001b[0;34m.\u001b[0m\u001b[0malias\u001b[0m\u001b[0;34m(\u001b[0m\u001b[0mc\u001b[0m\u001b[0;34m)\u001b[0m \u001b[0;32mfor\u001b[0m \u001b[0mc\u001b[0m \u001b[0;32min\u001b[0m \u001b[0mdf\u001b[0m\u001b[0;34m.\u001b[0m\u001b[0mcolumns\u001b[0m\u001b[0;34m]\u001b[0m\u001b[0;34m)\u001b[0m\u001b[0;34m.\u001b[0m\u001b[0mcollect\u001b[0m\u001b[0;34m(\u001b[0m\u001b[0;34m)\u001b[0m\u001b[0;34m\u001b[0m\u001b[0;34m\u001b[0m\u001b[0m\n\u001b[0m\u001b[1;32m     31\u001b[0m     \u001b[0mduplicate_count\u001b[0m \u001b[0;34m=\u001b[0m \u001b[0mdf\u001b[0m\u001b[0;34m.\u001b[0m\u001b[0mcount\u001b[0m\u001b[0;34m(\u001b[0m\u001b[0;34m)\u001b[0m \u001b[0;34m-\u001b[0m \u001b[0mdf\u001b[0m\u001b[0;34m.\u001b[0m\u001b[0mdropDuplicates\u001b[0m\u001b[0;34m(\u001b[0m\u001b[0;34m)\u001b[0m\u001b[0;34m.\u001b[0m\u001b[0mcount\u001b[0m\u001b[0;34m(\u001b[0m\u001b[0;34m)\u001b[0m\u001b[0;34m\u001b[0m\u001b[0;34m\u001b[0m\u001b[0m\n\u001b[1;32m     32\u001b[0m \u001b[0;34m\u001b[0m\u001b[0m\n",
      "\u001b[0;32m~/.local/lib/python3.9/site-packages/pyspark/sql/functions.py\u001b[0m in \u001b[0;36misnull\u001b[0;34m(col)\u001b[0m\n\u001b[1;32m   1325\u001b[0m     \u001b[0;34m[\u001b[0m\u001b[0mRow\u001b[0m\u001b[0;34m(\u001b[0m\u001b[0mr1\u001b[0m\u001b[0;34m=\u001b[0m\u001b[0;32mFalse\u001b[0m\u001b[0;34m,\u001b[0m \u001b[0mr2\u001b[0m\u001b[0;34m=\u001b[0m\u001b[0;32mFalse\u001b[0m\u001b[0;34m)\u001b[0m\u001b[0;34m,\u001b[0m \u001b[0mRow\u001b[0m\u001b[0;34m(\u001b[0m\u001b[0mr1\u001b[0m\u001b[0;34m=\u001b[0m\u001b[0;32mTrue\u001b[0m\u001b[0;34m,\u001b[0m \u001b[0mr2\u001b[0m\u001b[0;34m=\u001b[0m\u001b[0;32mTrue\u001b[0m\u001b[0;34m)\u001b[0m\u001b[0;34m]\u001b[0m\u001b[0;34m\u001b[0m\u001b[0;34m\u001b[0m\u001b[0m\n\u001b[1;32m   1326\u001b[0m     \"\"\"\n\u001b[0;32m-> 1327\u001b[0;31m     \u001b[0;32mreturn\u001b[0m \u001b[0m_invoke_function_over_columns\u001b[0m\u001b[0;34m(\u001b[0m\u001b[0;34m\"isnull\"\u001b[0m\u001b[0;34m,\u001b[0m \u001b[0mcol\u001b[0m\u001b[0;34m)\u001b[0m\u001b[0;34m\u001b[0m\u001b[0;34m\u001b[0m\u001b[0m\n\u001b[0m\u001b[1;32m   1328\u001b[0m \u001b[0;34m\u001b[0m\u001b[0m\n\u001b[1;32m   1329\u001b[0m \u001b[0;34m\u001b[0m\u001b[0m\n",
      "\u001b[0;32m~/.local/lib/python3.9/site-packages/pyspark/sql/functions.py\u001b[0m in \u001b[0;36m_invoke_function_over_columns\u001b[0;34m(name, *cols)\u001b[0m\n\u001b[1;32m     91\u001b[0m     \u001b[0;32mand\u001b[0m \u001b[0mwraps\u001b[0m \u001b[0mthe\u001b[0m \u001b[0mresult\u001b[0m \u001b[0;32mwith\u001b[0m \u001b[0;34m:\u001b[0m\u001b[0;32mclass\u001b[0m\u001b[0;34m:\u001b[0m\u001b[0;31m`\u001b[0m\u001b[0;34m~\u001b[0m\u001b[0mpyspark\u001b[0m\u001b[0;34m.\u001b[0m\u001b[0msql\u001b[0m\u001b[0;34m.\u001b[0m\u001b[0mColumn\u001b[0m\u001b[0;31m`\u001b[0m\u001b[0;34m.\u001b[0m\u001b[0;34m\u001b[0m\u001b[0;34m\u001b[0m\u001b[0m\n\u001b[1;32m     92\u001b[0m     \"\"\"\n\u001b[0;32m---> 93\u001b[0;31m     \u001b[0;32mreturn\u001b[0m \u001b[0m_invoke_function\u001b[0m\u001b[0;34m(\u001b[0m\u001b[0mname\u001b[0m\u001b[0;34m,\u001b[0m \u001b[0;34m*\u001b[0m\u001b[0;34m(\u001b[0m\u001b[0m_to_java_column\u001b[0m\u001b[0;34m(\u001b[0m\u001b[0mcol\u001b[0m\u001b[0;34m)\u001b[0m \u001b[0;32mfor\u001b[0m \u001b[0mcol\u001b[0m \u001b[0;32min\u001b[0m \u001b[0mcols\u001b[0m\u001b[0;34m)\u001b[0m\u001b[0;34m)\u001b[0m\u001b[0;34m\u001b[0m\u001b[0;34m\u001b[0m\u001b[0m\n\u001b[0m\u001b[1;32m     94\u001b[0m \u001b[0;34m\u001b[0m\u001b[0m\n\u001b[1;32m     95\u001b[0m \u001b[0;34m\u001b[0m\u001b[0m\n",
      "\u001b[0;32m~/.local/lib/python3.9/site-packages/pyspark/sql/functions.py\u001b[0m in \u001b[0;36m<genexpr>\u001b[0;34m(.0)\u001b[0m\n\u001b[1;32m     91\u001b[0m     \u001b[0;32mand\u001b[0m \u001b[0mwraps\u001b[0m \u001b[0mthe\u001b[0m \u001b[0mresult\u001b[0m \u001b[0;32mwith\u001b[0m \u001b[0;34m:\u001b[0m\u001b[0;32mclass\u001b[0m\u001b[0;34m:\u001b[0m\u001b[0;31m`\u001b[0m\u001b[0;34m~\u001b[0m\u001b[0mpyspark\u001b[0m\u001b[0;34m.\u001b[0m\u001b[0msql\u001b[0m\u001b[0;34m.\u001b[0m\u001b[0mColumn\u001b[0m\u001b[0;31m`\u001b[0m\u001b[0;34m.\u001b[0m\u001b[0;34m\u001b[0m\u001b[0;34m\u001b[0m\u001b[0m\n\u001b[1;32m     92\u001b[0m     \"\"\"\n\u001b[0;32m---> 93\u001b[0;31m     \u001b[0;32mreturn\u001b[0m \u001b[0m_invoke_function\u001b[0m\u001b[0;34m(\u001b[0m\u001b[0mname\u001b[0m\u001b[0;34m,\u001b[0m \u001b[0;34m*\u001b[0m\u001b[0;34m(\u001b[0m\u001b[0m_to_java_column\u001b[0m\u001b[0;34m(\u001b[0m\u001b[0mcol\u001b[0m\u001b[0;34m)\u001b[0m \u001b[0;32mfor\u001b[0m \u001b[0mcol\u001b[0m \u001b[0;32min\u001b[0m \u001b[0mcols\u001b[0m\u001b[0;34m)\u001b[0m\u001b[0;34m)\u001b[0m\u001b[0;34m\u001b[0m\u001b[0;34m\u001b[0m\u001b[0m\n\u001b[0m\u001b[1;32m     94\u001b[0m \u001b[0;34m\u001b[0m\u001b[0m\n\u001b[1;32m     95\u001b[0m \u001b[0;34m\u001b[0m\u001b[0m\n",
      "\u001b[0;32m~/.local/lib/python3.9/site-packages/pyspark/sql/column.py\u001b[0m in \u001b[0;36m_to_java_column\u001b[0;34m(col)\u001b[0m\n\u001b[1;32m     61\u001b[0m         \u001b[0mjcol\u001b[0m \u001b[0;34m=\u001b[0m \u001b[0mcol\u001b[0m\u001b[0;34m.\u001b[0m\u001b[0m_jc\u001b[0m\u001b[0;34m\u001b[0m\u001b[0;34m\u001b[0m\u001b[0m\n\u001b[1;32m     62\u001b[0m     \u001b[0;32melif\u001b[0m \u001b[0misinstance\u001b[0m\u001b[0;34m(\u001b[0m\u001b[0mcol\u001b[0m\u001b[0;34m,\u001b[0m \u001b[0mstr\u001b[0m\u001b[0;34m)\u001b[0m\u001b[0;34m:\u001b[0m\u001b[0;34m\u001b[0m\u001b[0;34m\u001b[0m\u001b[0m\n\u001b[0;32m---> 63\u001b[0;31m         \u001b[0mjcol\u001b[0m \u001b[0;34m=\u001b[0m \u001b[0m_create_column_from_name\u001b[0m\u001b[0;34m(\u001b[0m\u001b[0mcol\u001b[0m\u001b[0;34m)\u001b[0m\u001b[0;34m\u001b[0m\u001b[0;34m\u001b[0m\u001b[0m\n\u001b[0m\u001b[1;32m     64\u001b[0m     \u001b[0;32melse\u001b[0m\u001b[0;34m:\u001b[0m\u001b[0;34m\u001b[0m\u001b[0;34m\u001b[0m\u001b[0m\n\u001b[1;32m     65\u001b[0m         raise TypeError(\n",
      "\u001b[0;32m~/.local/lib/python3.9/site-packages/pyspark/sql/column.py\u001b[0m in \u001b[0;36m_create_column_from_name\u001b[0;34m(name)\u001b[0m\n\u001b[1;32m     54\u001b[0m     \u001b[0msc\u001b[0m \u001b[0;34m=\u001b[0m \u001b[0mSparkContext\u001b[0m\u001b[0;34m.\u001b[0m\u001b[0m_active_spark_context\u001b[0m\u001b[0;34m\u001b[0m\u001b[0;34m\u001b[0m\u001b[0m\n\u001b[1;32m     55\u001b[0m     \u001b[0;32massert\u001b[0m \u001b[0msc\u001b[0m \u001b[0;32mis\u001b[0m \u001b[0;32mnot\u001b[0m \u001b[0;32mNone\u001b[0m \u001b[0;32mand\u001b[0m \u001b[0msc\u001b[0m\u001b[0;34m.\u001b[0m\u001b[0m_jvm\u001b[0m \u001b[0;32mis\u001b[0m \u001b[0;32mnot\u001b[0m \u001b[0;32mNone\u001b[0m\u001b[0;34m\u001b[0m\u001b[0;34m\u001b[0m\u001b[0m\n\u001b[0;32m---> 56\u001b[0;31m     \u001b[0;32mreturn\u001b[0m \u001b[0msc\u001b[0m\u001b[0;34m.\u001b[0m\u001b[0m_jvm\u001b[0m\u001b[0;34m.\u001b[0m\u001b[0mfunctions\u001b[0m\u001b[0;34m.\u001b[0m\u001b[0mcol\u001b[0m\u001b[0;34m(\u001b[0m\u001b[0mname\u001b[0m\u001b[0;34m)\u001b[0m\u001b[0;34m\u001b[0m\u001b[0;34m\u001b[0m\u001b[0m\n\u001b[0m\u001b[1;32m     57\u001b[0m \u001b[0;34m\u001b[0m\u001b[0m\n\u001b[1;32m     58\u001b[0m \u001b[0;34m\u001b[0m\u001b[0m\n",
      "\u001b[0;32m~/.local/lib/python3.9/site-packages/py4j/java_gateway.py\u001b[0m in \u001b[0;36m__call__\u001b[0;34m(self, *args)\u001b[0m\n\u001b[1;32m   1319\u001b[0m \u001b[0;34m\u001b[0m\u001b[0m\n\u001b[1;32m   1320\u001b[0m         \u001b[0manswer\u001b[0m \u001b[0;34m=\u001b[0m \u001b[0mself\u001b[0m\u001b[0;34m.\u001b[0m\u001b[0mgateway_client\u001b[0m\u001b[0;34m.\u001b[0m\u001b[0msend_command\u001b[0m\u001b[0;34m(\u001b[0m\u001b[0mcommand\u001b[0m\u001b[0;34m)\u001b[0m\u001b[0;34m\u001b[0m\u001b[0;34m\u001b[0m\u001b[0m\n\u001b[0;32m-> 1321\u001b[0;31m         return_value = get_return_value(\n\u001b[0m\u001b[1;32m   1322\u001b[0m             answer, self.gateway_client, self.target_id, self.name)\n\u001b[1;32m   1323\u001b[0m \u001b[0;34m\u001b[0m\u001b[0m\n",
      "\u001b[0;32m~/.local/lib/python3.9/site-packages/pyspark/sql/utils.py\u001b[0m in \u001b[0;36mdeco\u001b[0;34m(*a, **kw)\u001b[0m\n\u001b[1;32m    194\u001b[0m                 \u001b[0;31m# Hide where the exception came from that shows a non-Pythonic\u001b[0m\u001b[0;34m\u001b[0m\u001b[0;34m\u001b[0m\u001b[0;34m\u001b[0m\u001b[0m\n\u001b[1;32m    195\u001b[0m                 \u001b[0;31m# JVM exception message.\u001b[0m\u001b[0;34m\u001b[0m\u001b[0;34m\u001b[0m\u001b[0;34m\u001b[0m\u001b[0m\n\u001b[0;32m--> 196\u001b[0;31m                 \u001b[0;32mraise\u001b[0m \u001b[0mconverted\u001b[0m \u001b[0;32mfrom\u001b[0m \u001b[0;32mNone\u001b[0m\u001b[0;34m\u001b[0m\u001b[0;34m\u001b[0m\u001b[0m\n\u001b[0m\u001b[1;32m    197\u001b[0m             \u001b[0;32melse\u001b[0m\u001b[0;34m:\u001b[0m\u001b[0;34m\u001b[0m\u001b[0;34m\u001b[0m\u001b[0m\n\u001b[1;32m    198\u001b[0m                 \u001b[0;32mraise\u001b[0m\u001b[0;34m\u001b[0m\u001b[0;34m\u001b[0m\u001b[0m\n",
      "\u001b[0;31mAnalysisException\u001b[0m: syntax error in attribute name: No."
     ]
    }
   ],
   "source": [
    "pyspark_etl_functions.analyze_data_quality(colusiones_df)"
   ]
  },
  {
   "attachments": {},
   "cell_type": "markdown",
   "metadata": {},
   "source": [
    "# Quality multas"
   ]
  },
  {
   "cell_type": "code",
   "execution_count": 12,
   "metadata": {},
   "outputs": [
    {
     "name": "stdout",
     "output_type": "stream",
     "text": [
      "23/04/12 06:35:16 WARN SparkSession: Using an existing Spark session; only runtime SQL configurations will take effect.\n",
      "+--------------------+-----------+--------+--------------------+--------------------+---------------------+--------------------+--------------------+-------------+--------------------+--------------------+---------+--------+------+--------+\n",
      "|      nombre_entidad|nit_entidad|   nivel|               orden|numero_de_resolucion|documento_contratista|  nombre_contratista|  numero_de_contrato|valor_sancion|fecha_de_publicacion|     ruta_de_proceso|cod_depto|cod_mpio|  dpto|nom_mpio|\n",
      "+--------------------+-----------+--------+--------------------+--------------------+---------------------+--------------------+--------------------+-------------+--------------------+--------------------+---------+--------+------+--------+\n",
      "|CORTOLIMA - CORPO...|  890704536|NACIONAL|NACIONAL DESCENTR...|Resolución No.266...|             93405374|EDWIN SANTAMARIA ...|CTO 587 DEL 30 DE...|  1.0721123E7| 2014-11-05 00:00:00|https://www.contr...|       73|   73001|TOLIMA|  IBAGUE|\n",
      "|   EJÉRCITO NACIONAL|NO DEFINIDO|NACIONAL|NACIONAL CENTRALI...|RESOLUCION 086-11...|            900427561|CABAR CONSTRUCCIO...|            662-2014|    4393325.0| 2015-08-10 00:00:00|https://www.contr...|       73|   73001|TOLIMA|  IBAGUE|\n",
      "|CORTOLIMA - CORPO...|  890704536|NACIONAL|NACIONAL DESCENTR...|Resolución No.146...|             93380691|     YIMI ARCINIEGAS|     CTO 319 DE 2010|    6034875.0| 2013-07-08 00:00:00|https://www.contr...|       73|   73001|TOLIMA|  IBAGUE|\n",
      "|   EJÉRCITO NACIONAL|NO DEFINIDO|NACIONAL|NACIONAL CENTRALI...|        Res. No. 374|            900427561|CABAR CONSTRUCCIO...|      662-JEING-2014|4.271849266E7| 2016-10-11 00:00:00|https://www.contr...|       73|   73001|TOLIMA|  IBAGUE|\n",
      "|CORTOLIMA - CORPO...|  890704536|NACIONAL|NACIONAL DESCENTR...|Resolución No.178...|           1110456896|CHRISTIAN CAMILO ...|CTO 661 DEL 31 DE...|     945000.0| 2015-07-17 00:00:00|https://www.contr...|       73|   73001|TOLIMA|  IBAGUE|\n",
      "+--------------------+-----------+--------+--------------------+--------------------+---------------------+--------------------+--------------------+-------------+--------------------+--------------------+---------+--------+------+--------+\n",
      "only showing top 5 rows\n",
      "\n"
     ]
    }
   ],
   "source": [
    "filename = 'multas_SECOP.csv'\n",
    "multas_df = pyspark_etl_functions.read_csv_with_pyspark(filename, folder='data', separator=',')\n",
    "multas_df.show(5)"
   ]
  },
  {
   "cell_type": "code",
   "execution_count": 13,
   "metadata": {},
   "outputs": [
    {
     "name": "stdout",
     "output_type": "stream",
     "text": [
      "23/04/12 06:35:21 WARN SparkSession: Using an existing Spark session; only runtime SQL configurations will take effect.\n",
      "Total de registros: 1444\n",
      "\n",
      "Conteo de registros nulos por columna:\n",
      "nombre_entidad: 0\n",
      "nit_entidad: 0\n",
      "nivel: 0\n",
      "orden: 0\n",
      "numero_de_resolucion: 0\n",
      "documento_contratista: 0\n",
      "nombre_contratista: 0\n",
      "numero_de_contrato: 0\n",
      "valor_sancion: 0\n",
      "fecha_de_publicacion: 0\n",
      "ruta_de_proceso: 0\n",
      "cod_depto: 11\n",
      "cod_mpio: 11\n",
      "dpto: 0\n",
      "nom_mpio: 0\n",
      "\n",
      "Conteo de registros duplicados: 0\n",
      "\n",
      "Estadísticas descriptivas para columnas numéricas:\n",
      "min:\n",
      "  documento_contratista: 230802\n",
      "  valor_sancion: 0.0\n",
      "  cod_depto: 5\n",
      "  cod_mpio: 5001\n",
      "max:\n",
      "  documento_contratista: 90075612726\n",
      "  valor_sancion: 9.7969201936E10\n",
      "  cod_depto: 99\n",
      "  cod_mpio: 99001\n",
      "mean:\n",
      "  documento_contratista: 4.0192013053026314E9\n",
      "  valor_sancion: 6.246716858476892E8\n",
      "  cod_depto: 29.314026517794836\n",
      "  cod_mpio: 29432.270062805303\n",
      "stddev:\n",
      "  documento_contratista: 6.43643826806861E9\n",
      "  valor_sancion: 6.293069421343648E9\n",
      "  cod_depto: 26.57250921265884\n",
      "  cod_mpio: 26605.777653086523\n",
      "\n",
      "Valores atípicos en la columna documento_contratista: 5\n",
      "\n",
      "Valores atípicos en la columna valor_sancion: 249\n",
      "\n",
      "Valores atípicos en la columna cod_depto: 0\n",
      "\n",
      "Valores atípicos en la columna cod_mpio: 0\n"
     ]
    }
   ],
   "source": [
    "pyspark_etl_functions.analyze_data_quality(multas_df)"
   ]
  }
 ],
 "metadata": {
  "kernelspec": {
   "display_name": "Python 3",
   "language": "python",
   "name": "python3"
  },
  "language_info": {
   "codemirror_mode": {
    "name": "ipython",
    "version": 3
   },
   "file_extension": ".py",
   "mimetype": "text/x-python",
   "name": "python",
   "nbconvert_exporter": "python",
   "pygments_lexer": "ipython3",
   "version": "3.9.2"
  },
  "orig_nbformat": 4
 },
 "nbformat": 4,
 "nbformat_minor": 2
}
